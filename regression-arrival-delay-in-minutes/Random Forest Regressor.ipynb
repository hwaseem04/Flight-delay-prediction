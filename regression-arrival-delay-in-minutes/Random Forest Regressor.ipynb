{
 "cells": [
  {
   "cell_type": "code",
   "execution_count": 1,
   "id": "31ea7480",
   "metadata": {},
   "outputs": [],
   "source": [
    "import pandas as pd\n",
    "import numpy as np\n",
    "\n",
    "from sklearn.ensemble import RandomForestRegressor\n",
    "\n",
    "from sklearn.model_selection import train_test_split\n",
    "from sklearn.pipeline import Pipeline\n",
    "from sklearn.preprocessing import OneHotEncoder, StandardScaler\n",
    "from sklearn.compose import ColumnTransformer\n",
    "from sklearn.metrics import r2_score, mean_squared_error, mean_absolute_error\n",
    "\n",
    "import warnings\n",
    "warnings.filterwarnings(\"ignore\")"
   ]
  },
  {
   "cell_type": "code",
   "execution_count": 2,
   "id": "6b3bc27b",
   "metadata": {},
   "outputs": [],
   "source": [
    "data = pd.read_csv('../cleaned_data.csv')"
   ]
  },
  {
   "cell_type": "markdown",
   "id": "441bb48b",
   "metadata": {},
   "source": [
    "**Details of few columns:**\n",
    "\n",
    "Col Name | Description\n",
    "------------- | -------------\n",
    "DepTime  | Actual departure time\n",
    "DepDel15  | If departure delay is $\\geq$ 15 then 1 else 0\n",
    "CRSDepTime | Scheduled Departure Time\n",
    "DepDelayMinutes | Difference between scheduled and actual departure time in minutes\n",
    "ArrTime | Actual Arrival time\n",
    "CRSArrTime | Scheduled Arrival Time\n",
    "ArrDel15 (label) | If arrival delay is $\\geq$ 15 then 1 else 0\n",
    "ArrDelayMinutes (target) | Difference between scheduled and actual arrival time in minutes"
   ]
  },
  {
   "cell_type": "code",
   "execution_count": 3,
   "id": "82ddf75b",
   "metadata": {},
   "outputs": [],
   "source": [
    "columns_for_regression = ['Origin', 'Dest' , 'DepDelayMinutes' , 'ArrDel15', 'ArrDelayMinutes']"
   ]
  },
  {
   "cell_type": "code",
   "execution_count": 4,
   "id": "53f9aa46",
   "metadata": {},
   "outputs": [],
   "source": [
    "Df = data[columns_for_regression]"
   ]
  },
  {
   "cell_type": "code",
   "execution_count": 5,
   "id": "082072a6",
   "metadata": {},
   "outputs": [
    {
     "data": {
      "text/html": [
       "<div>\n",
       "<style scoped>\n",
       "    .dataframe tbody tr th:only-of-type {\n",
       "        vertical-align: middle;\n",
       "    }\n",
       "\n",
       "    .dataframe tbody tr th {\n",
       "        vertical-align: top;\n",
       "    }\n",
       "\n",
       "    .dataframe thead th {\n",
       "        text-align: right;\n",
       "    }\n",
       "</style>\n",
       "<table border=\"1\" class=\"dataframe\">\n",
       "  <thead>\n",
       "    <tr style=\"text-align: right;\">\n",
       "      <th></th>\n",
       "      <th>Origin</th>\n",
       "      <th>Dest</th>\n",
       "      <th>DepDelayMinutes</th>\n",
       "      <th>ArrDel15</th>\n",
       "      <th>ArrDelayMinutes</th>\n",
       "    </tr>\n",
       "  </thead>\n",
       "  <tbody>\n",
       "    <tr>\n",
       "      <th>13</th>\n",
       "      <td>SFO</td>\n",
       "      <td>IAH</td>\n",
       "      <td>639.0</td>\n",
       "      <td>1.0</td>\n",
       "      <td>645.0</td>\n",
       "    </tr>\n",
       "    <tr>\n",
       "      <th>22</th>\n",
       "      <td>LAX</td>\n",
       "      <td>ORD</td>\n",
       "      <td>7.0</td>\n",
       "      <td>1.0</td>\n",
       "      <td>18.0</td>\n",
       "    </tr>\n",
       "    <tr>\n",
       "      <th>32</th>\n",
       "      <td>DEN</td>\n",
       "      <td>LAS</td>\n",
       "      <td>79.0</td>\n",
       "      <td>1.0</td>\n",
       "      <td>67.0</td>\n",
       "    </tr>\n",
       "    <tr>\n",
       "      <th>40</th>\n",
       "      <td>MIA</td>\n",
       "      <td>IAH</td>\n",
       "      <td>99.0</td>\n",
       "      <td>1.0</td>\n",
       "      <td>87.0</td>\n",
       "    </tr>\n",
       "    <tr>\n",
       "      <th>43</th>\n",
       "      <td>PHX</td>\n",
       "      <td>LAX</td>\n",
       "      <td>0.0</td>\n",
       "      <td>1.0</td>\n",
       "      <td>32.0</td>\n",
       "    </tr>\n",
       "  </tbody>\n",
       "</table>\n",
       "</div>"
      ],
      "text/plain": [
       "   Origin Dest  DepDelayMinutes  ArrDel15  ArrDelayMinutes\n",
       "13    SFO  IAH            639.0       1.0            645.0\n",
       "22    LAX  ORD              7.0       1.0             18.0\n",
       "32    DEN  LAS             79.0       1.0             67.0\n",
       "40    MIA  IAH             99.0       1.0             87.0\n",
       "43    PHX  LAX              0.0       1.0             32.0"
      ]
     },
     "execution_count": 5,
     "metadata": {},
     "output_type": "execute_result"
    }
   ],
   "source": [
    "Df = Df[Df.ArrDel15 == 1]\n",
    "Df.head()"
   ]
  },
  {
   "cell_type": "code",
   "execution_count": 6,
   "id": "1d3692f5",
   "metadata": {},
   "outputs": [],
   "source": [
    "numerical_r = ['DepDelayMinutes']\n",
    "categorical_r = ['Origin', 'Dest']"
   ]
  },
  {
   "cell_type": "code",
   "execution_count": 7,
   "id": "224fd9b9",
   "metadata": {},
   "outputs": [],
   "source": [
    "categorical_pipeline_r = Pipeline(\n",
    "    steps=[\n",
    "        (\"oh-encode\", OneHotEncoder(handle_unknown=\"ignore\", sparse=False))\n",
    "    ]\n",
    ")\n",
    "numerical_pipeline_r = Pipeline(\n",
    "    steps=[\n",
    "        (\"scale\", StandardScaler())\n",
    "    ]\n",
    ")\n",
    "\n",
    "full_pipeline_r = ColumnTransformer(\n",
    "    transformers=[\n",
    "        (\"numeric\", numerical_pipeline_r, numerical_r),\n",
    "        (\"categorical\", categorical_pipeline_r, categorical_r),\n",
    "    ],\n",
    "    remainder='passthrough'\n",
    ")\n",
    "\n",
    "model_pipeline_r = Pipeline(\n",
    "    steps=[\n",
    "        ('preprocess',  full_pipeline_r),\n",
    "        ('xgb', RandomForestRegressor() )\n",
    "    ]\n",
    ")"
   ]
  },
  {
   "cell_type": "code",
   "execution_count": 8,
   "id": "db8de46e",
   "metadata": {},
   "outputs": [],
   "source": [
    "X_train, X_test, y_train, y_test = train_test_split(Df.iloc[:, :-1], Df.iloc[:, -1], train_size=0.75,  random_state=0)\n"
   ]
  },
  {
   "cell_type": "code",
   "execution_count": 9,
   "id": "a78ebc6d",
   "metadata": {},
   "outputs": [
    {
     "data": {
      "text/plain": [
       "array([-0.77310031,  0.        ,  0.        ,  0.        ,  1.        ,\n",
       "        0.        ,  0.        ,  0.        ,  0.        ,  0.        ,\n",
       "        0.        ,  0.        ,  0.        ,  0.        ,  0.        ,\n",
       "        0.        ,  0.        ,  0.        ,  0.        ,  0.        ,\n",
       "        0.        ,  0.        ,  0.        ,  0.        ,  0.        ,\n",
       "        0.        ,  0.        ,  1.        ,  0.        ,  0.        ,\n",
       "        0.        ,  1.        ])"
      ]
     },
     "execution_count": 9,
     "metadata": {},
     "output_type": "execute_result"
    }
   ],
   "source": [
    "# xgb = XGBRegressor(n_estimators=300, colsample_bytree= 0.8, gamma= 0, learning_rate= 0.3, max_depth= 9, reg_lambda= 10, scale_pos_weight= 1, subsample= 0.8)\n",
    "rf = RandomForestRegressor()\n",
    "X_train_processed = full_pipeline_r.fit_transform(X_train)\n",
    "X_train_processed[0]"
   ]
  },
  {
   "cell_type": "code",
   "execution_count": 10,
   "id": "c5e41c38",
   "metadata": {},
   "outputs": [
    {
     "name": "stdout",
     "output_type": "stream",
     "text": [
      "CPU times: user 55.8 s, sys: 294 ms, total: 56.1 s\n",
      "Wall time: 56.3 s\n"
     ]
    }
   ],
   "source": [
    "%%time\n",
    "model = rf.fit(X_train_processed ,y_train)"
   ]
  },
  {
   "cell_type": "code",
   "execution_count": 11,
   "id": "9ea8b744",
   "metadata": {},
   "outputs": [],
   "source": [
    "X_test_processed = full_pipeline_r.transform(X_test)\n",
    "prediction = model.predict(X_test_processed)"
   ]
  },
  {
   "cell_type": "code",
   "execution_count": 12,
   "id": "cc4147dd",
   "metadata": {},
   "outputs": [
    {
     "data": {
      "text/plain": [
       "((97014,), (97014,))"
      ]
     },
     "execution_count": 12,
     "metadata": {},
     "output_type": "execute_result"
    }
   ],
   "source": [
    "prediction.shape, y_test.shape"
   ]
  },
  {
   "cell_type": "code",
   "execution_count": 13,
   "id": "6464a3d8",
   "metadata": {},
   "outputs": [
    {
     "data": {
      "text/plain": [
       "(array([ 51.62450848, 182.10308333,  25.86473789,  33.17190674,\n",
       "         52.43376984]),\n",
       " array([ 61., 157.,  24.,  30.,  51.]))"
      ]
     },
     "execution_count": 13,
     "metadata": {},
     "output_type": "execute_result"
    }
   ],
   "source": [
    "prediction[:5], y_test[:5].values"
   ]
  },
  {
   "cell_type": "code",
   "execution_count": 14,
   "id": "1a3e3163",
   "metadata": {},
   "outputs": [
    {
     "data": {
      "text/plain": [
       "0.9366199408663023"
      ]
     },
     "execution_count": 14,
     "metadata": {},
     "output_type": "execute_result"
    }
   ],
   "source": [
    "r2_score(y_pred=prediction, y_true=y_test)"
   ]
  },
  {
   "cell_type": "code",
   "execution_count": 15,
   "id": "123e5af5",
   "metadata": {},
   "outputs": [
    {
     "data": {
      "text/plain": [
       "328.7191433866348"
      ]
     },
     "execution_count": 15,
     "metadata": {},
     "output_type": "execute_result"
    }
   ],
   "source": [
    "mean_squared_error(y_pred=prediction, y_true=y_test)"
   ]
  },
  {
   "cell_type": "code",
   "execution_count": 16,
   "id": "21eb7911",
   "metadata": {},
   "outputs": [
    {
     "data": {
      "text/plain": [
       "12.565337573417274"
      ]
     },
     "execution_count": 16,
     "metadata": {},
     "output_type": "execute_result"
    }
   ],
   "source": [
    "mean_absolute_error(y_pred=prediction, y_true=y_test)"
   ]
  },
  {
   "cell_type": "code",
   "execution_count": null,
   "id": "d9397d51",
   "metadata": {},
   "outputs": [],
   "source": []
  }
 ],
 "metadata": {
  "kernelspec": {
   "display_name": "Python 3 (ipykernel)",
   "language": "python",
   "name": "python3"
  },
  "language_info": {
   "codemirror_mode": {
    "name": "ipython",
    "version": 3
   },
   "file_extension": ".py",
   "mimetype": "text/x-python",
   "name": "python",
   "nbconvert_exporter": "python",
   "pygments_lexer": "ipython3",
   "version": "3.10.6"
  }
 },
 "nbformat": 4,
 "nbformat_minor": 5
}
