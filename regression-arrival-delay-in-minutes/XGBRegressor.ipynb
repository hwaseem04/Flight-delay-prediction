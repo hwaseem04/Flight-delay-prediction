{
 "cells": [
  {
   "cell_type": "code",
   "execution_count": 1,
   "id": "31ea7480",
   "metadata": {},
   "outputs": [],
   "source": [
    "import pandas as pd\n",
    "import numpy as np\n",
    "\n",
    "from xgboost import XGBRegressor\n",
    "\n",
    "from sklearn.model_selection import train_test_split\n",
    "from sklearn.pipeline import Pipeline\n",
    "from sklearn.preprocessing import OneHotEncoder, StandardScaler\n",
    "from sklearn.compose import ColumnTransformer\n",
    "from sklearn.metrics import r2_score, mean_squared_error, mean_absolute_error\n",
    "\n",
    "import warnings\n",
    "warnings.filterwarnings(\"ignore\")"
   ]
  },
  {
   "cell_type": "code",
   "execution_count": 2,
   "id": "6b3bc27b",
   "metadata": {},
   "outputs": [],
   "source": [
    "data = pd.read_csv('../cleaned_data.csv')"
   ]
  },
  {
   "cell_type": "markdown",
   "id": "441bb48b",
   "metadata": {},
   "source": [
    "**Details of few columns:**\n",
    "\n",
    "Col Name | Description\n",
    "------------- | -------------\n",
    "DepTime  | Actual departure time\n",
    "DepDel15  | If departure delay is $\\geq$ 15 then 1 else 0\n",
    "CRSDepTime | Scheduled Departure Time\n",
    "DepDelayMinutes | Difference between scheduled and actual departure time in minutes\n",
    "ArrTime | Actual Arrival time\n",
    "CRSArrTime | Scheduled Arrival Time\n",
    "ArrDel15 (label) | If arrival delay is $\\geq$ 15 then 1 else 0\n",
    "ArrDelayMinutes (target) | Difference between scheduled and actual arrival time in minutes"
   ]
  },
  {
   "cell_type": "code",
   "execution_count": 3,
   "id": "82ddf75b",
   "metadata": {},
   "outputs": [],
   "source": [
    "columns_for_regression = ['Origin', 'Dest' , 'DepDelayMinutes' , 'ArrDel15', 'ArrDelayMinutes']"
   ]
  },
  {
   "cell_type": "code",
   "execution_count": 4,
   "id": "53f9aa46",
   "metadata": {},
   "outputs": [],
   "source": [
    "Df = data[columns_for_regression]"
   ]
  },
  {
   "cell_type": "code",
   "execution_count": 5,
   "id": "082072a6",
   "metadata": {},
   "outputs": [
    {
     "data": {
      "text/html": [
       "<div>\n",
       "<style scoped>\n",
       "    .dataframe tbody tr th:only-of-type {\n",
       "        vertical-align: middle;\n",
       "    }\n",
       "\n",
       "    .dataframe tbody tr th {\n",
       "        vertical-align: top;\n",
       "    }\n",
       "\n",
       "    .dataframe thead th {\n",
       "        text-align: right;\n",
       "    }\n",
       "</style>\n",
       "<table border=\"1\" class=\"dataframe\">\n",
       "  <thead>\n",
       "    <tr style=\"text-align: right;\">\n",
       "      <th></th>\n",
       "      <th>Origin</th>\n",
       "      <th>Dest</th>\n",
       "      <th>DepDelayMinutes</th>\n",
       "      <th>ArrDel15</th>\n",
       "      <th>ArrDelayMinutes</th>\n",
       "    </tr>\n",
       "  </thead>\n",
       "  <tbody>\n",
       "    <tr>\n",
       "      <th>13</th>\n",
       "      <td>SFO</td>\n",
       "      <td>IAH</td>\n",
       "      <td>639.0</td>\n",
       "      <td>1.0</td>\n",
       "      <td>645.0</td>\n",
       "    </tr>\n",
       "    <tr>\n",
       "      <th>22</th>\n",
       "      <td>LAX</td>\n",
       "      <td>ORD</td>\n",
       "      <td>7.0</td>\n",
       "      <td>1.0</td>\n",
       "      <td>18.0</td>\n",
       "    </tr>\n",
       "    <tr>\n",
       "      <th>32</th>\n",
       "      <td>DEN</td>\n",
       "      <td>LAS</td>\n",
       "      <td>79.0</td>\n",
       "      <td>1.0</td>\n",
       "      <td>67.0</td>\n",
       "    </tr>\n",
       "    <tr>\n",
       "      <th>40</th>\n",
       "      <td>MIA</td>\n",
       "      <td>IAH</td>\n",
       "      <td>99.0</td>\n",
       "      <td>1.0</td>\n",
       "      <td>87.0</td>\n",
       "    </tr>\n",
       "    <tr>\n",
       "      <th>43</th>\n",
       "      <td>PHX</td>\n",
       "      <td>LAX</td>\n",
       "      <td>0.0</td>\n",
       "      <td>1.0</td>\n",
       "      <td>32.0</td>\n",
       "    </tr>\n",
       "  </tbody>\n",
       "</table>\n",
       "</div>"
      ],
      "text/plain": [
       "   Origin Dest  DepDelayMinutes  ArrDel15  ArrDelayMinutes\n",
       "13    SFO  IAH            639.0       1.0            645.0\n",
       "22    LAX  ORD              7.0       1.0             18.0\n",
       "32    DEN  LAS             79.0       1.0             67.0\n",
       "40    MIA  IAH             99.0       1.0             87.0\n",
       "43    PHX  LAX              0.0       1.0             32.0"
      ]
     },
     "execution_count": 5,
     "metadata": {},
     "output_type": "execute_result"
    }
   ],
   "source": [
    "Df = Df[Df.ArrDel15 == 1]\n",
    "Df.head()"
   ]
  },
  {
   "cell_type": "code",
   "execution_count": 6,
   "id": "1d3692f5",
   "metadata": {},
   "outputs": [],
   "source": [
    "numerical_r = ['DepDelayMinutes']\n",
    "categorical_r = ['Origin', 'Dest']"
   ]
  },
  {
   "cell_type": "code",
   "execution_count": 7,
   "id": "224fd9b9",
   "metadata": {},
   "outputs": [],
   "source": [
    "categorical_pipeline_r = Pipeline(\n",
    "    steps=[\n",
    "        (\"oh-encode\", OneHotEncoder(handle_unknown=\"ignore\", sparse=False))\n",
    "    ]\n",
    ")\n",
    "numerical_pipeline_r = Pipeline(\n",
    "    steps=[\n",
    "        (\"scale\", StandardScaler())\n",
    "    ]\n",
    ")\n",
    "\n",
    "full_pipeline_r = ColumnTransformer(\n",
    "    transformers=[\n",
    "        (\"numeric\", numerical_pipeline_r, numerical_r),\n",
    "        (\"categorical\", categorical_pipeline_r, categorical_r),\n",
    "    ],\n",
    "    remainder='passthrough'\n",
    ")\n",
    "\n",
    "model_pipeline_r = Pipeline(\n",
    "    steps=[\n",
    "        ('preprocess',  full_pipeline_r),\n",
    "        ('xgb', XGBRegressor() )\n",
    "    ]\n",
    ")"
   ]
  },
  {
   "cell_type": "code",
   "execution_count": 8,
   "id": "db8de46e",
   "metadata": {},
   "outputs": [],
   "source": [
    "X_train, X_test, y_train, y_test = train_test_split(Df.iloc[:, :-1], Df.iloc[:, -1], train_size=0.75,  random_state=0)\n"
   ]
  },
  {
   "cell_type": "code",
   "execution_count": 9,
   "id": "a78ebc6d",
   "metadata": {},
   "outputs": [
    {
     "data": {
      "text/plain": [
       "array([-0.77310031,  0.        ,  0.        ,  0.        ,  1.        ,\n",
       "        0.        ,  0.        ,  0.        ,  0.        ,  0.        ,\n",
       "        0.        ,  0.        ,  0.        ,  0.        ,  0.        ,\n",
       "        0.        ,  0.        ,  0.        ,  0.        ,  0.        ,\n",
       "        0.        ,  0.        ,  0.        ,  0.        ,  0.        ,\n",
       "        0.        ,  0.        ,  1.        ,  0.        ,  0.        ,\n",
       "        0.        ,  1.        ])"
      ]
     },
     "execution_count": 9,
     "metadata": {},
     "output_type": "execute_result"
    }
   ],
   "source": [
    "# xgb = XGBRegressor(n_estimators=300, colsample_bytree= 0.8, gamma= 0, learning_rate= 0.3, max_depth= 9, reg_lambda= 10, scale_pos_weight= 1, subsample= 0.8)\n",
    "xgb = XGBRegressor()\n",
    "X_train_processed = full_pipeline_r.fit_transform(X_train)\n",
    "X_train_processed[0]"
   ]
  },
  {
   "cell_type": "code",
   "execution_count": 10,
   "id": "c5e41c38",
   "metadata": {},
   "outputs": [
    {
     "name": "stdout",
     "output_type": "stream",
     "text": [
      "CPU times: user 52.2 s, sys: 9.5 s, total: 1min 1s\n",
      "Wall time: 9.3 s\n"
     ]
    }
   ],
   "source": [
    "%%time\n",
    "model = xgb.fit(X_train_processed ,y_train)"
   ]
  },
  {
   "cell_type": "code",
   "execution_count": 11,
   "id": "9ea8b744",
   "metadata": {},
   "outputs": [],
   "source": [
    "X_test_processed = full_pipeline_r.transform(X_test)\n",
    "prediction = model.predict(X_test_processed)"
   ]
  },
  {
   "cell_type": "code",
   "execution_count": 12,
   "id": "cc4147dd",
   "metadata": {},
   "outputs": [
    {
     "data": {
      "text/plain": [
       "((97014,), (97014,))"
      ]
     },
     "execution_count": 12,
     "metadata": {},
     "output_type": "execute_result"
    }
   ],
   "source": [
    "prediction.shape, y_test.shape"
   ]
  },
  {
   "cell_type": "code",
   "execution_count": 13,
   "id": "6464a3d8",
   "metadata": {},
   "outputs": [
    {
     "data": {
      "text/plain": [
       "(array([ 50.44641 , 165.17227 ,  26.030409,  32.252728,  59.181774],\n",
       "       dtype=float32),\n",
       " array([ 61., 157.,  24.,  30.,  51.]))"
      ]
     },
     "execution_count": 13,
     "metadata": {},
     "output_type": "execute_result"
    }
   ],
   "source": [
    "prediction[:5], y_test[:5].values"
   ]
  },
  {
   "cell_type": "code",
   "execution_count": 14,
   "id": "1a3e3163",
   "metadata": {},
   "outputs": [
    {
     "data": {
      "text/plain": [
       "0.9438303927954105"
      ]
     },
     "execution_count": 14,
     "metadata": {},
     "output_type": "execute_result"
    }
   ],
   "source": [
    "r2_score(y_pred=prediction, y_true=y_test)"
   ]
  },
  {
   "cell_type": "code",
   "execution_count": 15,
   "id": "123e5af5",
   "metadata": {},
   "outputs": [
    {
     "data": {
      "text/plain": [
       "291.32230889383163"
      ]
     },
     "execution_count": 15,
     "metadata": {},
     "output_type": "execute_result"
    }
   ],
   "source": [
    "mean_squared_error(y_pred=prediction, y_true=y_test)"
   ]
  },
  {
   "cell_type": "code",
   "execution_count": 16,
   "id": "21eb7911",
   "metadata": {},
   "outputs": [
    {
     "data": {
      "text/plain": [
       "11.802674231567671"
      ]
     },
     "execution_count": 16,
     "metadata": {},
     "output_type": "execute_result"
    }
   ],
   "source": [
    "mean_absolute_error(y_pred=prediction, y_true=y_test)"
   ]
  },
  {
   "cell_type": "markdown",
   "id": "bb020d67",
   "metadata": {},
   "source": [
    "## Regression analysis\n"
   ]
  },
  {
   "cell_type": "code",
   "execution_count": 58,
   "id": "0b7e7cec",
   "metadata": {},
   "outputs": [],
   "source": [
    "X_train, X_test, y_train, y_test = train_test_split(Df.iloc[:, :-1], Df.iloc[:, -1], train_size=0.75,  random_state=0)\n"
   ]
  },
  {
   "cell_type": "code",
   "execution_count": 59,
   "id": "e419b9d2",
   "metadata": {},
   "outputs": [],
   "source": [
    "X_test = X_test[X_test['DepDelayMinutes'] > 15]"
   ]
  },
  {
   "cell_type": "code",
   "execution_count": 60,
   "id": "f2af5413",
   "metadata": {},
   "outputs": [
    {
     "data": {
      "text/plain": [
       "(72164, 4)"
      ]
     },
     "execution_count": 60,
     "metadata": {},
     "output_type": "execute_result"
    }
   ],
   "source": [
    "X_test.shape"
   ]
  },
  {
   "cell_type": "code",
   "execution_count": 61,
   "id": "bb319649",
   "metadata": {},
   "outputs": [],
   "source": [
    "X_test['Range'] = pd.cut(X_test['DepDelayMinutes'], bins=[15,100,200,500, 1000, 2000])"
   ]
  },
  {
   "cell_type": "code",
   "execution_count": 62,
   "id": "6473aa49",
   "metadata": {},
   "outputs": [
    {
     "data": {
      "text/html": [
       "<div>\n",
       "<style scoped>\n",
       "    .dataframe tbody tr th:only-of-type {\n",
       "        vertical-align: middle;\n",
       "    }\n",
       "\n",
       "    .dataframe tbody tr th {\n",
       "        vertical-align: top;\n",
       "    }\n",
       "\n",
       "    .dataframe thead th {\n",
       "        text-align: right;\n",
       "    }\n",
       "</style>\n",
       "<table border=\"1\" class=\"dataframe\">\n",
       "  <thead>\n",
       "    <tr style=\"text-align: right;\">\n",
       "      <th></th>\n",
       "      <th>Origin</th>\n",
       "      <th>Dest</th>\n",
       "      <th>DepDelayMinutes</th>\n",
       "      <th>ArrDel15</th>\n",
       "      <th>Range</th>\n",
       "    </tr>\n",
       "  </thead>\n",
       "  <tbody>\n",
       "    <tr>\n",
       "      <th>641339</th>\n",
       "      <td>ORD</td>\n",
       "      <td>SFO</td>\n",
       "      <td>52.0</td>\n",
       "      <td>1.0</td>\n",
       "      <td>(15, 100]</td>\n",
       "    </tr>\n",
       "    <tr>\n",
       "      <th>380259</th>\n",
       "      <td>CLT</td>\n",
       "      <td>LAX</td>\n",
       "      <td>176.0</td>\n",
       "      <td>1.0</td>\n",
       "      <td>(100, 200]</td>\n",
       "    </tr>\n",
       "    <tr>\n",
       "      <th>1401916</th>\n",
       "      <td>MCO</td>\n",
       "      <td>ATL</td>\n",
       "      <td>34.0</td>\n",
       "      <td>1.0</td>\n",
       "      <td>(15, 100]</td>\n",
       "    </tr>\n",
       "    <tr>\n",
       "      <th>185114</th>\n",
       "      <td>DFW</td>\n",
       "      <td>ATL</td>\n",
       "      <td>63.0</td>\n",
       "      <td>1.0</td>\n",
       "      <td>(15, 100]</td>\n",
       "    </tr>\n",
       "    <tr>\n",
       "      <th>1304715</th>\n",
       "      <td>ORD</td>\n",
       "      <td>ATL</td>\n",
       "      <td>47.0</td>\n",
       "      <td>1.0</td>\n",
       "      <td>(15, 100]</td>\n",
       "    </tr>\n",
       "    <tr>\n",
       "      <th>...</th>\n",
       "      <td>...</td>\n",
       "      <td>...</td>\n",
       "      <td>...</td>\n",
       "      <td>...</td>\n",
       "      <td>...</td>\n",
       "    </tr>\n",
       "    <tr>\n",
       "      <th>1571945</th>\n",
       "      <td>JFK</td>\n",
       "      <td>PHX</td>\n",
       "      <td>64.0</td>\n",
       "      <td>1.0</td>\n",
       "      <td>(15, 100]</td>\n",
       "    </tr>\n",
       "    <tr>\n",
       "      <th>963254</th>\n",
       "      <td>ORD</td>\n",
       "      <td>DFW</td>\n",
       "      <td>23.0</td>\n",
       "      <td>1.0</td>\n",
       "      <td>(15, 100]</td>\n",
       "    </tr>\n",
       "    <tr>\n",
       "      <th>596254</th>\n",
       "      <td>SFO</td>\n",
       "      <td>EWR</td>\n",
       "      <td>55.0</td>\n",
       "      <td>1.0</td>\n",
       "      <td>(15, 100]</td>\n",
       "    </tr>\n",
       "    <tr>\n",
       "      <th>1151708</th>\n",
       "      <td>SFO</td>\n",
       "      <td>EWR</td>\n",
       "      <td>62.0</td>\n",
       "      <td>1.0</td>\n",
       "      <td>(15, 100]</td>\n",
       "    </tr>\n",
       "    <tr>\n",
       "      <th>882129</th>\n",
       "      <td>IAH</td>\n",
       "      <td>SEA</td>\n",
       "      <td>47.0</td>\n",
       "      <td>1.0</td>\n",
       "      <td>(15, 100]</td>\n",
       "    </tr>\n",
       "  </tbody>\n",
       "</table>\n",
       "<p>72164 rows × 5 columns</p>\n",
       "</div>"
      ],
      "text/plain": [
       "        Origin Dest  DepDelayMinutes  ArrDel15       Range\n",
       "641339     ORD  SFO             52.0       1.0   (15, 100]\n",
       "380259     CLT  LAX            176.0       1.0  (100, 200]\n",
       "1401916    MCO  ATL             34.0       1.0   (15, 100]\n",
       "185114     DFW  ATL             63.0       1.0   (15, 100]\n",
       "1304715    ORD  ATL             47.0       1.0   (15, 100]\n",
       "...        ...  ...              ...       ...         ...\n",
       "1571945    JFK  PHX             64.0       1.0   (15, 100]\n",
       "963254     ORD  DFW             23.0       1.0   (15, 100]\n",
       "596254     SFO  EWR             55.0       1.0   (15, 100]\n",
       "1151708    SFO  EWR             62.0       1.0   (15, 100]\n",
       "882129     IAH  SEA             47.0       1.0   (15, 100]\n",
       "\n",
       "[72164 rows x 5 columns]"
      ]
     },
     "execution_count": 62,
     "metadata": {},
     "output_type": "execute_result"
    }
   ],
   "source": [
    "\n",
    "X_test"
   ]
  },
  {
   "cell_type": "code",
   "execution_count": 82,
   "id": "19ec2944",
   "metadata": {},
   "outputs": [
    {
     "name": "stdout",
     "output_type": "stream",
     "text": [
      "Range:  (15, 100]\tCount:  56452\t MSE: 280.73067020070823\t MAE: 11.669831591882991\n",
      "Range:  (100, 200]\tCount:  11764\t MSE: 403.8431759699066\t MAE: 14.197253291763364\n",
      "Range:  (200, 500]\tCount:  3598\t MSE: 464.7078372836462\t MAE: 15.477036553001723\n",
      "Range:  (500, 1000]\tCount:  311\t MSE: 650.1326963854744\t MAE: 18.015952941305766\n",
      "Range:  (1000, 2000]\tCount:  39\t MSE: 565.1307494675693\t MAE: 17.967593462039265\n"
     ]
    }
   ],
   "source": [
    "for i in range(5):\n",
    "    x_temp = X_test[X_test['Range'] ==  X_test['Range'].unique()[i]]\n",
    "    y_temp = y_test[x_temp.index]\n",
    "    X_test_processed = full_pipeline_r.transform(x_temp.iloc[:, :-1])\n",
    "    prediction = model.predict(X_test_processed)\n",
    "    print('Range: ',  X_test['Range'].unique()[i], end= '\\t')\n",
    "    print('Count: ', len(x_temp), end='\\t')\n",
    "    print(f' MSE: {mean_squared_error(y_pred=prediction, y_true=y_temp)}', end = '\\t')\n",
    "    print(f' MAE: {mean_absolute_error(y_pred=prediction, y_true=y_temp)}')      "
   ]
  },
  {
   "cell_type": "code",
   "execution_count": 64,
   "id": "24958280",
   "metadata": {},
   "outputs": [
    {
     "data": {
      "text/html": [
       "<div>\n",
       "<style scoped>\n",
       "    .dataframe tbody tr th:only-of-type {\n",
       "        vertical-align: middle;\n",
       "    }\n",
       "\n",
       "    .dataframe tbody tr th {\n",
       "        vertical-align: top;\n",
       "    }\n",
       "\n",
       "    .dataframe thead th {\n",
       "        text-align: right;\n",
       "    }\n",
       "</style>\n",
       "<table border=\"1\" class=\"dataframe\">\n",
       "  <thead>\n",
       "    <tr style=\"text-align: right;\">\n",
       "      <th></th>\n",
       "      <th>Origin</th>\n",
       "      <th>Dest</th>\n",
       "      <th>DepDelayMinutes</th>\n",
       "      <th>ArrDel15</th>\n",
       "      <th>Range</th>\n",
       "    </tr>\n",
       "  </thead>\n",
       "  <tbody>\n",
       "    <tr>\n",
       "      <th>641339</th>\n",
       "      <td>ORD</td>\n",
       "      <td>SFO</td>\n",
       "      <td>52.0</td>\n",
       "      <td>1.0</td>\n",
       "      <td>(15, 100]</td>\n",
       "    </tr>\n",
       "    <tr>\n",
       "      <th>1401916</th>\n",
       "      <td>MCO</td>\n",
       "      <td>ATL</td>\n",
       "      <td>34.0</td>\n",
       "      <td>1.0</td>\n",
       "      <td>(15, 100]</td>\n",
       "    </tr>\n",
       "    <tr>\n",
       "      <th>185114</th>\n",
       "      <td>DFW</td>\n",
       "      <td>ATL</td>\n",
       "      <td>63.0</td>\n",
       "      <td>1.0</td>\n",
       "      <td>(15, 100]</td>\n",
       "    </tr>\n",
       "    <tr>\n",
       "      <th>1304715</th>\n",
       "      <td>ORD</td>\n",
       "      <td>ATL</td>\n",
       "      <td>47.0</td>\n",
       "      <td>1.0</td>\n",
       "      <td>(15, 100]</td>\n",
       "    </tr>\n",
       "    <tr>\n",
       "      <th>1757143</th>\n",
       "      <td>ATL</td>\n",
       "      <td>DEN</td>\n",
       "      <td>38.0</td>\n",
       "      <td>1.0</td>\n",
       "      <td>(15, 100]</td>\n",
       "    </tr>\n",
       "    <tr>\n",
       "      <th>...</th>\n",
       "      <td>...</td>\n",
       "      <td>...</td>\n",
       "      <td>...</td>\n",
       "      <td>...</td>\n",
       "      <td>...</td>\n",
       "    </tr>\n",
       "    <tr>\n",
       "      <th>1571945</th>\n",
       "      <td>JFK</td>\n",
       "      <td>PHX</td>\n",
       "      <td>64.0</td>\n",
       "      <td>1.0</td>\n",
       "      <td>(15, 100]</td>\n",
       "    </tr>\n",
       "    <tr>\n",
       "      <th>963254</th>\n",
       "      <td>ORD</td>\n",
       "      <td>DFW</td>\n",
       "      <td>23.0</td>\n",
       "      <td>1.0</td>\n",
       "      <td>(15, 100]</td>\n",
       "    </tr>\n",
       "    <tr>\n",
       "      <th>596254</th>\n",
       "      <td>SFO</td>\n",
       "      <td>EWR</td>\n",
       "      <td>55.0</td>\n",
       "      <td>1.0</td>\n",
       "      <td>(15, 100]</td>\n",
       "    </tr>\n",
       "    <tr>\n",
       "      <th>1151708</th>\n",
       "      <td>SFO</td>\n",
       "      <td>EWR</td>\n",
       "      <td>62.0</td>\n",
       "      <td>1.0</td>\n",
       "      <td>(15, 100]</td>\n",
       "    </tr>\n",
       "    <tr>\n",
       "      <th>882129</th>\n",
       "      <td>IAH</td>\n",
       "      <td>SEA</td>\n",
       "      <td>47.0</td>\n",
       "      <td>1.0</td>\n",
       "      <td>(15, 100]</td>\n",
       "    </tr>\n",
       "  </tbody>\n",
       "</table>\n",
       "<p>56452 rows × 5 columns</p>\n",
       "</div>"
      ],
      "text/plain": [
       "        Origin Dest  DepDelayMinutes  ArrDel15      Range\n",
       "641339     ORD  SFO             52.0       1.0  (15, 100]\n",
       "1401916    MCO  ATL             34.0       1.0  (15, 100]\n",
       "185114     DFW  ATL             63.0       1.0  (15, 100]\n",
       "1304715    ORD  ATL             47.0       1.0  (15, 100]\n",
       "1757143    ATL  DEN             38.0       1.0  (15, 100]\n",
       "...        ...  ...              ...       ...        ...\n",
       "1571945    JFK  PHX             64.0       1.0  (15, 100]\n",
       "963254     ORD  DFW             23.0       1.0  (15, 100]\n",
       "596254     SFO  EWR             55.0       1.0  (15, 100]\n",
       "1151708    SFO  EWR             62.0       1.0  (15, 100]\n",
       "882129     IAH  SEA             47.0       1.0  (15, 100]\n",
       "\n",
       "[56452 rows x 5 columns]"
      ]
     },
     "execution_count": 64,
     "metadata": {},
     "output_type": "execute_result"
    }
   ],
   "source": [
    "X_test[X_test['Range'] == X_test['Range'].values[0]]"
   ]
  },
  {
   "cell_type": "code",
   "execution_count": null,
   "id": "db7e54bb",
   "metadata": {},
   "outputs": [],
   "source": []
  }
 ],
 "metadata": {
  "kernelspec": {
   "display_name": "Python 3 (ipykernel)",
   "language": "python",
   "name": "python3"
  },
  "language_info": {
   "codemirror_mode": {
    "name": "ipython",
    "version": 3
   },
   "file_extension": ".py",
   "mimetype": "text/x-python",
   "name": "python",
   "nbconvert_exporter": "python",
   "pygments_lexer": "ipython3",
   "version": "3.10.6"
  }
 },
 "nbformat": 4,
 "nbformat_minor": 5
}
