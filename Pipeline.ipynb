{
 "cells": [
  {
   "cell_type": "code",
   "execution_count": 281,
   "id": "62118d6c",
   "metadata": {},
   "outputs": [],
   "source": [
    "import pandas as pd\n",
    "import numpy as np\n",
    "\n",
    "from sklearn.ensemble import ExtraTreesClassifier\n",
    "from sklearn.model_selection import train_test_split\n",
    "from sklearn.model_selection import GridSearchCV\n",
    "from sklearn.preprocessing import LabelEncoder\n",
    "from sklearn.metrics import accuracy_score, f1_score, classification_report, mean_squared_error, mean_absolute_error\n",
    "\n",
    "import warnings\n",
    "warnings.filterwarnings(\"ignore\")"
   ]
  },
  {
   "cell_type": "code",
   "execution_count": 136,
   "id": "daa9c30e",
   "metadata": {},
   "outputs": [],
   "source": [
    "data = pd.read_csv('cleaned_data.csv')"
   ]
  },
  {
   "cell_type": "code",
   "execution_count": 137,
   "id": "b0670bf7",
   "metadata": {},
   "outputs": [
    {
     "name": "stdout",
     "output_type": "stream",
     "text": [
      "<class 'pandas.core.frame.DataFrame'>\n",
      "RangeIndex: 1851422 entries, 0 to 1851421\n",
      "Data columns (total 36 columns):\n",
      " #   Column             Dtype  \n",
      "---  ------             -----  \n",
      " 0   FlightDate         object \n",
      " 1   Quarter            int64  \n",
      " 2   Year               int64  \n",
      " 3   Month              int64  \n",
      " 4   DayofMonth         int64  \n",
      " 5   DepTime            float64\n",
      " 6   DepDel15           float64\n",
      " 7   CRSDepTime         int64  \n",
      " 8   DepDelayMinutes    float64\n",
      " 9   OriginAirportID    int64  \n",
      " 10  DestAirportID      int64  \n",
      " 11  ArrTime            float64\n",
      " 12  CRSArrTime         int64  \n",
      " 13  ArrDelayMinutes    float64\n",
      " 14  Origin             object \n",
      " 15  Dest               object \n",
      " 16  RoundedFlightDate  object \n",
      " 17  DepatHr            int64  \n",
      " 18  ArrDel15           float64\n",
      " 19  Delayed            int64  \n",
      " 20  date               object \n",
      " 21  airport            object \n",
      " 22  windspeedKmph      int64  \n",
      " 23  winddirDegree      int64  \n",
      " 24  weatherCode        int64  \n",
      " 25  precipMM           float64\n",
      " 26  visibility         int64  \n",
      " 27  pressure           int64  \n",
      " 28  cloudcover         int64  \n",
      " 29  DewPointF          int64  \n",
      " 30  WindGustKmph       int64  \n",
      " 31  tempF              int64  \n",
      " 32  WindChillF         int64  \n",
      " 33  humidity           int64  \n",
      " 34  time               int64  \n",
      " 35  timeInHr           int64  \n",
      "dtypes: float64(7), int64(23), object(6)\n",
      "memory usage: 508.5+ MB\n"
     ]
    }
   ],
   "source": [
    "data.info()"
   ]
  },
  {
   "cell_type": "markdown",
   "id": "962f91fa",
   "metadata": {},
   "source": [
    "## Classification"
   ]
  },
  {
   "cell_type": "code",
   "execution_count": 138,
   "id": "b99a3339",
   "metadata": {},
   "outputs": [],
   "source": [
    "label_encoder = LabelEncoder()\n",
    "data['Encoded_Origin_Airport'] = label_encoder.fit_transform(data['Origin'])\n",
    "data['Encoded_Dest_Airport'] = label_encoder.fit_transform(data['Dest'])"
   ]
  },
  {
   "cell_type": "code",
   "execution_count": 139,
   "id": "add56b56",
   "metadata": {},
   "outputs": [],
   "source": [
    "Df = data[[ 'Quarter', 'Month', 'DayofMonth',\n",
    "       'CRSDepTime', 'CRSArrTime', \n",
    "       'windspeedKmph', 'winddirDegree', 'weatherCode', 'precipMM',\n",
    "       'visibility', 'pressure', 'cloudcover', 'DewPointF', 'WindGustKmph',\n",
    "       'tempF', 'WindChillF', 'humidity', 'Encoded_Origin_Airport', 'Encoded_Dest_Airport' ,'DepDel15']]\n"
   ]
  },
  {
   "cell_type": "code",
   "execution_count": 140,
   "id": "529367f0",
   "metadata": {},
   "outputs": [],
   "source": [
    "X = Df.iloc[:, :-1]\n",
    "y = Df.iloc[:, -1]"
   ]
  },
  {
   "cell_type": "code",
   "execution_count": 141,
   "id": "9f9392ca",
   "metadata": {},
   "outputs": [],
   "source": [
    "X_train, X_test, y_train, y_test = train_test_split(X, y, train_size=0.75, random_state=42)"
   ]
  },
  {
   "cell_type": "code",
   "execution_count": 142,
   "id": "05b44c6d",
   "metadata": {},
   "outputs": [],
   "source": [
    "from imblearn.over_sampling import RandomOverSampler, SMOTE\n",
    "smote = SMOTE(random_state = 42)\n",
    "X_train_smote, y_train_smote = smote.fit_resample(X_train, y_train)"
   ]
  },
  {
   "cell_type": "code",
   "execution_count": 143,
   "id": "a0f91d48",
   "metadata": {},
   "outputs": [],
   "source": [
    "cls = ExtraTreesClassifier(random_state=42)"
   ]
  },
  {
   "cell_type": "code",
   "execution_count": 144,
   "id": "b721aa16",
   "metadata": {},
   "outputs": [
    {
     "data": {
      "text/html": [
       "<style>#sk-container-id-2 {color: black;background-color: white;}#sk-container-id-2 pre{padding: 0;}#sk-container-id-2 div.sk-toggleable {background-color: white;}#sk-container-id-2 label.sk-toggleable__label {cursor: pointer;display: block;width: 100%;margin-bottom: 0;padding: 0.3em;box-sizing: border-box;text-align: center;}#sk-container-id-2 label.sk-toggleable__label-arrow:before {content: \"▸\";float: left;margin-right: 0.25em;color: #696969;}#sk-container-id-2 label.sk-toggleable__label-arrow:hover:before {color: black;}#sk-container-id-2 div.sk-estimator:hover label.sk-toggleable__label-arrow:before {color: black;}#sk-container-id-2 div.sk-toggleable__content {max-height: 0;max-width: 0;overflow: hidden;text-align: left;background-color: #f0f8ff;}#sk-container-id-2 div.sk-toggleable__content pre {margin: 0.2em;color: black;border-radius: 0.25em;background-color: #f0f8ff;}#sk-container-id-2 input.sk-toggleable__control:checked~div.sk-toggleable__content {max-height: 200px;max-width: 100%;overflow: auto;}#sk-container-id-2 input.sk-toggleable__control:checked~label.sk-toggleable__label-arrow:before {content: \"▾\";}#sk-container-id-2 div.sk-estimator input.sk-toggleable__control:checked~label.sk-toggleable__label {background-color: #d4ebff;}#sk-container-id-2 div.sk-label input.sk-toggleable__control:checked~label.sk-toggleable__label {background-color: #d4ebff;}#sk-container-id-2 input.sk-hidden--visually {border: 0;clip: rect(1px 1px 1px 1px);clip: rect(1px, 1px, 1px, 1px);height: 1px;margin: -1px;overflow: hidden;padding: 0;position: absolute;width: 1px;}#sk-container-id-2 div.sk-estimator {font-family: monospace;background-color: #f0f8ff;border: 1px dotted black;border-radius: 0.25em;box-sizing: border-box;margin-bottom: 0.5em;}#sk-container-id-2 div.sk-estimator:hover {background-color: #d4ebff;}#sk-container-id-2 div.sk-parallel-item::after {content: \"\";width: 100%;border-bottom: 1px solid gray;flex-grow: 1;}#sk-container-id-2 div.sk-label:hover label.sk-toggleable__label {background-color: #d4ebff;}#sk-container-id-2 div.sk-serial::before {content: \"\";position: absolute;border-left: 1px solid gray;box-sizing: border-box;top: 0;bottom: 0;left: 50%;z-index: 0;}#sk-container-id-2 div.sk-serial {display: flex;flex-direction: column;align-items: center;background-color: white;padding-right: 0.2em;padding-left: 0.2em;position: relative;}#sk-container-id-2 div.sk-item {position: relative;z-index: 1;}#sk-container-id-2 div.sk-parallel {display: flex;align-items: stretch;justify-content: center;background-color: white;position: relative;}#sk-container-id-2 div.sk-item::before, #sk-container-id-2 div.sk-parallel-item::before {content: \"\";position: absolute;border-left: 1px solid gray;box-sizing: border-box;top: 0;bottom: 0;left: 50%;z-index: -1;}#sk-container-id-2 div.sk-parallel-item {display: flex;flex-direction: column;z-index: 1;position: relative;background-color: white;}#sk-container-id-2 div.sk-parallel-item:first-child::after {align-self: flex-end;width: 50%;}#sk-container-id-2 div.sk-parallel-item:last-child::after {align-self: flex-start;width: 50%;}#sk-container-id-2 div.sk-parallel-item:only-child::after {width: 0;}#sk-container-id-2 div.sk-dashed-wrapped {border: 1px dashed gray;margin: 0 0.4em 0.5em 0.4em;box-sizing: border-box;padding-bottom: 0.4em;background-color: white;}#sk-container-id-2 div.sk-label label {font-family: monospace;font-weight: bold;display: inline-block;line-height: 1.2em;}#sk-container-id-2 div.sk-label-container {text-align: center;}#sk-container-id-2 div.sk-container {/* jupyter's `normalize.less` sets `[hidden] { display: none; }` but bootstrap.min.css set `[hidden] { display: none !important; }` so we also need the `!important` here to be able to override the default hidden behavior on the sphinx rendered scikit-learn.org. See: https://github.com/scikit-learn/scikit-learn/issues/21755 */display: inline-block !important;position: relative;}#sk-container-id-2 div.sk-text-repr-fallback {display: none;}</style><div id=\"sk-container-id-2\" class=\"sk-top-container\"><div class=\"sk-text-repr-fallback\"><pre>ExtraTreesClassifier(random_state=42)</pre><b>In a Jupyter environment, please rerun this cell to show the HTML representation or trust the notebook. <br />On GitHub, the HTML representation is unable to render, please try loading this page with nbviewer.org.</b></div><div class=\"sk-container\" hidden><div class=\"sk-item\"><div class=\"sk-estimator sk-toggleable\"><input class=\"sk-toggleable__control sk-hidden--visually\" id=\"sk-estimator-id-2\" type=\"checkbox\" checked><label for=\"sk-estimator-id-2\" class=\"sk-toggleable__label sk-toggleable__label-arrow\">ExtraTreesClassifier</label><div class=\"sk-toggleable__content\"><pre>ExtraTreesClassifier(random_state=42)</pre></div></div></div></div></div>"
      ],
      "text/plain": [
       "ExtraTreesClassifier(random_state=42)"
      ]
     },
     "execution_count": 144,
     "metadata": {},
     "output_type": "execute_result"
    }
   ],
   "source": [
    "cls.fit(X_train_smote.values, y_train_smote.values)"
   ]
  },
  {
   "cell_type": "code",
   "execution_count": 145,
   "id": "e3c2e0e5",
   "metadata": {},
   "outputs": [],
   "source": [
    "prediction = cls.predict(X.values)"
   ]
  },
  {
   "cell_type": "code",
   "execution_count": 146,
   "id": "23044b6c",
   "metadata": {},
   "outputs": [],
   "source": [
    "index = np.where(prediction==1)"
   ]
  },
  {
   "cell_type": "code",
   "execution_count": 147,
   "id": "5ad2836f",
   "metadata": {},
   "outputs": [],
   "source": [
    "X_new = X.iloc[np.where(prediction==1)]\n",
    "y_new = y.iloc[np.where(prediction==1)]"
   ]
  },
  {
   "cell_type": "markdown",
   "id": "df20f0c6",
   "metadata": {},
   "source": [
    "## Regression Analysis"
   ]
  },
  {
   "cell_type": "code",
   "execution_count": 148,
   "id": "34b2c4a0",
   "metadata": {},
   "outputs": [],
   "source": [
    "from xgboost import XGBRegressor\n",
    "from sklearn.model_selection import train_test_split\n",
    "from sklearn.pipeline import Pipeline\n",
    "from sklearn.preprocessing import OneHotEncoder, StandardScaler\n",
    "from sklearn.compose import ColumnTransformer"
   ]
  },
  {
   "cell_type": "code",
   "execution_count": 149,
   "id": "eb7088cc",
   "metadata": {},
   "outputs": [],
   "source": [
    "numerical_r = ['DepDelayMinutes']\n",
    "categorical_r = ['Origin', 'Dest']"
   ]
  },
  {
   "cell_type": "code",
   "execution_count": 150,
   "id": "8b9035cc",
   "metadata": {},
   "outputs": [],
   "source": [
    "categorical_pipeline_r = Pipeline(\n",
    "    steps=[\n",
    "        (\"oh-encode\", OneHotEncoder(handle_unknown=\"ignore\", sparse=False))\n",
    "    ]\n",
    ")\n",
    "numerical_pipeline_r = Pipeline(\n",
    "    steps=[\n",
    "        (\"scale\", StandardScaler())\n",
    "    ]\n",
    ")\n",
    "\n",
    "full_pipeline_r = ColumnTransformer(\n",
    "    transformers=[\n",
    "        (\"numeric\", numerical_pipeline_r, numerical_r),\n",
    "        (\"categorical\", categorical_pipeline_r, categorical_r),\n",
    "    ],\n",
    "    remainder='passthrough'\n",
    ")\n",
    "\n",
    "model_pipeline_r = Pipeline(\n",
    "    steps=[\n",
    "        ('preprocess',  full_pipeline_r),\n",
    "        ('xgb', XGBRegressor() )\n",
    "    ]\n",
    ")"
   ]
  },
  {
   "cell_type": "code",
   "execution_count": 201,
   "id": "a1f9823e",
   "metadata": {},
   "outputs": [],
   "source": [
    "columns_for_regression = ['Origin', 'Dest' ,  'ArrDel15', 'DepDelayMinutes' , 'ArrDelayMinutes']\n",
    "Df = data[columns_for_regression]"
   ]
  },
  {
   "cell_type": "code",
   "execution_count": 202,
   "id": "f4f6ae5c",
   "metadata": {},
   "outputs": [
    {
     "data": {
      "text/html": [
       "<div>\n",
       "<style scoped>\n",
       "    .dataframe tbody tr th:only-of-type {\n",
       "        vertical-align: middle;\n",
       "    }\n",
       "\n",
       "    .dataframe tbody tr th {\n",
       "        vertical-align: top;\n",
       "    }\n",
       "\n",
       "    .dataframe thead th {\n",
       "        text-align: right;\n",
       "    }\n",
       "</style>\n",
       "<table border=\"1\" class=\"dataframe\">\n",
       "  <thead>\n",
       "    <tr style=\"text-align: right;\">\n",
       "      <th></th>\n",
       "      <th>Origin</th>\n",
       "      <th>Dest</th>\n",
       "      <th>ArrDel15</th>\n",
       "      <th>DepDelayMinutes</th>\n",
       "      <th>ArrDelayMinutes</th>\n",
       "    </tr>\n",
       "  </thead>\n",
       "  <tbody>\n",
       "    <tr>\n",
       "      <th>13</th>\n",
       "      <td>SFO</td>\n",
       "      <td>IAH</td>\n",
       "      <td>1.0</td>\n",
       "      <td>639.0</td>\n",
       "      <td>645.0</td>\n",
       "    </tr>\n",
       "    <tr>\n",
       "      <th>22</th>\n",
       "      <td>LAX</td>\n",
       "      <td>ORD</td>\n",
       "      <td>1.0</td>\n",
       "      <td>7.0</td>\n",
       "      <td>18.0</td>\n",
       "    </tr>\n",
       "    <tr>\n",
       "      <th>32</th>\n",
       "      <td>DEN</td>\n",
       "      <td>LAS</td>\n",
       "      <td>1.0</td>\n",
       "      <td>79.0</td>\n",
       "      <td>67.0</td>\n",
       "    </tr>\n",
       "    <tr>\n",
       "      <th>40</th>\n",
       "      <td>MIA</td>\n",
       "      <td>IAH</td>\n",
       "      <td>1.0</td>\n",
       "      <td>99.0</td>\n",
       "      <td>87.0</td>\n",
       "    </tr>\n",
       "    <tr>\n",
       "      <th>43</th>\n",
       "      <td>PHX</td>\n",
       "      <td>LAX</td>\n",
       "      <td>1.0</td>\n",
       "      <td>0.0</td>\n",
       "      <td>32.0</td>\n",
       "    </tr>\n",
       "  </tbody>\n",
       "</table>\n",
       "</div>"
      ],
      "text/plain": [
       "   Origin Dest  ArrDel15  DepDelayMinutes  ArrDelayMinutes\n",
       "13    SFO  IAH       1.0            639.0            645.0\n",
       "22    LAX  ORD       1.0              7.0             18.0\n",
       "32    DEN  LAS       1.0             79.0             67.0\n",
       "40    MIA  IAH       1.0             99.0             87.0\n",
       "43    PHX  LAX       1.0              0.0             32.0"
      ]
     },
     "execution_count": 202,
     "metadata": {},
     "output_type": "execute_result"
    }
   ],
   "source": [
    "Df = Df[Df.ArrDel15 == 1]\n",
    "Df.head()"
   ]
  },
  {
   "cell_type": "code",
   "execution_count": 204,
   "id": "466048d7",
   "metadata": {},
   "outputs": [],
   "source": [
    "Df.drop(['ArrDel15'], inplace=True, axis=1)"
   ]
  },
  {
   "cell_type": "code",
   "execution_count": 205,
   "id": "d407a9c3",
   "metadata": {},
   "outputs": [],
   "source": [
    "X_train, X_test, y_train, y_test = train_test_split(Df.iloc[:, :-1], Df.iloc[:, -1], train_size=0.75,  random_state=0)"
   ]
  },
  {
   "cell_type": "code",
   "execution_count": 206,
   "id": "cf92783a",
   "metadata": {},
   "outputs": [
    {
     "data": {
      "text/plain": [
       "array([-0.77310031,  0.        ,  0.        ,  0.        ,  1.        ,\n",
       "        0.        ,  0.        ,  0.        ,  0.        ,  0.        ,\n",
       "        0.        ,  0.        ,  0.        ,  0.        ,  0.        ,\n",
       "        0.        ,  0.        ,  0.        ,  0.        ,  0.        ,\n",
       "        0.        ,  0.        ,  0.        ,  0.        ,  0.        ,\n",
       "        0.        ,  0.        ,  1.        ,  0.        ,  0.        ,\n",
       "        0.        ])"
      ]
     },
     "execution_count": 206,
     "metadata": {},
     "output_type": "execute_result"
    }
   ],
   "source": [
    "# xgb = XGBRegressor(n_estimators=300, colsample_bytree= 0.8, gamma= 0, learning_rate= 0.3, max_depth= 9, reg_lambda= 10, scale_pos_weight= 1, subsample= 0.8)\n",
    "xgb = XGBRegressor()\n",
    "X_train_processed = full_pipeline_r.fit_transform(X_train)\n",
    "X_train_processed[0]"
   ]
  },
  {
   "cell_type": "code",
   "execution_count": 207,
   "id": "69a90ff5",
   "metadata": {},
   "outputs": [
    {
     "name": "stdout",
     "output_type": "stream",
     "text": [
      "CPU times: user 50.8 s, sys: 9.58 s, total: 1min\n",
      "Wall time: 9.06 s\n"
     ]
    }
   ],
   "source": [
    "%%time\n",
    "model = xgb.fit(X_train_processed ,y_train)"
   ]
  },
  {
   "cell_type": "code",
   "execution_count": 208,
   "id": "8650a391",
   "metadata": {},
   "outputs": [],
   "source": [
    "columns_for_regression_analysis = ['Origin', 'Dest' ,   'DepDelayMinutes' , 'ArrDelayMinutes']\n",
    "Df = data[columns_for_regression_analysis]"
   ]
  },
  {
   "cell_type": "code",
   "execution_count": 209,
   "id": "326885f2",
   "metadata": {},
   "outputs": [
    {
     "data": {
      "text/plain": [
       "(array([      0,       6,      13, ..., 1851417, 1851419, 1851420]),)"
      ]
     },
     "execution_count": 209,
     "metadata": {},
     "output_type": "execute_result"
    }
   ],
   "source": [
    "index"
   ]
  },
  {
   "cell_type": "code",
   "execution_count": 210,
   "id": "fa56d520",
   "metadata": {},
   "outputs": [],
   "source": [
    "Df = Df.iloc[index[0]]"
   ]
  },
  {
   "cell_type": "code",
   "execution_count": 211,
   "id": "60e1e033",
   "metadata": {},
   "outputs": [
    {
     "data": {
      "text/html": [
       "<div>\n",
       "<style scoped>\n",
       "    .dataframe tbody tr th:only-of-type {\n",
       "        vertical-align: middle;\n",
       "    }\n",
       "\n",
       "    .dataframe tbody tr th {\n",
       "        vertical-align: top;\n",
       "    }\n",
       "\n",
       "    .dataframe thead th {\n",
       "        text-align: right;\n",
       "    }\n",
       "</style>\n",
       "<table border=\"1\" class=\"dataframe\">\n",
       "  <thead>\n",
       "    <tr style=\"text-align: right;\">\n",
       "      <th></th>\n",
       "      <th>Origin</th>\n",
       "      <th>Dest</th>\n",
       "      <th>DepDelayMinutes</th>\n",
       "      <th>ArrDelayMinutes</th>\n",
       "    </tr>\n",
       "  </thead>\n",
       "  <tbody>\n",
       "    <tr>\n",
       "      <th>0</th>\n",
       "      <td>LAS</td>\n",
       "      <td>MIA</td>\n",
       "      <td>19.0</td>\n",
       "      <td>7.0</td>\n",
       "    </tr>\n",
       "    <tr>\n",
       "      <th>6</th>\n",
       "      <td>LAX</td>\n",
       "      <td>EWR</td>\n",
       "      <td>26.0</td>\n",
       "      <td>9.0</td>\n",
       "    </tr>\n",
       "    <tr>\n",
       "      <th>13</th>\n",
       "      <td>SFO</td>\n",
       "      <td>IAH</td>\n",
       "      <td>639.0</td>\n",
       "      <td>645.0</td>\n",
       "    </tr>\n",
       "    <tr>\n",
       "      <th>19</th>\n",
       "      <td>LAX</td>\n",
       "      <td>IAH</td>\n",
       "      <td>17.0</td>\n",
       "      <td>1.0</td>\n",
       "    </tr>\n",
       "    <tr>\n",
       "      <th>23</th>\n",
       "      <td>LAX</td>\n",
       "      <td>MIA</td>\n",
       "      <td>0.0</td>\n",
       "      <td>0.0</td>\n",
       "    </tr>\n",
       "    <tr>\n",
       "      <th>...</th>\n",
       "      <td>...</td>\n",
       "      <td>...</td>\n",
       "      <td>...</td>\n",
       "      <td>...</td>\n",
       "    </tr>\n",
       "    <tr>\n",
       "      <th>1851415</th>\n",
       "      <td>MCO</td>\n",
       "      <td>EWR</td>\n",
       "      <td>25.0</td>\n",
       "      <td>17.0</td>\n",
       "    </tr>\n",
       "    <tr>\n",
       "      <th>1851416</th>\n",
       "      <td>JFK</td>\n",
       "      <td>MCO</td>\n",
       "      <td>41.0</td>\n",
       "      <td>51.0</td>\n",
       "    </tr>\n",
       "    <tr>\n",
       "      <th>1851417</th>\n",
       "      <td>JFK</td>\n",
       "      <td>LAX</td>\n",
       "      <td>82.0</td>\n",
       "      <td>64.0</td>\n",
       "    </tr>\n",
       "    <tr>\n",
       "      <th>1851419</th>\n",
       "      <td>DEN</td>\n",
       "      <td>SFO</td>\n",
       "      <td>75.0</td>\n",
       "      <td>65.0</td>\n",
       "    </tr>\n",
       "    <tr>\n",
       "      <th>1851420</th>\n",
       "      <td>DEN</td>\n",
       "      <td>PHX</td>\n",
       "      <td>17.0</td>\n",
       "      <td>7.0</td>\n",
       "    </tr>\n",
       "  </tbody>\n",
       "</table>\n",
       "<p>347706 rows × 4 columns</p>\n",
       "</div>"
      ],
      "text/plain": [
       "        Origin Dest  DepDelayMinutes  ArrDelayMinutes\n",
       "0          LAS  MIA             19.0              7.0\n",
       "6          LAX  EWR             26.0              9.0\n",
       "13         SFO  IAH            639.0            645.0\n",
       "19         LAX  IAH             17.0              1.0\n",
       "23         LAX  MIA              0.0              0.0\n",
       "...        ...  ...              ...              ...\n",
       "1851415    MCO  EWR             25.0             17.0\n",
       "1851416    JFK  MCO             41.0             51.0\n",
       "1851417    JFK  LAX             82.0             64.0\n",
       "1851419    DEN  SFO             75.0             65.0\n",
       "1851420    DEN  PHX             17.0              7.0\n",
       "\n",
       "[347706 rows x 4 columns]"
      ]
     },
     "execution_count": 211,
     "metadata": {},
     "output_type": "execute_result"
    }
   ],
   "source": [
    "Df"
   ]
  },
  {
   "cell_type": "code",
   "execution_count": 212,
   "id": "7eddef19",
   "metadata": {},
   "outputs": [],
   "source": [
    "X = Df.iloc[:, :-1]\n",
    "y =  Df.iloc[:, -1]"
   ]
  },
  {
   "cell_type": "code",
   "execution_count": 213,
   "id": "50bd401c",
   "metadata": {},
   "outputs": [],
   "source": [
    "X['Range'] = pd.cut(X['DepDelayMinutes'], bins=[15,100,200,500, 1000, 2000])"
   ]
  },
  {
   "cell_type": "code",
   "execution_count": 214,
   "id": "29bf81ee",
   "metadata": {},
   "outputs": [
    {
     "data": {
      "text/html": [
       "<div>\n",
       "<style scoped>\n",
       "    .dataframe tbody tr th:only-of-type {\n",
       "        vertical-align: middle;\n",
       "    }\n",
       "\n",
       "    .dataframe tbody tr th {\n",
       "        vertical-align: top;\n",
       "    }\n",
       "\n",
       "    .dataframe thead th {\n",
       "        text-align: right;\n",
       "    }\n",
       "</style>\n",
       "<table border=\"1\" class=\"dataframe\">\n",
       "  <thead>\n",
       "    <tr style=\"text-align: right;\">\n",
       "      <th></th>\n",
       "      <th>Origin</th>\n",
       "      <th>Dest</th>\n",
       "      <th>DepDelayMinutes</th>\n",
       "      <th>Range</th>\n",
       "    </tr>\n",
       "  </thead>\n",
       "  <tbody>\n",
       "    <tr>\n",
       "      <th>0</th>\n",
       "      <td>LAS</td>\n",
       "      <td>MIA</td>\n",
       "      <td>19.0</td>\n",
       "      <td>(15.0, 100.0]</td>\n",
       "    </tr>\n",
       "    <tr>\n",
       "      <th>6</th>\n",
       "      <td>LAX</td>\n",
       "      <td>EWR</td>\n",
       "      <td>26.0</td>\n",
       "      <td>(15.0, 100.0]</td>\n",
       "    </tr>\n",
       "    <tr>\n",
       "      <th>13</th>\n",
       "      <td>SFO</td>\n",
       "      <td>IAH</td>\n",
       "      <td>639.0</td>\n",
       "      <td>(500.0, 1000.0]</td>\n",
       "    </tr>\n",
       "    <tr>\n",
       "      <th>19</th>\n",
       "      <td>LAX</td>\n",
       "      <td>IAH</td>\n",
       "      <td>17.0</td>\n",
       "      <td>(15.0, 100.0]</td>\n",
       "    </tr>\n",
       "    <tr>\n",
       "      <th>23</th>\n",
       "      <td>LAX</td>\n",
       "      <td>MIA</td>\n",
       "      <td>0.0</td>\n",
       "      <td>NaN</td>\n",
       "    </tr>\n",
       "  </tbody>\n",
       "</table>\n",
       "</div>"
      ],
      "text/plain": [
       "   Origin Dest  DepDelayMinutes            Range\n",
       "0     LAS  MIA             19.0    (15.0, 100.0]\n",
       "6     LAX  EWR             26.0    (15.0, 100.0]\n",
       "13    SFO  IAH            639.0  (500.0, 1000.0]\n",
       "19    LAX  IAH             17.0    (15.0, 100.0]\n",
       "23    LAX  MIA              0.0              NaN"
      ]
     },
     "execution_count": 214,
     "metadata": {},
     "output_type": "execute_result"
    }
   ],
   "source": [
    "X.head()"
   ]
  },
  {
   "cell_type": "code",
   "execution_count": 215,
   "id": "110615e5",
   "metadata": {},
   "outputs": [
    {
     "data": {
      "text/plain": [
       "[(15.0, 100.0], (500.0, 1000.0], NaN, (100.0, 200.0], (200.0, 500.0], (1000.0, 2000.0]]\n",
       "Categories (5, interval[int64, right]): [(15, 100] < (100, 200] < (200, 500] < (500, 1000] < (1000, 2000]]"
      ]
     },
     "execution_count": 215,
     "metadata": {},
     "output_type": "execute_result"
    }
   ],
   "source": [
    "X.Range.unique()"
   ]
  },
  {
   "cell_type": "code",
   "execution_count": 233,
   "id": "85e510fc",
   "metadata": {},
   "outputs": [
    {
     "data": {
      "text/plain": [
       "15"
      ]
     },
     "execution_count": 233,
     "metadata": {},
     "output_type": "execute_result"
    }
   ],
   "source": [
    "len(X[X['Range'] ==  X['Range'].unique()[5]]['Origin'].unique())"
   ]
  },
  {
   "cell_type": "code",
   "execution_count": 234,
   "id": "56ece1ff",
   "metadata": {},
   "outputs": [
    {
     "data": {
      "text/plain": [
       "14"
      ]
     },
     "execution_count": 234,
     "metadata": {},
     "output_type": "execute_result"
    }
   ],
   "source": [
    "len(X[X['Range'] ==  X['Range'].unique()[5]]['Dest'].unique())"
   ]
  },
  {
   "cell_type": "code",
   "execution_count": 244,
   "id": "bc831867",
   "metadata": {},
   "outputs": [
    {
     "data": {
      "text/html": [
       "<div>\n",
       "<style scoped>\n",
       "    .dataframe tbody tr th:only-of-type {\n",
       "        vertical-align: middle;\n",
       "    }\n",
       "\n",
       "    .dataframe tbody tr th {\n",
       "        vertical-align: top;\n",
       "    }\n",
       "\n",
       "    .dataframe thead th {\n",
       "        text-align: right;\n",
       "    }\n",
       "</style>\n",
       "<table border=\"1\" class=\"dataframe\">\n",
       "  <thead>\n",
       "    <tr style=\"text-align: right;\">\n",
       "      <th></th>\n",
       "      <th>Origin</th>\n",
       "      <th>Dest</th>\n",
       "      <th>DepDelayMinutes</th>\n",
       "      <th>Range</th>\n",
       "    </tr>\n",
       "  </thead>\n",
       "  <tbody>\n",
       "    <tr>\n",
       "      <th>0</th>\n",
       "      <td>LAS</td>\n",
       "      <td>MIA</td>\n",
       "      <td>19.0</td>\n",
       "      <td>(15.0, 100.0]</td>\n",
       "    </tr>\n",
       "    <tr>\n",
       "      <th>6</th>\n",
       "      <td>LAX</td>\n",
       "      <td>EWR</td>\n",
       "      <td>26.0</td>\n",
       "      <td>(15.0, 100.0]</td>\n",
       "    </tr>\n",
       "    <tr>\n",
       "      <th>13</th>\n",
       "      <td>SFO</td>\n",
       "      <td>IAH</td>\n",
       "      <td>639.0</td>\n",
       "      <td>(500.0, 1000.0]</td>\n",
       "    </tr>\n",
       "    <tr>\n",
       "      <th>19</th>\n",
       "      <td>LAX</td>\n",
       "      <td>IAH</td>\n",
       "      <td>17.0</td>\n",
       "      <td>(15.0, 100.0]</td>\n",
       "    </tr>\n",
       "    <tr>\n",
       "      <th>23</th>\n",
       "      <td>LAX</td>\n",
       "      <td>MIA</td>\n",
       "      <td>0.0</td>\n",
       "      <td>NaN</td>\n",
       "    </tr>\n",
       "  </tbody>\n",
       "</table>\n",
       "</div>"
      ],
      "text/plain": [
       "   Origin Dest  DepDelayMinutes            Range\n",
       "0     LAS  MIA             19.0    (15.0, 100.0]\n",
       "6     LAX  EWR             26.0    (15.0, 100.0]\n",
       "13    SFO  IAH            639.0  (500.0, 1000.0]\n",
       "19    LAX  IAH             17.0    (15.0, 100.0]\n",
       "23    LAX  MIA              0.0              NaN"
      ]
     },
     "execution_count": 244,
     "metadata": {},
     "output_type": "execute_result"
    }
   ],
   "source": [
    "X.head()"
   ]
  },
  {
   "cell_type": "code",
   "execution_count": 256,
   "id": "984833e2",
   "metadata": {},
   "outputs": [
    {
     "data": {
      "text/plain": [
       "numpy.ndarray"
      ]
     },
     "execution_count": 256,
     "metadata": {},
     "output_type": "execute_result"
    }
   ],
   "source": [
    "ranges = X['Range'].unique()\n",
    "X_processed = full_pipeline_r.fit_transform(X) \n",
    "type(X_processed)"
   ]
  },
  {
   "cell_type": "code",
   "execution_count": 259,
   "id": "390c2c40",
   "metadata": {},
   "outputs": [
    {
     "data": {
      "text/plain": [
       "(array([     0,      1,      3, ..., 347703, 347704, 347705]),)"
      ]
     },
     "execution_count": 259,
     "metadata": {},
     "output_type": "execute_result"
    }
   ],
   "source": [
    "index = np.where(X_processed[:, -1] ==  ranges[0])\n",
    "index"
   ]
  },
  {
   "cell_type": "code",
   "execution_count": 282,
   "id": "70c32c4b",
   "metadata": {},
   "outputs": [
    {
     "name": "stdout",
     "output_type": "stream",
     "text": [
      "Range:  (15, 100]\tCount:  249204\t MSE: 350.8432709867058\t MAE: 14.030095398011795\n",
      "Range:  (500, 1000]\tCount:  1084\t MSE: 346.1653668186026\t MAE: 13.150061969827462\n",
      "Range:  (100, 200]\tCount:  44264\t MSE: 407.81421662092\t MAE: 13.829298218658684\n",
      "Range:  (200, 500]\tCount:  13510\t MSE: 469.84052581710745\t MAE: 15.059065613651347\n",
      "Range:  (1000, 2000]\tCount:  142\t MSE: 351.16442034739845\t MAE: 13.845073861135564\n"
     ]
    }
   ],
   "source": [
    "for i in range(6):\n",
    "    index = np.where(X_processed[:, -1] ==  ranges[i])\n",
    "    x_temp = X_processed[index]\n",
    "\n",
    "    if len(x_temp) == 0:\n",
    "        continue\n",
    "    y_temp = y.iloc[index[0]]\n",
    "    \n",
    "    prediction = model.predict(x_temp[:,:-1])\n",
    "\n",
    "    print('Range: ',  ranges[i], end= '\\t')\n",
    "    print('Count: ', len(x_temp), end='\\t')\n",
    "    print(f' MSE: {mean_squared_error(y_pred=prediction, y_true=y_temp)}', end = '\\t')\n",
    "    print(f' MAE: {mean_absolute_error(y_pred=prediction, y_true=y_temp)}')      "
   ]
  },
  {
   "cell_type": "code",
   "execution_count": null,
   "id": "83595e1a",
   "metadata": {},
   "outputs": [],
   "source": []
  },
  {
   "cell_type": "code",
   "execution_count": null,
   "id": "21f35e9c",
   "metadata": {},
   "outputs": [],
   "source": []
  }
 ],
 "metadata": {
  "kernelspec": {
   "display_name": "Python 3 (ipykernel)",
   "language": "python",
   "name": "python3"
  },
  "language_info": {
   "codemirror_mode": {
    "name": "ipython",
    "version": 3
   },
   "file_extension": ".py",
   "mimetype": "text/x-python",
   "name": "python",
   "nbconvert_exporter": "python",
   "pygments_lexer": "ipython3",
   "version": "3.10.6"
  }
 },
 "nbformat": 4,
 "nbformat_minor": 5
}
