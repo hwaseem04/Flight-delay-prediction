{
 "cells": [
  {
   "cell_type": "code",
   "execution_count": 1,
   "id": "1cdbea8f",
   "metadata": {},
   "outputs": [],
   "source": [
    "import pandas as pd\n",
    "import numpy as np\n",
    "import os\n",
    "import warnings"
   ]
  },
  {
   "cell_type": "markdown",
   "id": "4ba9fc96",
   "metadata": {},
   "source": [
    "# 1. Preprocessing"
   ]
  },
  {
   "cell_type": "code",
   "execution_count": 2,
   "id": "a8eef23b",
   "metadata": {},
   "outputs": [],
   "source": [
    "warnings.filterwarnings(\"ignore\")"
   ]
  },
  {
   "cell_type": "code",
   "execution_count": 3,
   "id": "d4e81ae4",
   "metadata": {},
   "outputs": [],
   "source": [
    "flight_dir_2016 = r'2016'\n",
    "flight_dir_2017 = r'2017'"
   ]
  },
  {
   "cell_type": "code",
   "execution_count": 4,
   "id": "8d3f146a",
   "metadata": {},
   "outputs": [],
   "source": [
    "weather_dir = r\"/Weather\""
   ]
  },
  {
   "cell_type": "code",
   "execution_count": 5,
   "id": "db19963a",
   "metadata": {},
   "outputs": [],
   "source": [
    "airport_code = [\"ATL\", \"CLT\", \"DEN\", \"DFW\", \"EWR\", \"IAH\", \"JFK\", \"LAS\" ,\"LAX\", \"MCO\",\n",
    "               \"MIA\", \"ORD\", \"PHX\", \"SEA\", \"SFO\"]"
   ]
  },
  {
   "cell_type": "code",
   "execution_count": 6,
   "id": "e4adee63",
   "metadata": {},
   "outputs": [],
   "source": [
    "# weather_cols = ['windspeedKmph', 'windirDegree', 'weatherCode', 'percipMM', 'visibilty', 'pressure', 'cloudcover', 'DewPointF', 'WindGustKmph',\n",
    "#                 'tempF', 'WindChillF', 'humidity', 'date',  'time', 'airport']\n"
   ]
  },
  {
   "cell_type": "code",
   "execution_count": 7,
   "id": "882ad059",
   "metadata": {},
   "outputs": [],
   "source": [
    "flight_cols = [\"FlightDate\", \"Quarter\", \"Year\", \"Month\", \"DayofMonth\", \"DepTime\",\n",
    "              \"DepDel15\", \"CRSDepTime\", \"DepDelayMinutes\", \"OriginAirportID\", \"DestAirportID\",\n",
    "              \"ArrTime\", \"CRSArrTime\", \"ArrDel15\", \"ArrDelayMinutes\"]"
   ]
  },
  {
   "cell_type": "markdown",
   "id": "da2bbb9c",
   "metadata": {},
   "source": [
    "## Flight data"
   ]
  },
  {
   "cell_type": "code",
   "execution_count": 8,
   "id": "e651da4a",
   "metadata": {},
   "outputs": [],
   "source": [
    "Folders_2016 = os.listdir(flight_dir_2016)\n",
    "Folders_2016.sort()\n",
    "if '.DS_Store' in Folders_2016:\n",
    "    Folders_2016.remove('.DS_Store')\n",
    "Folders_2017 = os.listdir(flight_dir_2017)\n",
    "Folders_2017.sort()\n",
    "if '.DS_Store' in Folders_2017:\n",
    "    Folders_2017.remove('.DS_Store')"
   ]
  },
  {
   "cell_type": "code",
   "execution_count": 9,
   "id": "107e067b",
   "metadata": {},
   "outputs": [
    {
     "name": "stdout",
     "output_type": "stream",
     "text": [
      "['On_Time_On_Time_Performance_2016_1', 'On_Time_On_Time_Performance_2016_10', 'On_Time_On_Time_Performance_2016_11', 'On_Time_On_Time_Performance_2016_12', 'On_Time_On_Time_Performance_2016_2', 'On_Time_On_Time_Performance_2016_3', 'On_Time_On_Time_Performance_2016_4', 'On_Time_On_Time_Performance_2016_5', 'On_Time_On_Time_Performance_2016_6', 'On_Time_On_Time_Performance_2016_7', 'On_Time_On_Time_Performance_2016_8', 'On_Time_On_Time_Performance_2016_9']\n",
      "\n",
      "['On_Time_On_Time_Performance_2017_1', 'On_Time_On_Time_Performance_2017_10', 'On_Time_On_Time_Performance_2017_11', 'On_Time_On_Time_Performance_2017_12', 'On_Time_On_Time_Performance_2017_2', 'On_Time_On_Time_Performance_2017_3', 'On_Time_On_Time_Performance_2017_4', 'On_Time_On_Time_Performance_2017_5', 'On_Time_On_Time_Performance_2017_6', 'On_Time_On_Time_Performance_2017_7', 'On_Time_On_Time_Performance_2017_8', 'On_Time_On_Time_Performance_2017_9']\n"
     ]
    }
   ],
   "source": [
    "print(Folders_2016)\n",
    "print()\n",
    "print(Folders_2017)"
   ]
  },
  {
   "cell_type": "code",
   "execution_count": 10,
   "id": "379389f0",
   "metadata": {},
   "outputs": [],
   "source": [
    "def extract_files(mainDir, Folder):\n",
    "    files = []\n",
    "    for i in Folder:\n",
    "        k = os.listdir(os.path.join(mainDir, i))\n",
    "        k.sort()\n",
    "        files.append(k[0])\n",
    "    files.sort()\n",
    "    return files"
   ]
  },
  {
   "cell_type": "code",
   "execution_count": 11,
   "id": "071a8ebe",
   "metadata": {},
   "outputs": [],
   "source": [
    "files_2016 = extract_files(flight_dir_2016, Folders_2016)\n",
    "# files_2016"
   ]
  },
  {
   "cell_type": "code",
   "execution_count": 12,
   "id": "aaa415c6",
   "metadata": {},
   "outputs": [],
   "source": [
    "files_2017 = extract_files(flight_dir_2017, Folders_2017)\n",
    "# files_2017"
   ]
  },
  {
   "cell_type": "markdown",
   "id": "53d35c0b",
   "metadata": {},
   "source": [
    "Target Rows: 1877296, 15"
   ]
  },
  {
   "cell_type": "code",
   "execution_count": 13,
   "id": "64284006",
   "metadata": {},
   "outputs": [
    {
     "data": {
      "text/plain": [
       "['2016/On_Time_On_Time_Performance_2016_1/On_Time_On_Time_Performance_2016_1.csv',\n",
       " '2016/On_Time_On_Time_Performance_2016_10/On_Time_On_Time_Performance_2016_10.csv',\n",
       " '2016/On_Time_On_Time_Performance_2016_11/On_Time_On_Time_Performance_2016_11.csv',\n",
       " '2016/On_Time_On_Time_Performance_2016_12/On_Time_On_Time_Performance_2016_12.csv',\n",
       " '2016/On_Time_On_Time_Performance_2016_2/On_Time_On_Time_Performance_2016_2.csv',\n",
       " '2016/On_Time_On_Time_Performance_2016_3/On_Time_On_Time_Performance_2016_3.csv',\n",
       " '2016/On_Time_On_Time_Performance_2016_4/On_Time_On_Time_Performance_2016_4.csv',\n",
       " '2016/On_Time_On_Time_Performance_2016_5/On_Time_On_Time_Performance_2016_5.csv',\n",
       " '2016/On_Time_On_Time_Performance_2016_6/On_Time_On_Time_Performance_2016_6.csv',\n",
       " '2016/On_Time_On_Time_Performance_2016_7/On_Time_On_Time_Performance_2016_7.csv',\n",
       " '2016/On_Time_On_Time_Performance_2016_8/On_Time_On_Time_Performance_2016_8.csv',\n",
       " '2016/On_Time_On_Time_Performance_2016_9/On_Time_On_Time_Performance_2016_9.csv',\n",
       " '2017/On_Time_On_Time_Performance_2017_1/On_Time_On_Time_Performance_2017_1.csv',\n",
       " '2017/On_Time_On_Time_Performance_2017_10/On_Time_On_Time_Performance_2017_10.csv',\n",
       " '2017/On_Time_On_Time_Performance_2017_11/On_Time_On_Time_Performance_2017_11.csv',\n",
       " '2017/On_Time_On_Time_Performance_2017_12/On_Time_On_Time_Performance_2017_12.csv',\n",
       " '2017/On_Time_On_Time_Performance_2017_2/On_Time_On_Time_Performance_2017_2.csv',\n",
       " '2017/On_Time_On_Time_Performance_2017_3/On_Time_On_Time_Performance_2017_3.csv',\n",
       " '2017/On_Time_On_Time_Performance_2017_4/On_Time_On_Time_Performance_2017_4.csv',\n",
       " '2017/On_Time_On_Time_Performance_2017_5/On_Time_On_Time_Performance_2017_5.csv',\n",
       " '2017/On_Time_On_Time_Performance_2017_6/On_Time_On_Time_Performance_2017_6.csv',\n",
       " '2017/On_Time_On_Time_Performance_2017_7/On_Time_On_Time_Performance_2017_7.csv',\n",
       " '2017/On_Time_On_Time_Performance_2017_8/On_Time_On_Time_Performance_2017_8.csv',\n",
       " '2017/On_Time_On_Time_Performance_2017_9/On_Time_On_Time_Performance_2017_9.csv']"
      ]
     },
     "execution_count": 13,
     "metadata": {},
     "output_type": "execute_result"
    }
   ],
   "source": [
    "all_files = []\n",
    "for i, folder in enumerate(Folders_2016):\n",
    "    all_files.append(os.path.join(flight_dir_2016, folder, files_2016[i]))\n",
    "for i, folder in enumerate(Folders_2017):\n",
    "    all_files.append(os.path.join(flight_dir_2017, folder, files_2017[i])) \n",
    "all_files"
   ]
  },
  {
   "cell_type": "code",
   "execution_count": 14,
   "id": "0078ef09",
   "metadata": {},
   "outputs": [],
   "source": [
    "def retrieve_data(files):\n",
    "    global Main_df\n",
    "    count = 0\n",
    "    for file in files:\n",
    "        data = pd.read_csv(file)\n",
    "        \n",
    "#         print( data.shape, end=\" \")\n",
    "        count += data.shape[0]\n",
    "        data = data[flight_cols+['Origin', 'Dest']]\n",
    "#         if (data['Origin'].isin(airport_code) & data['Dest'].isin(['ATL'])).any():\n",
    "#             print('True')\n",
    "#         print(data.shape, end=\" \")\n",
    "        data = data[(data['Origin'].isin(airport_code)) & (data['Dest'].isin(airport_code))]\n",
    "        #print(data.shape, \" \")\n",
    "        Main_df = pd.concat([Main_df, data])\n",
    "        #print(Main_df.shape)\n",
    "    print(count)"
   ]
  },
  {
   "cell_type": "code",
   "execution_count": 15,
   "id": "4d1dc058",
   "metadata": {},
   "outputs": [
    {
     "name": "stdout",
     "output_type": "stream",
     "text": [
      "11292279\n"
     ]
    }
   ],
   "source": [
    "Main_df = pd.DataFrame()\n",
    "retrieve_data(all_files)"
   ]
  },
  {
   "cell_type": "code",
   "execution_count": 16,
   "id": "670f995e",
   "metadata": {},
   "outputs": [
    {
     "data": {
      "text/plain": [
       "(1877296, 17)"
      ]
     },
     "execution_count": 16,
     "metadata": {},
     "output_type": "execute_result"
    }
   ],
   "source": [
    "Main_df.shape"
   ]
  },
  {
   "cell_type": "code",
   "execution_count": 17,
   "id": "d63f289b",
   "metadata": {},
   "outputs": [
    {
     "name": "stdout",
     "output_type": "stream",
     "text": [
      "<class 'pandas.core.frame.DataFrame'>\n",
      "Int64Index: 1877296 entries, 57 to 458711\n",
      "Data columns (total 17 columns):\n",
      " #   Column           Dtype  \n",
      "---  ------           -----  \n",
      " 0   FlightDate       object \n",
      " 1   Quarter          int64  \n",
      " 2   Year             int64  \n",
      " 3   Month            int64  \n",
      " 4   DayofMonth       int64  \n",
      " 5   DepTime          float64\n",
      " 6   DepDel15         float64\n",
      " 7   CRSDepTime       int64  \n",
      " 8   DepDelayMinutes  float64\n",
      " 9   OriginAirportID  int64  \n",
      " 10  DestAirportID    int64  \n",
      " 11  ArrTime          float64\n",
      " 12  CRSArrTime       int64  \n",
      " 13  ArrDel15         float64\n",
      " 14  ArrDelayMinutes  float64\n",
      " 15  Origin           object \n",
      " 16  Dest             object \n",
      "dtypes: float64(6), int64(8), object(3)\n",
      "memory usage: 257.8+ MB\n"
     ]
    }
   ],
   "source": [
    "Main_df.info()"
   ]
  },
  {
   "cell_type": "code",
   "execution_count": 18,
   "id": "67ff514a",
   "metadata": {},
   "outputs": [
    {
     "data": {
      "text/plain": [
       "(1851436, 17)"
      ]
     },
     "execution_count": 18,
     "metadata": {},
     "output_type": "execute_result"
    }
   ],
   "source": [
    "Df = Main_df.dropna() ## Drop all null values\n",
    "Df['FlightDate'] = pd.to_datetime(Df['FlightDate']) # Convert object to pandas date type\n",
    "Df.shape"
   ]
  },
  {
   "cell_type": "code",
   "execution_count": 19,
   "id": "d39e11f8",
   "metadata": {},
   "outputs": [
    {
     "data": {
      "text/plain": [
       "0"
      ]
     },
     "execution_count": 19,
     "metadata": {},
     "output_type": "execute_result"
    }
   ],
   "source": [
    "(23+1) % 24"
   ]
  },
  {
   "cell_type": "code",
   "execution_count": 20,
   "id": "8f18b101",
   "metadata": {},
   "outputs": [],
   "source": [
    "def process_for_flight(x):\n",
    "    date = x['FlightDate']\n",
    "    time = x['DepTime']\n",
    "#     print(type(date))\n",
    "    time = str(int(time))\n",
    "    time = time.zfill(4)\n",
    "    hr, mns = time[:2], time[2:]\n",
    "    flag = 0\n",
    "    \n",
    "    if int(mns) > 30 or hr=='24':  # I could see certain departure time is given as 24:00\n",
    "        flag = 1\n",
    "        hr = (int(hr) + 1) % 24\n",
    "\n",
    "    if flag == 1 and hr == 0:\n",
    "        one_day = pd.Timedelta(days=1)\n",
    "        date += one_day\n",
    "    \n",
    "    return date, str(hr).zfill(2)"
   ]
  },
  {
   "cell_type": "code",
   "execution_count": 21,
   "id": "93a16fd5",
   "metadata": {},
   "outputs": [],
   "source": [
    "k = Df[['FlightDate','DepTime']].apply(process_for_flight, axis=1)\n",
    "date = k.apply(lambda x: x[0])\n",
    "hour = k.apply(lambda x: x[1])"
   ]
  },
  {
   "cell_type": "code",
   "execution_count": 22,
   "id": "a696fbea",
   "metadata": {},
   "outputs": [],
   "source": [
    "Df['RoundedFlightDate'] = date\n",
    "Df['DepatHr'] = hour"
   ]
  },
  {
   "cell_type": "code",
   "execution_count": 23,
   "id": "c0fc0469",
   "metadata": {},
   "outputs": [],
   "source": [
    "Df['Delayed'] = np.where(Df['DepDelayMinutes'] > 0, 1, 0)"
   ]
  },
  {
   "cell_type": "markdown",
   "id": "50a30c43",
   "metadata": {},
   "source": [
    "Skewed data, Data imbalance"
   ]
  },
  {
   "cell_type": "code",
   "execution_count": 24,
   "id": "52ed69ee",
   "metadata": {},
   "outputs": [
    {
     "data": {
      "text/plain": [
       "0.0    1463378\n",
       "1.0     388058\n",
       "Name: ArrDel15, dtype: int64"
      ]
     },
     "execution_count": 24,
     "metadata": {},
     "output_type": "execute_result"
    }
   ],
   "source": [
    "Df['ArrDel15'].value_counts()"
   ]
  },
  {
   "cell_type": "code",
   "execution_count": 25,
   "id": "728e2ac2",
   "metadata": {},
   "outputs": [
    {
     "data": {
      "text/plain": [
       "(1851436,)"
      ]
     },
     "execution_count": 25,
     "metadata": {},
     "output_type": "execute_result"
    }
   ],
   "source": [
    "Df['ArrDel15'].shape"
   ]
  },
  {
   "cell_type": "code",
   "execution_count": 26,
   "id": "2375534c",
   "metadata": {},
   "outputs": [],
   "source": [
    "Df = Df[['FlightDate', 'Quarter', 'Year', 'Month', 'DayofMonth', 'DepTime',\n",
    "       'DepDel15', 'CRSDepTime', 'DepDelayMinutes', 'OriginAirportID',\n",
    "       'DestAirportID', 'ArrTime', 'CRSArrTime', 'ArrDelayMinutes',\n",
    "       'Origin', 'Dest', 'RoundedFlightDate', 'DepatHr','ArrDel15', 'Delayed']]"
   ]
  },
  {
   "cell_type": "code",
   "execution_count": 27,
   "id": "5ec89ccf",
   "metadata": {},
   "outputs": [
    {
     "data": {
      "text/html": [
       "<div>\n",
       "<style scoped>\n",
       "    .dataframe tbody tr th:only-of-type {\n",
       "        vertical-align: middle;\n",
       "    }\n",
       "\n",
       "    .dataframe tbody tr th {\n",
       "        vertical-align: top;\n",
       "    }\n",
       "\n",
       "    .dataframe thead th {\n",
       "        text-align: right;\n",
       "    }\n",
       "</style>\n",
       "<table border=\"1\" class=\"dataframe\">\n",
       "  <thead>\n",
       "    <tr style=\"text-align: right;\">\n",
       "      <th></th>\n",
       "      <th>FlightDate</th>\n",
       "      <th>Quarter</th>\n",
       "      <th>Year</th>\n",
       "      <th>Month</th>\n",
       "      <th>DayofMonth</th>\n",
       "      <th>DepTime</th>\n",
       "      <th>DepDel15</th>\n",
       "      <th>CRSDepTime</th>\n",
       "      <th>DepDelayMinutes</th>\n",
       "      <th>OriginAirportID</th>\n",
       "      <th>DestAirportID</th>\n",
       "      <th>ArrTime</th>\n",
       "      <th>CRSArrTime</th>\n",
       "      <th>ArrDelayMinutes</th>\n",
       "      <th>Origin</th>\n",
       "      <th>Dest</th>\n",
       "      <th>RoundedFlightDate</th>\n",
       "      <th>DepatHr</th>\n",
       "      <th>ArrDel15</th>\n",
       "      <th>Delayed</th>\n",
       "    </tr>\n",
       "  </thead>\n",
       "  <tbody>\n",
       "    <tr>\n",
       "      <th>57</th>\n",
       "      <td>2016-01-01</td>\n",
       "      <td>1</td>\n",
       "      <td>2016</td>\n",
       "      <td>1</td>\n",
       "      <td>1</td>\n",
       "      <td>741.0</td>\n",
       "      <td>0.0</td>\n",
       "      <td>745</td>\n",
       "      <td>0.0</td>\n",
       "      <td>14747</td>\n",
       "      <td>12478</td>\n",
       "      <td>1610.0</td>\n",
       "      <td>1602</td>\n",
       "      <td>8.0</td>\n",
       "      <td>SEA</td>\n",
       "      <td>JFK</td>\n",
       "      <td>2016-01-01</td>\n",
       "      <td>08</td>\n",
       "      <td>0.0</td>\n",
       "      <td>0</td>\n",
       "    </tr>\n",
       "    <tr>\n",
       "      <th>58</th>\n",
       "      <td>2016-01-02</td>\n",
       "      <td>1</td>\n",
       "      <td>2016</td>\n",
       "      <td>1</td>\n",
       "      <td>2</td>\n",
       "      <td>737.0</td>\n",
       "      <td>0.0</td>\n",
       "      <td>745</td>\n",
       "      <td>0.0</td>\n",
       "      <td>14747</td>\n",
       "      <td>12478</td>\n",
       "      <td>1613.0</td>\n",
       "      <td>1602</td>\n",
       "      <td>11.0</td>\n",
       "      <td>SEA</td>\n",
       "      <td>JFK</td>\n",
       "      <td>2016-01-02</td>\n",
       "      <td>08</td>\n",
       "      <td>0.0</td>\n",
       "      <td>0</td>\n",
       "    </tr>\n",
       "    <tr>\n",
       "      <th>59</th>\n",
       "      <td>2016-01-03</td>\n",
       "      <td>1</td>\n",
       "      <td>2016</td>\n",
       "      <td>1</td>\n",
       "      <td>3</td>\n",
       "      <td>743.0</td>\n",
       "      <td>0.0</td>\n",
       "      <td>745</td>\n",
       "      <td>0.0</td>\n",
       "      <td>14747</td>\n",
       "      <td>12478</td>\n",
       "      <td>1547.0</td>\n",
       "      <td>1602</td>\n",
       "      <td>0.0</td>\n",
       "      <td>SEA</td>\n",
       "      <td>JFK</td>\n",
       "      <td>2016-01-03</td>\n",
       "      <td>08</td>\n",
       "      <td>0.0</td>\n",
       "      <td>0</td>\n",
       "    </tr>\n",
       "    <tr>\n",
       "      <th>60</th>\n",
       "      <td>2016-01-04</td>\n",
       "      <td>1</td>\n",
       "      <td>2016</td>\n",
       "      <td>1</td>\n",
       "      <td>4</td>\n",
       "      <td>737.0</td>\n",
       "      <td>0.0</td>\n",
       "      <td>745</td>\n",
       "      <td>0.0</td>\n",
       "      <td>14747</td>\n",
       "      <td>12478</td>\n",
       "      <td>1551.0</td>\n",
       "      <td>1602</td>\n",
       "      <td>0.0</td>\n",
       "      <td>SEA</td>\n",
       "      <td>JFK</td>\n",
       "      <td>2016-01-04</td>\n",
       "      <td>08</td>\n",
       "      <td>0.0</td>\n",
       "      <td>0</td>\n",
       "    </tr>\n",
       "    <tr>\n",
       "      <th>61</th>\n",
       "      <td>2016-01-05</td>\n",
       "      <td>1</td>\n",
       "      <td>2016</td>\n",
       "      <td>1</td>\n",
       "      <td>5</td>\n",
       "      <td>708.0</td>\n",
       "      <td>0.0</td>\n",
       "      <td>710</td>\n",
       "      <td>0.0</td>\n",
       "      <td>14747</td>\n",
       "      <td>12478</td>\n",
       "      <td>1524.0</td>\n",
       "      <td>1527</td>\n",
       "      <td>0.0</td>\n",
       "      <td>SEA</td>\n",
       "      <td>JFK</td>\n",
       "      <td>2016-01-05</td>\n",
       "      <td>07</td>\n",
       "      <td>0.0</td>\n",
       "      <td>0</td>\n",
       "    </tr>\n",
       "  </tbody>\n",
       "</table>\n",
       "</div>"
      ],
      "text/plain": [
       "   FlightDate  Quarter  Year  Month  DayofMonth  DepTime  DepDel15  \\\n",
       "57 2016-01-01        1  2016      1           1    741.0       0.0   \n",
       "58 2016-01-02        1  2016      1           2    737.0       0.0   \n",
       "59 2016-01-03        1  2016      1           3    743.0       0.0   \n",
       "60 2016-01-04        1  2016      1           4    737.0       0.0   \n",
       "61 2016-01-05        1  2016      1           5    708.0       0.0   \n",
       "\n",
       "    CRSDepTime  DepDelayMinutes  OriginAirportID  DestAirportID  ArrTime  \\\n",
       "57         745              0.0            14747          12478   1610.0   \n",
       "58         745              0.0            14747          12478   1613.0   \n",
       "59         745              0.0            14747          12478   1547.0   \n",
       "60         745              0.0            14747          12478   1551.0   \n",
       "61         710              0.0            14747          12478   1524.0   \n",
       "\n",
       "    CRSArrTime  ArrDelayMinutes Origin Dest RoundedFlightDate DepatHr  \\\n",
       "57        1602              8.0    SEA  JFK        2016-01-01      08   \n",
       "58        1602             11.0    SEA  JFK        2016-01-02      08   \n",
       "59        1602              0.0    SEA  JFK        2016-01-03      08   \n",
       "60        1602              0.0    SEA  JFK        2016-01-04      08   \n",
       "61        1527              0.0    SEA  JFK        2016-01-05      07   \n",
       "\n",
       "    ArrDel15  Delayed  \n",
       "57       0.0        0  \n",
       "58       0.0        0  \n",
       "59       0.0        0  \n",
       "60       0.0        0  \n",
       "61       0.0        0  "
      ]
     },
     "execution_count": 27,
     "metadata": {},
     "output_type": "execute_result"
    }
   ],
   "source": [
    "Df.head()"
   ]
  },
  {
   "cell_type": "code",
   "execution_count": 28,
   "id": "377373e8",
   "metadata": {},
   "outputs": [
    {
     "name": "stdout",
     "output_type": "stream",
     "text": [
      "Number of flights delayed: 723757, not delayed: 1127679\n"
     ]
    }
   ],
   "source": [
    "print(f\"Number of flights delayed: {Df['Delayed'].value_counts()[1]}, not delayed: {Df['Delayed'].value_counts()[0]}\")"
   ]
  },
  {
   "cell_type": "markdown",
   "id": "6e4541da",
   "metadata": {},
   "source": [
    "## Weather data"
   ]
  },
  {
   "cell_type": "code",
   "execution_count": 29,
   "id": "97079e78",
   "metadata": {},
   "outputs": [],
   "source": [
    "import json\n",
    "from pandas import json_normalize\n",
    "import re"
   ]
  },
  {
   "cell_type": "code",
   "execution_count": 30,
   "id": "49e219e3",
   "metadata": {},
   "outputs": [],
   "source": [
    "def weather_files(directory):\n",
    "    reqd_files = []\n",
    "    Folders = os.listdir(directory)\n",
    "    if '.DS_Store' in Folders:\n",
    "        Folders.remove('.DS_Store')\n",
    "    s = r'201(6|7)-\\d{1,2}.json'\n",
    "    for folder in Folders:\n",
    "        all_files = os.listdir(os.path.join(directory, folder))\n",
    "        for file in all_files:\n",
    "            if re.search(s, file):\n",
    "                reqd_files.append(os.path.join(directory, folder,file))\n",
    "    reqd_files.sort()\n",
    "    return reqd_files"
   ]
  },
  {
   "cell_type": "code",
   "execution_count": 31,
   "id": "9d8d5fb0",
   "metadata": {},
   "outputs": [],
   "source": [
    "all_weather_files = weather_files('Weather')\n",
    "# all_weather_files"
   ]
  },
  {
   "cell_type": "code",
   "execution_count": 32,
   "id": "a3f9939f",
   "metadata": {},
   "outputs": [
    {
     "data": {
      "text/plain": [
       "(360, 360)"
      ]
     },
     "execution_count": 32,
     "metadata": {},
     "output_type": "execute_result"
    }
   ],
   "source": [
    "len(all_weather_files), 15 * 24"
   ]
  },
  {
   "cell_type": "code",
   "execution_count": 33,
   "id": "94445c52",
   "metadata": {},
   "outputs": [],
   "source": [
    "def  merge_all_airports(all_weather_files):\n",
    "    global Df2\n",
    "    keys = ['windspeedKmph','winddirDegree', 'weatherCode', 'precipMM',\n",
    "            'visibility', 'pressure', 'cloudcover', 'DewPointF', 'WindGustKmph',\n",
    "            'tempF', 'WindChillF', 'humidity', 'time']\n",
    "    for file in all_weather_files:\n",
    "        airport = file.split('/')[1]\n",
    "        #print(airport)\n",
    "        f = open(file)\n",
    "        D = json.load(f)\n",
    "        data = json_normalize(D['data']['weather'])[['hourly', 'date']]\n",
    "        data['date'] = pd.to_datetime(data['date'])\n",
    "        data['airport'] = airport\n",
    "        data = data.explode('hourly').reset_index(drop=True)\n",
    "        data[keys] = pd.json_normalize(data['hourly'])[keys]\n",
    "        data.drop(columns=['hourly'], inplace=True)\n",
    "        Df2 = pd.concat([Df2, data])"
   ]
  },
  {
   "cell_type": "code",
   "execution_count": 34,
   "id": "92a683c0",
   "metadata": {},
   "outputs": [],
   "source": [
    "Df2 = pd.DataFrame()\n",
    "merge_all_airports(all_weather_files)"
   ]
  },
  {
   "cell_type": "code",
   "execution_count": 35,
   "id": "ca3cbd1b",
   "metadata": {},
   "outputs": [
    {
     "name": "stdout",
     "output_type": "stream",
     "text": [
      "<class 'pandas.core.frame.DataFrame'>\n",
      "Int64Index: 263160 entries, 0 to 719\n",
      "Data columns (total 15 columns):\n",
      " #   Column         Non-Null Count   Dtype         \n",
      "---  ------         --------------   -----         \n",
      " 0   date           263160 non-null  datetime64[ns]\n",
      " 1   airport        263160 non-null  object        \n",
      " 2   windspeedKmph  263160 non-null  object        \n",
      " 3   winddirDegree  263160 non-null  object        \n",
      " 4   weatherCode    263160 non-null  object        \n",
      " 5   precipMM       263160 non-null  object        \n",
      " 6   visibility     263160 non-null  object        \n",
      " 7   pressure       263160 non-null  object        \n",
      " 8   cloudcover     263160 non-null  object        \n",
      " 9   DewPointF      263160 non-null  object        \n",
      " 10  WindGustKmph   263160 non-null  object        \n",
      " 11  tempF          263160 non-null  object        \n",
      " 12  WindChillF     263160 non-null  object        \n",
      " 13  humidity       263160 non-null  object        \n",
      " 14  time           263160 non-null  object        \n",
      "dtypes: datetime64[ns](1), object(14)\n",
      "memory usage: 32.1+ MB\n"
     ]
    }
   ],
   "source": [
    "Df2.info()"
   ]
  },
  {
   "cell_type": "markdown",
   "id": "f291fe82",
   "metadata": {},
   "source": [
    "#### To do\n",
    "- Merge with flight data based on flight departure time and weather time on a particular date\n"
   ]
  },
  {
   "cell_type": "markdown",
   "id": "625420ff",
   "metadata": {},
   "source": [
    "## Merging Flight data with weather"
   ]
  },
  {
   "cell_type": "markdown",
   "id": "07a7b046",
   "metadata": {},
   "source": [
    "* (np.unique(Df['FlightDate']) == my_range).all() --> Seems like all date is present."
   ]
  },
  {
   "cell_type": "code",
   "execution_count": 36,
   "id": "9f7a73af",
   "metadata": {},
   "outputs": [],
   "source": [
    "Df.drop_duplicates(inplace=True)"
   ]
  },
  {
   "cell_type": "code",
   "execution_count": 37,
   "id": "8083626e",
   "metadata": {},
   "outputs": [],
   "source": [
    "Df_sort = Df.sort_values(['FlightDate', 'DepatHr'])\n",
    "# Df_sort = Df_sort.set_index('FlightDate')"
   ]
  },
  {
   "cell_type": "code",
   "execution_count": 38,
   "id": "c6d33a26",
   "metadata": {},
   "outputs": [
    {
     "data": {
      "text/html": [
       "<div>\n",
       "<style scoped>\n",
       "    .dataframe tbody tr th:only-of-type {\n",
       "        vertical-align: middle;\n",
       "    }\n",
       "\n",
       "    .dataframe tbody tr th {\n",
       "        vertical-align: top;\n",
       "    }\n",
       "\n",
       "    .dataframe thead th {\n",
       "        text-align: right;\n",
       "    }\n",
       "</style>\n",
       "<table border=\"1\" class=\"dataframe\">\n",
       "  <thead>\n",
       "    <tr style=\"text-align: right;\">\n",
       "      <th></th>\n",
       "      <th>FlightDate</th>\n",
       "      <th>Quarter</th>\n",
       "      <th>Year</th>\n",
       "      <th>Month</th>\n",
       "      <th>DayofMonth</th>\n",
       "      <th>DepTime</th>\n",
       "      <th>DepDel15</th>\n",
       "      <th>CRSDepTime</th>\n",
       "      <th>DepDelayMinutes</th>\n",
       "      <th>OriginAirportID</th>\n",
       "      <th>DestAirportID</th>\n",
       "      <th>ArrTime</th>\n",
       "      <th>CRSArrTime</th>\n",
       "      <th>ArrDelayMinutes</th>\n",
       "      <th>Origin</th>\n",
       "      <th>Dest</th>\n",
       "      <th>RoundedFlightDate</th>\n",
       "      <th>DepatHr</th>\n",
       "      <th>ArrDel15</th>\n",
       "      <th>Delayed</th>\n",
       "    </tr>\n",
       "  </thead>\n",
       "  <tbody>\n",
       "    <tr>\n",
       "      <th>1435</th>\n",
       "      <td>2016-01-01</td>\n",
       "      <td>1</td>\n",
       "      <td>2016</td>\n",
       "      <td>1</td>\n",
       "      <td>1</td>\n",
       "      <td>6.0</td>\n",
       "      <td>1.0</td>\n",
       "      <td>2347</td>\n",
       "      <td>19.0</td>\n",
       "      <td>12889</td>\n",
       "      <td>13303</td>\n",
       "      <td>721.0</td>\n",
       "      <td>714</td>\n",
       "      <td>7.0</td>\n",
       "      <td>LAS</td>\n",
       "      <td>MIA</td>\n",
       "      <td>2016-01-01</td>\n",
       "      <td>00</td>\n",
       "      <td>0.0</td>\n",
       "      <td>1</td>\n",
       "    </tr>\n",
       "    <tr>\n",
       "      <th>1497</th>\n",
       "      <td>2016-01-01</td>\n",
       "      <td>1</td>\n",
       "      <td>2016</td>\n",
       "      <td>1</td>\n",
       "      <td>1</td>\n",
       "      <td>6.0</td>\n",
       "      <td>0.0</td>\n",
       "      <td>2359</td>\n",
       "      <td>7.0</td>\n",
       "      <td>12892</td>\n",
       "      <td>13930</td>\n",
       "      <td>559.0</td>\n",
       "      <td>603</td>\n",
       "      <td>0.0</td>\n",
       "      <td>LAX</td>\n",
       "      <td>ORD</td>\n",
       "      <td>2016-01-01</td>\n",
       "      <td>00</td>\n",
       "      <td>0.0</td>\n",
       "      <td>1</td>\n",
       "    </tr>\n",
       "    <tr>\n",
       "      <th>4839</th>\n",
       "      <td>2016-01-01</td>\n",
       "      <td>1</td>\n",
       "      <td>2016</td>\n",
       "      <td>1</td>\n",
       "      <td>1</td>\n",
       "      <td>25.0</td>\n",
       "      <td>0.0</td>\n",
       "      <td>30</td>\n",
       "      <td>0.0</td>\n",
       "      <td>12892</td>\n",
       "      <td>13303</td>\n",
       "      <td>810.0</td>\n",
       "      <td>823</td>\n",
       "      <td>0.0</td>\n",
       "      <td>LAX</td>\n",
       "      <td>MIA</td>\n",
       "      <td>2016-01-01</td>\n",
       "      <td>00</td>\n",
       "      <td>0.0</td>\n",
       "      <td>0</td>\n",
       "    </tr>\n",
       "    <tr>\n",
       "      <th>8434</th>\n",
       "      <td>2016-01-01</td>\n",
       "      <td>1</td>\n",
       "      <td>2016</td>\n",
       "      <td>1</td>\n",
       "      <td>1</td>\n",
       "      <td>2335.0</td>\n",
       "      <td>0.0</td>\n",
       "      <td>2335</td>\n",
       "      <td>0.0</td>\n",
       "      <td>12889</td>\n",
       "      <td>12478</td>\n",
       "      <td>710.0</td>\n",
       "      <td>730</td>\n",
       "      <td>0.0</td>\n",
       "      <td>LAS</td>\n",
       "      <td>JFK</td>\n",
       "      <td>2016-01-02</td>\n",
       "      <td>00</td>\n",
       "      <td>0.0</td>\n",
       "      <td>0</td>\n",
       "    </tr>\n",
       "    <tr>\n",
       "      <th>9989</th>\n",
       "      <td>2016-01-01</td>\n",
       "      <td>1</td>\n",
       "      <td>2016</td>\n",
       "      <td>1</td>\n",
       "      <td>1</td>\n",
       "      <td>29.0</td>\n",
       "      <td>0.0</td>\n",
       "      <td>30</td>\n",
       "      <td>0.0</td>\n",
       "      <td>14771</td>\n",
       "      <td>13303</td>\n",
       "      <td>832.0</td>\n",
       "      <td>850</td>\n",
       "      <td>0.0</td>\n",
       "      <td>SFO</td>\n",
       "      <td>MIA</td>\n",
       "      <td>2016-01-01</td>\n",
       "      <td>00</td>\n",
       "      <td>0.0</td>\n",
       "      <td>0</td>\n",
       "    </tr>\n",
       "  </tbody>\n",
       "</table>\n",
       "</div>"
      ],
      "text/plain": [
       "     FlightDate  Quarter  Year  Month  DayofMonth  DepTime  DepDel15  \\\n",
       "1435 2016-01-01        1  2016      1           1      6.0       1.0   \n",
       "1497 2016-01-01        1  2016      1           1      6.0       0.0   \n",
       "4839 2016-01-01        1  2016      1           1     25.0       0.0   \n",
       "8434 2016-01-01        1  2016      1           1   2335.0       0.0   \n",
       "9989 2016-01-01        1  2016      1           1     29.0       0.0   \n",
       "\n",
       "      CRSDepTime  DepDelayMinutes  OriginAirportID  DestAirportID  ArrTime  \\\n",
       "1435        2347             19.0            12889          13303    721.0   \n",
       "1497        2359              7.0            12892          13930    559.0   \n",
       "4839          30              0.0            12892          13303    810.0   \n",
       "8434        2335              0.0            12889          12478    710.0   \n",
       "9989          30              0.0            14771          13303    832.0   \n",
       "\n",
       "      CRSArrTime  ArrDelayMinutes Origin Dest RoundedFlightDate DepatHr  \\\n",
       "1435         714              7.0    LAS  MIA        2016-01-01      00   \n",
       "1497         603              0.0    LAX  ORD        2016-01-01      00   \n",
       "4839         823              0.0    LAX  MIA        2016-01-01      00   \n",
       "8434         730              0.0    LAS  JFK        2016-01-02      00   \n",
       "9989         850              0.0    SFO  MIA        2016-01-01      00   \n",
       "\n",
       "      ArrDel15  Delayed  \n",
       "1435       0.0        1  \n",
       "1497       0.0        1  \n",
       "4839       0.0        0  \n",
       "8434       0.0        0  \n",
       "9989       0.0        0  "
      ]
     },
     "execution_count": 38,
     "metadata": {},
     "output_type": "execute_result"
    }
   ],
   "source": [
    "## Flight Data\n",
    "Df_sort.head()"
   ]
  },
  {
   "cell_type": "code",
   "execution_count": 39,
   "id": "f7fea5b4",
   "metadata": {},
   "outputs": [],
   "source": [
    "def process_for_weather(x):\n",
    "    x = str(int(x))\n",
    "    #print(x)\n",
    "    x = x.zfill(4)\n",
    "    hr = x[:2]\n",
    "    return  hr"
   ]
  },
  {
   "cell_type": "code",
   "execution_count": 40,
   "id": "d897bbc1",
   "metadata": {},
   "outputs": [],
   "source": [
    "Df2['timeInHr'] = Df2['time'].apply(process_for_weather) "
   ]
  },
  {
   "cell_type": "code",
   "execution_count": 41,
   "id": "ffa4c12d",
   "metadata": {},
   "outputs": [
    {
     "data": {
      "text/html": [
       "<div>\n",
       "<style scoped>\n",
       "    .dataframe tbody tr th:only-of-type {\n",
       "        vertical-align: middle;\n",
       "    }\n",
       "\n",
       "    .dataframe tbody tr th {\n",
       "        vertical-align: top;\n",
       "    }\n",
       "\n",
       "    .dataframe thead th {\n",
       "        text-align: right;\n",
       "    }\n",
       "</style>\n",
       "<table border=\"1\" class=\"dataframe\">\n",
       "  <thead>\n",
       "    <tr style=\"text-align: right;\">\n",
       "      <th></th>\n",
       "      <th>date</th>\n",
       "      <th>airport</th>\n",
       "      <th>windspeedKmph</th>\n",
       "      <th>winddirDegree</th>\n",
       "      <th>weatherCode</th>\n",
       "      <th>precipMM</th>\n",
       "      <th>visibility</th>\n",
       "      <th>pressure</th>\n",
       "      <th>cloudcover</th>\n",
       "      <th>DewPointF</th>\n",
       "      <th>WindGustKmph</th>\n",
       "      <th>tempF</th>\n",
       "      <th>WindChillF</th>\n",
       "      <th>humidity</th>\n",
       "      <th>time</th>\n",
       "      <th>timeInHr</th>\n",
       "    </tr>\n",
       "  </thead>\n",
       "  <tbody>\n",
       "    <tr>\n",
       "      <th>0</th>\n",
       "      <td>2016-01-01</td>\n",
       "      <td>ATL</td>\n",
       "      <td>11</td>\n",
       "      <td>318</td>\n",
       "      <td>176</td>\n",
       "      <td>0.1</td>\n",
       "      <td>10</td>\n",
       "      <td>1023</td>\n",
       "      <td>100</td>\n",
       "      <td>47</td>\n",
       "      <td>17</td>\n",
       "      <td>49</td>\n",
       "      <td>46</td>\n",
       "      <td>91</td>\n",
       "      <td>0</td>\n",
       "      <td>00</td>\n",
       "    </tr>\n",
       "    <tr>\n",
       "      <th>1</th>\n",
       "      <td>2016-01-01</td>\n",
       "      <td>ATL</td>\n",
       "      <td>13</td>\n",
       "      <td>317</td>\n",
       "      <td>176</td>\n",
       "      <td>0.0</td>\n",
       "      <td>10</td>\n",
       "      <td>1023</td>\n",
       "      <td>100</td>\n",
       "      <td>44</td>\n",
       "      <td>22</td>\n",
       "      <td>46</td>\n",
       "      <td>42</td>\n",
       "      <td>92</td>\n",
       "      <td>100</td>\n",
       "      <td>01</td>\n",
       "    </tr>\n",
       "    <tr>\n",
       "      <th>2</th>\n",
       "      <td>2016-01-01</td>\n",
       "      <td>ATL</td>\n",
       "      <td>14</td>\n",
       "      <td>315</td>\n",
       "      <td>122</td>\n",
       "      <td>0.0</td>\n",
       "      <td>10</td>\n",
       "      <td>1023</td>\n",
       "      <td>100</td>\n",
       "      <td>41</td>\n",
       "      <td>26</td>\n",
       "      <td>43</td>\n",
       "      <td>38</td>\n",
       "      <td>92</td>\n",
       "      <td>200</td>\n",
       "      <td>02</td>\n",
       "    </tr>\n",
       "    <tr>\n",
       "      <th>3</th>\n",
       "      <td>2016-01-01</td>\n",
       "      <td>ATL</td>\n",
       "      <td>16</td>\n",
       "      <td>314</td>\n",
       "      <td>122</td>\n",
       "      <td>0.0</td>\n",
       "      <td>10</td>\n",
       "      <td>1023</td>\n",
       "      <td>100</td>\n",
       "      <td>38</td>\n",
       "      <td>30</td>\n",
       "      <td>40</td>\n",
       "      <td>33</td>\n",
       "      <td>93</td>\n",
       "      <td>300</td>\n",
       "      <td>03</td>\n",
       "    </tr>\n",
       "    <tr>\n",
       "      <th>4</th>\n",
       "      <td>2016-01-01</td>\n",
       "      <td>ATL</td>\n",
       "      <td>17</td>\n",
       "      <td>314</td>\n",
       "      <td>122</td>\n",
       "      <td>0.0</td>\n",
       "      <td>10</td>\n",
       "      <td>1023</td>\n",
       "      <td>100</td>\n",
       "      <td>38</td>\n",
       "      <td>30</td>\n",
       "      <td>40</td>\n",
       "      <td>33</td>\n",
       "      <td>93</td>\n",
       "      <td>400</td>\n",
       "      <td>04</td>\n",
       "    </tr>\n",
       "  </tbody>\n",
       "</table>\n",
       "</div>"
      ],
      "text/plain": [
       "        date airport windspeedKmph winddirDegree weatherCode precipMM  \\\n",
       "0 2016-01-01     ATL            11           318         176      0.1   \n",
       "1 2016-01-01     ATL            13           317         176      0.0   \n",
       "2 2016-01-01     ATL            14           315         122      0.0   \n",
       "3 2016-01-01     ATL            16           314         122      0.0   \n",
       "4 2016-01-01     ATL            17           314         122      0.0   \n",
       "\n",
       "  visibility pressure cloudcover DewPointF WindGustKmph tempF WindChillF  \\\n",
       "0         10     1023        100        47           17    49         46   \n",
       "1         10     1023        100        44           22    46         42   \n",
       "2         10     1023        100        41           26    43         38   \n",
       "3         10     1023        100        38           30    40         33   \n",
       "4         10     1023        100        38           30    40         33   \n",
       "\n",
       "  humidity time timeInHr  \n",
       "0       91    0       00  \n",
       "1       92  100       01  \n",
       "2       92  200       02  \n",
       "3       93  300       03  \n",
       "4       93  400       04  "
      ]
     },
     "execution_count": 41,
     "metadata": {},
     "output_type": "execute_result"
    }
   ],
   "source": [
    "## Weather Data\n",
    "Df2.head()"
   ]
  },
  {
   "cell_type": "markdown",
   "id": "ad9a5ab9",
   "metadata": {},
   "source": [
    "#### Merging based on \n",
    "- Flight date and Departure hour from Df\n",
    "- data and timeInHr from Df2"
   ]
  },
  {
   "cell_type": "code",
   "execution_count": null,
   "id": "4e311b96",
   "metadata": {},
   "outputs": [],
   "source": []
  },
  {
   "cell_type": "code",
   "execution_count": 42,
   "id": "cf91c3cc",
   "metadata": {},
   "outputs": [
    {
     "data": {
      "text/plain": [
       "((1851433, 20), (263160, 16))"
      ]
     },
     "execution_count": 42,
     "metadata": {},
     "output_type": "execute_result"
    }
   ],
   "source": [
    "Df_sort.shape, Df2.shape"
   ]
  },
  {
   "cell_type": "markdown",
   "id": "0481314f",
   "metadata": {},
   "source": [
    "#### Note:\n",
    "* When using left join, there will be NaN values(Because of non-availability of Weather data) - Rows: 1556649\n",
    "    - Two issues:\n",
    "        1. Certain entries have departure time as  **(24 + 1)%24 = 1**, which is wrong. We should have 00:00 next day date\n",
    "            - Solution: Should manually deal with if,else condition\n",
    "            - Around **291 rows**\n",
    "        2. Entries that have 31/12/2017 and time more than 11:30  is **rounded to 01/01/2018** for which no weather data is present.\n",
    "            - Solution: Either I have to retrieve weather data of January month or should Discard it.\n",
    "            - **Only 8 rows** are present\n",
    "* When using inner join, there will be no NaN values(Because only intersection is taken) - Rows: 1556350"
   ]
  },
  {
   "cell_type": "code",
   "execution_count": 43,
   "id": "8ca37c39",
   "metadata": {},
   "outputs": [
    {
     "data": {
      "text/plain": [
       "(1851433, 36)"
      ]
     },
     "execution_count": 43,
     "metadata": {},
     "output_type": "execute_result"
    }
   ],
   "source": [
    "Df3_left = pd.merge(Df_sort, Df2, left_on=['RoundedFlightDate', 'DepatHr', 'Origin'], right_on=['date', 'timeInHr', 'airport'], how='left' )\n",
    "Df3_left.shape"
   ]
  },
  {
   "cell_type": "code",
   "execution_count": 44,
   "id": "d79388ad",
   "metadata": {},
   "outputs": [
    {
     "data": {
      "text/plain": [
       "(1851422, 36)"
      ]
     },
     "execution_count": 44,
     "metadata": {},
     "output_type": "execute_result"
    }
   ],
   "source": [
    "Df3 = pd.merge(Df_sort, Df2, left_on=['RoundedFlightDate', 'DepatHr', 'Origin'], right_on=['date', 'timeInHr', 'airport'], how='inner' )\n",
    "Df3.shape"
   ]
  },
  {
   "cell_type": "code",
   "execution_count": 45,
   "id": "1cc2ff65",
   "metadata": {},
   "outputs": [
    {
     "name": "stdout",
     "output_type": "stream",
     "text": [
      "<class 'pandas.core.frame.DataFrame'>\n",
      "Int64Index: 1851422 entries, 0 to 1851421\n",
      "Data columns (total 36 columns):\n",
      " #   Column             Dtype         \n",
      "---  ------             -----         \n",
      " 0   FlightDate         datetime64[ns]\n",
      " 1   Quarter            int64         \n",
      " 2   Year               int64         \n",
      " 3   Month              int64         \n",
      " 4   DayofMonth         int64         \n",
      " 5   DepTime            float64       \n",
      " 6   DepDel15           float64       \n",
      " 7   CRSDepTime         int64         \n",
      " 8   DepDelayMinutes    float64       \n",
      " 9   OriginAirportID    int64         \n",
      " 10  DestAirportID      int64         \n",
      " 11  ArrTime            float64       \n",
      " 12  CRSArrTime         int64         \n",
      " 13  ArrDelayMinutes    float64       \n",
      " 14  Origin             object        \n",
      " 15  Dest               object        \n",
      " 16  RoundedFlightDate  datetime64[ns]\n",
      " 17  DepatHr            object        \n",
      " 18  ArrDel15           float64       \n",
      " 19  Delayed            int64         \n",
      " 20  date               datetime64[ns]\n",
      " 21  airport            object        \n",
      " 22  windspeedKmph      object        \n",
      " 23  winddirDegree      object        \n",
      " 24  weatherCode        object        \n",
      " 25  precipMM           object        \n",
      " 26  visibility         object        \n",
      " 27  pressure           object        \n",
      " 28  cloudcover         object        \n",
      " 29  DewPointF          object        \n",
      " 30  WindGustKmph       object        \n",
      " 31  tempF              object        \n",
      " 32  WindChillF         object        \n",
      " 33  humidity           object        \n",
      " 34  time               object        \n",
      " 35  timeInHr           object        \n",
      "dtypes: datetime64[ns](3), float64(6), int64(9), object(18)\n",
      "memory usage: 522.6+ MB\n"
     ]
    }
   ],
   "source": [
    "Df3.info()"
   ]
  },
  {
   "cell_type": "code",
   "execution_count": 46,
   "id": "e76fd03a",
   "metadata": {},
   "outputs": [
    {
     "data": {
      "text/html": [
       "<div>\n",
       "<style scoped>\n",
       "    .dataframe tbody tr th:only-of-type {\n",
       "        vertical-align: middle;\n",
       "    }\n",
       "\n",
       "    .dataframe tbody tr th {\n",
       "        vertical-align: top;\n",
       "    }\n",
       "\n",
       "    .dataframe thead th {\n",
       "        text-align: right;\n",
       "    }\n",
       "</style>\n",
       "<table border=\"1\" class=\"dataframe\">\n",
       "  <thead>\n",
       "    <tr style=\"text-align: right;\">\n",
       "      <th></th>\n",
       "      <th>FlightDate</th>\n",
       "      <th>Quarter</th>\n",
       "      <th>Year</th>\n",
       "      <th>Month</th>\n",
       "      <th>DayofMonth</th>\n",
       "      <th>DepTime</th>\n",
       "      <th>DepDel15</th>\n",
       "      <th>CRSDepTime</th>\n",
       "      <th>DepDelayMinutes</th>\n",
       "      <th>OriginAirportID</th>\n",
       "      <th>...</th>\n",
       "      <th>visibility</th>\n",
       "      <th>pressure</th>\n",
       "      <th>cloudcover</th>\n",
       "      <th>DewPointF</th>\n",
       "      <th>WindGustKmph</th>\n",
       "      <th>tempF</th>\n",
       "      <th>WindChillF</th>\n",
       "      <th>humidity</th>\n",
       "      <th>time</th>\n",
       "      <th>timeInHr</th>\n",
       "    </tr>\n",
       "  </thead>\n",
       "  <tbody>\n",
       "    <tr>\n",
       "      <th>1851417</th>\n",
       "      <td>2017-12-31</td>\n",
       "      <td>4</td>\n",
       "      <td>2017</td>\n",
       "      <td>12</td>\n",
       "      <td>31</td>\n",
       "      <td>2317.0</td>\n",
       "      <td>1.0</td>\n",
       "      <td>2155</td>\n",
       "      <td>82.0</td>\n",
       "      <td>12478</td>\n",
       "      <td>...</td>\n",
       "      <td>10</td>\n",
       "      <td>1027</td>\n",
       "      <td>0</td>\n",
       "      <td>0</td>\n",
       "      <td>32</td>\n",
       "      <td>10</td>\n",
       "      <td>-7</td>\n",
       "      <td>64</td>\n",
       "      <td>2300</td>\n",
       "      <td>23</td>\n",
       "    </tr>\n",
       "    <tr>\n",
       "      <th>1851418</th>\n",
       "      <td>2017-12-31</td>\n",
       "      <td>4</td>\n",
       "      <td>2017</td>\n",
       "      <td>12</td>\n",
       "      <td>31</td>\n",
       "      <td>2247.0</td>\n",
       "      <td>0.0</td>\n",
       "      <td>2255</td>\n",
       "      <td>0.0</td>\n",
       "      <td>12478</td>\n",
       "      <td>...</td>\n",
       "      <td>10</td>\n",
       "      <td>1027</td>\n",
       "      <td>0</td>\n",
       "      <td>0</td>\n",
       "      <td>32</td>\n",
       "      <td>10</td>\n",
       "      <td>-7</td>\n",
       "      <td>64</td>\n",
       "      <td>2300</td>\n",
       "      <td>23</td>\n",
       "    </tr>\n",
       "    <tr>\n",
       "      <th>1851419</th>\n",
       "      <td>2017-12-31</td>\n",
       "      <td>4</td>\n",
       "      <td>2017</td>\n",
       "      <td>12</td>\n",
       "      <td>31</td>\n",
       "      <td>2327.0</td>\n",
       "      <td>1.0</td>\n",
       "      <td>2212</td>\n",
       "      <td>75.0</td>\n",
       "      <td>11292</td>\n",
       "      <td>...</td>\n",
       "      <td>10</td>\n",
       "      <td>1038</td>\n",
       "      <td>7</td>\n",
       "      <td>2</td>\n",
       "      <td>13</td>\n",
       "      <td>5</td>\n",
       "      <td>-5</td>\n",
       "      <td>83</td>\n",
       "      <td>2300</td>\n",
       "      <td>23</td>\n",
       "    </tr>\n",
       "    <tr>\n",
       "      <th>1851420</th>\n",
       "      <td>2017-12-31</td>\n",
       "      <td>4</td>\n",
       "      <td>2017</td>\n",
       "      <td>12</td>\n",
       "      <td>31</td>\n",
       "      <td>2232.0</td>\n",
       "      <td>1.0</td>\n",
       "      <td>2215</td>\n",
       "      <td>17.0</td>\n",
       "      <td>11292</td>\n",
       "      <td>...</td>\n",
       "      <td>10</td>\n",
       "      <td>1038</td>\n",
       "      <td>7</td>\n",
       "      <td>2</td>\n",
       "      <td>13</td>\n",
       "      <td>5</td>\n",
       "      <td>-5</td>\n",
       "      <td>83</td>\n",
       "      <td>2300</td>\n",
       "      <td>23</td>\n",
       "    </tr>\n",
       "    <tr>\n",
       "      <th>1851421</th>\n",
       "      <td>2017-12-31</td>\n",
       "      <td>4</td>\n",
       "      <td>2017</td>\n",
       "      <td>12</td>\n",
       "      <td>31</td>\n",
       "      <td>2250.0</td>\n",
       "      <td>0.0</td>\n",
       "      <td>2251</td>\n",
       "      <td>0.0</td>\n",
       "      <td>11292</td>\n",
       "      <td>...</td>\n",
       "      <td>10</td>\n",
       "      <td>1038</td>\n",
       "      <td>7</td>\n",
       "      <td>2</td>\n",
       "      <td>13</td>\n",
       "      <td>5</td>\n",
       "      <td>-5</td>\n",
       "      <td>83</td>\n",
       "      <td>2300</td>\n",
       "      <td>23</td>\n",
       "    </tr>\n",
       "  </tbody>\n",
       "</table>\n",
       "<p>5 rows × 36 columns</p>\n",
       "</div>"
      ],
      "text/plain": [
       "        FlightDate  Quarter  Year  Month  DayofMonth  DepTime  DepDel15  \\\n",
       "1851417 2017-12-31        4  2017     12          31   2317.0       1.0   \n",
       "1851418 2017-12-31        4  2017     12          31   2247.0       0.0   \n",
       "1851419 2017-12-31        4  2017     12          31   2327.0       1.0   \n",
       "1851420 2017-12-31        4  2017     12          31   2232.0       1.0   \n",
       "1851421 2017-12-31        4  2017     12          31   2250.0       0.0   \n",
       "\n",
       "         CRSDepTime  DepDelayMinutes  OriginAirportID  ...  visibility  \\\n",
       "1851417        2155             82.0            12478  ...          10   \n",
       "1851418        2255              0.0            12478  ...          10   \n",
       "1851419        2212             75.0            11292  ...          10   \n",
       "1851420        2215             17.0            11292  ...          10   \n",
       "1851421        2251              0.0            11292  ...          10   \n",
       "\n",
       "         pressure  cloudcover  DewPointF WindGustKmph tempF WindChillF  \\\n",
       "1851417      1027           0          0           32    10         -7   \n",
       "1851418      1027           0          0           32    10         -7   \n",
       "1851419      1038           7          2           13     5         -5   \n",
       "1851420      1038           7          2           13     5         -5   \n",
       "1851421      1038           7          2           13     5         -5   \n",
       "\n",
       "        humidity  time  timeInHr  \n",
       "1851417       64  2300        23  \n",
       "1851418       64  2300        23  \n",
       "1851419       83  2300        23  \n",
       "1851420       83  2300        23  \n",
       "1851421       83  2300        23  \n",
       "\n",
       "[5 rows x 36 columns]"
      ]
     },
     "execution_count": 46,
     "metadata": {},
     "output_type": "execute_result"
    }
   ],
   "source": [
    "Df3.tail()"
   ]
  },
  {
   "cell_type": "code",
   "execution_count": 47,
   "id": "4f430827",
   "metadata": {},
   "outputs": [
    {
     "data": {
      "text/plain": [
       "11"
      ]
     },
     "execution_count": 47,
     "metadata": {},
     "output_type": "execute_result"
    }
   ],
   "source": [
    "len(Df3_left[Df3_left.isna().any(axis=1)])"
   ]
  },
  {
   "cell_type": "code",
   "execution_count": 48,
   "id": "a394aefe",
   "metadata": {},
   "outputs": [],
   "source": [
    "Df3.to_csv(\"cleaned_data.csv\", index=False)"
   ]
  }
 ],
 "metadata": {
  "kernelspec": {
   "display_name": "Python 3 (ipykernel)",
   "language": "python",
   "name": "python3"
  },
  "language_info": {
   "codemirror_mode": {
    "name": "ipython",
    "version": 3
   },
   "file_extension": ".py",
   "mimetype": "text/x-python",
   "name": "python",
   "nbconvert_exporter": "python",
   "pygments_lexer": "ipython3",
   "version": "3.10.8 (main, Oct 21 2022, 22:22:30) [Clang 14.0.0 (clang-1400.0.29.202)]"
  },
  "vscode": {
   "interpreter": {
    "hash": "b0fa6594d8f4cbf19f97940f81e996739fb7646882a419484c72d19e05852a7e"
   }
  }
 },
 "nbformat": 4,
 "nbformat_minor": 5
}
