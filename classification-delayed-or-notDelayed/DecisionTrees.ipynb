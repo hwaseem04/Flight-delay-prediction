{
 "cells": [
  {
   "cell_type": "code",
   "execution_count": 18,
   "id": "61b55cf5",
   "metadata": {},
   "outputs": [],
   "source": [
    "import pandas as pd\n",
    "import numpy as np\n",
    "\n",
    "from sklearn.tree import DecisionTreeClassifier\n",
    "from sklearn.model_selection import train_test_split\n",
    "from sklearn.pipeline import Pipeline\n",
    "from sklearn.preprocessing import OneHotEncoder, StandardScaler\n",
    "from sklearn.compose import ColumnTransformer\n",
    "from sklearn.metrics import accuracy_score, f1_score, classification_report\n",
    "\n",
    "import warnings\n",
    "warnings.filterwarnings(\"ignore\")"
   ]
  },
  {
   "cell_type": "code",
   "execution_count": 2,
   "id": "dd6e17e6",
   "metadata": {},
   "outputs": [],
   "source": [
    "data = pd.read_csv('../cleaned_data.csv')"
   ]
  },
  {
   "cell_type": "code",
   "execution_count": 3,
   "id": "847e182e",
   "metadata": {},
   "outputs": [
    {
     "name": "stdout",
     "output_type": "stream",
     "text": [
      "<class 'pandas.core.frame.DataFrame'>\n",
      "RangeIndex: 1851422 entries, 0 to 1851421\n",
      "Data columns (total 36 columns):\n",
      " #   Column             Dtype  \n",
      "---  ------             -----  \n",
      " 0   FlightDate         object \n",
      " 1   Quarter            int64  \n",
      " 2   Year               int64  \n",
      " 3   Month              int64  \n",
      " 4   DayofMonth         int64  \n",
      " 5   DepTime            float64\n",
      " 6   DepDel15           float64\n",
      " 7   CRSDepTime         int64  \n",
      " 8   DepDelayMinutes    float64\n",
      " 9   OriginAirportID    int64  \n",
      " 10  DestAirportID      int64  \n",
      " 11  ArrTime            float64\n",
      " 12  CRSArrTime         int64  \n",
      " 13  ArrDelayMinutes    float64\n",
      " 14  Origin             object \n",
      " 15  Dest               object \n",
      " 16  RoundedFlightDate  object \n",
      " 17  DepatHr            int64  \n",
      " 18  ArrDel15           float64\n",
      " 19  Delayed            int64  \n",
      " 20  date               object \n",
      " 21  airport            object \n",
      " 22  windspeedKmph      int64  \n",
      " 23  winddirDegree      int64  \n",
      " 24  weatherCode        int64  \n",
      " 25  precipMM           float64\n",
      " 26  visibility         int64  \n",
      " 27  pressure           int64  \n",
      " 28  cloudcover         int64  \n",
      " 29  DewPointF          int64  \n",
      " 30  WindGustKmph       int64  \n",
      " 31  tempF              int64  \n",
      " 32  WindChillF         int64  \n",
      " 33  humidity           int64  \n",
      " 34  time               int64  \n",
      " 35  timeInHr           int64  \n",
      "dtypes: float64(7), int64(23), object(6)\n",
      "memory usage: 508.5+ MB\n"
     ]
    }
   ],
   "source": [
    "data.info()"
   ]
  },
  {
   "cell_type": "code",
   "execution_count": 4,
   "id": "74f6cccc",
   "metadata": {},
   "outputs": [],
   "source": [
    "data = pd.concat([data, pd.get_dummies(data['Origin'],prefix='Origin')], axis=1)\n",
    "data = pd.concat([data, pd.get_dummies(data['Dest'],prefix='Destination')], axis=1)"
   ]
  },
  {
   "cell_type": "code",
   "execution_count": 5,
   "id": "5ce94d25",
   "metadata": {},
   "outputs": [],
   "source": [
    "Df = data[[ 'Quarter', 'Month', 'DayofMonth',\n",
    "       'CRSDepTime', 'CRSArrTime', \n",
    "       'windspeedKmph', 'winddirDegree', 'weatherCode', 'precipMM',\n",
    "       'visibility', 'pressure', 'cloudcover', 'DewPointF', 'WindGustKmph',\n",
    "       'tempF', 'WindChillF', 'humidity',  'Origin_ATL',\n",
    "       'Origin_CLT', 'Origin_DEN', 'Origin_DFW', 'Origin_EWR', 'Origin_IAH',\n",
    "       'Origin_JFK', 'Origin_LAS', 'Origin_LAX', 'Origin_MCO', 'Origin_MIA',\n",
    "       'Origin_ORD', 'Origin_PHX', 'Origin_SEA', 'Origin_SFO',\n",
    "       'Destination_ATL', 'Destination_CLT', 'Destination_DEN',\n",
    "       'Destination_DFW', 'Destination_EWR', 'Destination_IAH',\n",
    "       'Destination_JFK', 'Destination_LAS', 'Destination_LAX',\n",
    "       'Destination_MCO', 'Destination_MIA', 'Destination_ORD',\n",
    "       'Destination_PHX', 'Destination_SEA', 'Destination_SFO',  'DepDel15']]\n"
   ]
  },
  {
   "cell_type": "code",
   "execution_count": 6,
   "id": "65272d5d",
   "metadata": {},
   "outputs": [
    {
     "data": {
      "text/html": [
       "<div>\n",
       "<style scoped>\n",
       "    .dataframe tbody tr th:only-of-type {\n",
       "        vertical-align: middle;\n",
       "    }\n",
       "\n",
       "    .dataframe tbody tr th {\n",
       "        vertical-align: top;\n",
       "    }\n",
       "\n",
       "    .dataframe thead th {\n",
       "        text-align: right;\n",
       "    }\n",
       "</style>\n",
       "<table border=\"1\" class=\"dataframe\">\n",
       "  <thead>\n",
       "    <tr style=\"text-align: right;\">\n",
       "      <th></th>\n",
       "      <th>Quarter</th>\n",
       "      <th>Month</th>\n",
       "      <th>DayofMonth</th>\n",
       "      <th>CRSDepTime</th>\n",
       "      <th>CRSArrTime</th>\n",
       "      <th>windspeedKmph</th>\n",
       "      <th>winddirDegree</th>\n",
       "      <th>weatherCode</th>\n",
       "      <th>precipMM</th>\n",
       "      <th>visibility</th>\n",
       "      <th>...</th>\n",
       "      <th>Destination_JFK</th>\n",
       "      <th>Destination_LAS</th>\n",
       "      <th>Destination_LAX</th>\n",
       "      <th>Destination_MCO</th>\n",
       "      <th>Destination_MIA</th>\n",
       "      <th>Destination_ORD</th>\n",
       "      <th>Destination_PHX</th>\n",
       "      <th>Destination_SEA</th>\n",
       "      <th>Destination_SFO</th>\n",
       "      <th>DepDel15</th>\n",
       "    </tr>\n",
       "  </thead>\n",
       "  <tbody>\n",
       "    <tr>\n",
       "      <th>0</th>\n",
       "      <td>1</td>\n",
       "      <td>1</td>\n",
       "      <td>1</td>\n",
       "      <td>2347</td>\n",
       "      <td>714</td>\n",
       "      <td>15</td>\n",
       "      <td>123</td>\n",
       "      <td>113</td>\n",
       "      <td>0.0</td>\n",
       "      <td>10</td>\n",
       "      <td>...</td>\n",
       "      <td>0</td>\n",
       "      <td>0</td>\n",
       "      <td>0</td>\n",
       "      <td>0</td>\n",
       "      <td>1</td>\n",
       "      <td>0</td>\n",
       "      <td>0</td>\n",
       "      <td>0</td>\n",
       "      <td>0</td>\n",
       "      <td>1.0</td>\n",
       "    </tr>\n",
       "    <tr>\n",
       "      <th>1</th>\n",
       "      <td>1</td>\n",
       "      <td>1</td>\n",
       "      <td>1</td>\n",
       "      <td>20</td>\n",
       "      <td>705</td>\n",
       "      <td>15</td>\n",
       "      <td>123</td>\n",
       "      <td>113</td>\n",
       "      <td>0.0</td>\n",
       "      <td>10</td>\n",
       "      <td>...</td>\n",
       "      <td>0</td>\n",
       "      <td>0</td>\n",
       "      <td>0</td>\n",
       "      <td>0</td>\n",
       "      <td>0</td>\n",
       "      <td>0</td>\n",
       "      <td>0</td>\n",
       "      <td>0</td>\n",
       "      <td>0</td>\n",
       "      <td>0.0</td>\n",
       "    </tr>\n",
       "    <tr>\n",
       "      <th>2</th>\n",
       "      <td>1</td>\n",
       "      <td>1</td>\n",
       "      <td>1</td>\n",
       "      <td>2359</td>\n",
       "      <td>603</td>\n",
       "      <td>15</td>\n",
       "      <td>38</td>\n",
       "      <td>113</td>\n",
       "      <td>0.0</td>\n",
       "      <td>10</td>\n",
       "      <td>...</td>\n",
       "      <td>0</td>\n",
       "      <td>0</td>\n",
       "      <td>0</td>\n",
       "      <td>0</td>\n",
       "      <td>0</td>\n",
       "      <td>1</td>\n",
       "      <td>0</td>\n",
       "      <td>0</td>\n",
       "      <td>0</td>\n",
       "      <td>0.0</td>\n",
       "    </tr>\n",
       "    <tr>\n",
       "      <th>3</th>\n",
       "      <td>1</td>\n",
       "      <td>1</td>\n",
       "      <td>1</td>\n",
       "      <td>30</td>\n",
       "      <td>823</td>\n",
       "      <td>15</td>\n",
       "      <td>38</td>\n",
       "      <td>113</td>\n",
       "      <td>0.0</td>\n",
       "      <td>10</td>\n",
       "      <td>...</td>\n",
       "      <td>0</td>\n",
       "      <td>0</td>\n",
       "      <td>0</td>\n",
       "      <td>0</td>\n",
       "      <td>1</td>\n",
       "      <td>0</td>\n",
       "      <td>0</td>\n",
       "      <td>0</td>\n",
       "      <td>0</td>\n",
       "      <td>0.0</td>\n",
       "    </tr>\n",
       "    <tr>\n",
       "      <th>4</th>\n",
       "      <td>1</td>\n",
       "      <td>1</td>\n",
       "      <td>1</td>\n",
       "      <td>10</td>\n",
       "      <td>501</td>\n",
       "      <td>15</td>\n",
       "      <td>38</td>\n",
       "      <td>113</td>\n",
       "      <td>0.0</td>\n",
       "      <td>10</td>\n",
       "      <td>...</td>\n",
       "      <td>0</td>\n",
       "      <td>0</td>\n",
       "      <td>0</td>\n",
       "      <td>0</td>\n",
       "      <td>0</td>\n",
       "      <td>0</td>\n",
       "      <td>0</td>\n",
       "      <td>0</td>\n",
       "      <td>0</td>\n",
       "      <td>0.0</td>\n",
       "    </tr>\n",
       "  </tbody>\n",
       "</table>\n",
       "<p>5 rows × 48 columns</p>\n",
       "</div>"
      ],
      "text/plain": [
       "   Quarter  Month  DayofMonth  CRSDepTime  CRSArrTime  windspeedKmph  \\\n",
       "0        1      1           1        2347         714             15   \n",
       "1        1      1           1          20         705             15   \n",
       "2        1      1           1        2359         603             15   \n",
       "3        1      1           1          30         823             15   \n",
       "4        1      1           1          10         501             15   \n",
       "\n",
       "   winddirDegree  weatherCode  precipMM  visibility  ...  Destination_JFK  \\\n",
       "0            123          113       0.0          10  ...                0   \n",
       "1            123          113       0.0          10  ...                0   \n",
       "2             38          113       0.0          10  ...                0   \n",
       "3             38          113       0.0          10  ...                0   \n",
       "4             38          113       0.0          10  ...                0   \n",
       "\n",
       "   Destination_LAS  Destination_LAX  Destination_MCO  Destination_MIA  \\\n",
       "0                0                0                0                1   \n",
       "1                0                0                0                0   \n",
       "2                0                0                0                0   \n",
       "3                0                0                0                1   \n",
       "4                0                0                0                0   \n",
       "\n",
       "   Destination_ORD  Destination_PHX  Destination_SEA  Destination_SFO  \\\n",
       "0                0                0                0                0   \n",
       "1                0                0                0                0   \n",
       "2                1                0                0                0   \n",
       "3                0                0                0                0   \n",
       "4                0                0                0                0   \n",
       "\n",
       "   DepDel15  \n",
       "0       1.0  \n",
       "1       0.0  \n",
       "2       0.0  \n",
       "3       0.0  \n",
       "4       0.0  \n",
       "\n",
       "[5 rows x 48 columns]"
      ]
     },
     "execution_count": 6,
     "metadata": {},
     "output_type": "execute_result"
    }
   ],
   "source": [
    "Df.head()"
   ]
  },
  {
   "cell_type": "code",
   "execution_count": 14,
   "id": "30e48790",
   "metadata": {},
   "outputs": [],
   "source": [
    "X_train, X_test, y_train, y_test = train_test_split(Df.iloc[:, :-1], Df.iloc[:, -1], train_size=0.75, random_state=0)"
   ]
  },
  {
   "cell_type": "code",
   "execution_count": 15,
   "id": "c2ac10f2",
   "metadata": {},
   "outputs": [
    {
     "data": {
      "text/plain": [
       "((1388566, 47), (1388566,))"
      ]
     },
     "execution_count": 15,
     "metadata": {},
     "output_type": "execute_result"
    }
   ],
   "source": [
    "X_train.shape, y_train.shape"
   ]
  },
  {
   "cell_type": "code",
   "execution_count": 16,
   "id": "065a7a3d",
   "metadata": {},
   "outputs": [
    {
     "data": {
      "text/plain": [
       "0.0    1109362\n",
       "1.0     279204\n",
       "Name: DepDel15, dtype: int64"
      ]
     },
     "execution_count": 16,
     "metadata": {},
     "output_type": "execute_result"
    }
   ],
   "source": [
    "y_train.value_counts()"
   ]
  },
  {
   "cell_type": "code",
   "execution_count": 17,
   "id": "00728b02",
   "metadata": {},
   "outputs": [
    {
     "data": {
      "text/plain": [
       "3.97330267474678"
      ]
     },
     "execution_count": 17,
     "metadata": {},
     "output_type": "execute_result"
    }
   ],
   "source": [
    "ratio = 1109362/279204\n",
    "ratio"
   ]
  },
  {
   "cell_type": "markdown",
   "id": "845aaa87",
   "metadata": {},
   "source": [
    "4:1 ratio"
   ]
  },
  {
   "cell_type": "code",
   "execution_count": 39,
   "id": "baefbc90",
   "metadata": {},
   "outputs": [],
   "source": [
    "weights = {0:1.0, 1:4.0}\n",
    "cls = DecisionTreeClassifier(random_state=1, class_weight=weights)"
   ]
  },
  {
   "cell_type": "code",
   "execution_count": 40,
   "id": "ecc1ce78",
   "metadata": {},
   "outputs": [
    {
     "data": {
      "text/html": [
       "<style>#sk-container-id-4 {color: black;background-color: white;}#sk-container-id-4 pre{padding: 0;}#sk-container-id-4 div.sk-toggleable {background-color: white;}#sk-container-id-4 label.sk-toggleable__label {cursor: pointer;display: block;width: 100%;margin-bottom: 0;padding: 0.3em;box-sizing: border-box;text-align: center;}#sk-container-id-4 label.sk-toggleable__label-arrow:before {content: \"▸\";float: left;margin-right: 0.25em;color: #696969;}#sk-container-id-4 label.sk-toggleable__label-arrow:hover:before {color: black;}#sk-container-id-4 div.sk-estimator:hover label.sk-toggleable__label-arrow:before {color: black;}#sk-container-id-4 div.sk-toggleable__content {max-height: 0;max-width: 0;overflow: hidden;text-align: left;background-color: #f0f8ff;}#sk-container-id-4 div.sk-toggleable__content pre {margin: 0.2em;color: black;border-radius: 0.25em;background-color: #f0f8ff;}#sk-container-id-4 input.sk-toggleable__control:checked~div.sk-toggleable__content {max-height: 200px;max-width: 100%;overflow: auto;}#sk-container-id-4 input.sk-toggleable__control:checked~label.sk-toggleable__label-arrow:before {content: \"▾\";}#sk-container-id-4 div.sk-estimator input.sk-toggleable__control:checked~label.sk-toggleable__label {background-color: #d4ebff;}#sk-container-id-4 div.sk-label input.sk-toggleable__control:checked~label.sk-toggleable__label {background-color: #d4ebff;}#sk-container-id-4 input.sk-hidden--visually {border: 0;clip: rect(1px 1px 1px 1px);clip: rect(1px, 1px, 1px, 1px);height: 1px;margin: -1px;overflow: hidden;padding: 0;position: absolute;width: 1px;}#sk-container-id-4 div.sk-estimator {font-family: monospace;background-color: #f0f8ff;border: 1px dotted black;border-radius: 0.25em;box-sizing: border-box;margin-bottom: 0.5em;}#sk-container-id-4 div.sk-estimator:hover {background-color: #d4ebff;}#sk-container-id-4 div.sk-parallel-item::after {content: \"\";width: 100%;border-bottom: 1px solid gray;flex-grow: 1;}#sk-container-id-4 div.sk-label:hover label.sk-toggleable__label {background-color: #d4ebff;}#sk-container-id-4 div.sk-serial::before {content: \"\";position: absolute;border-left: 1px solid gray;box-sizing: border-box;top: 0;bottom: 0;left: 50%;z-index: 0;}#sk-container-id-4 div.sk-serial {display: flex;flex-direction: column;align-items: center;background-color: white;padding-right: 0.2em;padding-left: 0.2em;position: relative;}#sk-container-id-4 div.sk-item {position: relative;z-index: 1;}#sk-container-id-4 div.sk-parallel {display: flex;align-items: stretch;justify-content: center;background-color: white;position: relative;}#sk-container-id-4 div.sk-item::before, #sk-container-id-4 div.sk-parallel-item::before {content: \"\";position: absolute;border-left: 1px solid gray;box-sizing: border-box;top: 0;bottom: 0;left: 50%;z-index: -1;}#sk-container-id-4 div.sk-parallel-item {display: flex;flex-direction: column;z-index: 1;position: relative;background-color: white;}#sk-container-id-4 div.sk-parallel-item:first-child::after {align-self: flex-end;width: 50%;}#sk-container-id-4 div.sk-parallel-item:last-child::after {align-self: flex-start;width: 50%;}#sk-container-id-4 div.sk-parallel-item:only-child::after {width: 0;}#sk-container-id-4 div.sk-dashed-wrapped {border: 1px dashed gray;margin: 0 0.4em 0.5em 0.4em;box-sizing: border-box;padding-bottom: 0.4em;background-color: white;}#sk-container-id-4 div.sk-label label {font-family: monospace;font-weight: bold;display: inline-block;line-height: 1.2em;}#sk-container-id-4 div.sk-label-container {text-align: center;}#sk-container-id-4 div.sk-container {/* jupyter's `normalize.less` sets `[hidden] { display: none; }` but bootstrap.min.css set `[hidden] { display: none !important; }` so we also need the `!important` here to be able to override the default hidden behavior on the sphinx rendered scikit-learn.org. See: https://github.com/scikit-learn/scikit-learn/issues/21755 */display: inline-block !important;position: relative;}#sk-container-id-4 div.sk-text-repr-fallback {display: none;}</style><div id=\"sk-container-id-4\" class=\"sk-top-container\"><div class=\"sk-text-repr-fallback\"><pre>DecisionTreeClassifier(class_weight={0: 1.0, 1: 4.0}, random_state=1)</pre><b>In a Jupyter environment, please rerun this cell to show the HTML representation or trust the notebook. <br />On GitHub, the HTML representation is unable to render, please try loading this page with nbviewer.org.</b></div><div class=\"sk-container\" hidden><div class=\"sk-item\"><div class=\"sk-estimator sk-toggleable\"><input class=\"sk-toggleable__control sk-hidden--visually\" id=\"sk-estimator-id-4\" type=\"checkbox\" checked><label for=\"sk-estimator-id-4\" class=\"sk-toggleable__label sk-toggleable__label-arrow\">DecisionTreeClassifier</label><div class=\"sk-toggleable__content\"><pre>DecisionTreeClassifier(class_weight={0: 1.0, 1: 4.0}, random_state=1)</pre></div></div></div></div></div>"
      ],
      "text/plain": [
       "DecisionTreeClassifier(class_weight={0: 1.0, 1: 4.0}, random_state=1)"
      ]
     },
     "execution_count": 40,
     "metadata": {},
     "output_type": "execute_result"
    }
   ],
   "source": [
    "cls.fit(X_train.values, y_train.values)"
   ]
  },
  {
   "cell_type": "code",
   "execution_count": 41,
   "id": "3817f6be",
   "metadata": {},
   "outputs": [
    {
     "data": {
      "text/plain": [
       "array([0., 0., 0., 0., 0., 0., 0., 1., 0., 0., 1., 0., 0., 0., 1., 0., 0.,\n",
       "       0., 0., 1., 0., 0., 0., 0., 0., 0., 1., 0., 0., 0., 0., 0., 0., 0.,\n",
       "       1., 1., 0., 1., 1., 1., 0., 0., 0., 0., 0., 0., 0., 0., 0., 0., 0.,\n",
       "       1., 0., 0., 0., 1., 0., 0., 0., 0., 0., 0., 0., 0., 0., 0., 0., 1.,\n",
       "       0., 0., 0., 0., 0., 0., 0., 0., 1., 1., 0., 1., 0., 0., 0., 1., 1.,\n",
       "       0., 0., 0., 0., 0., 0., 0., 1., 0., 0., 1., 1., 0., 0., 0.])"
      ]
     },
     "execution_count": 41,
     "metadata": {},
     "output_type": "execute_result"
    }
   ],
   "source": [
    "prediction = cls.predict(X_test.values)\n",
    "prediction[:100]"
   ]
  },
  {
   "cell_type": "code",
   "execution_count": 42,
   "id": "8d089962",
   "metadata": {},
   "outputs": [
    {
     "data": {
      "text/plain": [
       "array([0., 0., 0., 0., 0., 0., 0., 0., 0., 0., 0., 0., 1., 0., 0., 0., 0.,\n",
       "       0., 0., 0., 0., 0., 0., 0., 0., 0., 0., 1., 0., 1., 0., 0., 0., 0.,\n",
       "       1., 1., 1., 1., 0., 0., 0., 0., 0., 0., 0., 0., 0., 1., 0., 0., 0.,\n",
       "       1., 0., 0., 0., 0., 0., 1., 0., 0., 1., 1., 0., 0., 0., 0., 1., 1.,\n",
       "       0., 0., 0., 0., 1., 0., 0., 0., 1., 0., 0., 1., 0., 0., 0., 1., 0.,\n",
       "       0., 0., 0., 0., 0., 0., 0., 1., 0., 0., 1., 0., 0., 0., 0.])"
      ]
     },
     "execution_count": 42,
     "metadata": {},
     "output_type": "execute_result"
    }
   ],
   "source": [
    "y_test.values[:100]"
   ]
  },
  {
   "cell_type": "code",
   "execution_count": 43,
   "id": "9f04b857",
   "metadata": {},
   "outputs": [
    {
     "name": "stdout",
     "output_type": "stream",
     "text": [
      "              precision    recall  f1-score   support\n",
      "\n",
      "         0.0       0.86      0.85      0.86    373766\n",
      "         1.0       0.41      0.43      0.42     89090\n",
      "\n",
      "    accuracy                           0.77    462856\n",
      "   macro avg       0.64      0.64      0.64    462856\n",
      "weighted avg       0.77      0.77      0.77    462856\n",
      "\n"
     ]
    }
   ],
   "source": [
    "print(classification_report(prediction, y_test.values))"
   ]
  },
  {
   "cell_type": "code",
   "execution_count": 44,
   "id": "cf449c0b",
   "metadata": {},
   "outputs": [
    {
     "data": {
      "text/plain": [
       "0.7709028293897022"
      ]
     },
     "execution_count": 44,
     "metadata": {},
     "output_type": "execute_result"
    }
   ],
   "source": [
    "accuracy_score(prediction, y_test.values)"
   ]
  },
  {
   "cell_type": "code",
   "execution_count": 45,
   "id": "e4df69df",
   "metadata": {},
   "outputs": [
    {
     "data": {
      "text/plain": [
       "0.41724325542286533"
      ]
     },
     "execution_count": 45,
     "metadata": {},
     "output_type": "execute_result"
    }
   ],
   "source": [
    "f1_score(prediction, y_test.values)"
   ]
  }
 ],
 "metadata": {
  "kernelspec": {
   "display_name": "Python 3 (ipykernel)",
   "language": "python",
   "name": "python3"
  },
  "language_info": {
   "codemirror_mode": {
    "name": "ipython",
    "version": 3
   },
   "file_extension": ".py",
   "mimetype": "text/x-python",
   "name": "python",
   "nbconvert_exporter": "python",
   "pygments_lexer": "ipython3",
   "version": "3.10.6"
  }
 },
 "nbformat": 4,
 "nbformat_minor": 5
}
