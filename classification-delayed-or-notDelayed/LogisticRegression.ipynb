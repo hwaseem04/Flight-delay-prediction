{
 "cells": [
  {
   "cell_type": "code",
   "execution_count": 1,
   "id": "a0e64b10",
   "metadata": {},
   "outputs": [],
   "source": [
    "import pandas as pd\n",
    "import numpy as np\n",
    "\n",
    "from sklearn.linear_model import LogisticRegression\n",
    "from sklearn.model_selection import train_test_split\n",
    "from sklearn.preprocessing import StandardScaler\n",
    "from sklearn.metrics import accuracy_score, f1_score, classification_report\n",
    "\n",
    "import warnings\n",
    "warnings.filterwarnings(\"ignore\")"
   ]
  },
  {
   "cell_type": "code",
   "execution_count": 3,
   "id": "8fdd2ebc",
   "metadata": {},
   "outputs": [],
   "source": [
    "necessary_col = ['windspeedKmph', 'winddirDegree','precipMM',\n",
    "       'visibility', 'pressure', 'cloudcover', 'DewPointF', 'WindGustKmph',\n",
    "       'tempF', 'WindChillF', 'humidity', 'ArrDel15']"
   ]
  },
  {
   "cell_type": "code",
   "execution_count": 2,
   "id": "15e24148",
   "metadata": {},
   "outputs": [],
   "source": [
    "data = pd.read_csv('../cleaned_data.csv')"
   ]
  },
  {
   "cell_type": "code",
   "execution_count": 4,
   "id": "d01b69d7",
   "metadata": {},
   "outputs": [],
   "source": [
    "Df = data[necessary_col]"
   ]
  },
  {
   "cell_type": "code",
   "execution_count": 6,
   "id": "3ea58cfa",
   "metadata": {},
   "outputs": [
    {
     "data": {
      "text/html": [
       "<div>\n",
       "<style scoped>\n",
       "    .dataframe tbody tr th:only-of-type {\n",
       "        vertical-align: middle;\n",
       "    }\n",
       "\n",
       "    .dataframe tbody tr th {\n",
       "        vertical-align: top;\n",
       "    }\n",
       "\n",
       "    .dataframe thead th {\n",
       "        text-align: right;\n",
       "    }\n",
       "</style>\n",
       "<table border=\"1\" class=\"dataframe\">\n",
       "  <thead>\n",
       "    <tr style=\"text-align: right;\">\n",
       "      <th></th>\n",
       "      <th>windspeedKmph</th>\n",
       "      <th>winddirDegree</th>\n",
       "      <th>precipMM</th>\n",
       "      <th>visibility</th>\n",
       "      <th>pressure</th>\n",
       "      <th>cloudcover</th>\n",
       "      <th>DewPointF</th>\n",
       "      <th>WindGustKmph</th>\n",
       "      <th>tempF</th>\n",
       "      <th>WindChillF</th>\n",
       "      <th>humidity</th>\n",
       "      <th>ArrDel15</th>\n",
       "    </tr>\n",
       "  </thead>\n",
       "  <tbody>\n",
       "    <tr>\n",
       "      <th>0</th>\n",
       "      <td>15</td>\n",
       "      <td>123</td>\n",
       "      <td>0.0</td>\n",
       "      <td>10</td>\n",
       "      <td>1028</td>\n",
       "      <td>0</td>\n",
       "      <td>17</td>\n",
       "      <td>26</td>\n",
       "      <td>29</td>\n",
       "      <td>21</td>\n",
       "      <td>59</td>\n",
       "      <td>0.0</td>\n",
       "    </tr>\n",
       "    <tr>\n",
       "      <th>1</th>\n",
       "      <td>15</td>\n",
       "      <td>123</td>\n",
       "      <td>0.0</td>\n",
       "      <td>10</td>\n",
       "      <td>1028</td>\n",
       "      <td>0</td>\n",
       "      <td>17</td>\n",
       "      <td>26</td>\n",
       "      <td>29</td>\n",
       "      <td>21</td>\n",
       "      <td>59</td>\n",
       "      <td>0.0</td>\n",
       "    </tr>\n",
       "    <tr>\n",
       "      <th>2</th>\n",
       "      <td>15</td>\n",
       "      <td>38</td>\n",
       "      <td>0.0</td>\n",
       "      <td>10</td>\n",
       "      <td>1020</td>\n",
       "      <td>0</td>\n",
       "      <td>29</td>\n",
       "      <td>17</td>\n",
       "      <td>59</td>\n",
       "      <td>58</td>\n",
       "      <td>39</td>\n",
       "      <td>0.0</td>\n",
       "    </tr>\n",
       "    <tr>\n",
       "      <th>3</th>\n",
       "      <td>15</td>\n",
       "      <td>38</td>\n",
       "      <td>0.0</td>\n",
       "      <td>10</td>\n",
       "      <td>1020</td>\n",
       "      <td>0</td>\n",
       "      <td>29</td>\n",
       "      <td>17</td>\n",
       "      <td>59</td>\n",
       "      <td>58</td>\n",
       "      <td>39</td>\n",
       "      <td>0.0</td>\n",
       "    </tr>\n",
       "    <tr>\n",
       "      <th>4</th>\n",
       "      <td>15</td>\n",
       "      <td>38</td>\n",
       "      <td>0.0</td>\n",
       "      <td>10</td>\n",
       "      <td>1020</td>\n",
       "      <td>0</td>\n",
       "      <td>29</td>\n",
       "      <td>17</td>\n",
       "      <td>59</td>\n",
       "      <td>58</td>\n",
       "      <td>39</td>\n",
       "      <td>0.0</td>\n",
       "    </tr>\n",
       "  </tbody>\n",
       "</table>\n",
       "</div>"
      ],
      "text/plain": [
       "   windspeedKmph  winddirDegree  precipMM  visibility  pressure  cloudcover  \\\n",
       "0             15            123       0.0          10      1028           0   \n",
       "1             15            123       0.0          10      1028           0   \n",
       "2             15             38       0.0          10      1020           0   \n",
       "3             15             38       0.0          10      1020           0   \n",
       "4             15             38       0.0          10      1020           0   \n",
       "\n",
       "   DewPointF  WindGustKmph  tempF  WindChillF  humidity  ArrDel15  \n",
       "0         17            26     29          21        59       0.0  \n",
       "1         17            26     29          21        59       0.0  \n",
       "2         29            17     59          58        39       0.0  \n",
       "3         29            17     59          58        39       0.0  \n",
       "4         29            17     59          58        39       0.0  "
      ]
     },
     "execution_count": 6,
     "metadata": {},
     "output_type": "execute_result"
    }
   ],
   "source": [
    "Df.head()"
   ]
  },
  {
   "cell_type": "code",
   "execution_count": 19,
   "id": "ea1823de",
   "metadata": {},
   "outputs": [],
   "source": [
    "X_train, X_test, y_train, y_test = train_test_split(Df.iloc[:, :-1], Df.iloc[:, -1], \n",
    "                                                   stratify= Df.iloc[:, -1].values, train_size=0.8, random_state=42)\n"
   ]
  },
  {
   "cell_type": "code",
   "execution_count": 20,
   "id": "02baa557",
   "metadata": {},
   "outputs": [
    {
     "data": {
      "text/plain": [
       "((1481137, 11), (1481137,))"
      ]
     },
     "execution_count": 20,
     "metadata": {},
     "output_type": "execute_result"
    }
   ],
   "source": [
    "X_train.shape, y_train.shape"
   ]
  },
  {
   "cell_type": "code",
   "execution_count": 22,
   "id": "bb85bf62",
   "metadata": {},
   "outputs": [
    {
     "data": {
      "text/plain": [
       "0.0    1170693\n",
       "1.0     310444\n",
       "Name: ArrDel15, dtype: int64"
      ]
     },
     "execution_count": 22,
     "metadata": {},
     "output_type": "execute_result"
    }
   ],
   "source": [
    "(y_train).value_counts()"
   ]
  },
  {
   "cell_type": "code",
   "execution_count": 23,
   "id": "4a88dac6",
   "metadata": {},
   "outputs": [
    {
     "data": {
      "text/plain": [
       "0.0    292674\n",
       "1.0     77611\n",
       "Name: ArrDel15, dtype: int64"
      ]
     },
     "execution_count": 23,
     "metadata": {},
     "output_type": "execute_result"
    }
   ],
   "source": [
    "y_test.value_counts()"
   ]
  },
  {
   "cell_type": "code",
   "execution_count": 25,
   "id": "a0f75209",
   "metadata": {},
   "outputs": [],
   "source": [
    "sc = StandardScaler()\n",
    "X_train = sc.fit_transform(X_train)"
   ]
  },
  {
   "cell_type": "code",
   "execution_count": 26,
   "id": "c38a18de",
   "metadata": {},
   "outputs": [],
   "source": [
    "reg = LogisticRegression()"
   ]
  },
  {
   "cell_type": "code",
   "execution_count": 28,
   "id": "84aa819e",
   "metadata": {},
   "outputs": [
    {
     "name": "stdout",
     "output_type": "stream",
     "text": [
      "CPU times: user 9.2 s, sys: 135 ms, total: 9.34 s\n",
      "Wall time: 1.45 s\n"
     ]
    }
   ],
   "source": [
    "%%time\n",
    "model = reg.fit(X_train, y_train.values)"
   ]
  },
  {
   "cell_type": "code",
   "execution_count": 29,
   "id": "cf502064",
   "metadata": {},
   "outputs": [
    {
     "data": {
      "text/plain": [
       "((370285,), (370285,))"
      ]
     },
     "execution_count": 29,
     "metadata": {},
     "output_type": "execute_result"
    }
   ],
   "source": [
    "X_test = sc.transform(X_test)\n",
    "prediction = model.predict(X_test)\n",
    "prediction.shape, y_test.values.shape"
   ]
  },
  {
   "cell_type": "code",
   "execution_count": 30,
   "id": "e6b94baf",
   "metadata": {},
   "outputs": [
    {
     "data": {
      "text/plain": [
       "0.7901157216738458"
      ]
     },
     "execution_count": 30,
     "metadata": {},
     "output_type": "execute_result"
    }
   ],
   "source": [
    "accuracy_score(y_pred=prediction, y_true=y_test.values)"
   ]
  },
  {
   "cell_type": "code",
   "execution_count": 31,
   "id": "008f5e8b",
   "metadata": {},
   "outputs": [
    {
     "data": {
      "text/plain": [
       "0.011422756471411308"
      ]
     },
     "execution_count": 31,
     "metadata": {},
     "output_type": "execute_result"
    }
   ],
   "source": [
    "f1_score(y_pred=prediction, y_true=y_test.values)"
   ]
  },
  {
   "cell_type": "code",
   "execution_count": 32,
   "id": "6135589c",
   "metadata": {},
   "outputs": [
    {
     "data": {
      "text/plain": [
       "'              precision    recall  f1-score   support\\n\\n         0.0       0.79      1.00      0.88    292674\\n         1.0       0.45      0.01      0.01     77611\\n\\n    accuracy                           0.79    370285\\n   macro avg       0.62      0.50      0.45    370285\\nweighted avg       0.72      0.79      0.70    370285\\n'"
      ]
     },
     "execution_count": 32,
     "metadata": {},
     "output_type": "execute_result"
    }
   ],
   "source": [
    "classification_report(y_pred=prediction, y_true=y_test.values)"
   ]
  },
  {
   "cell_type": "code",
   "execution_count": null,
   "id": "8ac742c1",
   "metadata": {},
   "outputs": [],
   "source": []
  }
 ],
 "metadata": {
  "kernelspec": {
   "display_name": "Python 3 (ipykernel)",
   "language": "python",
   "name": "python3"
  },
  "language_info": {
   "codemirror_mode": {
    "name": "ipython",
    "version": 3
   },
   "file_extension": ".py",
   "mimetype": "text/x-python",
   "name": "python",
   "nbconvert_exporter": "python",
   "pygments_lexer": "ipython3",
   "version": "3.10.6"
  }
 },
 "nbformat": 4,
 "nbformat_minor": 5
}
