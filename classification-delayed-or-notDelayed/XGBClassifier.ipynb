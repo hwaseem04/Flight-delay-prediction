{
 "cells": [
  {
   "cell_type": "code",
   "execution_count": 1,
   "id": "3e052ddf",
   "metadata": {},
   "outputs": [],
   "source": [
    "import pandas as pd\n",
    "import numpy as np\n",
    "\n",
    "from xgboost import XGBClassifier\n",
    "\n",
    "from sklearn.decomposition import PCA\n",
    "from sklearn.model_selection import train_test_split\n",
    "from sklearn.pipeline import Pipeline\n",
    "from sklearn.preprocessing import OneHotEncoder, StandardScaler\n",
    "from sklearn.compose import ColumnTransformer\n",
    "from sklearn.metrics import accuracy_score, f1_score, classification_report\n",
    "\n",
    "import warnings\n",
    "warnings.filterwarnings(\"ignore\")"
   ]
  },
  {
   "cell_type": "code",
   "execution_count": 2,
   "id": "750d04ba",
   "metadata": {},
   "outputs": [],
   "source": [
    "data = pd.read_csv('../cleaned_data.csv')"
   ]
  },
  {
   "cell_type": "code",
   "execution_count": 3,
   "id": "075cbd42",
   "metadata": {},
   "outputs": [
    {
     "name": "stdout",
     "output_type": "stream",
     "text": [
      "<class 'pandas.core.frame.DataFrame'>\n",
      "RangeIndex: 1851422 entries, 0 to 1851421\n",
      "Data columns (total 36 columns):\n",
      " #   Column             Dtype  \n",
      "---  ------             -----  \n",
      " 0   FlightDate         object \n",
      " 1   Quarter            int64  \n",
      " 2   Year               int64  \n",
      " 3   Month              int64  \n",
      " 4   DayofMonth         int64  \n",
      " 5   DepTime            float64\n",
      " 6   DepDel15           float64\n",
      " 7   CRSDepTime         int64  \n",
      " 8   DepDelayMinutes    float64\n",
      " 9   OriginAirportID    int64  \n",
      " 10  DestAirportID      int64  \n",
      " 11  ArrTime            float64\n",
      " 12  CRSArrTime         int64  \n",
      " 13  ArrDelayMinutes    float64\n",
      " 14  Origin             object \n",
      " 15  Dest               object \n",
      " 16  RoundedFlightDate  object \n",
      " 17  DepatHr            int64  \n",
      " 18  ArrDel15           float64\n",
      " 19  Delayed            int64  \n",
      " 20  date               object \n",
      " 21  airport            object \n",
      " 22  windspeedKmph      int64  \n",
      " 23  winddirDegree      int64  \n",
      " 24  weatherCode        int64  \n",
      " 25  precipMM           float64\n",
      " 26  visibility         int64  \n",
      " 27  pressure           int64  \n",
      " 28  cloudcover         int64  \n",
      " 29  DewPointF          int64  \n",
      " 30  WindGustKmph       int64  \n",
      " 31  tempF              int64  \n",
      " 32  WindChillF         int64  \n",
      " 33  humidity           int64  \n",
      " 34  time               int64  \n",
      " 35  timeInHr           int64  \n",
      "dtypes: float64(7), int64(23), object(6)\n",
      "memory usage: 508.5+ MB\n"
     ]
    }
   ],
   "source": [
    "data.info()"
   ]
  },
  {
   "cell_type": "code",
   "execution_count": 4,
   "id": "a0c9a5ee",
   "metadata": {},
   "outputs": [],
   "source": [
    "data = pd.concat([data, pd.get_dummies(data['Origin'],prefix='Origin')], axis=1)"
   ]
  },
  {
   "cell_type": "code",
   "execution_count": 5,
   "id": "46ad7a01",
   "metadata": {},
   "outputs": [],
   "source": [
    "data = pd.concat([data, pd.get_dummies(data['Dest'],prefix='Destination')], axis=1)"
   ]
  },
  {
   "cell_type": "code",
   "execution_count": 6,
   "id": "ca2af7e3",
   "metadata": {},
   "outputs": [
    {
     "data": {
      "text/plain": [
       "Index(['FlightDate', 'Quarter', 'Year', 'Month', 'DayofMonth', 'DepTime',\n",
       "       'DepDel15', 'CRSDepTime', 'DepDelayMinutes', 'OriginAirportID',\n",
       "       'DestAirportID', 'ArrTime', 'CRSArrTime', 'ArrDelayMinutes', 'Origin',\n",
       "       'Dest', 'RoundedFlightDate', 'DepatHr', 'ArrDel15', 'Delayed', 'date',\n",
       "       'airport', 'windspeedKmph', 'winddirDegree', 'weatherCode', 'precipMM',\n",
       "       'visibility', 'pressure', 'cloudcover', 'DewPointF', 'WindGustKmph',\n",
       "       'tempF', 'WindChillF', 'humidity', 'time', 'timeInHr', 'Origin_ATL',\n",
       "       'Origin_CLT', 'Origin_DEN', 'Origin_DFW', 'Origin_EWR', 'Origin_IAH',\n",
       "       'Origin_JFK', 'Origin_LAS', 'Origin_LAX', 'Origin_MCO', 'Origin_MIA',\n",
       "       'Origin_ORD', 'Origin_PHX', 'Origin_SEA', 'Origin_SFO',\n",
       "       'Destination_ATL', 'Destination_CLT', 'Destination_DEN',\n",
       "       'Destination_DFW', 'Destination_EWR', 'Destination_IAH',\n",
       "       'Destination_JFK', 'Destination_LAS', 'Destination_LAX',\n",
       "       'Destination_MCO', 'Destination_MIA', 'Destination_ORD',\n",
       "       'Destination_PHX', 'Destination_SEA', 'Destination_SFO'],\n",
       "      dtype='object')"
      ]
     },
     "execution_count": 6,
     "metadata": {},
     "output_type": "execute_result"
    }
   ],
   "source": [
    "data.columns"
   ]
  },
  {
   "cell_type": "code",
   "execution_count": 7,
   "id": "3de00832",
   "metadata": {},
   "outputs": [],
   "source": [
    "Df = data[[ 'Quarter', 'Month', 'DayofMonth',\n",
    "       'CRSDepTime', 'CRSArrTime', \n",
    "       'windspeedKmph', 'winddirDegree', 'weatherCode', 'precipMM',\n",
    "       'visibility', 'pressure', 'cloudcover', 'DewPointF', 'WindGustKmph',\n",
    "       'tempF', 'WindChillF', 'humidity',  'Origin_ATL',\n",
    "       'Origin_CLT', 'Origin_DEN', 'Origin_DFW', 'Origin_EWR', 'Origin_IAH',\n",
    "       'Origin_JFK', 'Origin_LAS', 'Origin_LAX', 'Origin_MCO', 'Origin_MIA',\n",
    "       'Origin_ORD', 'Origin_PHX', 'Origin_SEA', 'Origin_SFO',\n",
    "       'Destination_ATL', 'Destination_CLT', 'Destination_DEN',\n",
    "       'Destination_DFW', 'Destination_EWR', 'Destination_IAH',\n",
    "       'Destination_JFK', 'Destination_LAS', 'Destination_LAX',\n",
    "       'Destination_MCO', 'Destination_MIA', 'Destination_ORD',\n",
    "       'Destination_PHX', 'Destination_SEA', 'Destination_SFO',  'DepDel15']]\n"
   ]
  },
  {
   "cell_type": "code",
   "execution_count": 8,
   "id": "09b55bfc",
   "metadata": {},
   "outputs": [
    {
     "data": {
      "text/html": [
       "<div>\n",
       "<style scoped>\n",
       "    .dataframe tbody tr th:only-of-type {\n",
       "        vertical-align: middle;\n",
       "    }\n",
       "\n",
       "    .dataframe tbody tr th {\n",
       "        vertical-align: top;\n",
       "    }\n",
       "\n",
       "    .dataframe thead th {\n",
       "        text-align: right;\n",
       "    }\n",
       "</style>\n",
       "<table border=\"1\" class=\"dataframe\">\n",
       "  <thead>\n",
       "    <tr style=\"text-align: right;\">\n",
       "      <th></th>\n",
       "      <th>Quarter</th>\n",
       "      <th>Month</th>\n",
       "      <th>DayofMonth</th>\n",
       "      <th>CRSDepTime</th>\n",
       "      <th>CRSArrTime</th>\n",
       "      <th>windspeedKmph</th>\n",
       "      <th>winddirDegree</th>\n",
       "      <th>weatherCode</th>\n",
       "      <th>precipMM</th>\n",
       "      <th>visibility</th>\n",
       "      <th>...</th>\n",
       "      <th>Destination_JFK</th>\n",
       "      <th>Destination_LAS</th>\n",
       "      <th>Destination_LAX</th>\n",
       "      <th>Destination_MCO</th>\n",
       "      <th>Destination_MIA</th>\n",
       "      <th>Destination_ORD</th>\n",
       "      <th>Destination_PHX</th>\n",
       "      <th>Destination_SEA</th>\n",
       "      <th>Destination_SFO</th>\n",
       "      <th>DepDel15</th>\n",
       "    </tr>\n",
       "  </thead>\n",
       "  <tbody>\n",
       "    <tr>\n",
       "      <th>0</th>\n",
       "      <td>1</td>\n",
       "      <td>1</td>\n",
       "      <td>1</td>\n",
       "      <td>2347</td>\n",
       "      <td>714</td>\n",
       "      <td>15</td>\n",
       "      <td>123</td>\n",
       "      <td>113</td>\n",
       "      <td>0.0</td>\n",
       "      <td>10</td>\n",
       "      <td>...</td>\n",
       "      <td>0</td>\n",
       "      <td>0</td>\n",
       "      <td>0</td>\n",
       "      <td>0</td>\n",
       "      <td>1</td>\n",
       "      <td>0</td>\n",
       "      <td>0</td>\n",
       "      <td>0</td>\n",
       "      <td>0</td>\n",
       "      <td>1.0</td>\n",
       "    </tr>\n",
       "    <tr>\n",
       "      <th>1</th>\n",
       "      <td>1</td>\n",
       "      <td>1</td>\n",
       "      <td>1</td>\n",
       "      <td>20</td>\n",
       "      <td>705</td>\n",
       "      <td>15</td>\n",
       "      <td>123</td>\n",
       "      <td>113</td>\n",
       "      <td>0.0</td>\n",
       "      <td>10</td>\n",
       "      <td>...</td>\n",
       "      <td>0</td>\n",
       "      <td>0</td>\n",
       "      <td>0</td>\n",
       "      <td>0</td>\n",
       "      <td>0</td>\n",
       "      <td>0</td>\n",
       "      <td>0</td>\n",
       "      <td>0</td>\n",
       "      <td>0</td>\n",
       "      <td>0.0</td>\n",
       "    </tr>\n",
       "    <tr>\n",
       "      <th>2</th>\n",
       "      <td>1</td>\n",
       "      <td>1</td>\n",
       "      <td>1</td>\n",
       "      <td>2359</td>\n",
       "      <td>603</td>\n",
       "      <td>15</td>\n",
       "      <td>38</td>\n",
       "      <td>113</td>\n",
       "      <td>0.0</td>\n",
       "      <td>10</td>\n",
       "      <td>...</td>\n",
       "      <td>0</td>\n",
       "      <td>0</td>\n",
       "      <td>0</td>\n",
       "      <td>0</td>\n",
       "      <td>0</td>\n",
       "      <td>1</td>\n",
       "      <td>0</td>\n",
       "      <td>0</td>\n",
       "      <td>0</td>\n",
       "      <td>0.0</td>\n",
       "    </tr>\n",
       "    <tr>\n",
       "      <th>3</th>\n",
       "      <td>1</td>\n",
       "      <td>1</td>\n",
       "      <td>1</td>\n",
       "      <td>30</td>\n",
       "      <td>823</td>\n",
       "      <td>15</td>\n",
       "      <td>38</td>\n",
       "      <td>113</td>\n",
       "      <td>0.0</td>\n",
       "      <td>10</td>\n",
       "      <td>...</td>\n",
       "      <td>0</td>\n",
       "      <td>0</td>\n",
       "      <td>0</td>\n",
       "      <td>0</td>\n",
       "      <td>1</td>\n",
       "      <td>0</td>\n",
       "      <td>0</td>\n",
       "      <td>0</td>\n",
       "      <td>0</td>\n",
       "      <td>0.0</td>\n",
       "    </tr>\n",
       "    <tr>\n",
       "      <th>4</th>\n",
       "      <td>1</td>\n",
       "      <td>1</td>\n",
       "      <td>1</td>\n",
       "      <td>10</td>\n",
       "      <td>501</td>\n",
       "      <td>15</td>\n",
       "      <td>38</td>\n",
       "      <td>113</td>\n",
       "      <td>0.0</td>\n",
       "      <td>10</td>\n",
       "      <td>...</td>\n",
       "      <td>0</td>\n",
       "      <td>0</td>\n",
       "      <td>0</td>\n",
       "      <td>0</td>\n",
       "      <td>0</td>\n",
       "      <td>0</td>\n",
       "      <td>0</td>\n",
       "      <td>0</td>\n",
       "      <td>0</td>\n",
       "      <td>0.0</td>\n",
       "    </tr>\n",
       "  </tbody>\n",
       "</table>\n",
       "<p>5 rows × 48 columns</p>\n",
       "</div>"
      ],
      "text/plain": [
       "   Quarter  Month  DayofMonth  CRSDepTime  CRSArrTime  windspeedKmph  \\\n",
       "0        1      1           1        2347         714             15   \n",
       "1        1      1           1          20         705             15   \n",
       "2        1      1           1        2359         603             15   \n",
       "3        1      1           1          30         823             15   \n",
       "4        1      1           1          10         501             15   \n",
       "\n",
       "   winddirDegree  weatherCode  precipMM  visibility  ...  Destination_JFK  \\\n",
       "0            123          113       0.0          10  ...                0   \n",
       "1            123          113       0.0          10  ...                0   \n",
       "2             38          113       0.0          10  ...                0   \n",
       "3             38          113       0.0          10  ...                0   \n",
       "4             38          113       0.0          10  ...                0   \n",
       "\n",
       "   Destination_LAS  Destination_LAX  Destination_MCO  Destination_MIA  \\\n",
       "0                0                0                0                1   \n",
       "1                0                0                0                0   \n",
       "2                0                0                0                0   \n",
       "3                0                0                0                1   \n",
       "4                0                0                0                0   \n",
       "\n",
       "   Destination_ORD  Destination_PHX  Destination_SEA  Destination_SFO  \\\n",
       "0                0                0                0                0   \n",
       "1                0                0                0                0   \n",
       "2                1                0                0                0   \n",
       "3                0                0                0                0   \n",
       "4                0                0                0                0   \n",
       "\n",
       "   DepDel15  \n",
       "0       1.0  \n",
       "1       0.0  \n",
       "2       0.0  \n",
       "3       0.0  \n",
       "4       0.0  \n",
       "\n",
       "[5 rows x 48 columns]"
      ]
     },
     "execution_count": 8,
     "metadata": {},
     "output_type": "execute_result"
    }
   ],
   "source": [
    "Df.head()"
   ]
  },
  {
   "cell_type": "code",
   "execution_count": 9,
   "id": "ab4ba352",
   "metadata": {},
   "outputs": [],
   "source": [
    "X = Df.iloc[:, :-1]\n",
    "y =  Df.iloc[:, -1]"
   ]
  },
  {
   "cell_type": "code",
   "execution_count": 10,
   "id": "b184729c",
   "metadata": {},
   "outputs": [],
   "source": [
    "# from imblearn.over_sampling import RandomOverSampler\n",
    "# ros = RandomOverSampler(random_state=17)\n",
    "# X, y = ros.fit_resample(X, y)"
   ]
  },
  {
   "cell_type": "code",
   "execution_count": 11,
   "id": "b00ff855",
   "metadata": {},
   "outputs": [],
   "source": [
    "X_train, X_test, y_train, y_test = train_test_split(X,y, train_size=0.75, random_state=0)"
   ]
  },
  {
   "cell_type": "code",
   "execution_count": 12,
   "id": "ee3503d8",
   "metadata": {},
   "outputs": [
    {
     "data": {
      "text/plain": [
       "((1388566, 47), (1388566,))"
      ]
     },
     "execution_count": 12,
     "metadata": {},
     "output_type": "execute_result"
    }
   ],
   "source": [
    "X_train.shape, y_train.shape"
   ]
  },
  {
   "cell_type": "code",
   "execution_count": 13,
   "id": "9d0ec8b4",
   "metadata": {},
   "outputs": [
    {
     "data": {
      "text/plain": [
       "((462856, 47), (462856,))"
      ]
     },
     "execution_count": 13,
     "metadata": {},
     "output_type": "execute_result"
    }
   ],
   "source": [
    "X_test.shape, y_test.shape"
   ]
  },
  {
   "cell_type": "code",
   "execution_count": 14,
   "id": "6ba08b96",
   "metadata": {},
   "outputs": [
    {
     "data": {
      "text/plain": [
       "0.0    1109362\n",
       "1.0     279204\n",
       "Name: DepDel15, dtype: int64"
      ]
     },
     "execution_count": 14,
     "metadata": {},
     "output_type": "execute_result"
    }
   ],
   "source": [
    "y_train.value_counts()"
   ]
  },
  {
   "cell_type": "code",
   "execution_count": 15,
   "id": "0172d543",
   "metadata": {},
   "outputs": [
    {
     "data": {
      "text/plain": [
       "3.9759403130554443"
      ]
     },
     "execution_count": 15,
     "metadata": {},
     "output_type": "execute_result"
    }
   ],
   "source": [
    "# Negative to positive ratio\n",
    "ratio = 1109510/279056\n",
    "ratio"
   ]
  },
  {
   "cell_type": "code",
   "execution_count": 17,
   "id": "e736bf60",
   "metadata": {},
   "outputs": [],
   "source": [
    "xgb = XGBClassifier( n_estimators=300)"
   ]
  },
  {
   "cell_type": "code",
   "execution_count": 18,
   "id": "dbb9440d",
   "metadata": {},
   "outputs": [
    {
     "name": "stdout",
     "output_type": "stream",
     "text": [
      "CPU times: user 20min 37s, sys: 1min 8s, total: 21min 45s\n",
      "Wall time: 3min 38s\n"
     ]
    }
   ],
   "source": [
    "%%time\n",
    "model = xgb.fit(X_train.values ,y_train.values)"
   ]
  },
  {
   "cell_type": "code",
   "execution_count": 19,
   "id": "798853f1",
   "metadata": {},
   "outputs": [],
   "source": [
    "prediction = model.predict(X_test)"
   ]
  },
  {
   "cell_type": "code",
   "execution_count": 20,
   "id": "4620865e",
   "metadata": {},
   "outputs": [
    {
     "data": {
      "text/plain": [
       "0.8186649843579861"
      ]
     },
     "execution_count": 20,
     "metadata": {},
     "output_type": "execute_result"
    }
   ],
   "source": [
    "accuracy_score(prediction, y_test.values )"
   ]
  },
  {
   "cell_type": "code",
   "execution_count": 21,
   "id": "05cf183b",
   "metadata": {},
   "outputs": [
    {
     "data": {
      "text/plain": [
       "0.26791570720815017"
      ]
     },
     "execution_count": 21,
     "metadata": {},
     "output_type": "execute_result"
    }
   ],
   "source": [
    "f1_score(prediction,y_test.values )"
   ]
  },
  {
   "cell_type": "code",
   "execution_count": 22,
   "id": "c3427abb",
   "metadata": {},
   "outputs": [
    {
     "name": "stdout",
     "output_type": "stream",
     "text": [
      "              precision    recall  f1-score   support\n",
      "\n",
      "           0       0.98      0.82      0.90    441079\n",
      "           1       0.17      0.71      0.27     21777\n",
      "\n",
      "    accuracy                           0.82    462856\n",
      "   macro avg       0.57      0.76      0.58    462856\n",
      "weighted avg       0.94      0.82      0.87    462856\n",
      "\n"
     ]
    }
   ],
   "source": [
    "print(classification_report(prediction, y_test))"
   ]
  },
  {
   "cell_type": "code",
   "execution_count": 23,
   "id": "9244e291",
   "metadata": {},
   "outputs": [],
   "source": [
    "from imblearn.over_sampling import RandomOverSampler, SMOTE\n",
    "ros = RandomOverSampler(random_state=42)\n",
    "smote = SMOTE(random_state = 42)\n",
    "X_train_ros, y_train_ros = ros.fit_resample(X_train, y_train)\n",
    "X_train_smote, y_train_smote = smote.fit_resample(X_train, y_train)"
   ]
  },
  {
   "cell_type": "code",
   "execution_count": 24,
   "id": "db62bd9c",
   "metadata": {},
   "outputs": [],
   "source": [
    "# xgb = XGBClassifier( n_estimators=400, colsample_bytree= 0.8, gamma= 0,learning_rate= 0.3, max_depth= 10,reg_lambda= 15,scale_pos_weight= 3.77, subsample= 0.8)\n",
    "xgb = XGBClassifier( n_estimators=300)#, gamma= 0,learning_rate= 0.7, max_depth= 20,scale_pos_weight= 11)\n"
   ]
  },
  {
   "cell_type": "code",
   "execution_count": 25,
   "id": "0c919d9f",
   "metadata": {},
   "outputs": [],
   "source": [
    "# sc = StandardScaler()\n",
    "# X_train_smote = sc.fit_transform(X_train_smote)\n",
    "# X_train_smote[0]"
   ]
  },
  {
   "cell_type": "code",
   "execution_count": 26,
   "id": "acf5787e",
   "metadata": {},
   "outputs": [
    {
     "name": "stdout",
     "output_type": "stream",
     "text": [
      "CPU times: user 32min 21s, sys: 1min 25s, total: 33min 46s\n",
      "Wall time: 5min 17s\n"
     ]
    }
   ],
   "source": [
    "%%time\n",
    "model = xgb.fit(X_train_smote ,y_train_smote)\n",
    "# model = xgb.fit(X_train.values ,y_train.values)"
   ]
  },
  {
   "cell_type": "code",
   "execution_count": 27,
   "id": "8861fef5",
   "metadata": {},
   "outputs": [],
   "source": [
    "# X_test = sc.transform(X_test)\n",
    "# X_test[0]"
   ]
  },
  {
   "cell_type": "code",
   "execution_count": 28,
   "id": "dc23f71d",
   "metadata": {},
   "outputs": [
    {
     "data": {
      "text/plain": [
       "array([0, 0, 0, 0, 0, 0, 0, 0, 1, 0, 0, 0, 1, 0, 0, 0, 0, 0, 0, 0, 0, 0,\n",
       "       0, 0, 0, 0, 0, 0, 1, 0, 0, 0, 0, 0, 1, 1, 0, 0, 0, 0, 0, 0, 0, 0,\n",
       "       0, 0, 0, 0, 0, 0, 0, 1, 0, 0, 0, 0, 0, 0, 0, 0, 0, 0, 0, 0, 0, 0,\n",
       "       0, 1, 1, 0, 0, 0, 0, 0, 0, 0, 0, 0, 0, 0, 0, 0, 0, 0, 0, 0, 0, 0,\n",
       "       0, 0, 0, 0, 0, 0, 0, 0, 0, 0, 0, 0])"
      ]
     },
     "execution_count": 28,
     "metadata": {},
     "output_type": "execute_result"
    }
   ],
   "source": [
    "prediction = model.predict(X_test)\n",
    "prediction[:100]"
   ]
  },
  {
   "cell_type": "code",
   "execution_count": 29,
   "id": "dbacf75e",
   "metadata": {},
   "outputs": [
    {
     "data": {
      "text/plain": [
       "array([0., 0., 0., 0., 0., 0., 0., 0., 0., 0., 0., 0., 1., 0., 0., 0., 0.,\n",
       "       0., 0., 0., 0., 0., 0., 0., 0., 0., 0., 1., 0., 1., 0., 0., 0., 0.,\n",
       "       1., 1., 1., 1., 0., 0., 0., 0., 0., 0., 0., 0., 0., 1., 0., 0., 0.,\n",
       "       1., 0., 0., 0., 0., 0., 1., 0., 0., 1., 1., 0., 0., 0., 0., 1., 1.,\n",
       "       0., 0., 0., 0., 1., 0., 0., 0., 1., 0., 0., 1., 0., 0., 0., 1., 0.,\n",
       "       0., 0., 0., 0., 0., 0., 0., 1., 0., 0., 1., 0., 0., 0., 0.])"
      ]
     },
     "execution_count": 29,
     "metadata": {},
     "output_type": "execute_result"
    }
   ],
   "source": [
    "y_test.values[:100]"
   ]
  },
  {
   "cell_type": "code",
   "execution_count": 30,
   "id": "beb5be93",
   "metadata": {},
   "outputs": [
    {
     "data": {
      "text/plain": [
       "0.7965673989318492"
      ]
     },
     "execution_count": 30,
     "metadata": {},
     "output_type": "execute_result"
    }
   ],
   "source": [
    "accuracy_score(prediction, y_test.values )"
   ]
  },
  {
   "cell_type": "code",
   "execution_count": 31,
   "id": "8e42dfe7",
   "metadata": {},
   "outputs": [
    {
     "data": {
      "text/plain": [
       "0.34166736583046675"
      ]
     },
     "execution_count": 31,
     "metadata": {},
     "output_type": "execute_result"
    }
   ],
   "source": [
    "f1_score(prediction,y_test.values )"
   ]
  },
  {
   "cell_type": "code",
   "execution_count": 32,
   "id": "8731880f",
   "metadata": {},
   "outputs": [
    {
     "name": "stdout",
     "output_type": "stream",
     "text": [
      "              precision    recall  f1-score   support\n",
      "\n",
      "           0       0.93      0.83      0.88    412699\n",
      "           1       0.26      0.49      0.34     50157\n",
      "\n",
      "    accuracy                           0.80    462856\n",
      "   macro avg       0.60      0.66      0.61    462856\n",
      "weighted avg       0.86      0.80      0.82    462856\n",
      "\n"
     ]
    }
   ],
   "source": [
    "print(classification_report(prediction, y_test))"
   ]
  },
  {
   "cell_type": "code",
   "execution_count": null,
   "id": "c39ec6cc",
   "metadata": {},
   "outputs": [],
   "source": []
  }
 ],
 "metadata": {
  "kernelspec": {
   "display_name": "Python 3",
   "language": "python",
   "name": "python3"
  },
  "language_info": {
   "codemirror_mode": {
    "name": "ipython",
    "version": 3
   },
   "file_extension": ".py",
   "mimetype": "text/x-python",
   "name": "python",
   "nbconvert_exporter": "python",
   "pygments_lexer": "ipython3",
   "version": "3.10.8"
  },
  "vscode": {
   "interpreter": {
    "hash": "b0fa6594d8f4cbf19f97940f81e996739fb7646882a419484c72d19e05852a7e"
   }
  }
 },
 "nbformat": 4,
 "nbformat_minor": 5
}
