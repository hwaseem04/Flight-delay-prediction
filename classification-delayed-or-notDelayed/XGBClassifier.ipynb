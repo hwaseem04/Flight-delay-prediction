{
 "cells": [
  {
   "cell_type": "code",
   "execution_count": 2,
   "id": "3e052ddf",
   "metadata": {},
   "outputs": [],
   "source": [
    "import pandas as pd\n",
    "import numpy as np\n",
    "\n",
    "from xgboost import XGBClassifier\n",
    "\n",
    "from sklearn.decomposition import PCA\n",
    "from sklearn.model_selection import train_test_split\n",
    "from sklearn.pipeline import Pipeline\n",
    "from sklearn.preprocessing import OneHotEncoder, StandardScaler\n",
    "from sklearn.compose import ColumnTransformer\n",
    "from sklearn.metrics import accuracy_score, f1_score, classification_report\n",
    "\n",
    "import warnings\n",
    "warnings.filterwarnings(\"ignore\")"
   ]
  },
  {
   "cell_type": "code",
   "execution_count": 3,
   "id": "750d04ba",
   "metadata": {},
   "outputs": [],
   "source": [
    "data = pd.read_csv('../cleaned_data.csv')"
   ]
  },
  {
   "cell_type": "code",
   "execution_count": 5,
   "id": "075cbd42",
   "metadata": {},
   "outputs": [
    {
     "name": "stdout",
     "output_type": "stream",
     "text": [
      "<class 'pandas.core.frame.DataFrame'>\n",
      "RangeIndex: 1851422 entries, 0 to 1851421\n",
      "Data columns (total 36 columns):\n",
      " #   Column             Dtype  \n",
      "---  ------             -----  \n",
      " 0   FlightDate         object \n",
      " 1   Quarter            int64  \n",
      " 2   Year               int64  \n",
      " 3   Month              int64  \n",
      " 4   DayofMonth         int64  \n",
      " 5   DepTime            float64\n",
      " 6   DepDel15           float64\n",
      " 7   CRSDepTime         int64  \n",
      " 8   DepDelayMinutes    float64\n",
      " 9   OriginAirportID    int64  \n",
      " 10  DestAirportID      int64  \n",
      " 11  ArrTime            float64\n",
      " 12  CRSArrTime         int64  \n",
      " 13  ArrDelayMinutes    float64\n",
      " 14  Origin             object \n",
      " 15  Dest               object \n",
      " 16  RoundedFlightDate  object \n",
      " 17  DepatHr            int64  \n",
      " 18  ArrDel15           float64\n",
      " 19  Delayed            int64  \n",
      " 20  date               object \n",
      " 21  airport            object \n",
      " 22  windspeedKmph      int64  \n",
      " 23  winddirDegree      int64  \n",
      " 24  weatherCode        int64  \n",
      " 25  precipMM           float64\n",
      " 26  visibility         int64  \n",
      " 27  pressure           int64  \n",
      " 28  cloudcover         int64  \n",
      " 29  DewPointF          int64  \n",
      " 30  WindGustKmph       int64  \n",
      " 31  tempF              int64  \n",
      " 32  WindChillF         int64  \n",
      " 33  humidity           int64  \n",
      " 34  time               int64  \n",
      " 35  timeInHr           int64  \n",
      "dtypes: float64(7), int64(23), object(6)\n",
      "memory usage: 508.5+ MB\n"
     ]
    }
   ],
   "source": [
    "data.info()"
   ]
  },
  {
   "cell_type": "code",
   "execution_count": 6,
   "id": "a0c9a5ee",
   "metadata": {},
   "outputs": [],
   "source": [
    "data = pd.concat([data, pd.get_dummies(data['Origin'],prefix='Origin')], axis=1)"
   ]
  },
  {
   "cell_type": "code",
   "execution_count": 7,
   "id": "46ad7a01",
   "metadata": {},
   "outputs": [],
   "source": [
    "data = pd.concat([data, pd.get_dummies(data['Dest'],prefix='Destination')], axis=1)"
   ]
  },
  {
   "cell_type": "code",
   "execution_count": 8,
   "id": "ca2af7e3",
   "metadata": {},
   "outputs": [
    {
     "data": {
      "text/plain": [
       "Index(['FlightDate', 'Quarter', 'Year', 'Month', 'DayofMonth', 'DepTime',\n",
       "       'DepDel15', 'CRSDepTime', 'DepDelayMinutes', 'OriginAirportID',\n",
       "       'DestAirportID', 'ArrTime', 'CRSArrTime', 'ArrDelayMinutes', 'Origin',\n",
       "       'Dest', 'RoundedFlightDate', 'DepatHr', 'ArrDel15', 'Delayed', 'date',\n",
       "       'airport', 'windspeedKmph', 'winddirDegree', 'weatherCode', 'precipMM',\n",
       "       'visibility', 'pressure', 'cloudcover', 'DewPointF', 'WindGustKmph',\n",
       "       'tempF', 'WindChillF', 'humidity', 'time', 'timeInHr', 'Origin_ATL',\n",
       "       'Origin_CLT', 'Origin_DEN', 'Origin_DFW', 'Origin_EWR', 'Origin_IAH',\n",
       "       'Origin_JFK', 'Origin_LAS', 'Origin_LAX', 'Origin_MCO', 'Origin_MIA',\n",
       "       'Origin_ORD', 'Origin_PHX', 'Origin_SEA', 'Origin_SFO',\n",
       "       'Destination_ATL', 'Destination_CLT', 'Destination_DEN',\n",
       "       'Destination_DFW', 'Destination_EWR', 'Destination_IAH',\n",
       "       'Destination_JFK', 'Destination_LAS', 'Destination_LAX',\n",
       "       'Destination_MCO', 'Destination_MIA', 'Destination_ORD',\n",
       "       'Destination_PHX', 'Destination_SEA', 'Destination_SFO'],\n",
       "      dtype='object')"
      ]
     },
     "execution_count": 8,
     "metadata": {},
     "output_type": "execute_result"
    }
   ],
   "source": [
    "data.columns"
   ]
  },
  {
   "cell_type": "code",
   "execution_count": 175,
   "id": "3de00832",
   "metadata": {},
   "outputs": [],
   "source": [
    "Df = data[[ 'Quarter', 'Month', 'DayofMonth',\n",
    "       'CRSDepTime', 'CRSArrTime', \n",
    "       'windspeedKmph', 'winddirDegree', 'weatherCode', 'precipMM',\n",
    "       'visibility', 'pressure', 'cloudcover', 'DewPointF', 'WindGustKmph',\n",
    "       'tempF', 'WindChillF', 'humidity',  'Origin_ATL',\n",
    "       'Origin_CLT', 'Origin_DEN', 'Origin_DFW', 'Origin_EWR', 'Origin_IAH',\n",
    "       'Origin_JFK', 'Origin_LAS', 'Origin_LAX', 'Origin_MCO', 'Origin_MIA',\n",
    "       'Origin_ORD', 'Origin_PHX', 'Origin_SEA', 'Origin_SFO',\n",
    "       'Destination_ATL', 'Destination_CLT', 'Destination_DEN',\n",
    "       'Destination_DFW', 'Destination_EWR', 'Destination_IAH',\n",
    "       'Destination_JFK', 'Destination_LAS', 'Destination_LAX',\n",
    "       'Destination_MCO', 'Destination_MIA', 'Destination_ORD',\n",
    "       'Destination_PHX', 'Destination_SEA', 'Destination_SFO',  'DepDel15']]\n"
   ]
  },
  {
   "cell_type": "code",
   "execution_count": 176,
   "id": "09b55bfc",
   "metadata": {},
   "outputs": [
    {
     "data": {
      "text/html": [
       "<div>\n",
       "<style scoped>\n",
       "    .dataframe tbody tr th:only-of-type {\n",
       "        vertical-align: middle;\n",
       "    }\n",
       "\n",
       "    .dataframe tbody tr th {\n",
       "        vertical-align: top;\n",
       "    }\n",
       "\n",
       "    .dataframe thead th {\n",
       "        text-align: right;\n",
       "    }\n",
       "</style>\n",
       "<table border=\"1\" class=\"dataframe\">\n",
       "  <thead>\n",
       "    <tr style=\"text-align: right;\">\n",
       "      <th></th>\n",
       "      <th>Quarter</th>\n",
       "      <th>Month</th>\n",
       "      <th>DayofMonth</th>\n",
       "      <th>CRSDepTime</th>\n",
       "      <th>CRSArrTime</th>\n",
       "      <th>windspeedKmph</th>\n",
       "      <th>winddirDegree</th>\n",
       "      <th>weatherCode</th>\n",
       "      <th>precipMM</th>\n",
       "      <th>visibility</th>\n",
       "      <th>...</th>\n",
       "      <th>Destination_JFK</th>\n",
       "      <th>Destination_LAS</th>\n",
       "      <th>Destination_LAX</th>\n",
       "      <th>Destination_MCO</th>\n",
       "      <th>Destination_MIA</th>\n",
       "      <th>Destination_ORD</th>\n",
       "      <th>Destination_PHX</th>\n",
       "      <th>Destination_SEA</th>\n",
       "      <th>Destination_SFO</th>\n",
       "      <th>DepDel15</th>\n",
       "    </tr>\n",
       "  </thead>\n",
       "  <tbody>\n",
       "    <tr>\n",
       "      <th>0</th>\n",
       "      <td>1</td>\n",
       "      <td>1</td>\n",
       "      <td>1</td>\n",
       "      <td>2347</td>\n",
       "      <td>714</td>\n",
       "      <td>15</td>\n",
       "      <td>123</td>\n",
       "      <td>113</td>\n",
       "      <td>0.0</td>\n",
       "      <td>10</td>\n",
       "      <td>...</td>\n",
       "      <td>0</td>\n",
       "      <td>0</td>\n",
       "      <td>0</td>\n",
       "      <td>0</td>\n",
       "      <td>1</td>\n",
       "      <td>0</td>\n",
       "      <td>0</td>\n",
       "      <td>0</td>\n",
       "      <td>0</td>\n",
       "      <td>1.0</td>\n",
       "    </tr>\n",
       "    <tr>\n",
       "      <th>1</th>\n",
       "      <td>1</td>\n",
       "      <td>1</td>\n",
       "      <td>1</td>\n",
       "      <td>20</td>\n",
       "      <td>705</td>\n",
       "      <td>15</td>\n",
       "      <td>123</td>\n",
       "      <td>113</td>\n",
       "      <td>0.0</td>\n",
       "      <td>10</td>\n",
       "      <td>...</td>\n",
       "      <td>0</td>\n",
       "      <td>0</td>\n",
       "      <td>0</td>\n",
       "      <td>0</td>\n",
       "      <td>0</td>\n",
       "      <td>0</td>\n",
       "      <td>0</td>\n",
       "      <td>0</td>\n",
       "      <td>0</td>\n",
       "      <td>0.0</td>\n",
       "    </tr>\n",
       "    <tr>\n",
       "      <th>2</th>\n",
       "      <td>1</td>\n",
       "      <td>1</td>\n",
       "      <td>1</td>\n",
       "      <td>2359</td>\n",
       "      <td>603</td>\n",
       "      <td>15</td>\n",
       "      <td>38</td>\n",
       "      <td>113</td>\n",
       "      <td>0.0</td>\n",
       "      <td>10</td>\n",
       "      <td>...</td>\n",
       "      <td>0</td>\n",
       "      <td>0</td>\n",
       "      <td>0</td>\n",
       "      <td>0</td>\n",
       "      <td>0</td>\n",
       "      <td>1</td>\n",
       "      <td>0</td>\n",
       "      <td>0</td>\n",
       "      <td>0</td>\n",
       "      <td>0.0</td>\n",
       "    </tr>\n",
       "    <tr>\n",
       "      <th>3</th>\n",
       "      <td>1</td>\n",
       "      <td>1</td>\n",
       "      <td>1</td>\n",
       "      <td>30</td>\n",
       "      <td>823</td>\n",
       "      <td>15</td>\n",
       "      <td>38</td>\n",
       "      <td>113</td>\n",
       "      <td>0.0</td>\n",
       "      <td>10</td>\n",
       "      <td>...</td>\n",
       "      <td>0</td>\n",
       "      <td>0</td>\n",
       "      <td>0</td>\n",
       "      <td>0</td>\n",
       "      <td>1</td>\n",
       "      <td>0</td>\n",
       "      <td>0</td>\n",
       "      <td>0</td>\n",
       "      <td>0</td>\n",
       "      <td>0.0</td>\n",
       "    </tr>\n",
       "    <tr>\n",
       "      <th>4</th>\n",
       "      <td>1</td>\n",
       "      <td>1</td>\n",
       "      <td>1</td>\n",
       "      <td>10</td>\n",
       "      <td>501</td>\n",
       "      <td>15</td>\n",
       "      <td>38</td>\n",
       "      <td>113</td>\n",
       "      <td>0.0</td>\n",
       "      <td>10</td>\n",
       "      <td>...</td>\n",
       "      <td>0</td>\n",
       "      <td>0</td>\n",
       "      <td>0</td>\n",
       "      <td>0</td>\n",
       "      <td>0</td>\n",
       "      <td>0</td>\n",
       "      <td>0</td>\n",
       "      <td>0</td>\n",
       "      <td>0</td>\n",
       "      <td>0.0</td>\n",
       "    </tr>\n",
       "  </tbody>\n",
       "</table>\n",
       "<p>5 rows × 48 columns</p>\n",
       "</div>"
      ],
      "text/plain": [
       "   Quarter  Month  DayofMonth  CRSDepTime  CRSArrTime  windspeedKmph  \\\n",
       "0        1      1           1        2347         714             15   \n",
       "1        1      1           1          20         705             15   \n",
       "2        1      1           1        2359         603             15   \n",
       "3        1      1           1          30         823             15   \n",
       "4        1      1           1          10         501             15   \n",
       "\n",
       "   winddirDegree  weatherCode  precipMM  visibility  ...  Destination_JFK  \\\n",
       "0            123          113       0.0          10  ...                0   \n",
       "1            123          113       0.0          10  ...                0   \n",
       "2             38          113       0.0          10  ...                0   \n",
       "3             38          113       0.0          10  ...                0   \n",
       "4             38          113       0.0          10  ...                0   \n",
       "\n",
       "   Destination_LAS  Destination_LAX  Destination_MCO  Destination_MIA  \\\n",
       "0                0                0                0                1   \n",
       "1                0                0                0                0   \n",
       "2                0                0                0                0   \n",
       "3                0                0                0                1   \n",
       "4                0                0                0                0   \n",
       "\n",
       "   Destination_ORD  Destination_PHX  Destination_SEA  Destination_SFO  \\\n",
       "0                0                0                0                0   \n",
       "1                0                0                0                0   \n",
       "2                1                0                0                0   \n",
       "3                0                0                0                0   \n",
       "4                0                0                0                0   \n",
       "\n",
       "   DepDel15  \n",
       "0       1.0  \n",
       "1       0.0  \n",
       "2       0.0  \n",
       "3       0.0  \n",
       "4       0.0  \n",
       "\n",
       "[5 rows x 48 columns]"
      ]
     },
     "execution_count": 176,
     "metadata": {},
     "output_type": "execute_result"
    }
   ],
   "source": [
    "Df.head()"
   ]
  },
  {
   "cell_type": "code",
   "execution_count": 327,
   "id": "b00ff855",
   "metadata": {},
   "outputs": [],
   "source": [
    "X_train, X_test, y_train, y_test = train_test_split(Df.iloc[:, :-1], Df.iloc[:, -1], train_size=0.75, stratify=Df.iloc[:, -1].values, random_state=0)\n",
    "\n"
   ]
  },
  {
   "cell_type": "code",
   "execution_count": 328,
   "id": "ee3503d8",
   "metadata": {},
   "outputs": [
    {
     "data": {
      "text/plain": [
       "((1388566, 47), (1388566,))"
      ]
     },
     "execution_count": 328,
     "metadata": {},
     "output_type": "execute_result"
    }
   ],
   "source": [
    "X_train.shape, y_train.shape"
   ]
  },
  {
   "cell_type": "code",
   "execution_count": 329,
   "id": "9d0ec8b4",
   "metadata": {},
   "outputs": [
    {
     "data": {
      "text/plain": [
       "((462856, 47), (462856,))"
      ]
     },
     "execution_count": 329,
     "metadata": {},
     "output_type": "execute_result"
    }
   ],
   "source": [
    "X_test.shape, y_test.shape"
   ]
  },
  {
   "cell_type": "code",
   "execution_count": 330,
   "id": "6ba08b96",
   "metadata": {},
   "outputs": [
    {
     "data": {
      "text/plain": [
       "0.0    1109510\n",
       "1.0     279056\n",
       "Name: DepDel15, dtype: int64"
      ]
     },
     "execution_count": 330,
     "metadata": {},
     "output_type": "execute_result"
    }
   ],
   "source": [
    "y_train.value_counts()"
   ]
  },
  {
   "cell_type": "code",
   "execution_count": 331,
   "id": "0172d543",
   "metadata": {},
   "outputs": [
    {
     "data": {
      "text/plain": [
       "3.9759403130554443"
      ]
     },
     "execution_count": 331,
     "metadata": {},
     "output_type": "execute_result"
    }
   ],
   "source": [
    "# Negative to positive ratio\n",
    "ratio = 1109510/279056\n",
    "ratio"
   ]
  },
  {
   "cell_type": "code",
   "execution_count": 332,
   "id": "db62bd9c",
   "metadata": {},
   "outputs": [],
   "source": [
    "# xgb = XGBClassifier( n_estimators=400, colsample_bytree= 0.8, gamma= 0,learning_rate= 0.3, max_depth= 10,reg_lambda= 15,scale_pos_weight= 3.77, subsample= 0.8)\n",
    "# xgb = XGBClassifier()\n",
    "xgb = XGBClassifier( n_estimators=400, gamma= 0,learning_rate= 0.7, max_depth= 20,scale_pos_weight= 11)\n"
   ]
  },
  {
   "cell_type": "code",
   "execution_count": 333,
   "id": "ae4da95a",
   "metadata": {},
   "outputs": [],
   "source": [
    "from imblearn.under_sampling import RandomUnderSampler\n",
    "ros = RandomUnderSampler(random_state=23)\n",
    "X_train, y_train = ros.fit_resample(X_train.values, y_train.values)"
   ]
  },
  {
   "cell_type": "code",
   "execution_count": 334,
   "id": "f1253c07",
   "metadata": {},
   "outputs": [
    {
     "data": {
      "text/plain": [
       "array([279056, 279056])"
      ]
     },
     "execution_count": 334,
     "metadata": {},
     "output_type": "execute_result"
    }
   ],
   "source": [
    "np.bincount(y_train.astype('int'))"
   ]
  },
  {
   "cell_type": "code",
   "execution_count": 335,
   "id": "0c919d9f",
   "metadata": {},
   "outputs": [
    {
     "data": {
      "text/plain": [
       "array([-1.37386354, -1.33726976, -0.65273038,  1.50705574, -2.79210543,\n",
       "        0.04737258,  1.08104368, -0.49764994, -0.28074459,  0.32267497,\n",
       "        1.12150771, -0.91509815, -2.13728403,  0.08962505, -2.10959186,\n",
       "       -2.03429307, -0.7762511 ,  3.47757626, -0.21311464, -0.28770265,\n",
       "       -0.26853477, -0.24473009, -0.22270971, -0.23096664, -0.27454096,\n",
       "       -0.36785878, -0.23695185, -0.20941258, -0.30690961, -0.24808445,\n",
       "       -0.24961903, -0.32379977, -0.28489299, -0.20558898, -0.28387352,\n",
       "       -0.26454799, -0.2533923 , -0.21847132, -0.2404822 , -0.27753683,\n",
       "        2.76087305, -0.23895685, -0.20574988, -0.29492713, -0.25303173,\n",
       "       -0.25412026, -0.33491645])"
      ]
     },
     "execution_count": 335,
     "metadata": {},
     "output_type": "execute_result"
    }
   ],
   "source": [
    "sc = StandardScaler()\n",
    "X_train = sc.fit_transform(X_train)\n",
    "X_train[0]"
   ]
  },
  {
   "cell_type": "code",
   "execution_count": 336,
   "id": "acf5787e",
   "metadata": {},
   "outputs": [
    {
     "name": "stdout",
     "output_type": "stream",
     "text": [
      "CPU times: user 43min 14s, sys: 7min 32s, total: 50min 47s\n",
      "Wall time: 7min 33s\n"
     ]
    }
   ],
   "source": [
    "%%time\n",
    "model = xgb.fit(X_train ,y_train)\n",
    "# model = xgb.fit(X_train.values ,y_train.values)"
   ]
  },
  {
   "cell_type": "code",
   "execution_count": 337,
   "id": "8861fef5",
   "metadata": {},
   "outputs": [
    {
     "data": {
      "text/plain": [
       "array([ 1.37697528,  1.04584227,  1.28873002, -1.0687852 ,  0.13515864,\n",
       "       -0.86200897, -1.9937911 , -0.49764994, -0.28074459,  0.32267497,\n",
       "        0.3362275 , -1.0916482 , -0.91005133, -0.77643502, -0.32818393,\n",
       "       -0.27724853, -1.08912787, -0.2875566 , -0.21311464, -0.28770265,\n",
       "       -0.26853477, -0.24473009, -0.22270971, -0.23096664,  3.6424437 ,\n",
       "       -0.36785878, -0.23695185, -0.20941258, -0.30690961, -0.24808445,\n",
       "       -0.24961903, -0.32379977, -0.28489299, -0.20558898, -0.28387352,\n",
       "       -0.26454799, -0.2533923 , -0.21847132, -0.2404822 , -0.27753683,\n",
       "       -0.36220427,  4.18485598, -0.20574988, -0.29492713, -0.25303173,\n",
       "       -0.25412026, -0.33491645])"
      ]
     },
     "execution_count": 337,
     "metadata": {},
     "output_type": "execute_result"
    }
   ],
   "source": [
    "X_test = sc.transform(X_test)\n",
    "X_test[0]"
   ]
  },
  {
   "cell_type": "code",
   "execution_count": 338,
   "id": "dc23f71d",
   "metadata": {},
   "outputs": [],
   "source": [
    "prediction = model.predict(X_test)"
   ]
  },
  {
   "cell_type": "code",
   "execution_count": 339,
   "id": "0da0590c",
   "metadata": {},
   "outputs": [],
   "source": [
    "# predic_prob = np.max(model.predict_proba(X_test), axis=1)"
   ]
  },
  {
   "cell_type": "code",
   "execution_count": 340,
   "id": "805c2e95",
   "metadata": {},
   "outputs": [],
   "source": [
    "# predic_prob"
   ]
  },
  {
   "cell_type": "code",
   "execution_count": 341,
   "id": "c556d472",
   "metadata": {},
   "outputs": [],
   "source": [
    "# predictions_2 = np.where(predic_prob >= 0.999, 1, 0)"
   ]
  },
  {
   "cell_type": "code",
   "execution_count": 342,
   "id": "10c63f3d",
   "metadata": {},
   "outputs": [],
   "source": [
    "# predictions_2[:100]"
   ]
  },
  {
   "cell_type": "code",
   "execution_count": 312,
   "id": "dbacf75e",
   "metadata": {},
   "outputs": [
    {
     "data": {
      "text/plain": [
       "array([0., 0., 0., 0., 0., 1., 0., 0., 1., 0., 0., 0., 0., 0., 0., 0., 0.,\n",
       "       0., 0., 0., 0., 0., 0., 0., 1., 1., 0., 1., 0., 0., 0., 0., 0., 0.,\n",
       "       0., 0., 0., 0., 0., 0., 0., 0., 0., 0., 0., 1., 0., 0., 1., 0., 0.,\n",
       "       0., 0., 0., 0., 0., 1., 0., 0., 0., 0., 0., 0., 0., 0., 0., 0., 1.,\n",
       "       0., 0., 0., 1., 0., 0., 0., 0., 0., 0., 0., 0., 1., 0., 0., 0., 0.,\n",
       "       0., 0., 1., 0., 0., 0., 0., 0., 1., 0., 0., 0., 0., 0., 0.])"
      ]
     },
     "execution_count": 312,
     "metadata": {},
     "output_type": "execute_result"
    }
   ],
   "source": [
    "y_test.values[:100]"
   ]
  },
  {
   "cell_type": "code",
   "execution_count": 343,
   "id": "beb5be93",
   "metadata": {},
   "outputs": [
    {
     "data": {
      "text/plain": [
       "0.6481821560053235"
      ]
     },
     "execution_count": 343,
     "metadata": {},
     "output_type": "execute_result"
    }
   ],
   "source": [
    "accuracy_score(prediction, y_test.values )"
   ]
  },
  {
   "cell_type": "code",
   "execution_count": 344,
   "id": "8e42dfe7",
   "metadata": {},
   "outputs": [
    {
     "data": {
      "text/plain": [
       "0.4645765860555345"
      ]
     },
     "execution_count": 344,
     "metadata": {},
     "output_type": "execute_result"
    }
   ],
   "source": [
    "f1_score(prediction, y_test.values )"
   ]
  },
  {
   "cell_type": "code",
   "execution_count": 345,
   "id": "4dcfee5c",
   "metadata": {},
   "outputs": [
    {
     "name": "stdout",
     "output_type": "stream",
     "text": [
      "              precision    recall  f1-score   support\n",
      "\n",
      "           0       0.62      0.91      0.74    251740\n",
      "           1       0.76      0.33      0.46    211116\n",
      "\n",
      "    accuracy                           0.65    462856\n",
      "   macro avg       0.69      0.62      0.60    462856\n",
      "weighted avg       0.68      0.65      0.61    462856\n",
      "\n"
     ]
    }
   ],
   "source": [
    "print(classification_report(prediction, y_test))"
   ]
  },
  {
   "cell_type": "code",
   "execution_count": null,
   "id": "c39ec6cc",
   "metadata": {},
   "outputs": [],
   "source": []
  }
 ],
 "metadata": {
  "kernelspec": {
   "display_name": "Python 3 (ipykernel)",
   "language": "python",
   "name": "python3"
  },
  "language_info": {
   "codemirror_mode": {
    "name": "ipython",
    "version": 3
   },
   "file_extension": ".py",
   "mimetype": "text/x-python",
   "name": "python",
   "nbconvert_exporter": "python",
   "pygments_lexer": "ipython3",
   "version": "3.10.6"
  }
 },
 "nbformat": 4,
 "nbformat_minor": 5
}
