{
 "cells": [
  {
   "cell_type": "code",
   "execution_count": 12,
   "id": "c038599b",
   "metadata": {},
   "outputs": [],
   "source": [
    "import pandas as pd\n",
    "import numpy as np\n",
    "\n",
    "from xgboost import XGBClassifier\n",
    "\n",
    "from sklearn.decomposition import PCA\n",
    "from sklearn.model_selection import train_test_split\n",
    "from sklearn.pipeline import Pipeline\n",
    "from sklearn.preprocessing import OneHotEncoder, StandardScaler\n",
    "from sklearn.compose import ColumnTransformer\n",
    "from sklearn.metrics import accuracy_score, f1_score, classification_report\n",
    "\n",
    "import warnings\n",
    "warnings.filterwarnings(\"ignore\")"
   ]
  },
  {
   "cell_type": "code",
   "execution_count": 6,
   "id": "90c43333",
   "metadata": {},
   "outputs": [],
   "source": [
    "necessary_col = ['windspeedKmph', 'winddirDegree','precipMM',\n",
    "       'visibility', 'pressure', 'cloudcover', 'DewPointF', 'WindGustKmph',\n",
    "       'tempF', 'WindChillF', 'humidity', 'ArrDel15']"
   ]
  },
  {
   "cell_type": "code",
   "execution_count": 7,
   "id": "6c9d5fae",
   "metadata": {},
   "outputs": [],
   "source": [
    "data = pd.read_csv('../cleaned_data.csv')\n",
    "Df = data[necessary_col]"
   ]
  },
  {
   "cell_type": "code",
   "execution_count": 8,
   "id": "01a0dd6c",
   "metadata": {},
   "outputs": [
    {
     "name": "stdout",
     "output_type": "stream",
     "text": [
      "<class 'pandas.core.frame.DataFrame'>\n",
      "RangeIndex: 1851422 entries, 0 to 1851421\n",
      "Data columns (total 12 columns):\n",
      " #   Column         Dtype  \n",
      "---  ------         -----  \n",
      " 0   windspeedKmph  int64  \n",
      " 1   winddirDegree  int64  \n",
      " 2   precipMM       float64\n",
      " 3   visibility     int64  \n",
      " 4   pressure       int64  \n",
      " 5   cloudcover     float32\n",
      " 6   DewPointF      float32\n",
      " 7   WindGustKmph   float32\n",
      " 8   tempF          float32\n",
      " 9   WindChillF     float32\n",
      " 10  humidity       float32\n",
      " 11  ArrDel15       float32\n",
      "dtypes: float32(7), float64(1), int64(4)\n",
      "memory usage: 120.1 MB\n"
     ]
    }
   ],
   "source": [
    "Df.iloc[:, 5:17] = Df.iloc[:, 5:17].astype('float32')\n",
    "Df.info()"
   ]
  },
  {
   "cell_type": "code",
   "execution_count": 9,
   "id": "8dd8e94e",
   "metadata": {},
   "outputs": [
    {
     "data": {
      "text/html": [
       "<div>\n",
       "<style scoped>\n",
       "    .dataframe tbody tr th:only-of-type {\n",
       "        vertical-align: middle;\n",
       "    }\n",
       "\n",
       "    .dataframe tbody tr th {\n",
       "        vertical-align: top;\n",
       "    }\n",
       "\n",
       "    .dataframe thead th {\n",
       "        text-align: right;\n",
       "    }\n",
       "</style>\n",
       "<table border=\"1\" class=\"dataframe\">\n",
       "  <thead>\n",
       "    <tr style=\"text-align: right;\">\n",
       "      <th></th>\n",
       "      <th>windspeedKmph</th>\n",
       "      <th>winddirDegree</th>\n",
       "      <th>precipMM</th>\n",
       "      <th>visibility</th>\n",
       "      <th>pressure</th>\n",
       "      <th>cloudcover</th>\n",
       "      <th>DewPointF</th>\n",
       "      <th>WindGustKmph</th>\n",
       "      <th>tempF</th>\n",
       "      <th>WindChillF</th>\n",
       "      <th>humidity</th>\n",
       "      <th>ArrDel15</th>\n",
       "    </tr>\n",
       "  </thead>\n",
       "  <tbody>\n",
       "    <tr>\n",
       "      <th>0</th>\n",
       "      <td>15</td>\n",
       "      <td>123</td>\n",
       "      <td>0.0</td>\n",
       "      <td>10</td>\n",
       "      <td>1028</td>\n",
       "      <td>0.0</td>\n",
       "      <td>17.0</td>\n",
       "      <td>26.0</td>\n",
       "      <td>29.0</td>\n",
       "      <td>21.0</td>\n",
       "      <td>59.0</td>\n",
       "      <td>0.0</td>\n",
       "    </tr>\n",
       "    <tr>\n",
       "      <th>1</th>\n",
       "      <td>15</td>\n",
       "      <td>123</td>\n",
       "      <td>0.0</td>\n",
       "      <td>10</td>\n",
       "      <td>1028</td>\n",
       "      <td>0.0</td>\n",
       "      <td>17.0</td>\n",
       "      <td>26.0</td>\n",
       "      <td>29.0</td>\n",
       "      <td>21.0</td>\n",
       "      <td>59.0</td>\n",
       "      <td>0.0</td>\n",
       "    </tr>\n",
       "    <tr>\n",
       "      <th>2</th>\n",
       "      <td>15</td>\n",
       "      <td>38</td>\n",
       "      <td>0.0</td>\n",
       "      <td>10</td>\n",
       "      <td>1020</td>\n",
       "      <td>0.0</td>\n",
       "      <td>29.0</td>\n",
       "      <td>17.0</td>\n",
       "      <td>59.0</td>\n",
       "      <td>58.0</td>\n",
       "      <td>39.0</td>\n",
       "      <td>0.0</td>\n",
       "    </tr>\n",
       "    <tr>\n",
       "      <th>3</th>\n",
       "      <td>15</td>\n",
       "      <td>38</td>\n",
       "      <td>0.0</td>\n",
       "      <td>10</td>\n",
       "      <td>1020</td>\n",
       "      <td>0.0</td>\n",
       "      <td>29.0</td>\n",
       "      <td>17.0</td>\n",
       "      <td>59.0</td>\n",
       "      <td>58.0</td>\n",
       "      <td>39.0</td>\n",
       "      <td>0.0</td>\n",
       "    </tr>\n",
       "    <tr>\n",
       "      <th>4</th>\n",
       "      <td>15</td>\n",
       "      <td>38</td>\n",
       "      <td>0.0</td>\n",
       "      <td>10</td>\n",
       "      <td>1020</td>\n",
       "      <td>0.0</td>\n",
       "      <td>29.0</td>\n",
       "      <td>17.0</td>\n",
       "      <td>59.0</td>\n",
       "      <td>58.0</td>\n",
       "      <td>39.0</td>\n",
       "      <td>0.0</td>\n",
       "    </tr>\n",
       "  </tbody>\n",
       "</table>\n",
       "</div>"
      ],
      "text/plain": [
       "   windspeedKmph  winddirDegree  precipMM  visibility  pressure  cloudcover  \\\n",
       "0             15            123       0.0          10      1028         0.0   \n",
       "1             15            123       0.0          10      1028         0.0   \n",
       "2             15             38       0.0          10      1020         0.0   \n",
       "3             15             38       0.0          10      1020         0.0   \n",
       "4             15             38       0.0          10      1020         0.0   \n",
       "\n",
       "   DewPointF  WindGustKmph  tempF  WindChillF  humidity  ArrDel15  \n",
       "0       17.0          26.0   29.0        21.0      59.0       0.0  \n",
       "1       17.0          26.0   29.0        21.0      59.0       0.0  \n",
       "2       29.0          17.0   59.0        58.0      39.0       0.0  \n",
       "3       29.0          17.0   59.0        58.0      39.0       0.0  \n",
       "4       29.0          17.0   59.0        58.0      39.0       0.0  "
      ]
     },
     "execution_count": 9,
     "metadata": {},
     "output_type": "execute_result"
    }
   ],
   "source": [
    "Df.head()"
   ]
  },
  {
   "cell_type": "code",
   "execution_count": 14,
   "id": "376f2014",
   "metadata": {},
   "outputs": [],
   "source": [
    "X_train, X_test, y_train, y_test = train_test_split(Df.iloc[:, :-1], Df.iloc[:, -1], train_size=0.8, stratify=Df.iloc[:, -1].values, random_state=42)\n"
   ]
  },
  {
   "cell_type": "code",
   "execution_count": 15,
   "id": "74116d6c",
   "metadata": {},
   "outputs": [
    {
     "data": {
      "text/plain": [
       "((1481137, 11), (1481137,))"
      ]
     },
     "execution_count": 15,
     "metadata": {},
     "output_type": "execute_result"
    }
   ],
   "source": [
    "X_train.shape, y_train.shape"
   ]
  },
  {
   "cell_type": "code",
   "execution_count": 16,
   "id": "a8a51a49",
   "metadata": {},
   "outputs": [
    {
     "data": {
      "text/plain": [
       "0.0    1170693\n",
       "1.0     310444\n",
       "Name: ArrDel15, dtype: int64"
      ]
     },
     "execution_count": 16,
     "metadata": {},
     "output_type": "execute_result"
    }
   ],
   "source": [
    "y_train.value_counts()"
   ]
  },
  {
   "cell_type": "code",
   "execution_count": 38,
   "id": "8442b0d1",
   "metadata": {},
   "outputs": [
    {
     "data": {
      "text/plain": [
       "3.7710279470693586"
      ]
     },
     "execution_count": 38,
     "metadata": {},
     "output_type": "execute_result"
    }
   ],
   "source": [
    "# Negative to positive ratio\n",
    "ratio = 1170693/310444\n",
    "ratio"
   ]
  },
  {
   "cell_type": "code",
   "execution_count": 53,
   "id": "9d5c639f",
   "metadata": {},
   "outputs": [],
   "source": [
    "xgb = XGBClassifier(max_delta_step=10, n_estimators=400, colsample_bytree= 0.8, gamma= 0,learning_rate= 0.6, max_depth= 10,reg_lambda= 15,scale_pos_weight= 3.77, subsample= 0.8)\n"
   ]
  },
  {
   "cell_type": "code",
   "execution_count": 94,
   "id": "a8e7e5c8",
   "metadata": {},
   "outputs": [],
   "source": [
    "from imblearn.under_sampling import RandomUnderSampler\n",
    "ros = RandomUnderSampler(random_state=23)\n",
    "X_resampled, y_resampled = ros.fit_resample(X_train.values, y_train.values)"
   ]
  },
  {
   "cell_type": "code",
   "execution_count": 95,
   "id": "f2142e1e",
   "metadata": {},
   "outputs": [
    {
     "data": {
      "text/plain": [
       "array([310444, 310444])"
      ]
     },
     "execution_count": 95,
     "metadata": {},
     "output_type": "execute_result"
    }
   ],
   "source": [
    "np.bincount(y_resampled.astype('int'))"
   ]
  },
  {
   "cell_type": "code",
   "execution_count": 105,
   "id": "7771b05a",
   "metadata": {},
   "outputs": [
    {
     "data": {
      "text/plain": [
       "array([-0.51030525, -0.14872616, -0.26053836,  0.30915351,  0.92716028,\n",
       "       -1.07393088,  0.53464748, -0.296085  ,  0.15856761,  0.21498097,\n",
       "        0.24999958])"
      ]
     },
     "execution_count": 105,
     "metadata": {},
     "output_type": "execute_result"
    }
   ],
   "source": [
    "sc = StandardScaler()\n",
    "X_train_processed = sc.fit_transform(X_train)\n",
    "X_train_processed[0]"
   ]
  },
  {
   "cell_type": "code",
   "execution_count": null,
   "id": "40df6f6a",
   "metadata": {},
   "outputs": [],
   "source": [
    "%%time\n",
    "model = xgb.fit(X_train_processed ,y_train.values)"
   ]
  },
  {
   "cell_type": "code",
   "execution_count": 98,
   "id": "508f5606",
   "metadata": {},
   "outputs": [
    {
     "data": {
      "text/plain": [
       "array([-0.85954868,  0.48731847, -0.28385724,  0.32373772, -0.7532913 ,\n",
       "        1.4239963 , -0.78668725, -0.34399134, -1.07327025, -0.99849695,\n",
       "        0.20458912])"
      ]
     },
     "execution_count": 98,
     "metadata": {},
     "output_type": "execute_result"
    }
   ],
   "source": [
    "X_test_processed = sc.transform(X_test)\n",
    "X_test_processed[0]"
   ]
  },
  {
   "cell_type": "code",
   "execution_count": 99,
   "id": "b7ef9aa9",
   "metadata": {},
   "outputs": [],
   "source": [
    "prediction = model.predict(X_test_processed)"
   ]
  },
  {
   "cell_type": "code",
   "execution_count": 100,
   "id": "f6d0ce15",
   "metadata": {},
   "outputs": [
    {
     "data": {
      "text/plain": [
       "array([0, 1, 1, 0, 1, 0, 1, 1, 1, 1, 1, 1, 1, 1, 1, 1, 1, 1, 1, 1, 1, 1,\n",
       "       1, 0, 1, 1, 1, 0, 1, 1, 1, 1, 1, 0, 1, 1, 0, 1, 1, 1, 1, 1, 1, 1,\n",
       "       1, 1, 1, 1, 1, 1, 1, 1, 1, 1, 1, 0, 0, 1, 1, 1, 0, 1, 0, 1, 1, 0,\n",
       "       1, 1, 1, 0, 1, 1, 1, 0, 1, 1, 0, 0, 1, 0, 1, 1, 1, 1, 1, 1, 1, 1,\n",
       "       0, 1, 0, 1, 0, 1, 1, 0, 1, 1, 1, 0])"
      ]
     },
     "execution_count": 100,
     "metadata": {},
     "output_type": "execute_result"
    }
   ],
   "source": [
    "prediction[:100]"
   ]
  },
  {
   "cell_type": "code",
   "execution_count": 102,
   "id": "b3a25bd4",
   "metadata": {},
   "outputs": [
    {
     "data": {
      "text/plain": [
       "array([1., 1., 1., 0., 1., 0., 0., 0., 1., 0., 1., 0., 0., 0., 0., 0., 0.,\n",
       "       1., 0., 0., 0., 0., 0., 0., 0., 0., 0., 0., 0., 1., 0., 0., 0., 0.,\n",
       "       1., 0., 0., 0., 1., 0., 0., 1., 0., 0., 0., 0., 0., 0., 0., 0., 0.,\n",
       "       0., 0., 1., 0., 0., 0., 1., 0., 0., 0., 0., 0., 1., 0., 0., 1., 1.,\n",
       "       1., 0., 0., 1., 0., 0., 0., 0., 0., 0., 0., 0., 0., 0., 0., 0., 1.,\n",
       "       0., 1., 1., 0., 0., 0., 0., 0., 0., 0., 0., 1., 1., 0., 0.],\n",
       "      dtype=float32)"
      ]
     },
     "execution_count": 102,
     "metadata": {},
     "output_type": "execute_result"
    }
   ],
   "source": [
    "y_test.values[:100]"
   ]
  },
  {
   "cell_type": "code",
   "execution_count": 103,
   "id": "9fd2b12a",
   "metadata": {},
   "outputs": [
    {
     "data": {
      "text/plain": [
       "0.37050650174865307"
      ]
     },
     "execution_count": 103,
     "metadata": {},
     "output_type": "execute_result"
    }
   ],
   "source": [
    "accuracy_score(prediction, y_test.values )"
   ]
  },
  {
   "cell_type": "code",
   "execution_count": 104,
   "id": "11dcb66f",
   "metadata": {},
   "outputs": [
    {
     "data": {
      "text/plain": [
       "0.37475657319434974"
      ]
     },
     "execution_count": 104,
     "metadata": {},
     "output_type": "execute_result"
    }
   ],
   "source": [
    "f1_score(prediction, y_test.values )"
   ]
  },
  {
   "cell_type": "code",
   "execution_count": 75,
   "id": "a6b72f74",
   "metadata": {},
   "outputs": [
    {
     "name": "stdout",
     "output_type": "stream",
     "text": [
      "              precision    recall  f1-score   support\n",
      "\n",
      "           0       0.30      0.89      0.45     98906\n",
      "           1       0.86      0.25      0.38    271379\n",
      "\n",
      "    accuracy                           0.42    370285\n",
      "   macro avg       0.58      0.57      0.42    370285\n",
      "weighted avg       0.71      0.42      0.40    370285\n",
      "\n"
     ]
    }
   ],
   "source": [
    "print(classification_report(prediction, y_test))"
   ]
  },
  {
   "cell_type": "code",
   "execution_count": null,
   "id": "3b23b80a",
   "metadata": {},
   "outputs": [],
   "source": []
  }
 ],
 "metadata": {
  "kernelspec": {
   "display_name": "Python 3 (ipykernel)",
   "language": "python",
   "name": "python3"
  },
  "language_info": {
   "codemirror_mode": {
    "name": "ipython",
    "version": 3
   },
   "file_extension": ".py",
   "mimetype": "text/x-python",
   "name": "python",
   "nbconvert_exporter": "python",
   "pygments_lexer": "ipython3",
   "version": "3.10.6"
  }
 },
 "nbformat": 4,
 "nbformat_minor": 5
}
