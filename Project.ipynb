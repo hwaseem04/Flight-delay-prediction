{
 "cells": [
  {
   "cell_type": "code",
   "execution_count": 1,
   "id": "1cdbea8f",
   "metadata": {},
   "outputs": [],
   "source": [
    "import pandas as pd\n",
    "import numpy as np\n",
    "import os\n",
    "import warnings"
   ]
  },
  {
   "cell_type": "markdown",
   "id": "4ba9fc96",
   "metadata": {},
   "source": [
    "# 1. Preprocessing"
   ]
  },
  {
   "cell_type": "code",
   "execution_count": 2,
   "id": "a8eef23b",
   "metadata": {},
   "outputs": [],
   "source": [
    "warnings.filterwarnings(\"ignore\")"
   ]
  },
  {
   "cell_type": "code",
   "execution_count": 3,
   "id": "d4e81ae4",
   "metadata": {},
   "outputs": [],
   "source": [
    "flight_dir_2016 = r'2016'\n",
    "flight_dir_2017 = r'2017'"
   ]
  },
  {
   "cell_type": "code",
   "execution_count": 4,
   "id": "8d3f146a",
   "metadata": {},
   "outputs": [],
   "source": [
    "weather_dir = r\"/Weather\""
   ]
  },
  {
   "cell_type": "code",
   "execution_count": 5,
   "id": "db19963a",
   "metadata": {},
   "outputs": [],
   "source": [
    "airport_code = [\"ALT\", \"CLT\", \"DEN\", \"DFW\", \"EWR\", \"IAH\", \"JFK\", \"LAS\" ,\"LAX\", \"MCO\",\n",
    "               \"MIA\", \"ORD\", \"PHX\", \"SEA\", \"SFO\"]"
   ]
  },
  {
   "cell_type": "code",
   "execution_count": 6,
   "id": "e4adee63",
   "metadata": {},
   "outputs": [],
   "source": [
    "# weather_cols = ['windspeedKmph', 'windirDegree', 'weatherCode', 'percipMM', 'visibilty', 'pressure', 'cloudcover', 'DewPointF', 'WindGustKmph',\n",
    "#                 'tempF', 'WindChillF', 'humidity', 'date',  'time', 'airport']\n"
   ]
  },
  {
   "cell_type": "code",
   "execution_count": 7,
   "id": "882ad059",
   "metadata": {},
   "outputs": [],
   "source": [
    "flight_cols = [\"FlightDate\", \"Quarter\", \"Year\", \"Month\", \"DayofMonth\", \"DepTime\",\n",
    "              \"DepDel15\", \"CRSDepTime\", \"DepDelayMinutes\", \"OriginAirportID\", \"DestAirportID\",\n",
    "              \"ArrTime\", \"CRSArrTime\", \"ArrDel15\", \"ArrDelayMinutes\"]"
   ]
  },
  {
   "cell_type": "markdown",
   "id": "da2bbb9c",
   "metadata": {},
   "source": [
    "## Flight data"
   ]
  },
  {
   "cell_type": "code",
   "execution_count": 8,
   "id": "e651da4a",
   "metadata": {},
   "outputs": [],
   "source": [
    "Folders_2016 = os.listdir(flight_dir_2016)\n",
    "Folders_2016.sort()\n",
    "if '.DS_Store' in Folders_2016:\n",
    "    Folders_2016.remove('.DS_Store')\n",
    "Folders_2017 = os.listdir(flight_dir_2017)\n",
    "Folders_2017.sort()\n",
    "if '.DS_Store' in Folders_2017:\n",
    "    Folders_2017.remove('.DS_Store')"
   ]
  },
  {
   "cell_type": "code",
   "execution_count": 9,
   "id": "107e067b",
   "metadata": {},
   "outputs": [
    {
     "name": "stdout",
     "output_type": "stream",
     "text": [
      "['On_Time_On_Time_Performance_2016_1', 'On_Time_On_Time_Performance_2016_10', 'On_Time_On_Time_Performance_2016_11', 'On_Time_On_Time_Performance_2016_12', 'On_Time_On_Time_Performance_2016_2', 'On_Time_On_Time_Performance_2016_3', 'On_Time_On_Time_Performance_2016_4', 'On_Time_On_Time_Performance_2016_5', 'On_Time_On_Time_Performance_2016_6', 'On_Time_On_Time_Performance_2016_7', 'On_Time_On_Time_Performance_2016_8', 'On_Time_On_Time_Performance_2016_9']\n",
      "\n",
      "['On_Time_On_Time_Performance_2017_1', 'On_Time_On_Time_Performance_2017_10', 'On_Time_On_Time_Performance_2017_11', 'On_Time_On_Time_Performance_2017_12', 'On_Time_On_Time_Performance_2017_2', 'On_Time_On_Time_Performance_2017_3', 'On_Time_On_Time_Performance_2017_4', 'On_Time_On_Time_Performance_2017_5', 'On_Time_On_Time_Performance_2017_6', 'On_Time_On_Time_Performance_2017_7', 'On_Time_On_Time_Performance_2017_8', 'On_Time_On_Time_Performance_2017_9']\n"
     ]
    }
   ],
   "source": [
    "print(Folders_2016)\n",
    "print()\n",
    "print(Folders_2017)"
   ]
  },
  {
   "cell_type": "code",
   "execution_count": 10,
   "id": "379389f0",
   "metadata": {},
   "outputs": [],
   "source": [
    "def extract_files(mainDir, Folder):\n",
    "    files = []\n",
    "    for i in Folder:\n",
    "        k = os.listdir(os.path.join(mainDir, i))\n",
    "        k.sort()\n",
    "        files.append(k[0])\n",
    "    files.sort()\n",
    "    return files"
   ]
  },
  {
   "cell_type": "code",
   "execution_count": 11,
   "id": "071a8ebe",
   "metadata": {},
   "outputs": [],
   "source": [
    "files_2016 = extract_files(flight_dir_2016, Folders_2016)\n",
    "# files_2016"
   ]
  },
  {
   "cell_type": "code",
   "execution_count": 12,
   "id": "aaa415c6",
   "metadata": {},
   "outputs": [],
   "source": [
    "files_2017 = extract_files(flight_dir_2017, Folders_2017)\n",
    "# files_2017"
   ]
  },
  {
   "cell_type": "markdown",
   "id": "53d35c0b",
   "metadata": {},
   "source": [
    "Target Rows: 1877296, 15"
   ]
  },
  {
   "cell_type": "code",
   "execution_count": 13,
   "id": "64284006",
   "metadata": {},
   "outputs": [
    {
     "data": {
      "text/plain": [
       "['2016/On_Time_On_Time_Performance_2016_1/On_Time_On_Time_Performance_2016_1.csv',\n",
       " '2016/On_Time_On_Time_Performance_2016_10/On_Time_On_Time_Performance_2016_10.csv',\n",
       " '2016/On_Time_On_Time_Performance_2016_11/On_Time_On_Time_Performance_2016_11.csv',\n",
       " '2016/On_Time_On_Time_Performance_2016_12/On_Time_On_Time_Performance_2016_12.csv',\n",
       " '2016/On_Time_On_Time_Performance_2016_2/On_Time_On_Time_Performance_2016_2.csv',\n",
       " '2016/On_Time_On_Time_Performance_2016_3/On_Time_On_Time_Performance_2016_3.csv',\n",
       " '2016/On_Time_On_Time_Performance_2016_4/On_Time_On_Time_Performance_2016_4.csv',\n",
       " '2016/On_Time_On_Time_Performance_2016_5/On_Time_On_Time_Performance_2016_5.csv',\n",
       " '2016/On_Time_On_Time_Performance_2016_6/On_Time_On_Time_Performance_2016_6.csv',\n",
       " '2016/On_Time_On_Time_Performance_2016_7/On_Time_On_Time_Performance_2016_7.csv',\n",
       " '2016/On_Time_On_Time_Performance_2016_8/On_Time_On_Time_Performance_2016_8.csv',\n",
       " '2016/On_Time_On_Time_Performance_2016_9/On_Time_On_Time_Performance_2016_9.csv',\n",
       " '2017/On_Time_On_Time_Performance_2017_1/On_Time_On_Time_Performance_2017_1.csv',\n",
       " '2017/On_Time_On_Time_Performance_2017_10/On_Time_On_Time_Performance_2017_10.csv',\n",
       " '2017/On_Time_On_Time_Performance_2017_11/On_Time_On_Time_Performance_2017_11.csv',\n",
       " '2017/On_Time_On_Time_Performance_2017_12/On_Time_On_Time_Performance_2017_12.csv',\n",
       " '2017/On_Time_On_Time_Performance_2017_2/On_Time_On_Time_Performance_2017_2.csv',\n",
       " '2017/On_Time_On_Time_Performance_2017_3/On_Time_On_Time_Performance_2017_3.csv',\n",
       " '2017/On_Time_On_Time_Performance_2017_4/On_Time_On_Time_Performance_2017_4.csv',\n",
       " '2017/On_Time_On_Time_Performance_2017_5/On_Time_On_Time_Performance_2017_5.csv',\n",
       " '2017/On_Time_On_Time_Performance_2017_6/On_Time_On_Time_Performance_2017_6.csv',\n",
       " '2017/On_Time_On_Time_Performance_2017_7/On_Time_On_Time_Performance_2017_7.csv',\n",
       " '2017/On_Time_On_Time_Performance_2017_8/On_Time_On_Time_Performance_2017_8.csv',\n",
       " '2017/On_Time_On_Time_Performance_2017_9/On_Time_On_Time_Performance_2017_9.csv']"
      ]
     },
     "execution_count": 13,
     "metadata": {},
     "output_type": "execute_result"
    }
   ],
   "source": [
    "all_files = []\n",
    "for i, folder in enumerate(Folders_2016):\n",
    "    all_files.append(os.path.join(flight_dir_2016, folder, files_2016[i]))\n",
    "for i, folder in enumerate(Folders_2017):\n",
    "    all_files.append(os.path.join(flight_dir_2017, folder, files_2017[i])) \n",
    "all_files"
   ]
  },
  {
   "cell_type": "code",
   "execution_count": 73,
   "id": "0078ef09",
   "metadata": {},
   "outputs": [],
   "source": [
    "def retrieve_data(files):\n",
    "    global Main_df\n",
    "    count = 0\n",
    "    for file in files:\n",
    "        data = pd.read_csv(file)\n",
    "#         print( data.shape, end=\" \")\n",
    "        count += data.shape[0]\n",
    "        data = data[flight_cols+['Origin', 'Dest']]\n",
    "#         print(data.shape, end=\" \")\n",
    "        data = data[(data['Origin'].isin(airport_code)) & (data['Dest'].isin(airport_code))]\n",
    "        print(data.shape, \" \")\n",
    "        Main_df = pd.concat([Main_df, data])\n",
    "        print(Main_df.shape)\n",
    "    print(count)"
   ]
  },
  {
   "cell_type": "code",
   "execution_count": 72,
   "id": "4d1dc058",
   "metadata": {},
   "outputs": [
    {
     "name": "stdout",
     "output_type": "stream",
     "text": [
      "(445827, 110) (445827, 17) (63342, 17)  \n",
      "(63342, 17)\n",
      "(472626, 110) (472626, 17) (67231, 17)  \n",
      "(130573, 17)\n",
      "(450938, 110) (450938, 17) (63481, 17)  \n",
      "(194054, 17)\n",
      "(460949, 110) (460949, 17) (65356, 17)  \n",
      "(259410, 17)\n",
      "(423889, 110) (423889, 17) (59552, 17)  \n",
      "(318962, 17)\n",
      "(479122, 110) (479122, 17) (67161, 17)  \n",
      "(386123, 17)\n",
      "(461630, 110) (461630, 17) (65299, 17)  \n",
      "(451422, 17)\n",
      "(479358, 110) (479358, 17) (68513, 17)  \n",
      "(519935, 17)\n",
      "(487637, 110) (487637, 17) (69070, 17)  \n",
      "(589005, 17)\n",
      "(502457, 110) (502457, 17) (71425, 17)  \n",
      "(660430, 17)\n",
      "(498347, 110) (498347, 17) (71583, 17)  \n",
      "(732013, 17)\n",
      "(454878, 110) (454878, 17) (64780, 17)  \n",
      "(796793, 17)\n",
      "(450017, 110) (450017, 17) (63393, 17)  \n",
      "(860186, 17)\n",
      "(479797, 110) (479797, 17) (65973, 17)  \n",
      "(926159, 17)\n",
      "(454162, 110) (454162, 17) (61878, 17)  \n",
      "(988037, 17)\n",
      "(464205, 110) (464205, 17) (64195, 17)  \n",
      "(1052232, 17)\n",
      "(410517, 110) (410517, 17) (56983, 17)  \n",
      "(1109215, 17)\n",
      "(488597, 110) (488597, 17) (66536, 17)  \n",
      "(1175751, 17)\n",
      "(468329, 110) (468329, 17) (63931, 17)  \n",
      "(1239682, 17)\n",
      "(486483, 110) (486483, 17) (67716, 17)  \n",
      "(1307398, 17)\n",
      "(494266, 110) (494266, 17) (67831, 17)  \n",
      "(1375229, 17)\n",
      "(509070, 110) (509070, 17) (69787, 17)  \n",
      "(1445016, 17)\n",
      "(510451, 110) (510451, 17) (70687, 17)  \n",
      "(1515703, 17)\n",
      "(458727, 110) (458727, 17) (63129, 17)  \n",
      "(1578832, 17)\n",
      "11292279\n"
     ]
    }
   ],
   "source": [
    "Main_df = pd.DataFrame()\n",
    "retrieve_data(all_files)"
   ]
  },
  {
   "cell_type": "code",
   "execution_count": 16,
   "id": "73d39ce1",
   "metadata": {},
   "outputs": [
    {
     "data": {
      "text/plain": [
       "(1578832, 17)"
      ]
     },
     "execution_count": 16,
     "metadata": {},
     "output_type": "execute_result"
    }
   ],
   "source": [
    "Main_df.shape"
   ]
  },
  {
   "cell_type": "code",
   "execution_count": 17,
   "id": "d63f289b",
   "metadata": {},
   "outputs": [
    {
     "name": "stdout",
     "output_type": "stream",
     "text": [
      "<class 'pandas.core.frame.DataFrame'>\n",
      "Int64Index: 1578832 entries, 57 to 458711\n",
      "Data columns (total 17 columns):\n",
      " #   Column           Non-Null Count    Dtype  \n",
      "---  ------           --------------    -----  \n",
      " 0   FlightDate       1578832 non-null  object \n",
      " 1   Quarter          1578832 non-null  int64  \n",
      " 2   Year             1578832 non-null  int64  \n",
      " 3   Month            1578832 non-null  int64  \n",
      " 4   DayofMonth       1578832 non-null  int64  \n",
      " 5   DepTime          1560778 non-null  float64\n",
      " 6   DepDel15         1560771 non-null  float64\n",
      " 7   CRSDepTime       1578832 non-null  int64  \n",
      " 8   DepDelayMinutes  1560771 non-null  float64\n",
      " 9   OriginAirportID  1578832 non-null  int64  \n",
      " 10  DestAirportID    1578832 non-null  int64  \n",
      " 11  ArrTime          1559814 non-null  float64\n",
      " 12  CRSArrTime       1578832 non-null  int64  \n",
      " 13  ArrDel15         1556652 non-null  float64\n",
      " 14  ArrDelayMinutes  1556652 non-null  float64\n",
      " 15  Origin           1578832 non-null  object \n",
      " 16  Dest             1578832 non-null  object \n",
      "dtypes: float64(6), int64(8), object(3)\n",
      "memory usage: 216.8+ MB\n"
     ]
    }
   ],
   "source": [
    "Main_df.info()"
   ]
  },
  {
   "cell_type": "code",
   "execution_count": 18,
   "id": "67ff514a",
   "metadata": {},
   "outputs": [
    {
     "data": {
      "text/plain": [
       "(1556652, 17)"
      ]
     },
     "execution_count": 18,
     "metadata": {},
     "output_type": "execute_result"
    }
   ],
   "source": [
    "Df = Main_df.dropna() ## Drop all null values\n",
    "Df['FlightDate'] = pd.to_datetime(Df['FlightDate']) # Convert object to pandas date type\n",
    "Df.shape"
   ]
  },
  {
   "cell_type": "code",
   "execution_count": 19,
   "id": "d39e11f8",
   "metadata": {},
   "outputs": [
    {
     "data": {
      "text/plain": [
       "0"
      ]
     },
     "execution_count": 19,
     "metadata": {},
     "output_type": "execute_result"
    }
   ],
   "source": [
    "(23+1) % 24"
   ]
  },
  {
   "cell_type": "code",
   "execution_count": 20,
   "id": "8f18b101",
   "metadata": {},
   "outputs": [],
   "source": [
    "def process_for_flight(x):\n",
    "    date = x['FlightDate']\n",
    "    time = x['DepTime']\n",
    "#     print(type(date))\n",
    "    time = str(int(time))\n",
    "    time = time.zfill(4)\n",
    "    hr, mns = time[:2], time[2:]\n",
    "    flag = 0\n",
    "    \n",
    "    if int(mns) > 30 or hr=='24':  # I could see certain departure time is given as 24:00\n",
    "        flag = 1\n",
    "        hr = (int(hr) + 1) % 24\n",
    "\n",
    "    if flag == 1 and hr == 0:\n",
    "        one_day = pd.Timedelta(days=1)\n",
    "        date += one_day\n",
    "    \n",
    "    return date, str(hr).zfill(2)"
   ]
  },
  {
   "cell_type": "code",
   "execution_count": 21,
   "id": "93a16fd5",
   "metadata": {},
   "outputs": [],
   "source": [
    "k = Df[['FlightDate','DepTime']].apply(process_for_flight, axis=1)\n",
    "date = k.apply(lambda x: x[0])\n",
    "hour = k.apply(lambda x: x[1])"
   ]
  },
  {
   "cell_type": "code",
   "execution_count": 22,
   "id": "a696fbea",
   "metadata": {},
   "outputs": [],
   "source": [
    "Df['RoundedFlightDate'] = date\n",
    "Df['DepatHr'] = hour"
   ]
  },
  {
   "cell_type": "code",
   "execution_count": 23,
   "id": "c0fc0469",
   "metadata": {},
   "outputs": [],
   "source": [
    "Df['Delayed'] = np.where(Df['DepDelayMinutes'] > 0, 1, 0)"
   ]
  },
  {
   "cell_type": "code",
   "execution_count": 24,
   "id": "5ec89ccf",
   "metadata": {},
   "outputs": [
    {
     "data": {
      "text/html": [
       "<div>\n",
       "<style scoped>\n",
       "    .dataframe tbody tr th:only-of-type {\n",
       "        vertical-align: middle;\n",
       "    }\n",
       "\n",
       "    .dataframe tbody tr th {\n",
       "        vertical-align: top;\n",
       "    }\n",
       "\n",
       "    .dataframe thead th {\n",
       "        text-align: right;\n",
       "    }\n",
       "</style>\n",
       "<table border=\"1\" class=\"dataframe\">\n",
       "  <thead>\n",
       "    <tr style=\"text-align: right;\">\n",
       "      <th></th>\n",
       "      <th>FlightDate</th>\n",
       "      <th>Quarter</th>\n",
       "      <th>Year</th>\n",
       "      <th>Month</th>\n",
       "      <th>DayofMonth</th>\n",
       "      <th>DepTime</th>\n",
       "      <th>DepDel15</th>\n",
       "      <th>CRSDepTime</th>\n",
       "      <th>DepDelayMinutes</th>\n",
       "      <th>OriginAirportID</th>\n",
       "      <th>DestAirportID</th>\n",
       "      <th>ArrTime</th>\n",
       "      <th>CRSArrTime</th>\n",
       "      <th>ArrDel15</th>\n",
       "      <th>ArrDelayMinutes</th>\n",
       "      <th>Origin</th>\n",
       "      <th>Dest</th>\n",
       "      <th>RoundedFlightDate</th>\n",
       "      <th>DepatHr</th>\n",
       "      <th>Delayed</th>\n",
       "    </tr>\n",
       "  </thead>\n",
       "  <tbody>\n",
       "    <tr>\n",
       "      <th>57</th>\n",
       "      <td>2016-01-01</td>\n",
       "      <td>1</td>\n",
       "      <td>2016</td>\n",
       "      <td>1</td>\n",
       "      <td>1</td>\n",
       "      <td>741.0</td>\n",
       "      <td>0.0</td>\n",
       "      <td>745</td>\n",
       "      <td>0.0</td>\n",
       "      <td>14747</td>\n",
       "      <td>12478</td>\n",
       "      <td>1610.0</td>\n",
       "      <td>1602</td>\n",
       "      <td>0.0</td>\n",
       "      <td>8.0</td>\n",
       "      <td>SEA</td>\n",
       "      <td>JFK</td>\n",
       "      <td>2016-01-01</td>\n",
       "      <td>08</td>\n",
       "      <td>0</td>\n",
       "    </tr>\n",
       "    <tr>\n",
       "      <th>58</th>\n",
       "      <td>2016-01-02</td>\n",
       "      <td>1</td>\n",
       "      <td>2016</td>\n",
       "      <td>1</td>\n",
       "      <td>2</td>\n",
       "      <td>737.0</td>\n",
       "      <td>0.0</td>\n",
       "      <td>745</td>\n",
       "      <td>0.0</td>\n",
       "      <td>14747</td>\n",
       "      <td>12478</td>\n",
       "      <td>1613.0</td>\n",
       "      <td>1602</td>\n",
       "      <td>0.0</td>\n",
       "      <td>11.0</td>\n",
       "      <td>SEA</td>\n",
       "      <td>JFK</td>\n",
       "      <td>2016-01-02</td>\n",
       "      <td>08</td>\n",
       "      <td>0</td>\n",
       "    </tr>\n",
       "    <tr>\n",
       "      <th>59</th>\n",
       "      <td>2016-01-03</td>\n",
       "      <td>1</td>\n",
       "      <td>2016</td>\n",
       "      <td>1</td>\n",
       "      <td>3</td>\n",
       "      <td>743.0</td>\n",
       "      <td>0.0</td>\n",
       "      <td>745</td>\n",
       "      <td>0.0</td>\n",
       "      <td>14747</td>\n",
       "      <td>12478</td>\n",
       "      <td>1547.0</td>\n",
       "      <td>1602</td>\n",
       "      <td>0.0</td>\n",
       "      <td>0.0</td>\n",
       "      <td>SEA</td>\n",
       "      <td>JFK</td>\n",
       "      <td>2016-01-03</td>\n",
       "      <td>08</td>\n",
       "      <td>0</td>\n",
       "    </tr>\n",
       "    <tr>\n",
       "      <th>60</th>\n",
       "      <td>2016-01-04</td>\n",
       "      <td>1</td>\n",
       "      <td>2016</td>\n",
       "      <td>1</td>\n",
       "      <td>4</td>\n",
       "      <td>737.0</td>\n",
       "      <td>0.0</td>\n",
       "      <td>745</td>\n",
       "      <td>0.0</td>\n",
       "      <td>14747</td>\n",
       "      <td>12478</td>\n",
       "      <td>1551.0</td>\n",
       "      <td>1602</td>\n",
       "      <td>0.0</td>\n",
       "      <td>0.0</td>\n",
       "      <td>SEA</td>\n",
       "      <td>JFK</td>\n",
       "      <td>2016-01-04</td>\n",
       "      <td>08</td>\n",
       "      <td>0</td>\n",
       "    </tr>\n",
       "    <tr>\n",
       "      <th>61</th>\n",
       "      <td>2016-01-05</td>\n",
       "      <td>1</td>\n",
       "      <td>2016</td>\n",
       "      <td>1</td>\n",
       "      <td>5</td>\n",
       "      <td>708.0</td>\n",
       "      <td>0.0</td>\n",
       "      <td>710</td>\n",
       "      <td>0.0</td>\n",
       "      <td>14747</td>\n",
       "      <td>12478</td>\n",
       "      <td>1524.0</td>\n",
       "      <td>1527</td>\n",
       "      <td>0.0</td>\n",
       "      <td>0.0</td>\n",
       "      <td>SEA</td>\n",
       "      <td>JFK</td>\n",
       "      <td>2016-01-05</td>\n",
       "      <td>07</td>\n",
       "      <td>0</td>\n",
       "    </tr>\n",
       "  </tbody>\n",
       "</table>\n",
       "</div>"
      ],
      "text/plain": [
       "   FlightDate  Quarter  Year  Month  DayofMonth  DepTime  DepDel15  \\\n",
       "57 2016-01-01        1  2016      1           1    741.0       0.0   \n",
       "58 2016-01-02        1  2016      1           2    737.0       0.0   \n",
       "59 2016-01-03        1  2016      1           3    743.0       0.0   \n",
       "60 2016-01-04        1  2016      1           4    737.0       0.0   \n",
       "61 2016-01-05        1  2016      1           5    708.0       0.0   \n",
       "\n",
       "    CRSDepTime  DepDelayMinutes  OriginAirportID  DestAirportID  ArrTime  \\\n",
       "57         745              0.0            14747          12478   1610.0   \n",
       "58         745              0.0            14747          12478   1613.0   \n",
       "59         745              0.0            14747          12478   1547.0   \n",
       "60         745              0.0            14747          12478   1551.0   \n",
       "61         710              0.0            14747          12478   1524.0   \n",
       "\n",
       "    CRSArrTime  ArrDel15  ArrDelayMinutes Origin Dest RoundedFlightDate  \\\n",
       "57        1602       0.0              8.0    SEA  JFK        2016-01-01   \n",
       "58        1602       0.0             11.0    SEA  JFK        2016-01-02   \n",
       "59        1602       0.0              0.0    SEA  JFK        2016-01-03   \n",
       "60        1602       0.0              0.0    SEA  JFK        2016-01-04   \n",
       "61        1527       0.0              0.0    SEA  JFK        2016-01-05   \n",
       "\n",
       "   DepatHr  Delayed  \n",
       "57      08        0  \n",
       "58      08        0  \n",
       "59      08        0  \n",
       "60      08        0  \n",
       "61      07        0  "
      ]
     },
     "execution_count": 24,
     "metadata": {},
     "output_type": "execute_result"
    }
   ],
   "source": [
    "Df.head()"
   ]
  },
  {
   "cell_type": "code",
   "execution_count": 25,
   "id": "377373e8",
   "metadata": {},
   "outputs": [
    {
     "name": "stdout",
     "output_type": "stream",
     "text": [
      "Number of flights delayed: 613684, not delayed: 942968\n"
     ]
    }
   ],
   "source": [
    "print(f\"Number of flights delayed: {Df['Delayed'].value_counts()[1]}, not delayed: {Df['Delayed'].value_counts()[0]}\")"
   ]
  },
  {
   "cell_type": "markdown",
   "id": "6e4541da",
   "metadata": {},
   "source": [
    "## Weather data"
   ]
  },
  {
   "cell_type": "code",
   "execution_count": 26,
   "id": "97079e78",
   "metadata": {},
   "outputs": [],
   "source": [
    "import json\n",
    "from pandas import json_normalize\n",
    "import re"
   ]
  },
  {
   "cell_type": "code",
   "execution_count": 27,
   "id": "49e219e3",
   "metadata": {},
   "outputs": [],
   "source": [
    "def weather_files(directory):\n",
    "    reqd_files = []\n",
    "    Folders = os.listdir(directory)\n",
    "    if '.DS_Store' in Folders:\n",
    "        Folders.remove('.DS_Store')\n",
    "    s = r'201(6|7)-\\d{1,2}.json'\n",
    "    for folder in Folders:\n",
    "        all_files = os.listdir(os.path.join(directory, folder))\n",
    "        for file in all_files:\n",
    "            if re.search(s, file):\n",
    "                reqd_files.append(os.path.join(directory, folder,file))\n",
    "    reqd_files.sort()\n",
    "    return reqd_files"
   ]
  },
  {
   "cell_type": "code",
   "execution_count": 28,
   "id": "9d8d5fb0",
   "metadata": {},
   "outputs": [],
   "source": [
    "all_weather_files = weather_files('Weather')\n",
    "# all_weather_files"
   ]
  },
  {
   "cell_type": "code",
   "execution_count": 29,
   "id": "a3f9939f",
   "metadata": {},
   "outputs": [
    {
     "data": {
      "text/plain": [
       "(360, 360)"
      ]
     },
     "execution_count": 29,
     "metadata": {},
     "output_type": "execute_result"
    }
   ],
   "source": [
    "len(all_weather_files), 15 * 24"
   ]
  },
  {
   "cell_type": "code",
   "execution_count": 30,
   "id": "94445c52",
   "metadata": {},
   "outputs": [],
   "source": [
    "def  merge_all_airports(all_weather_files):\n",
    "    global Df2\n",
    "    keys = ['windspeedKmph','winddirDegree', 'weatherCode', 'precipMM',\n",
    "            'visibility', 'pressure', 'cloudcover', 'DewPointF', 'WindGustKmph',\n",
    "            'tempF', 'WindChillF', 'humidity', 'time']\n",
    "    for file in all_weather_files:\n",
    "        airport = file.split('/')[1]\n",
    "        #print(airport)\n",
    "        f = open(file)\n",
    "        D = json.load(f)\n",
    "        data = json_normalize(D['data']['weather'])[['hourly', 'date']]\n",
    "        data['date'] = pd.to_datetime(data['date'])\n",
    "        data['airport'] = airport\n",
    "        data = data.explode('hourly').reset_index(drop=True)\n",
    "        data[keys] = pd.json_normalize(data['hourly'])[keys]\n",
    "        data.drop(columns=['hourly'], inplace=True)\n",
    "        Df2 = pd.concat([Df2, data])"
   ]
  },
  {
   "cell_type": "code",
   "execution_count": 31,
   "id": "92a683c0",
   "metadata": {},
   "outputs": [],
   "source": [
    "Df2 = pd.DataFrame()\n",
    "merge_all_airports(all_weather_files)"
   ]
  },
  {
   "cell_type": "code",
   "execution_count": 32,
   "id": "ca3cbd1b",
   "metadata": {},
   "outputs": [
    {
     "name": "stdout",
     "output_type": "stream",
     "text": [
      "<class 'pandas.core.frame.DataFrame'>\n",
      "Int64Index: 263160 entries, 0 to 719\n",
      "Data columns (total 15 columns):\n",
      " #   Column         Non-Null Count   Dtype         \n",
      "---  ------         --------------   -----         \n",
      " 0   date           263160 non-null  datetime64[ns]\n",
      " 1   airport        263160 non-null  object        \n",
      " 2   windspeedKmph  263160 non-null  object        \n",
      " 3   winddirDegree  263160 non-null  object        \n",
      " 4   weatherCode    263160 non-null  object        \n",
      " 5   precipMM       263160 non-null  object        \n",
      " 6   visibility     263160 non-null  object        \n",
      " 7   pressure       263160 non-null  object        \n",
      " 8   cloudcover     263160 non-null  object        \n",
      " 9   DewPointF      263160 non-null  object        \n",
      " 10  WindGustKmph   263160 non-null  object        \n",
      " 11  tempF          263160 non-null  object        \n",
      " 12  WindChillF     263160 non-null  object        \n",
      " 13  humidity       263160 non-null  object        \n",
      " 14  time           263160 non-null  object        \n",
      "dtypes: datetime64[ns](1), object(14)\n",
      "memory usage: 32.1+ MB\n"
     ]
    }
   ],
   "source": [
    "Df2.info()"
   ]
  },
  {
   "cell_type": "markdown",
   "id": "f291fe82",
   "metadata": {},
   "source": [
    "#### To do\n",
    "- Merge with flight data based on flight departure time and weather time on a particular date\n"
   ]
  },
  {
   "cell_type": "markdown",
   "id": "625420ff",
   "metadata": {},
   "source": [
    "## Merging Flight data with weather"
   ]
  },
  {
   "cell_type": "markdown",
   "id": "07a7b046",
   "metadata": {},
   "source": [
    "* (np.unique(Df['FlightDate']) == my_range).all() --> Seems like all date is present."
   ]
  },
  {
   "cell_type": "code",
   "execution_count": 33,
   "id": "9f7a73af",
   "metadata": {},
   "outputs": [],
   "source": [
    "Df.drop_duplicates(inplace=True)"
   ]
  },
  {
   "cell_type": "code",
   "execution_count": 34,
   "id": "8083626e",
   "metadata": {},
   "outputs": [],
   "source": [
    "Df_sort = Df.sort_values(['FlightDate', 'DepatHr'])\n",
    "# Df_sort = Df_sort.set_index('FlightDate')"
   ]
  },
  {
   "cell_type": "code",
   "execution_count": 35,
   "id": "c6d33a26",
   "metadata": {},
   "outputs": [
    {
     "data": {
      "text/html": [
       "<div>\n",
       "<style scoped>\n",
       "    .dataframe tbody tr th:only-of-type {\n",
       "        vertical-align: middle;\n",
       "    }\n",
       "\n",
       "    .dataframe tbody tr th {\n",
       "        vertical-align: top;\n",
       "    }\n",
       "\n",
       "    .dataframe thead th {\n",
       "        text-align: right;\n",
       "    }\n",
       "</style>\n",
       "<table border=\"1\" class=\"dataframe\">\n",
       "  <thead>\n",
       "    <tr style=\"text-align: right;\">\n",
       "      <th></th>\n",
       "      <th>FlightDate</th>\n",
       "      <th>Quarter</th>\n",
       "      <th>Year</th>\n",
       "      <th>Month</th>\n",
       "      <th>DayofMonth</th>\n",
       "      <th>DepTime</th>\n",
       "      <th>DepDel15</th>\n",
       "      <th>CRSDepTime</th>\n",
       "      <th>DepDelayMinutes</th>\n",
       "      <th>OriginAirportID</th>\n",
       "      <th>DestAirportID</th>\n",
       "      <th>ArrTime</th>\n",
       "      <th>CRSArrTime</th>\n",
       "      <th>ArrDel15</th>\n",
       "      <th>ArrDelayMinutes</th>\n",
       "      <th>Origin</th>\n",
       "      <th>Dest</th>\n",
       "      <th>RoundedFlightDate</th>\n",
       "      <th>DepatHr</th>\n",
       "      <th>Delayed</th>\n",
       "    </tr>\n",
       "  </thead>\n",
       "  <tbody>\n",
       "    <tr>\n",
       "      <th>1435</th>\n",
       "      <td>2016-01-01</td>\n",
       "      <td>1</td>\n",
       "      <td>2016</td>\n",
       "      <td>1</td>\n",
       "      <td>1</td>\n",
       "      <td>6.0</td>\n",
       "      <td>1.0</td>\n",
       "      <td>2347</td>\n",
       "      <td>19.0</td>\n",
       "      <td>12889</td>\n",
       "      <td>13303</td>\n",
       "      <td>721.0</td>\n",
       "      <td>714</td>\n",
       "      <td>0.0</td>\n",
       "      <td>7.0</td>\n",
       "      <td>LAS</td>\n",
       "      <td>MIA</td>\n",
       "      <td>2016-01-01</td>\n",
       "      <td>00</td>\n",
       "      <td>1</td>\n",
       "    </tr>\n",
       "    <tr>\n",
       "      <th>1497</th>\n",
       "      <td>2016-01-01</td>\n",
       "      <td>1</td>\n",
       "      <td>2016</td>\n",
       "      <td>1</td>\n",
       "      <td>1</td>\n",
       "      <td>6.0</td>\n",
       "      <td>0.0</td>\n",
       "      <td>2359</td>\n",
       "      <td>7.0</td>\n",
       "      <td>12892</td>\n",
       "      <td>13930</td>\n",
       "      <td>559.0</td>\n",
       "      <td>603</td>\n",
       "      <td>0.0</td>\n",
       "      <td>0.0</td>\n",
       "      <td>LAX</td>\n",
       "      <td>ORD</td>\n",
       "      <td>2016-01-01</td>\n",
       "      <td>00</td>\n",
       "      <td>1</td>\n",
       "    </tr>\n",
       "    <tr>\n",
       "      <th>4839</th>\n",
       "      <td>2016-01-01</td>\n",
       "      <td>1</td>\n",
       "      <td>2016</td>\n",
       "      <td>1</td>\n",
       "      <td>1</td>\n",
       "      <td>25.0</td>\n",
       "      <td>0.0</td>\n",
       "      <td>30</td>\n",
       "      <td>0.0</td>\n",
       "      <td>12892</td>\n",
       "      <td>13303</td>\n",
       "      <td>810.0</td>\n",
       "      <td>823</td>\n",
       "      <td>0.0</td>\n",
       "      <td>0.0</td>\n",
       "      <td>LAX</td>\n",
       "      <td>MIA</td>\n",
       "      <td>2016-01-01</td>\n",
       "      <td>00</td>\n",
       "      <td>0</td>\n",
       "    </tr>\n",
       "    <tr>\n",
       "      <th>8434</th>\n",
       "      <td>2016-01-01</td>\n",
       "      <td>1</td>\n",
       "      <td>2016</td>\n",
       "      <td>1</td>\n",
       "      <td>1</td>\n",
       "      <td>2335.0</td>\n",
       "      <td>0.0</td>\n",
       "      <td>2335</td>\n",
       "      <td>0.0</td>\n",
       "      <td>12889</td>\n",
       "      <td>12478</td>\n",
       "      <td>710.0</td>\n",
       "      <td>730</td>\n",
       "      <td>0.0</td>\n",
       "      <td>0.0</td>\n",
       "      <td>LAS</td>\n",
       "      <td>JFK</td>\n",
       "      <td>2016-01-02</td>\n",
       "      <td>00</td>\n",
       "      <td>0</td>\n",
       "    </tr>\n",
       "    <tr>\n",
       "      <th>9989</th>\n",
       "      <td>2016-01-01</td>\n",
       "      <td>1</td>\n",
       "      <td>2016</td>\n",
       "      <td>1</td>\n",
       "      <td>1</td>\n",
       "      <td>29.0</td>\n",
       "      <td>0.0</td>\n",
       "      <td>30</td>\n",
       "      <td>0.0</td>\n",
       "      <td>14771</td>\n",
       "      <td>13303</td>\n",
       "      <td>832.0</td>\n",
       "      <td>850</td>\n",
       "      <td>0.0</td>\n",
       "      <td>0.0</td>\n",
       "      <td>SFO</td>\n",
       "      <td>MIA</td>\n",
       "      <td>2016-01-01</td>\n",
       "      <td>00</td>\n",
       "      <td>0</td>\n",
       "    </tr>\n",
       "  </tbody>\n",
       "</table>\n",
       "</div>"
      ],
      "text/plain": [
       "     FlightDate  Quarter  Year  Month  DayofMonth  DepTime  DepDel15  \\\n",
       "1435 2016-01-01        1  2016      1           1      6.0       1.0   \n",
       "1497 2016-01-01        1  2016      1           1      6.0       0.0   \n",
       "4839 2016-01-01        1  2016      1           1     25.0       0.0   \n",
       "8434 2016-01-01        1  2016      1           1   2335.0       0.0   \n",
       "9989 2016-01-01        1  2016      1           1     29.0       0.0   \n",
       "\n",
       "      CRSDepTime  DepDelayMinutes  OriginAirportID  DestAirportID  ArrTime  \\\n",
       "1435        2347             19.0            12889          13303    721.0   \n",
       "1497        2359              7.0            12892          13930    559.0   \n",
       "4839          30              0.0            12892          13303    810.0   \n",
       "8434        2335              0.0            12889          12478    710.0   \n",
       "9989          30              0.0            14771          13303    832.0   \n",
       "\n",
       "      CRSArrTime  ArrDel15  ArrDelayMinutes Origin Dest RoundedFlightDate  \\\n",
       "1435         714       0.0              7.0    LAS  MIA        2016-01-01   \n",
       "1497         603       0.0              0.0    LAX  ORD        2016-01-01   \n",
       "4839         823       0.0              0.0    LAX  MIA        2016-01-01   \n",
       "8434         730       0.0              0.0    LAS  JFK        2016-01-02   \n",
       "9989         850       0.0              0.0    SFO  MIA        2016-01-01   \n",
       "\n",
       "     DepatHr  Delayed  \n",
       "1435      00        1  \n",
       "1497      00        1  \n",
       "4839      00        0  \n",
       "8434      00        0  \n",
       "9989      00        0  "
      ]
     },
     "execution_count": 35,
     "metadata": {},
     "output_type": "execute_result"
    }
   ],
   "source": [
    "## Flight Data\n",
    "Df_sort.head()"
   ]
  },
  {
   "cell_type": "code",
   "execution_count": 36,
   "id": "f7fea5b4",
   "metadata": {},
   "outputs": [],
   "source": [
    "def process_for_weather(x):\n",
    "    x = str(int(x))\n",
    "    #print(x)\n",
    "    x = x.zfill(4)\n",
    "    hr = x[:2]\n",
    "    return  hr"
   ]
  },
  {
   "cell_type": "code",
   "execution_count": 37,
   "id": "d897bbc1",
   "metadata": {},
   "outputs": [],
   "source": [
    "Df2['timeInHr'] = Df2['time'].apply(process_for_weather) "
   ]
  },
  {
   "cell_type": "code",
   "execution_count": 38,
   "id": "ffa4c12d",
   "metadata": {},
   "outputs": [
    {
     "data": {
      "text/html": [
       "<div>\n",
       "<style scoped>\n",
       "    .dataframe tbody tr th:only-of-type {\n",
       "        vertical-align: middle;\n",
       "    }\n",
       "\n",
       "    .dataframe tbody tr th {\n",
       "        vertical-align: top;\n",
       "    }\n",
       "\n",
       "    .dataframe thead th {\n",
       "        text-align: right;\n",
       "    }\n",
       "</style>\n",
       "<table border=\"1\" class=\"dataframe\">\n",
       "  <thead>\n",
       "    <tr style=\"text-align: right;\">\n",
       "      <th></th>\n",
       "      <th>date</th>\n",
       "      <th>airport</th>\n",
       "      <th>windspeedKmph</th>\n",
       "      <th>winddirDegree</th>\n",
       "      <th>weatherCode</th>\n",
       "      <th>precipMM</th>\n",
       "      <th>visibility</th>\n",
       "      <th>pressure</th>\n",
       "      <th>cloudcover</th>\n",
       "      <th>DewPointF</th>\n",
       "      <th>WindGustKmph</th>\n",
       "      <th>tempF</th>\n",
       "      <th>WindChillF</th>\n",
       "      <th>humidity</th>\n",
       "      <th>time</th>\n",
       "      <th>timeInHr</th>\n",
       "    </tr>\n",
       "  </thead>\n",
       "  <tbody>\n",
       "    <tr>\n",
       "      <th>0</th>\n",
       "      <td>2016-01-01</td>\n",
       "      <td>ATL</td>\n",
       "      <td>11</td>\n",
       "      <td>318</td>\n",
       "      <td>176</td>\n",
       "      <td>0.1</td>\n",
       "      <td>10</td>\n",
       "      <td>1023</td>\n",
       "      <td>100</td>\n",
       "      <td>47</td>\n",
       "      <td>17</td>\n",
       "      <td>49</td>\n",
       "      <td>46</td>\n",
       "      <td>91</td>\n",
       "      <td>0</td>\n",
       "      <td>00</td>\n",
       "    </tr>\n",
       "    <tr>\n",
       "      <th>1</th>\n",
       "      <td>2016-01-01</td>\n",
       "      <td>ATL</td>\n",
       "      <td>13</td>\n",
       "      <td>317</td>\n",
       "      <td>176</td>\n",
       "      <td>0.0</td>\n",
       "      <td>10</td>\n",
       "      <td>1023</td>\n",
       "      <td>100</td>\n",
       "      <td>44</td>\n",
       "      <td>22</td>\n",
       "      <td>46</td>\n",
       "      <td>42</td>\n",
       "      <td>92</td>\n",
       "      <td>100</td>\n",
       "      <td>01</td>\n",
       "    </tr>\n",
       "    <tr>\n",
       "      <th>2</th>\n",
       "      <td>2016-01-01</td>\n",
       "      <td>ATL</td>\n",
       "      <td>14</td>\n",
       "      <td>315</td>\n",
       "      <td>122</td>\n",
       "      <td>0.0</td>\n",
       "      <td>10</td>\n",
       "      <td>1023</td>\n",
       "      <td>100</td>\n",
       "      <td>41</td>\n",
       "      <td>26</td>\n",
       "      <td>43</td>\n",
       "      <td>38</td>\n",
       "      <td>92</td>\n",
       "      <td>200</td>\n",
       "      <td>02</td>\n",
       "    </tr>\n",
       "    <tr>\n",
       "      <th>3</th>\n",
       "      <td>2016-01-01</td>\n",
       "      <td>ATL</td>\n",
       "      <td>16</td>\n",
       "      <td>314</td>\n",
       "      <td>122</td>\n",
       "      <td>0.0</td>\n",
       "      <td>10</td>\n",
       "      <td>1023</td>\n",
       "      <td>100</td>\n",
       "      <td>38</td>\n",
       "      <td>30</td>\n",
       "      <td>40</td>\n",
       "      <td>33</td>\n",
       "      <td>93</td>\n",
       "      <td>300</td>\n",
       "      <td>03</td>\n",
       "    </tr>\n",
       "    <tr>\n",
       "      <th>4</th>\n",
       "      <td>2016-01-01</td>\n",
       "      <td>ATL</td>\n",
       "      <td>17</td>\n",
       "      <td>314</td>\n",
       "      <td>122</td>\n",
       "      <td>0.0</td>\n",
       "      <td>10</td>\n",
       "      <td>1023</td>\n",
       "      <td>100</td>\n",
       "      <td>38</td>\n",
       "      <td>30</td>\n",
       "      <td>40</td>\n",
       "      <td>33</td>\n",
       "      <td>93</td>\n",
       "      <td>400</td>\n",
       "      <td>04</td>\n",
       "    </tr>\n",
       "  </tbody>\n",
       "</table>\n",
       "</div>"
      ],
      "text/plain": [
       "        date airport windspeedKmph winddirDegree weatherCode precipMM  \\\n",
       "0 2016-01-01     ATL            11           318         176      0.1   \n",
       "1 2016-01-01     ATL            13           317         176      0.0   \n",
       "2 2016-01-01     ATL            14           315         122      0.0   \n",
       "3 2016-01-01     ATL            16           314         122      0.0   \n",
       "4 2016-01-01     ATL            17           314         122      0.0   \n",
       "\n",
       "  visibility pressure cloudcover DewPointF WindGustKmph tempF WindChillF  \\\n",
       "0         10     1023        100        47           17    49         46   \n",
       "1         10     1023        100        44           22    46         42   \n",
       "2         10     1023        100        41           26    43         38   \n",
       "3         10     1023        100        38           30    40         33   \n",
       "4         10     1023        100        38           30    40         33   \n",
       "\n",
       "  humidity time timeInHr  \n",
       "0       91    0       00  \n",
       "1       92  100       01  \n",
       "2       92  200       02  \n",
       "3       93  300       03  \n",
       "4       93  400       04  "
      ]
     },
     "execution_count": 38,
     "metadata": {},
     "output_type": "execute_result"
    }
   ],
   "source": [
    "## Weather Data\n",
    "Df2.head()"
   ]
  },
  {
   "cell_type": "markdown",
   "id": "ad9a5ab9",
   "metadata": {},
   "source": [
    "#### Merging based on \n",
    "- Flight date and Departure hour from Df\n",
    "- data and timeInHr from Df2"
   ]
  },
  {
   "cell_type": "code",
   "execution_count": null,
   "id": "4e311b96",
   "metadata": {},
   "outputs": [],
   "source": []
  },
  {
   "cell_type": "code",
   "execution_count": 39,
   "id": "cf91c3cc",
   "metadata": {},
   "outputs": [
    {
     "data": {
      "text/plain": [
       "((1556649, 20), (263160, 16))"
      ]
     },
     "execution_count": 39,
     "metadata": {},
     "output_type": "execute_result"
    }
   ],
   "source": [
    "Df_sort.shape, Df2.shape"
   ]
  },
  {
   "cell_type": "markdown",
   "id": "0481314f",
   "metadata": {},
   "source": [
    "#### Note:\n",
    "* When using left join, there will be NaN values(Because of non-availability of Weather data) - Rows: 1556649\n",
    "    - Two issues:\n",
    "        1. Certain entries have departure time as  **(24 + 1)%24 = 1**, which is wrong. We should have 00:00 next day date\n",
    "            - Solution: Should manually deal with if,else condition\n",
    "            - Around **291 rows**\n",
    "        2. Entries that have 31/12/2017 and time more than 11:30  is **rounded to 01/01/2018** for which no weather data is present.\n",
    "            - Solution: Either I have to retrieve weather data of January month or should Discard it.\n",
    "            - **Only 8 rows** are present\n",
    "* When using inner join, there will be no NaN values(Because only intersection is taken) - Rows: 1556350"
   ]
  },
  {
   "cell_type": "code",
   "execution_count": 40,
   "id": "8ca37c39",
   "metadata": {},
   "outputs": [
    {
     "data": {
      "text/plain": [
       "(1556649, 36)"
      ]
     },
     "execution_count": 40,
     "metadata": {},
     "output_type": "execute_result"
    }
   ],
   "source": [
    "Df3_left = pd.merge(Df_sort, Df2, left_on=['RoundedFlightDate', 'DepatHr', 'Origin'], right_on=['date', 'timeInHr', 'airport'], how='left' )\n",
    "Df3_left.shape"
   ]
  },
  {
   "cell_type": "code",
   "execution_count": 41,
   "id": "d79388ad",
   "metadata": {},
   "outputs": [
    {
     "data": {
      "text/plain": [
       "(1556641, 36)"
      ]
     },
     "execution_count": 41,
     "metadata": {},
     "output_type": "execute_result"
    }
   ],
   "source": [
    "Df3 = pd.merge(Df_sort, Df2, left_on=['RoundedFlightDate', 'DepatHr', 'Origin'], right_on=['date', 'timeInHr', 'airport'], how='inner' )\n",
    "Df3.shape"
   ]
  },
  {
   "cell_type": "code",
   "execution_count": 42,
   "id": "1cc2ff65",
   "metadata": {},
   "outputs": [
    {
     "name": "stdout",
     "output_type": "stream",
     "text": [
      "<class 'pandas.core.frame.DataFrame'>\n",
      "Int64Index: 1556641 entries, 0 to 1556640\n",
      "Data columns (total 36 columns):\n",
      " #   Column             Non-Null Count    Dtype         \n",
      "---  ------             --------------    -----         \n",
      " 0   FlightDate         1556641 non-null  datetime64[ns]\n",
      " 1   Quarter            1556641 non-null  int64         \n",
      " 2   Year               1556641 non-null  int64         \n",
      " 3   Month              1556641 non-null  int64         \n",
      " 4   DayofMonth         1556641 non-null  int64         \n",
      " 5   DepTime            1556641 non-null  float64       \n",
      " 6   DepDel15           1556641 non-null  float64       \n",
      " 7   CRSDepTime         1556641 non-null  int64         \n",
      " 8   DepDelayMinutes    1556641 non-null  float64       \n",
      " 9   OriginAirportID    1556641 non-null  int64         \n",
      " 10  DestAirportID      1556641 non-null  int64         \n",
      " 11  ArrTime            1556641 non-null  float64       \n",
      " 12  CRSArrTime         1556641 non-null  int64         \n",
      " 13  ArrDel15           1556641 non-null  float64       \n",
      " 14  ArrDelayMinutes    1556641 non-null  float64       \n",
      " 15  Origin             1556641 non-null  object        \n",
      " 16  Dest               1556641 non-null  object        \n",
      " 17  RoundedFlightDate  1556641 non-null  datetime64[ns]\n",
      " 18  DepatHr            1556641 non-null  object        \n",
      " 19  Delayed            1556641 non-null  int64         \n",
      " 20  date               1556641 non-null  datetime64[ns]\n",
      " 21  airport            1556641 non-null  object        \n",
      " 22  windspeedKmph      1556641 non-null  object        \n",
      " 23  winddirDegree      1556641 non-null  object        \n",
      " 24  weatherCode        1556641 non-null  object        \n",
      " 25  precipMM           1556641 non-null  object        \n",
      " 26  visibility         1556641 non-null  object        \n",
      " 27  pressure           1556641 non-null  object        \n",
      " 28  cloudcover         1556641 non-null  object        \n",
      " 29  DewPointF          1556641 non-null  object        \n",
      " 30  WindGustKmph       1556641 non-null  object        \n",
      " 31  tempF              1556641 non-null  object        \n",
      " 32  WindChillF         1556641 non-null  object        \n",
      " 33  humidity           1556641 non-null  object        \n",
      " 34  time               1556641 non-null  object        \n",
      " 35  timeInHr           1556641 non-null  object        \n",
      "dtypes: datetime64[ns](3), float64(6), int64(9), object(18)\n",
      "memory usage: 439.4+ MB\n"
     ]
    }
   ],
   "source": [
    "Df3.info()"
   ]
  },
  {
   "cell_type": "code",
   "execution_count": 43,
   "id": "e76fd03a",
   "metadata": {},
   "outputs": [
    {
     "data": {
      "text/html": [
       "<div>\n",
       "<style scoped>\n",
       "    .dataframe tbody tr th:only-of-type {\n",
       "        vertical-align: middle;\n",
       "    }\n",
       "\n",
       "    .dataframe tbody tr th {\n",
       "        vertical-align: top;\n",
       "    }\n",
       "\n",
       "    .dataframe thead th {\n",
       "        text-align: right;\n",
       "    }\n",
       "</style>\n",
       "<table border=\"1\" class=\"dataframe\">\n",
       "  <thead>\n",
       "    <tr style=\"text-align: right;\">\n",
       "      <th></th>\n",
       "      <th>FlightDate</th>\n",
       "      <th>Quarter</th>\n",
       "      <th>Year</th>\n",
       "      <th>Month</th>\n",
       "      <th>DayofMonth</th>\n",
       "      <th>DepTime</th>\n",
       "      <th>DepDel15</th>\n",
       "      <th>CRSDepTime</th>\n",
       "      <th>DepDelayMinutes</th>\n",
       "      <th>OriginAirportID</th>\n",
       "      <th>...</th>\n",
       "      <th>visibility</th>\n",
       "      <th>pressure</th>\n",
       "      <th>cloudcover</th>\n",
       "      <th>DewPointF</th>\n",
       "      <th>WindGustKmph</th>\n",
       "      <th>tempF</th>\n",
       "      <th>WindChillF</th>\n",
       "      <th>humidity</th>\n",
       "      <th>time</th>\n",
       "      <th>timeInHr</th>\n",
       "    </tr>\n",
       "  </thead>\n",
       "  <tbody>\n",
       "    <tr>\n",
       "      <th>1556636</th>\n",
       "      <td>2017-12-31</td>\n",
       "      <td>4</td>\n",
       "      <td>2017</td>\n",
       "      <td>12</td>\n",
       "      <td>31</td>\n",
       "      <td>2250.0</td>\n",
       "      <td>0.0</td>\n",
       "      <td>2251</td>\n",
       "      <td>0.0</td>\n",
       "      <td>11292</td>\n",
       "      <td>...</td>\n",
       "      <td>10</td>\n",
       "      <td>1038</td>\n",
       "      <td>7</td>\n",
       "      <td>2</td>\n",
       "      <td>13</td>\n",
       "      <td>5</td>\n",
       "      <td>-5</td>\n",
       "      <td>83</td>\n",
       "      <td>2300</td>\n",
       "      <td>23</td>\n",
       "    </tr>\n",
       "    <tr>\n",
       "      <th>1556637</th>\n",
       "      <td>2017-12-31</td>\n",
       "      <td>4</td>\n",
       "      <td>2017</td>\n",
       "      <td>12</td>\n",
       "      <td>31</td>\n",
       "      <td>2241.0</td>\n",
       "      <td>0.0</td>\n",
       "      <td>2250</td>\n",
       "      <td>0.0</td>\n",
       "      <td>14771</td>\n",
       "      <td>...</td>\n",
       "      <td>10</td>\n",
       "      <td>1020</td>\n",
       "      <td>79</td>\n",
       "      <td>51</td>\n",
       "      <td>4</td>\n",
       "      <td>52</td>\n",
       "      <td>52</td>\n",
       "      <td>97</td>\n",
       "      <td>2300</td>\n",
       "      <td>23</td>\n",
       "    </tr>\n",
       "    <tr>\n",
       "      <th>1556638</th>\n",
       "      <td>2017-12-31</td>\n",
       "      <td>4</td>\n",
       "      <td>2017</td>\n",
       "      <td>12</td>\n",
       "      <td>31</td>\n",
       "      <td>2233.0</td>\n",
       "      <td>0.0</td>\n",
       "      <td>2235</td>\n",
       "      <td>0.0</td>\n",
       "      <td>14771</td>\n",
       "      <td>...</td>\n",
       "      <td>10</td>\n",
       "      <td>1020</td>\n",
       "      <td>79</td>\n",
       "      <td>51</td>\n",
       "      <td>4</td>\n",
       "      <td>52</td>\n",
       "      <td>52</td>\n",
       "      <td>97</td>\n",
       "      <td>2300</td>\n",
       "      <td>23</td>\n",
       "    </tr>\n",
       "    <tr>\n",
       "      <th>1556639</th>\n",
       "      <td>2017-12-31</td>\n",
       "      <td>4</td>\n",
       "      <td>2017</td>\n",
       "      <td>12</td>\n",
       "      <td>31</td>\n",
       "      <td>2245.0</td>\n",
       "      <td>0.0</td>\n",
       "      <td>2245</td>\n",
       "      <td>0.0</td>\n",
       "      <td>14771</td>\n",
       "      <td>...</td>\n",
       "      <td>10</td>\n",
       "      <td>1020</td>\n",
       "      <td>79</td>\n",
       "      <td>51</td>\n",
       "      <td>4</td>\n",
       "      <td>52</td>\n",
       "      <td>52</td>\n",
       "      <td>97</td>\n",
       "      <td>2300</td>\n",
       "      <td>23</td>\n",
       "    </tr>\n",
       "    <tr>\n",
       "      <th>1556640</th>\n",
       "      <td>2017-12-31</td>\n",
       "      <td>4</td>\n",
       "      <td>2017</td>\n",
       "      <td>12</td>\n",
       "      <td>31</td>\n",
       "      <td>2320.0</td>\n",
       "      <td>0.0</td>\n",
       "      <td>2320</td>\n",
       "      <td>0.0</td>\n",
       "      <td>14771</td>\n",
       "      <td>...</td>\n",
       "      <td>10</td>\n",
       "      <td>1020</td>\n",
       "      <td>79</td>\n",
       "      <td>51</td>\n",
       "      <td>4</td>\n",
       "      <td>52</td>\n",
       "      <td>52</td>\n",
       "      <td>97</td>\n",
       "      <td>2300</td>\n",
       "      <td>23</td>\n",
       "    </tr>\n",
       "  </tbody>\n",
       "</table>\n",
       "<p>5 rows × 36 columns</p>\n",
       "</div>"
      ],
      "text/plain": [
       "        FlightDate  Quarter  Year  Month  DayofMonth  DepTime  DepDel15  \\\n",
       "1556636 2017-12-31        4  2017     12          31   2250.0       0.0   \n",
       "1556637 2017-12-31        4  2017     12          31   2241.0       0.0   \n",
       "1556638 2017-12-31        4  2017     12          31   2233.0       0.0   \n",
       "1556639 2017-12-31        4  2017     12          31   2245.0       0.0   \n",
       "1556640 2017-12-31        4  2017     12          31   2320.0       0.0   \n",
       "\n",
       "         CRSDepTime  DepDelayMinutes  OriginAirportID  ...  visibility  \\\n",
       "1556636        2251              0.0            11292  ...          10   \n",
       "1556637        2250              0.0            14771  ...          10   \n",
       "1556638        2235              0.0            14771  ...          10   \n",
       "1556639        2245              0.0            14771  ...          10   \n",
       "1556640        2320              0.0            14771  ...          10   \n",
       "\n",
       "         pressure  cloudcover  DewPointF  WindGustKmph tempF WindChillF  \\\n",
       "1556636      1038           7          2            13     5         -5   \n",
       "1556637      1020          79         51             4    52         52   \n",
       "1556638      1020          79         51             4    52         52   \n",
       "1556639      1020          79         51             4    52         52   \n",
       "1556640      1020          79         51             4    52         52   \n",
       "\n",
       "        humidity  time  timeInHr  \n",
       "1556636       83  2300        23  \n",
       "1556637       97  2300        23  \n",
       "1556638       97  2300        23  \n",
       "1556639       97  2300        23  \n",
       "1556640       97  2300        23  \n",
       "\n",
       "[5 rows x 36 columns]"
      ]
     },
     "execution_count": 43,
     "metadata": {},
     "output_type": "execute_result"
    }
   ],
   "source": [
    "Df3.tail()"
   ]
  },
  {
   "cell_type": "code",
   "execution_count": 44,
   "id": "4f430827",
   "metadata": {},
   "outputs": [
    {
     "data": {
      "text/plain": [
       "8"
      ]
     },
     "execution_count": 44,
     "metadata": {},
     "output_type": "execute_result"
    }
   ],
   "source": [
    "len(Df3_left[Df3_left.isna().any(axis=1)])"
   ]
  },
  {
   "cell_type": "markdown",
   "id": "7f0a1a2c",
   "metadata": {},
   "source": [
    "# 2. Classification of whether flight is delayed or not"
   ]
  },
  {
   "cell_type": "markdown",
   "id": "4aee1d0f",
   "metadata": {},
   "source": [
    "## Pick only necessary columns"
   ]
  },
  {
   "cell_type": "code",
   "execution_count": 45,
   "id": "2790e26c",
   "metadata": {},
   "outputs": [],
   "source": [
    "necessary_col = ['Quarter', 'Month',\n",
    "        'Origin',\n",
    "       'Dest', 'windspeedKmph', 'winddirDegree', 'weatherCode', 'precipMM',\n",
    "       'visibility', 'pressure', 'cloudcover', 'DewPointF', 'WindGustKmph',\n",
    "       'tempF', 'WindChillF', 'humidity', 'Delayed']"
   ]
  },
  {
   "cell_type": "markdown",
   "id": "bf172b46",
   "metadata": {},
   "source": [
    "* Df3 - Complete merged dataframe\n",
    "* Df4 - Datafame with just required columns for model creation"
   ]
  },
  {
   "cell_type": "code",
   "execution_count": 46,
   "id": "a7426d39",
   "metadata": {},
   "outputs": [],
   "source": [
    "Df4 = Df3[necessary_col]"
   ]
  },
  {
   "cell_type": "markdown",
   "id": "8f8163a9",
   "metadata": {},
   "source": [
    "#### Either use\n",
    "1. Ensemble model or\n",
    "2. Neural Network(Pytorch)\n",
    "    * But XGBoost is much better with tabular data"
   ]
  },
  {
   "cell_type": "code",
   "execution_count": 47,
   "id": "1d896e30",
   "metadata": {},
   "outputs": [
    {
     "name": "stdout",
     "output_type": "stream",
     "text": [
      "<class 'pandas.core.frame.DataFrame'>\n",
      "Int64Index: 1556641 entries, 0 to 1556640\n",
      "Data columns (total 17 columns):\n",
      " #   Column         Non-Null Count    Dtype \n",
      "---  ------         --------------    ----- \n",
      " 0   Quarter        1556641 non-null  int64 \n",
      " 1   Month          1556641 non-null  int64 \n",
      " 2   Origin         1556641 non-null  object\n",
      " 3   Dest           1556641 non-null  object\n",
      " 4   windspeedKmph  1556641 non-null  object\n",
      " 5   winddirDegree  1556641 non-null  object\n",
      " 6   weatherCode    1556641 non-null  object\n",
      " 7   precipMM       1556641 non-null  object\n",
      " 8   visibility     1556641 non-null  object\n",
      " 9   pressure       1556641 non-null  object\n",
      " 10  cloudcover     1556641 non-null  object\n",
      " 11  DewPointF      1556641 non-null  object\n",
      " 12  WindGustKmph   1556641 non-null  object\n",
      " 13  tempF          1556641 non-null  object\n",
      " 14  WindChillF     1556641 non-null  object\n",
      " 15  humidity       1556641 non-null  object\n",
      " 16  Delayed        1556641 non-null  int64 \n",
      "dtypes: int64(3), object(14)\n",
      "memory usage: 213.8+ MB\n"
     ]
    }
   ],
   "source": [
    "Df4.info()"
   ]
  },
  {
   "cell_type": "markdown",
   "id": "f8d99442",
   "metadata": {},
   "source": [
    "#### To Do:\n",
    "1. Convert all data to numerical\n",
    "1. **Import** appropriate model\n",
    "1. Perform **cross validation** to find appropriate hyper parameteres, either with\n",
    "    1. GridSearchCV or KFoldStratified\n",
    "1. Determine model **performance**"
   ]
  },
  {
   "cell_type": "code",
   "execution_count": 48,
   "id": "25570386",
   "metadata": {},
   "outputs": [
    {
     "data": {
      "text/plain": [
       "Index(['Quarter', 'Month', 'Origin', 'Dest', 'windspeedKmph', 'winddirDegree',\n",
       "       'weatherCode', 'precipMM', 'visibility', 'pressure', 'cloudcover',\n",
       "       'DewPointF', 'WindGustKmph', 'tempF', 'WindChillF', 'humidity',\n",
       "       'Delayed'],\n",
       "      dtype='object')"
      ]
     },
     "execution_count": 48,
     "metadata": {},
     "output_type": "execute_result"
    }
   ],
   "source": [
    "Df4.columns"
   ]
  },
  {
   "cell_type": "code",
   "execution_count": 49,
   "id": "9d96f2ce",
   "metadata": {},
   "outputs": [
    {
     "data": {
      "text/plain": [
       "43"
      ]
     },
     "execution_count": 49,
     "metadata": {},
     "output_type": "execute_result"
    }
   ],
   "source": [
    "len(Df4['weatherCode'].value_counts())"
   ]
  },
  {
   "cell_type": "code",
   "execution_count": 50,
   "id": "23338e83",
   "metadata": {},
   "outputs": [],
   "source": [
    "Df4.iloc[:, 5:17] = Df4.iloc[:, 5:17].astype('float32')\n",
    "Df4['weatherCode'] = Df4['weatherCode'].astype('object')\n",
    "categorical = ['Quarter', 'Month', 'Origin', 'Dest', 'weatherCode']\n",
    "numerical = [ 'windspeedKmph', 'winddirDegree', 'precipMM',\n",
    "       'visibility', 'pressure', 'cloudcover', 'DewPointF', 'WindGustKmph',\n",
    "       'tempF', 'WindChillF', 'humidity'] # Weather code actually can be categorical, but since we have 43 such categories it will be quite huge column set."
   ]
  },
  {
   "cell_type": "code",
   "execution_count": 51,
   "id": "16f96fbf",
   "metadata": {},
   "outputs": [
    {
     "data": {
      "text/html": [
       "<div>\n",
       "<style scoped>\n",
       "    .dataframe tbody tr th:only-of-type {\n",
       "        vertical-align: middle;\n",
       "    }\n",
       "\n",
       "    .dataframe tbody tr th {\n",
       "        vertical-align: top;\n",
       "    }\n",
       "\n",
       "    .dataframe thead th {\n",
       "        text-align: right;\n",
       "    }\n",
       "</style>\n",
       "<table border=\"1\" class=\"dataframe\">\n",
       "  <thead>\n",
       "    <tr style=\"text-align: right;\">\n",
       "      <th></th>\n",
       "      <th>Quarter</th>\n",
       "      <th>Month</th>\n",
       "      <th>Origin</th>\n",
       "      <th>Dest</th>\n",
       "      <th>windspeedKmph</th>\n",
       "      <th>winddirDegree</th>\n",
       "      <th>weatherCode</th>\n",
       "      <th>precipMM</th>\n",
       "      <th>visibility</th>\n",
       "      <th>pressure</th>\n",
       "      <th>cloudcover</th>\n",
       "      <th>DewPointF</th>\n",
       "      <th>WindGustKmph</th>\n",
       "      <th>tempF</th>\n",
       "      <th>WindChillF</th>\n",
       "      <th>humidity</th>\n",
       "      <th>Delayed</th>\n",
       "    </tr>\n",
       "  </thead>\n",
       "  <tbody>\n",
       "    <tr>\n",
       "      <th>0</th>\n",
       "      <td>1</td>\n",
       "      <td>1</td>\n",
       "      <td>LAS</td>\n",
       "      <td>MIA</td>\n",
       "      <td>15</td>\n",
       "      <td>123.0</td>\n",
       "      <td>113.0</td>\n",
       "      <td>0.0</td>\n",
       "      <td>10.0</td>\n",
       "      <td>1028.0</td>\n",
       "      <td>0.0</td>\n",
       "      <td>17.0</td>\n",
       "      <td>26.0</td>\n",
       "      <td>29.0</td>\n",
       "      <td>21.0</td>\n",
       "      <td>59.0</td>\n",
       "      <td>1.0</td>\n",
       "    </tr>\n",
       "    <tr>\n",
       "      <th>1</th>\n",
       "      <td>1</td>\n",
       "      <td>1</td>\n",
       "      <td>LAX</td>\n",
       "      <td>ORD</td>\n",
       "      <td>15</td>\n",
       "      <td>38.0</td>\n",
       "      <td>113.0</td>\n",
       "      <td>0.0</td>\n",
       "      <td>10.0</td>\n",
       "      <td>1020.0</td>\n",
       "      <td>0.0</td>\n",
       "      <td>29.0</td>\n",
       "      <td>17.0</td>\n",
       "      <td>59.0</td>\n",
       "      <td>58.0</td>\n",
       "      <td>39.0</td>\n",
       "      <td>1.0</td>\n",
       "    </tr>\n",
       "    <tr>\n",
       "      <th>2</th>\n",
       "      <td>1</td>\n",
       "      <td>1</td>\n",
       "      <td>LAX</td>\n",
       "      <td>MIA</td>\n",
       "      <td>15</td>\n",
       "      <td>38.0</td>\n",
       "      <td>113.0</td>\n",
       "      <td>0.0</td>\n",
       "      <td>10.0</td>\n",
       "      <td>1020.0</td>\n",
       "      <td>0.0</td>\n",
       "      <td>29.0</td>\n",
       "      <td>17.0</td>\n",
       "      <td>59.0</td>\n",
       "      <td>58.0</td>\n",
       "      <td>39.0</td>\n",
       "      <td>0.0</td>\n",
       "    </tr>\n",
       "    <tr>\n",
       "      <th>3</th>\n",
       "      <td>1</td>\n",
       "      <td>1</td>\n",
       "      <td>LAX</td>\n",
       "      <td>DFW</td>\n",
       "      <td>15</td>\n",
       "      <td>38.0</td>\n",
       "      <td>113.0</td>\n",
       "      <td>0.0</td>\n",
       "      <td>10.0</td>\n",
       "      <td>1020.0</td>\n",
       "      <td>0.0</td>\n",
       "      <td>29.0</td>\n",
       "      <td>17.0</td>\n",
       "      <td>59.0</td>\n",
       "      <td>58.0</td>\n",
       "      <td>39.0</td>\n",
       "      <td>1.0</td>\n",
       "    </tr>\n",
       "    <tr>\n",
       "      <th>4</th>\n",
       "      <td>1</td>\n",
       "      <td>1</td>\n",
       "      <td>LAX</td>\n",
       "      <td>ORD</td>\n",
       "      <td>15</td>\n",
       "      <td>38.0</td>\n",
       "      <td>113.0</td>\n",
       "      <td>0.0</td>\n",
       "      <td>10.0</td>\n",
       "      <td>1020.0</td>\n",
       "      <td>0.0</td>\n",
       "      <td>29.0</td>\n",
       "      <td>17.0</td>\n",
       "      <td>59.0</td>\n",
       "      <td>58.0</td>\n",
       "      <td>39.0</td>\n",
       "      <td>1.0</td>\n",
       "    </tr>\n",
       "  </tbody>\n",
       "</table>\n",
       "</div>"
      ],
      "text/plain": [
       "   Quarter  Month Origin Dest windspeedKmph  winddirDegree weatherCode  \\\n",
       "0        1      1    LAS  MIA            15          123.0       113.0   \n",
       "1        1      1    LAX  ORD            15           38.0       113.0   \n",
       "2        1      1    LAX  MIA            15           38.0       113.0   \n",
       "3        1      1    LAX  DFW            15           38.0       113.0   \n",
       "4        1      1    LAX  ORD            15           38.0       113.0   \n",
       "\n",
       "   precipMM  visibility  pressure  cloudcover  DewPointF  WindGustKmph  tempF  \\\n",
       "0       0.0        10.0    1028.0         0.0       17.0          26.0   29.0   \n",
       "1       0.0        10.0    1020.0         0.0       29.0          17.0   59.0   \n",
       "2       0.0        10.0    1020.0         0.0       29.0          17.0   59.0   \n",
       "3       0.0        10.0    1020.0         0.0       29.0          17.0   59.0   \n",
       "4       0.0        10.0    1020.0         0.0       29.0          17.0   59.0   \n",
       "\n",
       "   WindChillF  humidity  Delayed  \n",
       "0        21.0      59.0      1.0  \n",
       "1        58.0      39.0      1.0  \n",
       "2        58.0      39.0      0.0  \n",
       "3        58.0      39.0      1.0  \n",
       "4        58.0      39.0      1.0  "
      ]
     },
     "execution_count": 51,
     "metadata": {},
     "output_type": "execute_result"
    }
   ],
   "source": [
    "Df4.head()"
   ]
  },
  {
   "cell_type": "code",
   "execution_count": 98,
   "id": "5f3cf716",
   "metadata": {},
   "outputs": [],
   "source": [
    "from xgboost import XGBClassifier\n",
    "from sklearn.experimental import enable_halving_search_cv\n",
    "from sklearn.model_selection import GridSearchCV, HalvingGridSearchCV\n",
    "from sklearn.model_selection import RandomizedSearchCV, HalvingRandomSearchCV"
   ]
  },
  {
   "cell_type": "markdown",
   "id": "14ef56db",
   "metadata": {},
   "source": [
    "Pipeline imports"
   ]
  },
  {
   "cell_type": "code",
   "execution_count": 99,
   "id": "19edb4f0",
   "metadata": {},
   "outputs": [],
   "source": [
    "from sklearn.pipeline import Pipeline\n",
    "from sklearn.preprocessing import OneHotEncoder, StandardScaler\n",
    "from sklearn.compose import ColumnTransformer"
   ]
  },
  {
   "cell_type": "code",
   "execution_count": 54,
   "id": "6446dd2d",
   "metadata": {},
   "outputs": [],
   "source": [
    "categorical_pipeline = Pipeline(\n",
    "    steps=[\n",
    "        (\"oh-encode\", OneHotEncoder(handle_unknown=\"ignore\", sparse=False)),\n",
    "    ]\n",
    ")\n",
    "numerical_pipeline = Pipeline(\n",
    "    steps=[\n",
    "        (\"scale\", StandardScaler())\n",
    "    ]\n",
    ")\n",
    "\n",
    "full_pipeline = ColumnTransformer(\n",
    "    transformers=[\n",
    "        (\"numeric\", numerical_pipeline, numerical),\n",
    "        (\"categorical\", categorical_pipeline, categorical),\n",
    "    ],\n",
    "    remainder='passthrough'\n",
    ")\n",
    "\n",
    "model_pipeline = Pipeline(\n",
    "    steps=[\n",
    "        ('preprocess',  full_pipeline),\n",
    "        ('xgb', XGBClassifier() )\n",
    "    ]\n",
    ")"
   ]
  },
  {
   "cell_type": "code",
   "execution_count": 55,
   "id": "67d035c5",
   "metadata": {},
   "outputs": [
    {
     "data": {
      "text/html": [
       "<style>#sk-container-id-1 {color: black;background-color: white;}#sk-container-id-1 pre{padding: 0;}#sk-container-id-1 div.sk-toggleable {background-color: white;}#sk-container-id-1 label.sk-toggleable__label {cursor: pointer;display: block;width: 100%;margin-bottom: 0;padding: 0.3em;box-sizing: border-box;text-align: center;}#sk-container-id-1 label.sk-toggleable__label-arrow:before {content: \"▸\";float: left;margin-right: 0.25em;color: #696969;}#sk-container-id-1 label.sk-toggleable__label-arrow:hover:before {color: black;}#sk-container-id-1 div.sk-estimator:hover label.sk-toggleable__label-arrow:before {color: black;}#sk-container-id-1 div.sk-toggleable__content {max-height: 0;max-width: 0;overflow: hidden;text-align: left;background-color: #f0f8ff;}#sk-container-id-1 div.sk-toggleable__content pre {margin: 0.2em;color: black;border-radius: 0.25em;background-color: #f0f8ff;}#sk-container-id-1 input.sk-toggleable__control:checked~div.sk-toggleable__content {max-height: 200px;max-width: 100%;overflow: auto;}#sk-container-id-1 input.sk-toggleable__control:checked~label.sk-toggleable__label-arrow:before {content: \"▾\";}#sk-container-id-1 div.sk-estimator input.sk-toggleable__control:checked~label.sk-toggleable__label {background-color: #d4ebff;}#sk-container-id-1 div.sk-label input.sk-toggleable__control:checked~label.sk-toggleable__label {background-color: #d4ebff;}#sk-container-id-1 input.sk-hidden--visually {border: 0;clip: rect(1px 1px 1px 1px);clip: rect(1px, 1px, 1px, 1px);height: 1px;margin: -1px;overflow: hidden;padding: 0;position: absolute;width: 1px;}#sk-container-id-1 div.sk-estimator {font-family: monospace;background-color: #f0f8ff;border: 1px dotted black;border-radius: 0.25em;box-sizing: border-box;margin-bottom: 0.5em;}#sk-container-id-1 div.sk-estimator:hover {background-color: #d4ebff;}#sk-container-id-1 div.sk-parallel-item::after {content: \"\";width: 100%;border-bottom: 1px solid gray;flex-grow: 1;}#sk-container-id-1 div.sk-label:hover label.sk-toggleable__label {background-color: #d4ebff;}#sk-container-id-1 div.sk-serial::before {content: \"\";position: absolute;border-left: 1px solid gray;box-sizing: border-box;top: 0;bottom: 0;left: 50%;z-index: 0;}#sk-container-id-1 div.sk-serial {display: flex;flex-direction: column;align-items: center;background-color: white;padding-right: 0.2em;padding-left: 0.2em;position: relative;}#sk-container-id-1 div.sk-item {position: relative;z-index: 1;}#sk-container-id-1 div.sk-parallel {display: flex;align-items: stretch;justify-content: center;background-color: white;position: relative;}#sk-container-id-1 div.sk-item::before, #sk-container-id-1 div.sk-parallel-item::before {content: \"\";position: absolute;border-left: 1px solid gray;box-sizing: border-box;top: 0;bottom: 0;left: 50%;z-index: -1;}#sk-container-id-1 div.sk-parallel-item {display: flex;flex-direction: column;z-index: 1;position: relative;background-color: white;}#sk-container-id-1 div.sk-parallel-item:first-child::after {align-self: flex-end;width: 50%;}#sk-container-id-1 div.sk-parallel-item:last-child::after {align-self: flex-start;width: 50%;}#sk-container-id-1 div.sk-parallel-item:only-child::after {width: 0;}#sk-container-id-1 div.sk-dashed-wrapped {border: 1px dashed gray;margin: 0 0.4em 0.5em 0.4em;box-sizing: border-box;padding-bottom: 0.4em;background-color: white;}#sk-container-id-1 div.sk-label label {font-family: monospace;font-weight: bold;display: inline-block;line-height: 1.2em;}#sk-container-id-1 div.sk-label-container {text-align: center;}#sk-container-id-1 div.sk-container {/* jupyter's `normalize.less` sets `[hidden] { display: none; }` but bootstrap.min.css set `[hidden] { display: none !important; }` so we also need the `!important` here to be able to override the default hidden behavior on the sphinx rendered scikit-learn.org. See: https://github.com/scikit-learn/scikit-learn/issues/21755 */display: inline-block !important;position: relative;}#sk-container-id-1 div.sk-text-repr-fallback {display: none;}</style><div id=\"sk-container-id-1\" class=\"sk-top-container\"><div class=\"sk-text-repr-fallback\"><pre>Pipeline(steps=[(&#x27;preprocess&#x27;,\n",
       "                 ColumnTransformer(remainder=&#x27;passthrough&#x27;,\n",
       "                                   transformers=[(&#x27;numeric&#x27;,\n",
       "                                                  Pipeline(steps=[(&#x27;scale&#x27;,\n",
       "                                                                   StandardScaler())]),\n",
       "                                                  [&#x27;windspeedKmph&#x27;,\n",
       "                                                   &#x27;winddirDegree&#x27;, &#x27;precipMM&#x27;,\n",
       "                                                   &#x27;visibility&#x27;, &#x27;pressure&#x27;,\n",
       "                                                   &#x27;cloudcover&#x27;, &#x27;DewPointF&#x27;,\n",
       "                                                   &#x27;WindGustKmph&#x27;, &#x27;tempF&#x27;,\n",
       "                                                   &#x27;WindChillF&#x27;, &#x27;humidity&#x27;]),\n",
       "                                                 (&#x27;categorical&#x27;,\n",
       "                                                  Pipeline(steps=[(&#x27;oh-encode&#x27;,\n",
       "                                                                   OneHotEncoder(handle_u...\n",
       "                               feature_types=None, gamma=None, gpu_id=None,\n",
       "                               grow_policy=None, importance_type=None,\n",
       "                               interaction_constraints=None, learning_rate=None,\n",
       "                               max_bin=None, max_cat_threshold=None,\n",
       "                               max_cat_to_onehot=None, max_delta_step=None,\n",
       "                               max_depth=None, max_leaves=None,\n",
       "                               min_child_weight=None, missing=nan,\n",
       "                               monotone_constraints=None, n_estimators=100,\n",
       "                               n_jobs=None, num_parallel_tree=None,\n",
       "                               predictor=None, random_state=None, ...))])</pre><b>In a Jupyter environment, please rerun this cell to show the HTML representation or trust the notebook. <br />On GitHub, the HTML representation is unable to render, please try loading this page with nbviewer.org.</b></div><div class=\"sk-container\" hidden><div class=\"sk-item sk-dashed-wrapped\"><div class=\"sk-label-container\"><div class=\"sk-label sk-toggleable\"><input class=\"sk-toggleable__control sk-hidden--visually\" id=\"sk-estimator-id-1\" type=\"checkbox\" ><label for=\"sk-estimator-id-1\" class=\"sk-toggleable__label sk-toggleable__label-arrow\">Pipeline</label><div class=\"sk-toggleable__content\"><pre>Pipeline(steps=[(&#x27;preprocess&#x27;,\n",
       "                 ColumnTransformer(remainder=&#x27;passthrough&#x27;,\n",
       "                                   transformers=[(&#x27;numeric&#x27;,\n",
       "                                                  Pipeline(steps=[(&#x27;scale&#x27;,\n",
       "                                                                   StandardScaler())]),\n",
       "                                                  [&#x27;windspeedKmph&#x27;,\n",
       "                                                   &#x27;winddirDegree&#x27;, &#x27;precipMM&#x27;,\n",
       "                                                   &#x27;visibility&#x27;, &#x27;pressure&#x27;,\n",
       "                                                   &#x27;cloudcover&#x27;, &#x27;DewPointF&#x27;,\n",
       "                                                   &#x27;WindGustKmph&#x27;, &#x27;tempF&#x27;,\n",
       "                                                   &#x27;WindChillF&#x27;, &#x27;humidity&#x27;]),\n",
       "                                                 (&#x27;categorical&#x27;,\n",
       "                                                  Pipeline(steps=[(&#x27;oh-encode&#x27;,\n",
       "                                                                   OneHotEncoder(handle_u...\n",
       "                               feature_types=None, gamma=None, gpu_id=None,\n",
       "                               grow_policy=None, importance_type=None,\n",
       "                               interaction_constraints=None, learning_rate=None,\n",
       "                               max_bin=None, max_cat_threshold=None,\n",
       "                               max_cat_to_onehot=None, max_delta_step=None,\n",
       "                               max_depth=None, max_leaves=None,\n",
       "                               min_child_weight=None, missing=nan,\n",
       "                               monotone_constraints=None, n_estimators=100,\n",
       "                               n_jobs=None, num_parallel_tree=None,\n",
       "                               predictor=None, random_state=None, ...))])</pre></div></div></div><div class=\"sk-serial\"><div class=\"sk-item sk-dashed-wrapped\"><div class=\"sk-label-container\"><div class=\"sk-label sk-toggleable\"><input class=\"sk-toggleable__control sk-hidden--visually\" id=\"sk-estimator-id-2\" type=\"checkbox\" ><label for=\"sk-estimator-id-2\" class=\"sk-toggleable__label sk-toggleable__label-arrow\">preprocess: ColumnTransformer</label><div class=\"sk-toggleable__content\"><pre>ColumnTransformer(remainder=&#x27;passthrough&#x27;,\n",
       "                  transformers=[(&#x27;numeric&#x27;,\n",
       "                                 Pipeline(steps=[(&#x27;scale&#x27;, StandardScaler())]),\n",
       "                                 [&#x27;windspeedKmph&#x27;, &#x27;winddirDegree&#x27;, &#x27;precipMM&#x27;,\n",
       "                                  &#x27;visibility&#x27;, &#x27;pressure&#x27;, &#x27;cloudcover&#x27;,\n",
       "                                  &#x27;DewPointF&#x27;, &#x27;WindGustKmph&#x27;, &#x27;tempF&#x27;,\n",
       "                                  &#x27;WindChillF&#x27;, &#x27;humidity&#x27;]),\n",
       "                                (&#x27;categorical&#x27;,\n",
       "                                 Pipeline(steps=[(&#x27;oh-encode&#x27;,\n",
       "                                                  OneHotEncoder(handle_unknown=&#x27;ignore&#x27;,\n",
       "                                                                sparse=False))]),\n",
       "                                 [&#x27;Quarter&#x27;, &#x27;Month&#x27;, &#x27;Origin&#x27;, &#x27;Dest&#x27;,\n",
       "                                  &#x27;weatherCode&#x27;])])</pre></div></div></div><div class=\"sk-parallel\"><div class=\"sk-parallel-item\"><div class=\"sk-item\"><div class=\"sk-label-container\"><div class=\"sk-label sk-toggleable\"><input class=\"sk-toggleable__control sk-hidden--visually\" id=\"sk-estimator-id-3\" type=\"checkbox\" ><label for=\"sk-estimator-id-3\" class=\"sk-toggleable__label sk-toggleable__label-arrow\">numeric</label><div class=\"sk-toggleable__content\"><pre>[&#x27;windspeedKmph&#x27;, &#x27;winddirDegree&#x27;, &#x27;precipMM&#x27;, &#x27;visibility&#x27;, &#x27;pressure&#x27;, &#x27;cloudcover&#x27;, &#x27;DewPointF&#x27;, &#x27;WindGustKmph&#x27;, &#x27;tempF&#x27;, &#x27;WindChillF&#x27;, &#x27;humidity&#x27;]</pre></div></div></div><div class=\"sk-serial\"><div class=\"sk-item\"><div class=\"sk-serial\"><div class=\"sk-item\"><div class=\"sk-estimator sk-toggleable\"><input class=\"sk-toggleable__control sk-hidden--visually\" id=\"sk-estimator-id-4\" type=\"checkbox\" ><label for=\"sk-estimator-id-4\" class=\"sk-toggleable__label sk-toggleable__label-arrow\">StandardScaler</label><div class=\"sk-toggleable__content\"><pre>StandardScaler()</pre></div></div></div></div></div></div></div></div><div class=\"sk-parallel-item\"><div class=\"sk-item\"><div class=\"sk-label-container\"><div class=\"sk-label sk-toggleable\"><input class=\"sk-toggleable__control sk-hidden--visually\" id=\"sk-estimator-id-5\" type=\"checkbox\" ><label for=\"sk-estimator-id-5\" class=\"sk-toggleable__label sk-toggleable__label-arrow\">categorical</label><div class=\"sk-toggleable__content\"><pre>[&#x27;Quarter&#x27;, &#x27;Month&#x27;, &#x27;Origin&#x27;, &#x27;Dest&#x27;, &#x27;weatherCode&#x27;]</pre></div></div></div><div class=\"sk-serial\"><div class=\"sk-item\"><div class=\"sk-serial\"><div class=\"sk-item\"><div class=\"sk-estimator sk-toggleable\"><input class=\"sk-toggleable__control sk-hidden--visually\" id=\"sk-estimator-id-6\" type=\"checkbox\" ><label for=\"sk-estimator-id-6\" class=\"sk-toggleable__label sk-toggleable__label-arrow\">OneHotEncoder</label><div class=\"sk-toggleable__content\"><pre>OneHotEncoder(handle_unknown=&#x27;ignore&#x27;, sparse=False)</pre></div></div></div></div></div></div></div></div><div class=\"sk-parallel-item\"><div class=\"sk-item\"><div class=\"sk-label-container\"><div class=\"sk-label sk-toggleable\"><input class=\"sk-toggleable__control sk-hidden--visually\" id=\"sk-estimator-id-7\" type=\"checkbox\" ><label for=\"sk-estimator-id-7\" class=\"sk-toggleable__label sk-toggleable__label-arrow\">remainder</label><div class=\"sk-toggleable__content\"><pre></pre></div></div></div><div class=\"sk-serial\"><div class=\"sk-item\"><div class=\"sk-estimator sk-toggleable\"><input class=\"sk-toggleable__control sk-hidden--visually\" id=\"sk-estimator-id-8\" type=\"checkbox\" ><label for=\"sk-estimator-id-8\" class=\"sk-toggleable__label sk-toggleable__label-arrow\">passthrough</label><div class=\"sk-toggleable__content\"><pre>passthrough</pre></div></div></div></div></div></div></div></div><div class=\"sk-item\"><div class=\"sk-estimator sk-toggleable\"><input class=\"sk-toggleable__control sk-hidden--visually\" id=\"sk-estimator-id-9\" type=\"checkbox\" ><label for=\"sk-estimator-id-9\" class=\"sk-toggleable__label sk-toggleable__label-arrow\">XGBClassifier</label><div class=\"sk-toggleable__content\"><pre>XGBClassifier(base_score=None, booster=None, callbacks=None,\n",
       "              colsample_bylevel=None, colsample_bynode=None,\n",
       "              colsample_bytree=None, early_stopping_rounds=None,\n",
       "              enable_categorical=False, eval_metric=None, feature_types=None,\n",
       "              gamma=None, gpu_id=None, grow_policy=None, importance_type=None,\n",
       "              interaction_constraints=None, learning_rate=None, max_bin=None,\n",
       "              max_cat_threshold=None, max_cat_to_onehot=None,\n",
       "              max_delta_step=None, max_depth=None, max_leaves=None,\n",
       "              min_child_weight=None, missing=nan, monotone_constraints=None,\n",
       "              n_estimators=100, n_jobs=None, num_parallel_tree=None,\n",
       "              predictor=None, random_state=None, ...)</pre></div></div></div></div></div></div></div>"
      ],
      "text/plain": [
       "Pipeline(steps=[('preprocess',\n",
       "                 ColumnTransformer(remainder='passthrough',\n",
       "                                   transformers=[('numeric',\n",
       "                                                  Pipeline(steps=[('scale',\n",
       "                                                                   StandardScaler())]),\n",
       "                                                  ['windspeedKmph',\n",
       "                                                   'winddirDegree', 'precipMM',\n",
       "                                                   'visibility', 'pressure',\n",
       "                                                   'cloudcover', 'DewPointF',\n",
       "                                                   'WindGustKmph', 'tempF',\n",
       "                                                   'WindChillF', 'humidity']),\n",
       "                                                 ('categorical',\n",
       "                                                  Pipeline(steps=[('oh-encode',\n",
       "                                                                   OneHotEncoder(handle_u...\n",
       "                               feature_types=None, gamma=None, gpu_id=None,\n",
       "                               grow_policy=None, importance_type=None,\n",
       "                               interaction_constraints=None, learning_rate=None,\n",
       "                               max_bin=None, max_cat_threshold=None,\n",
       "                               max_cat_to_onehot=None, max_delta_step=None,\n",
       "                               max_depth=None, max_leaves=None,\n",
       "                               min_child_weight=None, missing=nan,\n",
       "                               monotone_constraints=None, n_estimators=100,\n",
       "                               n_jobs=None, num_parallel_tree=None,\n",
       "                               predictor=None, random_state=None, ...))])"
      ]
     },
     "execution_count": 55,
     "metadata": {},
     "output_type": "execute_result"
    }
   ],
   "source": [
    "model_pipeline"
   ]
  },
  {
   "cell_type": "code",
   "execution_count": 56,
   "id": "f6b9054e",
   "metadata": {},
   "outputs": [
    {
     "data": {
      "text/plain": [
       "array([[1, 1, 'LAS', ..., 29.0, 21.0, 59.0],\n",
       "       [1, 1, 'LAX', ..., 59.0, 58.0, 39.0],\n",
       "       [1, 1, 'LAX', ..., 59.0, 58.0, 39.0],\n",
       "       ...,\n",
       "       [4, 12, 'SFO', ..., 52.0, 52.0, 97.0],\n",
       "       [4, 12, 'SFO', ..., 52.0, 52.0, 97.0],\n",
       "       [4, 12, 'SFO', ..., 52.0, 52.0, 97.0]], dtype=object)"
      ]
     },
     "execution_count": 56,
     "metadata": {},
     "output_type": "execute_result"
    }
   ],
   "source": [
    "Df4.iloc[:,:-1].values"
   ]
  },
  {
   "cell_type": "code",
   "execution_count": 77,
   "id": "fa773d15",
   "metadata": {},
   "outputs": [
    {
     "data": {
      "text/plain": [
       "(1556641, 16)"
      ]
     },
     "execution_count": 77,
     "metadata": {},
     "output_type": "execute_result"
    }
   ],
   "source": [
    "X = Df4.iloc[:,:-1].values\n",
    "X.shape"
   ]
  },
  {
   "cell_type": "code",
   "execution_count": 78,
   "id": "9efef415",
   "metadata": {},
   "outputs": [
    {
     "data": {
      "text/plain": [
       "(1556641,)"
      ]
     },
     "execution_count": 78,
     "metadata": {},
     "output_type": "execute_result"
    }
   ],
   "source": [
    "y = Df4.iloc[:,-1].values\n",
    "y.shape"
   ]
  },
  {
   "cell_type": "markdown",
   "id": "9e4e9ad1",
   "metadata": {},
   "source": [
    "##### Splitting\n",
    "- But should not split after standardising because test data is standardised using the parameters of entire population, which is incorrect"
   ]
  },
  {
   "cell_type": "code",
   "execution_count": 79,
   "id": "c4b0af8c",
   "metadata": {},
   "outputs": [],
   "source": [
    "from sklearn.model_selection import train_test_split\n",
    "X_train, X_test, y_train, y_test = train_test_split(X, y, train_size=0.8, stratify=y, random_state=2017)"
   ]
  },
  {
   "cell_type": "markdown",
   "id": "fc752aee",
   "metadata": {},
   "source": [
    "##### GridSearchCV"
   ]
  },
  {
   "cell_type": "code",
   "execution_count": 80,
   "id": "5ba0a5ad",
   "metadata": {},
   "outputs": [],
   "source": [
    "xgb = XGBClassifier()"
   ]
  },
  {
   "cell_type": "code",
   "execution_count": 90,
   "id": "8151e33c",
   "metadata": {},
   "outputs": [],
   "source": [
    "params = {\n",
    "    \"xgb__max_depth\": [3, 4, 5, 7],\n",
    "    \"xgb__learning_rate\": [0.1, 0.01, 0.05],\n",
    "    \"xgb__gamma\": [0, 0.25, 1],\n",
    "    \"xgb__reg_lambda\": [0, 1, 10],\n",
    "    \"xgb__scale_pos_weight\": [1, 3, 5],\n",
    "    \"xgb__subsample\": [0.8],\n",
    "    \"xgb__colsample_bytree\": [0.5],\n",
    "}"
   ]
  },
  {
   "cell_type": "code",
   "execution_count": 100,
   "id": "585b62c7",
   "metadata": {},
   "outputs": [],
   "source": [
    "xgb_grid = HalvingGridSearchCV(model_pipeline, param_grid=params, n_jobs=-1, cv=3, scoring=\"roc_auc\")"
   ]
  },
  {
   "cell_type": "code",
   "execution_count": 101,
   "id": "d03367aa",
   "metadata": {},
   "outputs": [
    {
     "data": {
      "text/plain": [
       "array([2, 5, 'JFK', 'PHX', '16', 154.0, 113.0, 0.0, 10.0, 1013.0, 0.0,\n",
       "       44.0, 18.0, 54.0, 55.0, 66.0], dtype=object)"
      ]
     },
     "execution_count": 101,
     "metadata": {},
     "output_type": "execute_result"
    }
   ],
   "source": [
    "X_train[0]"
   ]
  },
  {
   "cell_type": "code",
   "execution_count": 102,
   "id": "049a7643",
   "metadata": {},
   "outputs": [
    {
     "data": {
      "text/plain": [
       "{'memory': None,\n",
       " 'steps': [('preprocess',\n",
       "   ColumnTransformer(remainder='passthrough',\n",
       "                     transformers=[('numeric',\n",
       "                                    Pipeline(steps=[('scale', StandardScaler())]),\n",
       "                                    ['windspeedKmph', 'winddirDegree', 'precipMM',\n",
       "                                     'visibility', 'pressure', 'cloudcover',\n",
       "                                     'DewPointF', 'WindGustKmph', 'tempF',\n",
       "                                     'WindChillF', 'humidity']),\n",
       "                                   ('categorical',\n",
       "                                    Pipeline(steps=[('oh-encode',\n",
       "                                                     OneHotEncoder(handle_unknown='ignore',\n",
       "                                                                   sparse=False))]),\n",
       "                                    ['Quarter', 'Month', 'Origin', 'Dest',\n",
       "                                     'weatherCode'])])),\n",
       "  ('xgb',\n",
       "   XGBClassifier(base_score=None, booster=None, callbacks=None,\n",
       "                 colsample_bylevel=None, colsample_bynode=None,\n",
       "                 colsample_bytree=None, early_stopping_rounds=None,\n",
       "                 enable_categorical=False, eval_metric=None, feature_types=None,\n",
       "                 gamma=None, gpu_id=None, grow_policy=None, importance_type=None,\n",
       "                 interaction_constraints=None, learning_rate=None, max_bin=None,\n",
       "                 max_cat_threshold=None, max_cat_to_onehot=None,\n",
       "                 max_delta_step=None, max_depth=None, max_leaves=None,\n",
       "                 min_child_weight=None, missing=nan, monotone_constraints=None,\n",
       "                 n_estimators=100, n_jobs=None, num_parallel_tree=None,\n",
       "                 predictor=None, random_state=None, ...))],\n",
       " 'verbose': False,\n",
       " 'preprocess': ColumnTransformer(remainder='passthrough',\n",
       "                   transformers=[('numeric',\n",
       "                                  Pipeline(steps=[('scale', StandardScaler())]),\n",
       "                                  ['windspeedKmph', 'winddirDegree', 'precipMM',\n",
       "                                   'visibility', 'pressure', 'cloudcover',\n",
       "                                   'DewPointF', 'WindGustKmph', 'tempF',\n",
       "                                   'WindChillF', 'humidity']),\n",
       "                                 ('categorical',\n",
       "                                  Pipeline(steps=[('oh-encode',\n",
       "                                                   OneHotEncoder(handle_unknown='ignore',\n",
       "                                                                 sparse=False))]),\n",
       "                                  ['Quarter', 'Month', 'Origin', 'Dest',\n",
       "                                   'weatherCode'])]),\n",
       " 'xgb': XGBClassifier(base_score=None, booster=None, callbacks=None,\n",
       "               colsample_bylevel=None, colsample_bynode=None,\n",
       "               colsample_bytree=None, early_stopping_rounds=None,\n",
       "               enable_categorical=False, eval_metric=None, feature_types=None,\n",
       "               gamma=None, gpu_id=None, grow_policy=None, importance_type=None,\n",
       "               interaction_constraints=None, learning_rate=None, max_bin=None,\n",
       "               max_cat_threshold=None, max_cat_to_onehot=None,\n",
       "               max_delta_step=None, max_depth=None, max_leaves=None,\n",
       "               min_child_weight=None, missing=nan, monotone_constraints=None,\n",
       "               n_estimators=100, n_jobs=None, num_parallel_tree=None,\n",
       "               predictor=None, random_state=None, ...),\n",
       " 'preprocess__n_jobs': None,\n",
       " 'preprocess__remainder': 'passthrough',\n",
       " 'preprocess__sparse_threshold': 0.3,\n",
       " 'preprocess__transformer_weights': None,\n",
       " 'preprocess__transformers': [('numeric',\n",
       "   Pipeline(steps=[('scale', StandardScaler())]),\n",
       "   ['windspeedKmph',\n",
       "    'winddirDegree',\n",
       "    'precipMM',\n",
       "    'visibility',\n",
       "    'pressure',\n",
       "    'cloudcover',\n",
       "    'DewPointF',\n",
       "    'WindGustKmph',\n",
       "    'tempF',\n",
       "    'WindChillF',\n",
       "    'humidity']),\n",
       "  ('categorical',\n",
       "   Pipeline(steps=[('oh-encode',\n",
       "                    OneHotEncoder(handle_unknown='ignore', sparse=False))]),\n",
       "   ['Quarter', 'Month', 'Origin', 'Dest', 'weatherCode'])],\n",
       " 'preprocess__verbose': False,\n",
       " 'preprocess__verbose_feature_names_out': True,\n",
       " 'preprocess__numeric': Pipeline(steps=[('scale', StandardScaler())]),\n",
       " 'preprocess__categorical': Pipeline(steps=[('oh-encode',\n",
       "                  OneHotEncoder(handle_unknown='ignore', sparse=False))]),\n",
       " 'preprocess__numeric__memory': None,\n",
       " 'preprocess__numeric__steps': [('scale', StandardScaler())],\n",
       " 'preprocess__numeric__verbose': False,\n",
       " 'preprocess__numeric__scale': StandardScaler(),\n",
       " 'preprocess__numeric__scale__copy': True,\n",
       " 'preprocess__numeric__scale__with_mean': True,\n",
       " 'preprocess__numeric__scale__with_std': True,\n",
       " 'preprocess__categorical__memory': None,\n",
       " 'preprocess__categorical__steps': [('oh-encode',\n",
       "   OneHotEncoder(handle_unknown='ignore', sparse=False))],\n",
       " 'preprocess__categorical__verbose': False,\n",
       " 'preprocess__categorical__oh-encode': OneHotEncoder(handle_unknown='ignore', sparse=False),\n",
       " 'preprocess__categorical__oh-encode__categories': 'auto',\n",
       " 'preprocess__categorical__oh-encode__drop': None,\n",
       " 'preprocess__categorical__oh-encode__dtype': numpy.float64,\n",
       " 'preprocess__categorical__oh-encode__handle_unknown': 'ignore',\n",
       " 'preprocess__categorical__oh-encode__max_categories': None,\n",
       " 'preprocess__categorical__oh-encode__min_frequency': None,\n",
       " 'preprocess__categorical__oh-encode__sparse': False,\n",
       " 'xgb__objective': 'binary:logistic',\n",
       " 'xgb__use_label_encoder': None,\n",
       " 'xgb__base_score': None,\n",
       " 'xgb__booster': None,\n",
       " 'xgb__callbacks': None,\n",
       " 'xgb__colsample_bylevel': None,\n",
       " 'xgb__colsample_bynode': None,\n",
       " 'xgb__colsample_bytree': None,\n",
       " 'xgb__early_stopping_rounds': None,\n",
       " 'xgb__enable_categorical': False,\n",
       " 'xgb__eval_metric': None,\n",
       " 'xgb__feature_types': None,\n",
       " 'xgb__gamma': None,\n",
       " 'xgb__gpu_id': None,\n",
       " 'xgb__grow_policy': None,\n",
       " 'xgb__importance_type': None,\n",
       " 'xgb__interaction_constraints': None,\n",
       " 'xgb__learning_rate': None,\n",
       " 'xgb__max_bin': None,\n",
       " 'xgb__max_cat_threshold': None,\n",
       " 'xgb__max_cat_to_onehot': None,\n",
       " 'xgb__max_delta_step': None,\n",
       " 'xgb__max_depth': None,\n",
       " 'xgb__max_leaves': None,\n",
       " 'xgb__min_child_weight': None,\n",
       " 'xgb__missing': nan,\n",
       " 'xgb__monotone_constraints': None,\n",
       " 'xgb__n_estimators': 100,\n",
       " 'xgb__n_jobs': None,\n",
       " 'xgb__num_parallel_tree': None,\n",
       " 'xgb__predictor': None,\n",
       " 'xgb__random_state': None,\n",
       " 'xgb__reg_alpha': None,\n",
       " 'xgb__reg_lambda': None,\n",
       " 'xgb__sampling_method': None,\n",
       " 'xgb__scale_pos_weight': None,\n",
       " 'xgb__subsample': None,\n",
       " 'xgb__tree_method': None,\n",
       " 'xgb__validate_parameters': None,\n",
       " 'xgb__verbosity': None}"
      ]
     },
     "execution_count": 102,
     "metadata": {},
     "output_type": "execute_result"
    }
   ],
   "source": [
    "model_pipeline.get_params()"
   ]
  },
  {
   "cell_type": "code",
   "execution_count": 103,
   "id": "d637cc84",
   "metadata": {},
   "outputs": [
    {
     "ename": "KeyboardInterrupt",
     "evalue": "",
     "output_type": "error",
     "traceback": [
      "\u001b[0;31m---------------------------------------------------------------------------\u001b[0m",
      "\u001b[0;31mKeyboardInterrupt\u001b[0m                         Traceback (most recent call last)",
      "\u001b[0;32m~/miniconda3/envs/spyder/lib/python3.10/site-packages/joblib/parallel.py\u001b[0m in \u001b[0;36mretrieve\u001b[0;34m(self)\u001b[0m\n\u001b[1;32m    937\u001b[0m                 \u001b[0;32mif\u001b[0m \u001b[0mgetattr\u001b[0m\u001b[0;34m(\u001b[0m\u001b[0mself\u001b[0m\u001b[0;34m.\u001b[0m\u001b[0m_backend\u001b[0m\u001b[0;34m,\u001b[0m \u001b[0;34m'supports_timeout'\u001b[0m\u001b[0;34m,\u001b[0m \u001b[0;32mFalse\u001b[0m\u001b[0;34m)\u001b[0m\u001b[0;34m:\u001b[0m\u001b[0;34m\u001b[0m\u001b[0;34m\u001b[0m\u001b[0m\n\u001b[0;32m--> 938\u001b[0;31m                     \u001b[0mself\u001b[0m\u001b[0;34m.\u001b[0m\u001b[0m_output\u001b[0m\u001b[0;34m.\u001b[0m\u001b[0mextend\u001b[0m\u001b[0;34m(\u001b[0m\u001b[0mjob\u001b[0m\u001b[0;34m.\u001b[0m\u001b[0mget\u001b[0m\u001b[0;34m(\u001b[0m\u001b[0mtimeout\u001b[0m\u001b[0;34m=\u001b[0m\u001b[0mself\u001b[0m\u001b[0;34m.\u001b[0m\u001b[0mtimeout\u001b[0m\u001b[0;34m)\u001b[0m\u001b[0;34m)\u001b[0m\u001b[0;34m\u001b[0m\u001b[0;34m\u001b[0m\u001b[0m\n\u001b[0m\u001b[1;32m    939\u001b[0m                 \u001b[0;32melse\u001b[0m\u001b[0;34m:\u001b[0m\u001b[0;34m\u001b[0m\u001b[0;34m\u001b[0m\u001b[0m\n",
      "\u001b[0;32m~/miniconda3/envs/spyder/lib/python3.10/site-packages/joblib/_parallel_backends.py\u001b[0m in \u001b[0;36mwrap_future_result\u001b[0;34m(future, timeout)\u001b[0m\n\u001b[1;32m    541\u001b[0m         \u001b[0;32mtry\u001b[0m\u001b[0;34m:\u001b[0m\u001b[0;34m\u001b[0m\u001b[0;34m\u001b[0m\u001b[0m\n\u001b[0;32m--> 542\u001b[0;31m             \u001b[0;32mreturn\u001b[0m \u001b[0mfuture\u001b[0m\u001b[0;34m.\u001b[0m\u001b[0mresult\u001b[0m\u001b[0;34m(\u001b[0m\u001b[0mtimeout\u001b[0m\u001b[0;34m=\u001b[0m\u001b[0mtimeout\u001b[0m\u001b[0;34m)\u001b[0m\u001b[0;34m\u001b[0m\u001b[0;34m\u001b[0m\u001b[0m\n\u001b[0m\u001b[1;32m    543\u001b[0m         \u001b[0;32mexcept\u001b[0m \u001b[0mCfTimeoutError\u001b[0m \u001b[0;32mas\u001b[0m \u001b[0me\u001b[0m\u001b[0;34m:\u001b[0m\u001b[0;34m\u001b[0m\u001b[0;34m\u001b[0m\u001b[0m\n",
      "\u001b[0;32m~/miniconda3/envs/spyder/lib/python3.10/concurrent/futures/_base.py\u001b[0m in \u001b[0;36mresult\u001b[0;34m(self, timeout)\u001b[0m\n\u001b[1;32m    452\u001b[0m \u001b[0;34m\u001b[0m\u001b[0m\n\u001b[0;32m--> 453\u001b[0;31m                 \u001b[0mself\u001b[0m\u001b[0;34m.\u001b[0m\u001b[0m_condition\u001b[0m\u001b[0;34m.\u001b[0m\u001b[0mwait\u001b[0m\u001b[0;34m(\u001b[0m\u001b[0mtimeout\u001b[0m\u001b[0;34m)\u001b[0m\u001b[0;34m\u001b[0m\u001b[0;34m\u001b[0m\u001b[0m\n\u001b[0m\u001b[1;32m    454\u001b[0m \u001b[0;34m\u001b[0m\u001b[0m\n",
      "\u001b[0;32m~/miniconda3/envs/spyder/lib/python3.10/threading.py\u001b[0m in \u001b[0;36mwait\u001b[0;34m(self, timeout)\u001b[0m\n\u001b[1;32m    319\u001b[0m             \u001b[0;32mif\u001b[0m \u001b[0mtimeout\u001b[0m \u001b[0;32mis\u001b[0m \u001b[0;32mNone\u001b[0m\u001b[0;34m:\u001b[0m\u001b[0;34m\u001b[0m\u001b[0;34m\u001b[0m\u001b[0m\n\u001b[0;32m--> 320\u001b[0;31m                 \u001b[0mwaiter\u001b[0m\u001b[0;34m.\u001b[0m\u001b[0macquire\u001b[0m\u001b[0;34m(\u001b[0m\u001b[0;34m)\u001b[0m\u001b[0;34m\u001b[0m\u001b[0;34m\u001b[0m\u001b[0m\n\u001b[0m\u001b[1;32m    321\u001b[0m                 \u001b[0mgotit\u001b[0m \u001b[0;34m=\u001b[0m \u001b[0;32mTrue\u001b[0m\u001b[0;34m\u001b[0m\u001b[0;34m\u001b[0m\u001b[0m\n",
      "\u001b[0;31mKeyboardInterrupt\u001b[0m: ",
      "\nDuring handling of the above exception, another exception occurred:\n",
      "\u001b[0;31mKeyboardInterrupt\u001b[0m                         Traceback (most recent call last)",
      "\u001b[0;32m/var/folders/m5/xgbg_j9n4lj22vhdl_zqqlzm0000gn/T/ipykernel_8737/1405946881.py\u001b[0m in \u001b[0;36m<module>\u001b[0;34m\u001b[0m\n\u001b[0;32m----> 1\u001b[0;31m \u001b[0mxgb_grid\u001b[0m\u001b[0;34m.\u001b[0m\u001b[0mfit\u001b[0m\u001b[0;34m(\u001b[0m\u001b[0mX_train\u001b[0m\u001b[0;34m,\u001b[0m\u001b[0my_train\u001b[0m\u001b[0;34m)\u001b[0m\u001b[0;34m\u001b[0m\u001b[0;34m\u001b[0m\u001b[0m\n\u001b[0m",
      "\u001b[0;32m~/miniconda3/envs/spyder/lib/python3.10/site-packages/sklearn/model_selection/_search_successive_halving.py\u001b[0m in \u001b[0;36mfit\u001b[0;34m(self, X, y, groups, **fit_params)\u001b[0m\n\u001b[1;32m    259\u001b[0m         \u001b[0mself\u001b[0m\u001b[0;34m.\u001b[0m\u001b[0m_n_samples_orig\u001b[0m \u001b[0;34m=\u001b[0m \u001b[0m_num_samples\u001b[0m\u001b[0;34m(\u001b[0m\u001b[0mX\u001b[0m\u001b[0;34m)\u001b[0m\u001b[0;34m\u001b[0m\u001b[0;34m\u001b[0m\u001b[0m\n\u001b[1;32m    260\u001b[0m \u001b[0;34m\u001b[0m\u001b[0m\n\u001b[0;32m--> 261\u001b[0;31m         \u001b[0msuper\u001b[0m\u001b[0;34m(\u001b[0m\u001b[0;34m)\u001b[0m\u001b[0;34m.\u001b[0m\u001b[0mfit\u001b[0m\u001b[0;34m(\u001b[0m\u001b[0mX\u001b[0m\u001b[0;34m,\u001b[0m \u001b[0my\u001b[0m\u001b[0;34m=\u001b[0m\u001b[0my\u001b[0m\u001b[0;34m,\u001b[0m \u001b[0mgroups\u001b[0m\u001b[0;34m=\u001b[0m\u001b[0mgroups\u001b[0m\u001b[0;34m,\u001b[0m \u001b[0;34m**\u001b[0m\u001b[0mfit_params\u001b[0m\u001b[0;34m)\u001b[0m\u001b[0;34m\u001b[0m\u001b[0;34m\u001b[0m\u001b[0m\n\u001b[0m\u001b[1;32m    262\u001b[0m \u001b[0;34m\u001b[0m\u001b[0m\n\u001b[1;32m    263\u001b[0m         \u001b[0;31m# Set best_score_: BaseSearchCV does not set it, as refit is a callable\u001b[0m\u001b[0;34m\u001b[0m\u001b[0;34m\u001b[0m\u001b[0m\n",
      "\u001b[0;32m~/miniconda3/envs/spyder/lib/python3.10/site-packages/sklearn/model_selection/_search.py\u001b[0m in \u001b[0;36mfit\u001b[0;34m(self, X, y, groups, **fit_params)\u001b[0m\n\u001b[1;32m    873\u001b[0m                 \u001b[0;32mreturn\u001b[0m \u001b[0mresults\u001b[0m\u001b[0;34m\u001b[0m\u001b[0;34m\u001b[0m\u001b[0m\n\u001b[1;32m    874\u001b[0m \u001b[0;34m\u001b[0m\u001b[0m\n\u001b[0;32m--> 875\u001b[0;31m             \u001b[0mself\u001b[0m\u001b[0;34m.\u001b[0m\u001b[0m_run_search\u001b[0m\u001b[0;34m(\u001b[0m\u001b[0mevaluate_candidates\u001b[0m\u001b[0;34m)\u001b[0m\u001b[0;34m\u001b[0m\u001b[0;34m\u001b[0m\u001b[0m\n\u001b[0m\u001b[1;32m    876\u001b[0m \u001b[0;34m\u001b[0m\u001b[0m\n\u001b[1;32m    877\u001b[0m             \u001b[0;31m# multimetric is determined here because in the case of a callable\u001b[0m\u001b[0;34m\u001b[0m\u001b[0;34m\u001b[0m\u001b[0m\n",
      "\u001b[0;32m~/miniconda3/envs/spyder/lib/python3.10/site-packages/sklearn/model_selection/_search_successive_halving.py\u001b[0m in \u001b[0;36m_run_search\u001b[0;34m(self, evaluate_candidates)\u001b[0m\n\u001b[1;32m    364\u001b[0m             }\n\u001b[1;32m    365\u001b[0m \u001b[0;34m\u001b[0m\u001b[0m\n\u001b[0;32m--> 366\u001b[0;31m             results = evaluate_candidates(\n\u001b[0m\u001b[1;32m    367\u001b[0m                 \u001b[0mcandidate_params\u001b[0m\u001b[0;34m,\u001b[0m \u001b[0mcv\u001b[0m\u001b[0;34m,\u001b[0m \u001b[0mmore_results\u001b[0m\u001b[0;34m=\u001b[0m\u001b[0mmore_results\u001b[0m\u001b[0;34m\u001b[0m\u001b[0;34m\u001b[0m\u001b[0m\n\u001b[1;32m    368\u001b[0m             )\n",
      "\u001b[0;32m~/miniconda3/envs/spyder/lib/python3.10/site-packages/sklearn/model_selection/_search.py\u001b[0m in \u001b[0;36mevaluate_candidates\u001b[0;34m(candidate_params, cv, more_results)\u001b[0m\n\u001b[1;32m    820\u001b[0m                     )\n\u001b[1;32m    821\u001b[0m \u001b[0;34m\u001b[0m\u001b[0m\n\u001b[0;32m--> 822\u001b[0;31m                 out = parallel(\n\u001b[0m\u001b[1;32m    823\u001b[0m                     delayed(_fit_and_score)(\n\u001b[1;32m    824\u001b[0m                         \u001b[0mclone\u001b[0m\u001b[0;34m(\u001b[0m\u001b[0mbase_estimator\u001b[0m\u001b[0;34m)\u001b[0m\u001b[0;34m,\u001b[0m\u001b[0;34m\u001b[0m\u001b[0;34m\u001b[0m\u001b[0m\n",
      "\u001b[0;32m~/miniconda3/envs/spyder/lib/python3.10/site-packages/joblib/parallel.py\u001b[0m in \u001b[0;36m__call__\u001b[0;34m(self, iterable)\u001b[0m\n\u001b[1;32m   1059\u001b[0m \u001b[0;34m\u001b[0m\u001b[0m\n\u001b[1;32m   1060\u001b[0m             \u001b[0;32mwith\u001b[0m \u001b[0mself\u001b[0m\u001b[0;34m.\u001b[0m\u001b[0m_backend\u001b[0m\u001b[0;34m.\u001b[0m\u001b[0mretrieval_context\u001b[0m\u001b[0;34m(\u001b[0m\u001b[0;34m)\u001b[0m\u001b[0;34m:\u001b[0m\u001b[0;34m\u001b[0m\u001b[0;34m\u001b[0m\u001b[0m\n\u001b[0;32m-> 1061\u001b[0;31m                 \u001b[0mself\u001b[0m\u001b[0;34m.\u001b[0m\u001b[0mretrieve\u001b[0m\u001b[0;34m(\u001b[0m\u001b[0;34m)\u001b[0m\u001b[0;34m\u001b[0m\u001b[0;34m\u001b[0m\u001b[0m\n\u001b[0m\u001b[1;32m   1062\u001b[0m             \u001b[0;31m# Make sure that we get a last message telling us we are done\u001b[0m\u001b[0;34m\u001b[0m\u001b[0;34m\u001b[0m\u001b[0m\n\u001b[1;32m   1063\u001b[0m             \u001b[0melapsed_time\u001b[0m \u001b[0;34m=\u001b[0m \u001b[0mtime\u001b[0m\u001b[0;34m.\u001b[0m\u001b[0mtime\u001b[0m\u001b[0;34m(\u001b[0m\u001b[0;34m)\u001b[0m \u001b[0;34m-\u001b[0m \u001b[0mself\u001b[0m\u001b[0;34m.\u001b[0m\u001b[0m_start_time\u001b[0m\u001b[0;34m\u001b[0m\u001b[0;34m\u001b[0m\u001b[0m\n",
      "\u001b[0;32m~/miniconda3/envs/spyder/lib/python3.10/site-packages/joblib/parallel.py\u001b[0m in \u001b[0;36mretrieve\u001b[0;34m(self)\u001b[0m\n\u001b[1;32m    958\u001b[0m                     \u001b[0;31m# scheduling.\u001b[0m\u001b[0;34m\u001b[0m\u001b[0;34m\u001b[0m\u001b[0m\n\u001b[1;32m    959\u001b[0m                     \u001b[0mensure_ready\u001b[0m \u001b[0;34m=\u001b[0m \u001b[0mself\u001b[0m\u001b[0;34m.\u001b[0m\u001b[0m_managed_backend\u001b[0m\u001b[0;34m\u001b[0m\u001b[0;34m\u001b[0m\u001b[0m\n\u001b[0;32m--> 960\u001b[0;31m                     \u001b[0mbackend\u001b[0m\u001b[0;34m.\u001b[0m\u001b[0mabort_everything\u001b[0m\u001b[0;34m(\u001b[0m\u001b[0mensure_ready\u001b[0m\u001b[0;34m=\u001b[0m\u001b[0mensure_ready\u001b[0m\u001b[0;34m)\u001b[0m\u001b[0;34m\u001b[0m\u001b[0;34m\u001b[0m\u001b[0m\n\u001b[0m\u001b[1;32m    961\u001b[0m                 \u001b[0;32mraise\u001b[0m\u001b[0;34m\u001b[0m\u001b[0;34m\u001b[0m\u001b[0m\n\u001b[1;32m    962\u001b[0m \u001b[0;34m\u001b[0m\u001b[0m\n",
      "\u001b[0;32m~/miniconda3/envs/spyder/lib/python3.10/site-packages/joblib/_parallel_backends.py\u001b[0m in \u001b[0;36mabort_everything\u001b[0;34m(self, ensure_ready)\u001b[0m\n\u001b[1;32m    563\u001b[0m \u001b[0;34m\u001b[0m\u001b[0m\n\u001b[1;32m    564\u001b[0m         \u001b[0;32mif\u001b[0m \u001b[0mensure_ready\u001b[0m\u001b[0;34m:\u001b[0m\u001b[0;34m\u001b[0m\u001b[0;34m\u001b[0m\u001b[0m\n\u001b[0;32m--> 565\u001b[0;31m             \u001b[0mself\u001b[0m\u001b[0;34m.\u001b[0m\u001b[0mconfigure\u001b[0m\u001b[0;34m(\u001b[0m\u001b[0mn_jobs\u001b[0m\u001b[0;34m=\u001b[0m\u001b[0mself\u001b[0m\u001b[0;34m.\u001b[0m\u001b[0mparallel\u001b[0m\u001b[0;34m.\u001b[0m\u001b[0mn_jobs\u001b[0m\u001b[0;34m,\u001b[0m \u001b[0mparallel\u001b[0m\u001b[0;34m=\u001b[0m\u001b[0mself\u001b[0m\u001b[0;34m.\u001b[0m\u001b[0mparallel\u001b[0m\u001b[0;34m)\u001b[0m\u001b[0;34m\u001b[0m\u001b[0;34m\u001b[0m\u001b[0m\n\u001b[0m\u001b[1;32m    566\u001b[0m \u001b[0;34m\u001b[0m\u001b[0m\n\u001b[1;32m    567\u001b[0m \u001b[0;34m\u001b[0m\u001b[0m\n",
      "\u001b[0;32m~/miniconda3/envs/spyder/lib/python3.10/site-packages/joblib/_parallel_backends.py\u001b[0m in \u001b[0;36mconfigure\u001b[0;34m(self, n_jobs, parallel, prefer, require, idle_worker_timeout, **memmappingexecutor_args)\u001b[0m\n\u001b[1;32m    492\u001b[0m                 SequentialBackend(nesting_level=self.nesting_level))\n\u001b[1;32m    493\u001b[0m \u001b[0;34m\u001b[0m\u001b[0m\n\u001b[0;32m--> 494\u001b[0;31m         self._workers = get_memmapping_executor(\n\u001b[0m\u001b[1;32m    495\u001b[0m             \u001b[0mn_jobs\u001b[0m\u001b[0;34m,\u001b[0m \u001b[0mtimeout\u001b[0m\u001b[0;34m=\u001b[0m\u001b[0midle_worker_timeout\u001b[0m\u001b[0;34m,\u001b[0m\u001b[0;34m\u001b[0m\u001b[0;34m\u001b[0m\u001b[0m\n\u001b[1;32m    496\u001b[0m             \u001b[0menv\u001b[0m\u001b[0;34m=\u001b[0m\u001b[0mself\u001b[0m\u001b[0;34m.\u001b[0m\u001b[0m_prepare_worker_env\u001b[0m\u001b[0;34m(\u001b[0m\u001b[0mn_jobs\u001b[0m\u001b[0;34m=\u001b[0m\u001b[0mn_jobs\u001b[0m\u001b[0;34m)\u001b[0m\u001b[0;34m,\u001b[0m\u001b[0;34m\u001b[0m\u001b[0;34m\u001b[0m\u001b[0m\n",
      "\u001b[0;32m~/miniconda3/envs/spyder/lib/python3.10/site-packages/joblib/executor.py\u001b[0m in \u001b[0;36mget_memmapping_executor\u001b[0;34m(n_jobs, **kwargs)\u001b[0m\n\u001b[1;32m     18\u001b[0m \u001b[0;34m\u001b[0m\u001b[0m\n\u001b[1;32m     19\u001b[0m \u001b[0;32mdef\u001b[0m \u001b[0mget_memmapping_executor\u001b[0m\u001b[0;34m(\u001b[0m\u001b[0mn_jobs\u001b[0m\u001b[0;34m,\u001b[0m \u001b[0;34m**\u001b[0m\u001b[0mkwargs\u001b[0m\u001b[0;34m)\u001b[0m\u001b[0;34m:\u001b[0m\u001b[0;34m\u001b[0m\u001b[0;34m\u001b[0m\u001b[0m\n\u001b[0;32m---> 20\u001b[0;31m     \u001b[0;32mreturn\u001b[0m \u001b[0mMemmappingExecutor\u001b[0m\u001b[0;34m.\u001b[0m\u001b[0mget_memmapping_executor\u001b[0m\u001b[0;34m(\u001b[0m\u001b[0mn_jobs\u001b[0m\u001b[0;34m,\u001b[0m \u001b[0;34m**\u001b[0m\u001b[0mkwargs\u001b[0m\u001b[0;34m)\u001b[0m\u001b[0;34m\u001b[0m\u001b[0;34m\u001b[0m\u001b[0m\n\u001b[0m\u001b[1;32m     21\u001b[0m \u001b[0;34m\u001b[0m\u001b[0m\n\u001b[1;32m     22\u001b[0m \u001b[0;34m\u001b[0m\u001b[0m\n",
      "\u001b[0;32m~/miniconda3/envs/spyder/lib/python3.10/site-packages/joblib/executor.py\u001b[0m in \u001b[0;36mget_memmapping_executor\u001b[0;34m(cls, n_jobs, timeout, initializer, initargs, env, temp_folder, context_id, **backend_args)\u001b[0m\n\u001b[1;32m     40\u001b[0m         \u001b[0m_executor_args\u001b[0m \u001b[0;34m=\u001b[0m \u001b[0mexecutor_args\u001b[0m\u001b[0;34m\u001b[0m\u001b[0;34m\u001b[0m\u001b[0m\n\u001b[1;32m     41\u001b[0m \u001b[0;34m\u001b[0m\u001b[0m\n\u001b[0;32m---> 42\u001b[0;31m         \u001b[0mmanager\u001b[0m \u001b[0;34m=\u001b[0m \u001b[0mTemporaryResourcesManager\u001b[0m\u001b[0;34m(\u001b[0m\u001b[0mtemp_folder\u001b[0m\u001b[0;34m)\u001b[0m\u001b[0;34m\u001b[0m\u001b[0;34m\u001b[0m\u001b[0m\n\u001b[0m\u001b[1;32m     43\u001b[0m \u001b[0;34m\u001b[0m\u001b[0m\n\u001b[1;32m     44\u001b[0m         \u001b[0;31m# reducers access the temporary folder in which to store temporary\u001b[0m\u001b[0;34m\u001b[0m\u001b[0;34m\u001b[0m\u001b[0m\n",
      "\u001b[0;32m~/miniconda3/envs/spyder/lib/python3.10/site-packages/joblib/_memmapping_reducer.py\u001b[0m in \u001b[0;36m__init__\u001b[0;34m(self, temp_folder_root, context_id)\u001b[0m\n\u001b[1;32m    529\u001b[0m             \u001b[0;31m# exposes exposes too many low-level details.\u001b[0m\u001b[0;34m\u001b[0m\u001b[0;34m\u001b[0m\u001b[0m\n\u001b[1;32m    530\u001b[0m             \u001b[0mcontext_id\u001b[0m \u001b[0;34m=\u001b[0m \u001b[0muuid4\u001b[0m\u001b[0;34m(\u001b[0m\u001b[0;34m)\u001b[0m\u001b[0;34m.\u001b[0m\u001b[0mhex\u001b[0m\u001b[0;34m\u001b[0m\u001b[0;34m\u001b[0m\u001b[0m\n\u001b[0;32m--> 531\u001b[0;31m         \u001b[0mself\u001b[0m\u001b[0;34m.\u001b[0m\u001b[0mset_current_context\u001b[0m\u001b[0;34m(\u001b[0m\u001b[0mcontext_id\u001b[0m\u001b[0;34m)\u001b[0m\u001b[0;34m\u001b[0m\u001b[0;34m\u001b[0m\u001b[0m\n\u001b[0m\u001b[1;32m    532\u001b[0m \u001b[0;34m\u001b[0m\u001b[0m\n\u001b[1;32m    533\u001b[0m     \u001b[0;32mdef\u001b[0m \u001b[0mset_current_context\u001b[0m\u001b[0;34m(\u001b[0m\u001b[0mself\u001b[0m\u001b[0;34m,\u001b[0m \u001b[0mcontext_id\u001b[0m\u001b[0;34m)\u001b[0m\u001b[0;34m:\u001b[0m\u001b[0;34m\u001b[0m\u001b[0;34m\u001b[0m\u001b[0m\n",
      "\u001b[0;32m~/miniconda3/envs/spyder/lib/python3.10/site-packages/joblib/_memmapping_reducer.py\u001b[0m in \u001b[0;36mset_current_context\u001b[0;34m(self, context_id)\u001b[0m\n\u001b[1;32m    533\u001b[0m     \u001b[0;32mdef\u001b[0m \u001b[0mset_current_context\u001b[0m\u001b[0;34m(\u001b[0m\u001b[0mself\u001b[0m\u001b[0;34m,\u001b[0m \u001b[0mcontext_id\u001b[0m\u001b[0;34m)\u001b[0m\u001b[0;34m:\u001b[0m\u001b[0;34m\u001b[0m\u001b[0;34m\u001b[0m\u001b[0m\n\u001b[1;32m    534\u001b[0m         \u001b[0mself\u001b[0m\u001b[0;34m.\u001b[0m\u001b[0m_current_context_id\u001b[0m \u001b[0;34m=\u001b[0m \u001b[0mcontext_id\u001b[0m\u001b[0;34m\u001b[0m\u001b[0;34m\u001b[0m\u001b[0m\n\u001b[0;32m--> 535\u001b[0;31m         \u001b[0mself\u001b[0m\u001b[0;34m.\u001b[0m\u001b[0mregister_new_context\u001b[0m\u001b[0;34m(\u001b[0m\u001b[0mcontext_id\u001b[0m\u001b[0;34m)\u001b[0m\u001b[0;34m\u001b[0m\u001b[0;34m\u001b[0m\u001b[0m\n\u001b[0m\u001b[1;32m    536\u001b[0m \u001b[0;34m\u001b[0m\u001b[0m\n\u001b[1;32m    537\u001b[0m     \u001b[0;32mdef\u001b[0m \u001b[0mregister_new_context\u001b[0m\u001b[0;34m(\u001b[0m\u001b[0mself\u001b[0m\u001b[0;34m,\u001b[0m \u001b[0mcontext_id\u001b[0m\u001b[0;34m)\u001b[0m\u001b[0;34m:\u001b[0m\u001b[0;34m\u001b[0m\u001b[0;34m\u001b[0m\u001b[0m\n",
      "\u001b[0;32m~/miniconda3/envs/spyder/lib/python3.10/site-packages/joblib/_memmapping_reducer.py\u001b[0m in \u001b[0;36mregister_new_context\u001b[0;34m(self, context_id)\u001b[0m\n\u001b[1;32m    555\u001b[0m                     os.getpid(), self._id, context_id)\n\u001b[1;32m    556\u001b[0m             )\n\u001b[0;32m--> 557\u001b[0;31m             new_folder_path, _ = _get_temp_dir(\n\u001b[0m\u001b[1;32m    558\u001b[0m                 \u001b[0mnew_folder_name\u001b[0m\u001b[0;34m,\u001b[0m \u001b[0mself\u001b[0m\u001b[0;34m.\u001b[0m\u001b[0m_temp_folder_root\u001b[0m\u001b[0;34m\u001b[0m\u001b[0;34m\u001b[0m\u001b[0m\n\u001b[1;32m    559\u001b[0m             )\n",
      "\u001b[0;32m~/miniconda3/envs/spyder/lib/python3.10/site-packages/joblib/_memmapping_reducer.py\u001b[0m in \u001b[0;36m_get_temp_dir\u001b[0;34m(pool_folder_name, temp_folder)\u001b[0m\n\u001b[1;32m    219\u001b[0m     \u001b[0;32mif\u001b[0m \u001b[0mtemp_folder\u001b[0m \u001b[0;32mis\u001b[0m \u001b[0;32mNone\u001b[0m\u001b[0;34m:\u001b[0m\u001b[0;34m\u001b[0m\u001b[0;34m\u001b[0m\u001b[0m\n\u001b[1;32m    220\u001b[0m         \u001b[0;31m# Fallback to the default tmp folder, typically /tmp\u001b[0m\u001b[0;34m\u001b[0m\u001b[0;34m\u001b[0m\u001b[0m\n\u001b[0;32m--> 221\u001b[0;31m         \u001b[0mtemp_folder\u001b[0m \u001b[0;34m=\u001b[0m \u001b[0mtempfile\u001b[0m\u001b[0;34m.\u001b[0m\u001b[0mgettempdir\u001b[0m\u001b[0;34m(\u001b[0m\u001b[0;34m)\u001b[0m\u001b[0;34m\u001b[0m\u001b[0;34m\u001b[0m\u001b[0m\n\u001b[0m\u001b[1;32m    222\u001b[0m     \u001b[0mtemp_folder\u001b[0m \u001b[0;34m=\u001b[0m \u001b[0mos\u001b[0m\u001b[0;34m.\u001b[0m\u001b[0mpath\u001b[0m\u001b[0;34m.\u001b[0m\u001b[0mabspath\u001b[0m\u001b[0;34m(\u001b[0m\u001b[0mos\u001b[0m\u001b[0;34m.\u001b[0m\u001b[0mpath\u001b[0m\u001b[0;34m.\u001b[0m\u001b[0mexpanduser\u001b[0m\u001b[0;34m(\u001b[0m\u001b[0mtemp_folder\u001b[0m\u001b[0;34m)\u001b[0m\u001b[0;34m)\u001b[0m\u001b[0;34m\u001b[0m\u001b[0;34m\u001b[0m\u001b[0m\n\u001b[1;32m    223\u001b[0m     \u001b[0mpool_folder\u001b[0m \u001b[0;34m=\u001b[0m \u001b[0mos\u001b[0m\u001b[0;34m.\u001b[0m\u001b[0mpath\u001b[0m\u001b[0;34m.\u001b[0m\u001b[0mjoin\u001b[0m\u001b[0;34m(\u001b[0m\u001b[0mtemp_folder\u001b[0m\u001b[0;34m,\u001b[0m \u001b[0mpool_folder_name\u001b[0m\u001b[0;34m)\u001b[0m\u001b[0;34m\u001b[0m\u001b[0;34m\u001b[0m\u001b[0m\n",
      "\u001b[0;32m~/miniconda3/envs/spyder/lib/python3.10/tempfile.py\u001b[0m in \u001b[0;36mgettempdir\u001b[0;34m()\u001b[0m\n\u001b[1;32m    297\u001b[0m \u001b[0;32mdef\u001b[0m \u001b[0mgettempdir\u001b[0m\u001b[0;34m(\u001b[0m\u001b[0;34m)\u001b[0m\u001b[0;34m:\u001b[0m\u001b[0;34m\u001b[0m\u001b[0;34m\u001b[0m\u001b[0m\n\u001b[1;32m    298\u001b[0m     \u001b[0;34m\"\"\"Returns tempfile.tempdir as str.\"\"\"\u001b[0m\u001b[0;34m\u001b[0m\u001b[0;34m\u001b[0m\u001b[0m\n\u001b[0;32m--> 299\u001b[0;31m     \u001b[0;32mreturn\u001b[0m \u001b[0m_os\u001b[0m\u001b[0;34m.\u001b[0m\u001b[0mfsdecode\u001b[0m\u001b[0;34m(\u001b[0m\u001b[0m_gettempdir\u001b[0m\u001b[0;34m(\u001b[0m\u001b[0;34m)\u001b[0m\u001b[0;34m)\u001b[0m\u001b[0;34m\u001b[0m\u001b[0;34m\u001b[0m\u001b[0m\n\u001b[0m\u001b[1;32m    300\u001b[0m \u001b[0;34m\u001b[0m\u001b[0m\n\u001b[1;32m    301\u001b[0m \u001b[0;32mdef\u001b[0m \u001b[0mgettempdirb\u001b[0m\u001b[0;34m(\u001b[0m\u001b[0;34m)\u001b[0m\u001b[0;34m:\u001b[0m\u001b[0;34m\u001b[0m\u001b[0;34m\u001b[0m\u001b[0m\n",
      "\u001b[0;32m~/miniconda3/envs/spyder/lib/python3.10/tempfile.py\u001b[0m in \u001b[0;36m_gettempdir\u001b[0;34m()\u001b[0m\n\u001b[1;32m    283\u001b[0m \u001b[0mtempdir\u001b[0m \u001b[0;34m=\u001b[0m \u001b[0;32mNone\u001b[0m\u001b[0;34m\u001b[0m\u001b[0;34m\u001b[0m\u001b[0m\n\u001b[1;32m    284\u001b[0m \u001b[0;34m\u001b[0m\u001b[0m\n\u001b[0;32m--> 285\u001b[0;31m \u001b[0;32mdef\u001b[0m \u001b[0m_gettempdir\u001b[0m\u001b[0;34m(\u001b[0m\u001b[0;34m)\u001b[0m\u001b[0;34m:\u001b[0m\u001b[0;34m\u001b[0m\u001b[0;34m\u001b[0m\u001b[0m\n\u001b[0m\u001b[1;32m    286\u001b[0m     \u001b[0;34m\"\"\"Private accessor for tempfile.tempdir.\"\"\"\u001b[0m\u001b[0;34m\u001b[0m\u001b[0;34m\u001b[0m\u001b[0m\n\u001b[1;32m    287\u001b[0m     \u001b[0;32mglobal\u001b[0m \u001b[0mtempdir\u001b[0m\u001b[0;34m\u001b[0m\u001b[0;34m\u001b[0m\u001b[0m\n",
      "\u001b[0;31mKeyboardInterrupt\u001b[0m: "
     ]
    }
   ],
   "source": [
    "xgb_grid.fit(X_train,y_train)"
   ]
  },
  {
   "cell_type": "code",
   "execution_count": null,
   "id": "36d217a6",
   "metadata": {},
   "outputs": [],
   "source": [
    "xgb_grid.best_params_"
   ]
  },
  {
   "cell_type": "code",
   "execution_count": null,
   "id": "e8e72314",
   "metadata": {},
   "outputs": [],
   "source": []
  },
  {
   "cell_type": "code",
   "execution_count": null,
   "id": "3c7356d6",
   "metadata": {},
   "outputs": [],
   "source": [
    "prediction = model.predict(X_test)"
   ]
  },
  {
   "cell_type": "markdown",
   "id": "193e919a",
   "metadata": {},
   "source": [
    "##### Evaluation\n",
    "- Base model"
   ]
  },
  {
   "cell_type": "code",
   "execution_count": null,
   "id": "42d18b9f",
   "metadata": {},
   "outputs": [],
   "source": [
    "from sklearn.metrics import accuracy_score, f1_score"
   ]
  },
  {
   "cell_type": "code",
   "execution_count": null,
   "id": "f9d1d1bd",
   "metadata": {},
   "outputs": [],
   "source": [
    "accuracy_score(prediction, y_test )"
   ]
  },
  {
   "cell_type": "code",
   "execution_count": null,
   "id": "15eba515",
   "metadata": {},
   "outputs": [],
   "source": [
    "f1_score(prediction, y_test)"
   ]
  },
  {
   "cell_type": "markdown",
   "id": "42bba22d",
   "metadata": {},
   "source": [
    "# 3. Regression for Arrival delay period for Delayed flights"
   ]
  },
  {
   "cell_type": "code",
   "execution_count": null,
   "id": "aa98d5e7",
   "metadata": {},
   "outputs": [],
   "source": []
  }
 ],
 "metadata": {
  "kernelspec": {
   "display_name": "Python 3 (ipykernel)",
   "language": "python",
   "name": "python3"
  },
  "language_info": {
   "codemirror_mode": {
    "name": "ipython",
    "version": 3
   },
   "file_extension": ".py",
   "mimetype": "text/x-python",
   "name": "python",
   "nbconvert_exporter": "python",
   "pygments_lexer": "ipython3",
   "version": "3.10.6"
  }
 },
 "nbformat": 4,
 "nbformat_minor": 5
}
