{
 "cells": [
  {
   "cell_type": "code",
   "execution_count": 1,
   "id": "1cdbea8f",
   "metadata": {},
   "outputs": [],
   "source": [
    "import pandas as pd\n",
    "import numpy as np\n",
    "import os\n",
    "import warnings"
   ]
  },
  {
   "cell_type": "markdown",
   "id": "4ba9fc96",
   "metadata": {},
   "source": [
    "# 1. Preprocessing"
   ]
  },
  {
   "cell_type": "code",
   "execution_count": 2,
   "id": "a8eef23b",
   "metadata": {},
   "outputs": [],
   "source": [
    "warnings.filterwarnings(\"ignore\")"
   ]
  },
  {
   "cell_type": "code",
   "execution_count": 3,
   "id": "d4e81ae4",
   "metadata": {},
   "outputs": [],
   "source": [
    "flight_dir_2016 = r'2016'\n",
    "flight_dir_2017 = r'2017'"
   ]
  },
  {
   "cell_type": "code",
   "execution_count": 4,
   "id": "8d3f146a",
   "metadata": {},
   "outputs": [],
   "source": [
    "weather_dir = r\"/Weather\""
   ]
  },
  {
   "cell_type": "code",
   "execution_count": 155,
   "id": "db19963a",
   "metadata": {},
   "outputs": [],
   "source": [
    "airport_code = [\"ATL\", \"CLT\", \"DEN\", \"DFW\", \"EWR\", \"IAH\", \"JFK\", \"LAS\" ,\"LAX\", \"MCO\",\n",
    "               \"MIA\", \"ORD\", \"PHX\", \"SEA\", \"SFO\"]"
   ]
  },
  {
   "cell_type": "code",
   "execution_count": 6,
   "id": "e4adee63",
   "metadata": {},
   "outputs": [],
   "source": [
    "# weather_cols = ['windspeedKmph', 'windirDegree', 'weatherCode', 'percipMM', 'visibilty', 'pressure', 'cloudcover', 'DewPointF', 'WindGustKmph',\n",
    "#                 'tempF', 'WindChillF', 'humidity', 'date',  'time', 'airport']\n"
   ]
  },
  {
   "cell_type": "code",
   "execution_count": 7,
   "id": "882ad059",
   "metadata": {},
   "outputs": [],
   "source": [
    "flight_cols = [\"FlightDate\", \"Quarter\", \"Year\", \"Month\", \"DayofMonth\", \"DepTime\",\n",
    "              \"DepDel15\", \"CRSDepTime\", \"DepDelayMinutes\", \"OriginAirportID\", \"DestAirportID\",\n",
    "              \"ArrTime\", \"CRSArrTime\", \"ArrDel15\", \"ArrDelayMinutes\"]"
   ]
  },
  {
   "cell_type": "markdown",
   "id": "da2bbb9c",
   "metadata": {},
   "source": [
    "## Flight data"
   ]
  },
  {
   "cell_type": "code",
   "execution_count": 8,
   "id": "e651da4a",
   "metadata": {},
   "outputs": [],
   "source": [
    "Folders_2016 = os.listdir(flight_dir_2016)\n",
    "Folders_2016.sort()\n",
    "if '.DS_Store' in Folders_2016:\n",
    "    Folders_2016.remove('.DS_Store')\n",
    "Folders_2017 = os.listdir(flight_dir_2017)\n",
    "Folders_2017.sort()\n",
    "if '.DS_Store' in Folders_2017:\n",
    "    Folders_2017.remove('.DS_Store')"
   ]
  },
  {
   "cell_type": "code",
   "execution_count": 9,
   "id": "107e067b",
   "metadata": {},
   "outputs": [
    {
     "name": "stdout",
     "output_type": "stream",
     "text": [
      "['On_Time_On_Time_Performance_2016_1', 'On_Time_On_Time_Performance_2016_10', 'On_Time_On_Time_Performance_2016_11', 'On_Time_On_Time_Performance_2016_12', 'On_Time_On_Time_Performance_2016_2', 'On_Time_On_Time_Performance_2016_3', 'On_Time_On_Time_Performance_2016_4', 'On_Time_On_Time_Performance_2016_5', 'On_Time_On_Time_Performance_2016_6', 'On_Time_On_Time_Performance_2016_7', 'On_Time_On_Time_Performance_2016_8', 'On_Time_On_Time_Performance_2016_9']\n",
      "\n",
      "['On_Time_On_Time_Performance_2017_1', 'On_Time_On_Time_Performance_2017_10', 'On_Time_On_Time_Performance_2017_11', 'On_Time_On_Time_Performance_2017_12', 'On_Time_On_Time_Performance_2017_2', 'On_Time_On_Time_Performance_2017_3', 'On_Time_On_Time_Performance_2017_4', 'On_Time_On_Time_Performance_2017_5', 'On_Time_On_Time_Performance_2017_6', 'On_Time_On_Time_Performance_2017_7', 'On_Time_On_Time_Performance_2017_8', 'On_Time_On_Time_Performance_2017_9']\n"
     ]
    }
   ],
   "source": [
    "print(Folders_2016)\n",
    "print()\n",
    "print(Folders_2017)"
   ]
  },
  {
   "cell_type": "code",
   "execution_count": 10,
   "id": "379389f0",
   "metadata": {},
   "outputs": [],
   "source": [
    "def extract_files(mainDir, Folder):\n",
    "    files = []\n",
    "    for i in Folder:\n",
    "        k = os.listdir(os.path.join(mainDir, i))\n",
    "        k.sort()\n",
    "        files.append(k[0])\n",
    "    files.sort()\n",
    "    return files"
   ]
  },
  {
   "cell_type": "code",
   "execution_count": 11,
   "id": "071a8ebe",
   "metadata": {},
   "outputs": [],
   "source": [
    "files_2016 = extract_files(flight_dir_2016, Folders_2016)\n",
    "# files_2016"
   ]
  },
  {
   "cell_type": "code",
   "execution_count": 12,
   "id": "aaa415c6",
   "metadata": {},
   "outputs": [],
   "source": [
    "files_2017 = extract_files(flight_dir_2017, Folders_2017)\n",
    "# files_2017"
   ]
  },
  {
   "cell_type": "markdown",
   "id": "53d35c0b",
   "metadata": {},
   "source": [
    "Target Rows: 1877296, 15"
   ]
  },
  {
   "cell_type": "code",
   "execution_count": 13,
   "id": "64284006",
   "metadata": {},
   "outputs": [
    {
     "data": {
      "text/plain": [
       "['2016/On_Time_On_Time_Performance_2016_1/On_Time_On_Time_Performance_2016_1.csv',\n",
       " '2016/On_Time_On_Time_Performance_2016_10/On_Time_On_Time_Performance_2016_10.csv',\n",
       " '2016/On_Time_On_Time_Performance_2016_11/On_Time_On_Time_Performance_2016_11.csv',\n",
       " '2016/On_Time_On_Time_Performance_2016_12/On_Time_On_Time_Performance_2016_12.csv',\n",
       " '2016/On_Time_On_Time_Performance_2016_2/On_Time_On_Time_Performance_2016_2.csv',\n",
       " '2016/On_Time_On_Time_Performance_2016_3/On_Time_On_Time_Performance_2016_3.csv',\n",
       " '2016/On_Time_On_Time_Performance_2016_4/On_Time_On_Time_Performance_2016_4.csv',\n",
       " '2016/On_Time_On_Time_Performance_2016_5/On_Time_On_Time_Performance_2016_5.csv',\n",
       " '2016/On_Time_On_Time_Performance_2016_6/On_Time_On_Time_Performance_2016_6.csv',\n",
       " '2016/On_Time_On_Time_Performance_2016_7/On_Time_On_Time_Performance_2016_7.csv',\n",
       " '2016/On_Time_On_Time_Performance_2016_8/On_Time_On_Time_Performance_2016_8.csv',\n",
       " '2016/On_Time_On_Time_Performance_2016_9/On_Time_On_Time_Performance_2016_9.csv',\n",
       " '2017/On_Time_On_Time_Performance_2017_1/On_Time_On_Time_Performance_2017_1.csv',\n",
       " '2017/On_Time_On_Time_Performance_2017_10/On_Time_On_Time_Performance_2017_10.csv',\n",
       " '2017/On_Time_On_Time_Performance_2017_11/On_Time_On_Time_Performance_2017_11.csv',\n",
       " '2017/On_Time_On_Time_Performance_2017_12/On_Time_On_Time_Performance_2017_12.csv',\n",
       " '2017/On_Time_On_Time_Performance_2017_2/On_Time_On_Time_Performance_2017_2.csv',\n",
       " '2017/On_Time_On_Time_Performance_2017_3/On_Time_On_Time_Performance_2017_3.csv',\n",
       " '2017/On_Time_On_Time_Performance_2017_4/On_Time_On_Time_Performance_2017_4.csv',\n",
       " '2017/On_Time_On_Time_Performance_2017_5/On_Time_On_Time_Performance_2017_5.csv',\n",
       " '2017/On_Time_On_Time_Performance_2017_6/On_Time_On_Time_Performance_2017_6.csv',\n",
       " '2017/On_Time_On_Time_Performance_2017_7/On_Time_On_Time_Performance_2017_7.csv',\n",
       " '2017/On_Time_On_Time_Performance_2017_8/On_Time_On_Time_Performance_2017_8.csv',\n",
       " '2017/On_Time_On_Time_Performance_2017_9/On_Time_On_Time_Performance_2017_9.csv']"
      ]
     },
     "execution_count": 13,
     "metadata": {},
     "output_type": "execute_result"
    }
   ],
   "source": [
    "all_files = []\n",
    "for i, folder in enumerate(Folders_2016):\n",
    "    all_files.append(os.path.join(flight_dir_2016, folder, files_2016[i]))\n",
    "for i, folder in enumerate(Folders_2017):\n",
    "    all_files.append(os.path.join(flight_dir_2017, folder, files_2017[i])) \n",
    "all_files"
   ]
  },
  {
   "cell_type": "code",
   "execution_count": 158,
   "id": "0078ef09",
   "metadata": {},
   "outputs": [],
   "source": [
    "def retrieve_data(files):\n",
    "    global Main_df\n",
    "    count = 0\n",
    "    for file in files:\n",
    "        data = pd.read_csv(file)\n",
    "        \n",
    "#         print( data.shape, end=\" \")\n",
    "        count += data.shape[0]\n",
    "        data = data[flight_cols+['Origin', 'Dest']]\n",
    "#         if (data['Origin'].isin(airport_code) & data['Dest'].isin(['ATL'])).any():\n",
    "#             print('True')\n",
    "#         print(data.shape, end=\" \")\n",
    "        data = data[(data['Origin'].isin(airport_code)) & (data['Dest'].isin(airport_code))]\n",
    "        #print(data.shape, \" \")\n",
    "        Main_df = pd.concat([Main_df, data])\n",
    "        #print(Main_df.shape)\n",
    "    print(count)"
   ]
  },
  {
   "cell_type": "code",
   "execution_count": 159,
   "id": "4d1dc058",
   "metadata": {},
   "outputs": [
    {
     "name": "stdout",
     "output_type": "stream",
     "text": [
      "11292279\n"
     ]
    }
   ],
   "source": [
    "Main_df = pd.DataFrame()\n",
    "retrieve_data(all_files)"
   ]
  },
  {
   "cell_type": "code",
   "execution_count": 160,
   "id": "670f995e",
   "metadata": {},
   "outputs": [
    {
     "data": {
      "text/plain": [
       "(1877296, 17)"
      ]
     },
     "execution_count": 160,
     "metadata": {},
     "output_type": "execute_result"
    }
   ],
   "source": [
    "Main_df.shape"
   ]
  },
  {
   "cell_type": "code",
   "execution_count": 161,
   "id": "d63f289b",
   "metadata": {},
   "outputs": [
    {
     "name": "stdout",
     "output_type": "stream",
     "text": [
      "<class 'pandas.core.frame.DataFrame'>\n",
      "Int64Index: 1877296 entries, 57 to 458711\n",
      "Data columns (total 17 columns):\n",
      " #   Column           Dtype  \n",
      "---  ------           -----  \n",
      " 0   FlightDate       object \n",
      " 1   Quarter          int64  \n",
      " 2   Year             int64  \n",
      " 3   Month            int64  \n",
      " 4   DayofMonth       int64  \n",
      " 5   DepTime          float64\n",
      " 6   DepDel15         float64\n",
      " 7   CRSDepTime       int64  \n",
      " 8   DepDelayMinutes  float64\n",
      " 9   OriginAirportID  int64  \n",
      " 10  DestAirportID    int64  \n",
      " 11  ArrTime          float64\n",
      " 12  CRSArrTime       int64  \n",
      " 13  ArrDel15         float64\n",
      " 14  ArrDelayMinutes  float64\n",
      " 15  Origin           object \n",
      " 16  Dest             object \n",
      "dtypes: float64(6), int64(8), object(3)\n",
      "memory usage: 257.8+ MB\n"
     ]
    }
   ],
   "source": [
    "Main_df.info()"
   ]
  },
  {
   "cell_type": "code",
   "execution_count": 163,
   "id": "67ff514a",
   "metadata": {},
   "outputs": [
    {
     "data": {
      "text/plain": [
       "(1851436, 17)"
      ]
     },
     "execution_count": 163,
     "metadata": {},
     "output_type": "execute_result"
    }
   ],
   "source": [
    "Df = Main_df.dropna() ## Drop all null values\n",
    "Df['FlightDate'] = pd.to_datetime(Df['FlightDate']) # Convert object to pandas date type\n",
    "Df.shape"
   ]
  },
  {
   "cell_type": "code",
   "execution_count": 164,
   "id": "d39e11f8",
   "metadata": {},
   "outputs": [
    {
     "data": {
      "text/plain": [
       "0"
      ]
     },
     "execution_count": 164,
     "metadata": {},
     "output_type": "execute_result"
    }
   ],
   "source": [
    "(23+1) % 24"
   ]
  },
  {
   "cell_type": "code",
   "execution_count": 165,
   "id": "8f18b101",
   "metadata": {},
   "outputs": [],
   "source": [
    "def process_for_flight(x):\n",
    "    date = x['FlightDate']\n",
    "    time = x['DepTime']\n",
    "#     print(type(date))\n",
    "    time = str(int(time))\n",
    "    time = time.zfill(4)\n",
    "    hr, mns = time[:2], time[2:]\n",
    "    flag = 0\n",
    "    \n",
    "    if int(mns) > 30 or hr=='24':  # I could see certain departure time is given as 24:00\n",
    "        flag = 1\n",
    "        hr = (int(hr) + 1) % 24\n",
    "\n",
    "    if flag == 1 and hr == 0:\n",
    "        one_day = pd.Timedelta(days=1)\n",
    "        date += one_day\n",
    "    \n",
    "    return date, str(hr).zfill(2)"
   ]
  },
  {
   "cell_type": "code",
   "execution_count": 166,
   "id": "93a16fd5",
   "metadata": {},
   "outputs": [],
   "source": [
    "k = Df[['FlightDate','DepTime']].apply(process_for_flight, axis=1)\n",
    "date = k.apply(lambda x: x[0])\n",
    "hour = k.apply(lambda x: x[1])"
   ]
  },
  {
   "cell_type": "code",
   "execution_count": 167,
   "id": "a696fbea",
   "metadata": {},
   "outputs": [],
   "source": [
    "Df['RoundedFlightDate'] = date\n",
    "Df['DepatHr'] = hour"
   ]
  },
  {
   "cell_type": "code",
   "execution_count": 168,
   "id": "c0fc0469",
   "metadata": {},
   "outputs": [],
   "source": [
    "Df['Delayed'] = np.where(Df['DepDelayMinutes'] > 0, 1, 0)"
   ]
  },
  {
   "cell_type": "markdown",
   "id": "50a30c43",
   "metadata": {},
   "source": [
    "Skewed data, Data imbalance"
   ]
  },
  {
   "cell_type": "code",
   "execution_count": 414,
   "id": "52ed69ee",
   "metadata": {},
   "outputs": [
    {
     "data": {
      "text/plain": [
       "0.0    1463375\n",
       "1.0     388058\n",
       "Name: ArrDel15, dtype: int64"
      ]
     },
     "execution_count": 414,
     "metadata": {},
     "output_type": "execute_result"
    }
   ],
   "source": [
    "Df['ArrDel15'].value_counts()"
   ]
  },
  {
   "cell_type": "code",
   "execution_count": 415,
   "id": "728e2ac2",
   "metadata": {},
   "outputs": [
    {
     "data": {
      "text/plain": [
       "(1851433,)"
      ]
     },
     "execution_count": 415,
     "metadata": {},
     "output_type": "execute_result"
    }
   ],
   "source": [
    "Df['ArrDel15'].shape"
   ]
  },
  {
   "cell_type": "code",
   "execution_count": 417,
   "id": "2375534c",
   "metadata": {},
   "outputs": [],
   "source": [
    "Df = Df[['FlightDate', 'Quarter', 'Year', 'Month', 'DayofMonth', 'DepTime',\n",
    "       'DepDel15', 'CRSDepTime', 'DepDelayMinutes', 'OriginAirportID',\n",
    "       'DestAirportID', 'ArrTime', 'CRSArrTime', 'ArrDelayMinutes',\n",
    "       'Origin', 'Dest', 'RoundedFlightDate', 'DepatHr','ArrDel15', 'Delayed']]"
   ]
  },
  {
   "cell_type": "code",
   "execution_count": 418,
   "id": "5ec89ccf",
   "metadata": {},
   "outputs": [
    {
     "data": {
      "text/html": [
       "<div>\n",
       "<style scoped>\n",
       "    .dataframe tbody tr th:only-of-type {\n",
       "        vertical-align: middle;\n",
       "    }\n",
       "\n",
       "    .dataframe tbody tr th {\n",
       "        vertical-align: top;\n",
       "    }\n",
       "\n",
       "    .dataframe thead th {\n",
       "        text-align: right;\n",
       "    }\n",
       "</style>\n",
       "<table border=\"1\" class=\"dataframe\">\n",
       "  <thead>\n",
       "    <tr style=\"text-align: right;\">\n",
       "      <th></th>\n",
       "      <th>FlightDate</th>\n",
       "      <th>Quarter</th>\n",
       "      <th>Year</th>\n",
       "      <th>Month</th>\n",
       "      <th>DayofMonth</th>\n",
       "      <th>DepTime</th>\n",
       "      <th>DepDel15</th>\n",
       "      <th>CRSDepTime</th>\n",
       "      <th>DepDelayMinutes</th>\n",
       "      <th>OriginAirportID</th>\n",
       "      <th>DestAirportID</th>\n",
       "      <th>ArrTime</th>\n",
       "      <th>CRSArrTime</th>\n",
       "      <th>ArrDelayMinutes</th>\n",
       "      <th>Origin</th>\n",
       "      <th>Dest</th>\n",
       "      <th>RoundedFlightDate</th>\n",
       "      <th>DepatHr</th>\n",
       "      <th>ArrDel15</th>\n",
       "      <th>Delayed</th>\n",
       "    </tr>\n",
       "  </thead>\n",
       "  <tbody>\n",
       "    <tr>\n",
       "      <th>57</th>\n",
       "      <td>2016-01-01</td>\n",
       "      <td>1</td>\n",
       "      <td>2016</td>\n",
       "      <td>1</td>\n",
       "      <td>1</td>\n",
       "      <td>741.0</td>\n",
       "      <td>0.0</td>\n",
       "      <td>745</td>\n",
       "      <td>0.0</td>\n",
       "      <td>14747</td>\n",
       "      <td>12478</td>\n",
       "      <td>1610.0</td>\n",
       "      <td>1602</td>\n",
       "      <td>8.0</td>\n",
       "      <td>SEA</td>\n",
       "      <td>JFK</td>\n",
       "      <td>2016-01-01</td>\n",
       "      <td>08</td>\n",
       "      <td>0.0</td>\n",
       "      <td>0</td>\n",
       "    </tr>\n",
       "    <tr>\n",
       "      <th>58</th>\n",
       "      <td>2016-01-02</td>\n",
       "      <td>1</td>\n",
       "      <td>2016</td>\n",
       "      <td>1</td>\n",
       "      <td>2</td>\n",
       "      <td>737.0</td>\n",
       "      <td>0.0</td>\n",
       "      <td>745</td>\n",
       "      <td>0.0</td>\n",
       "      <td>14747</td>\n",
       "      <td>12478</td>\n",
       "      <td>1613.0</td>\n",
       "      <td>1602</td>\n",
       "      <td>11.0</td>\n",
       "      <td>SEA</td>\n",
       "      <td>JFK</td>\n",
       "      <td>2016-01-02</td>\n",
       "      <td>08</td>\n",
       "      <td>0.0</td>\n",
       "      <td>0</td>\n",
       "    </tr>\n",
       "    <tr>\n",
       "      <th>59</th>\n",
       "      <td>2016-01-03</td>\n",
       "      <td>1</td>\n",
       "      <td>2016</td>\n",
       "      <td>1</td>\n",
       "      <td>3</td>\n",
       "      <td>743.0</td>\n",
       "      <td>0.0</td>\n",
       "      <td>745</td>\n",
       "      <td>0.0</td>\n",
       "      <td>14747</td>\n",
       "      <td>12478</td>\n",
       "      <td>1547.0</td>\n",
       "      <td>1602</td>\n",
       "      <td>0.0</td>\n",
       "      <td>SEA</td>\n",
       "      <td>JFK</td>\n",
       "      <td>2016-01-03</td>\n",
       "      <td>08</td>\n",
       "      <td>0.0</td>\n",
       "      <td>0</td>\n",
       "    </tr>\n",
       "    <tr>\n",
       "      <th>60</th>\n",
       "      <td>2016-01-04</td>\n",
       "      <td>1</td>\n",
       "      <td>2016</td>\n",
       "      <td>1</td>\n",
       "      <td>4</td>\n",
       "      <td>737.0</td>\n",
       "      <td>0.0</td>\n",
       "      <td>745</td>\n",
       "      <td>0.0</td>\n",
       "      <td>14747</td>\n",
       "      <td>12478</td>\n",
       "      <td>1551.0</td>\n",
       "      <td>1602</td>\n",
       "      <td>0.0</td>\n",
       "      <td>SEA</td>\n",
       "      <td>JFK</td>\n",
       "      <td>2016-01-04</td>\n",
       "      <td>08</td>\n",
       "      <td>0.0</td>\n",
       "      <td>0</td>\n",
       "    </tr>\n",
       "    <tr>\n",
       "      <th>61</th>\n",
       "      <td>2016-01-05</td>\n",
       "      <td>1</td>\n",
       "      <td>2016</td>\n",
       "      <td>1</td>\n",
       "      <td>5</td>\n",
       "      <td>708.0</td>\n",
       "      <td>0.0</td>\n",
       "      <td>710</td>\n",
       "      <td>0.0</td>\n",
       "      <td>14747</td>\n",
       "      <td>12478</td>\n",
       "      <td>1524.0</td>\n",
       "      <td>1527</td>\n",
       "      <td>0.0</td>\n",
       "      <td>SEA</td>\n",
       "      <td>JFK</td>\n",
       "      <td>2016-01-05</td>\n",
       "      <td>07</td>\n",
       "      <td>0.0</td>\n",
       "      <td>0</td>\n",
       "    </tr>\n",
       "  </tbody>\n",
       "</table>\n",
       "</div>"
      ],
      "text/plain": [
       "   FlightDate  Quarter  Year  Month  DayofMonth  DepTime  DepDel15  \\\n",
       "57 2016-01-01        1  2016      1           1    741.0       0.0   \n",
       "58 2016-01-02        1  2016      1           2    737.0       0.0   \n",
       "59 2016-01-03        1  2016      1           3    743.0       0.0   \n",
       "60 2016-01-04        1  2016      1           4    737.0       0.0   \n",
       "61 2016-01-05        1  2016      1           5    708.0       0.0   \n",
       "\n",
       "    CRSDepTime  DepDelayMinutes  OriginAirportID  DestAirportID  ArrTime  \\\n",
       "57         745              0.0            14747          12478   1610.0   \n",
       "58         745              0.0            14747          12478   1613.0   \n",
       "59         745              0.0            14747          12478   1547.0   \n",
       "60         745              0.0            14747          12478   1551.0   \n",
       "61         710              0.0            14747          12478   1524.0   \n",
       "\n",
       "    CRSArrTime  ArrDelayMinutes Origin Dest RoundedFlightDate DepatHr  \\\n",
       "57        1602              8.0    SEA  JFK        2016-01-01      08   \n",
       "58        1602             11.0    SEA  JFK        2016-01-02      08   \n",
       "59        1602              0.0    SEA  JFK        2016-01-03      08   \n",
       "60        1602              0.0    SEA  JFK        2016-01-04      08   \n",
       "61        1527              0.0    SEA  JFK        2016-01-05      07   \n",
       "\n",
       "    ArrDel15  Delayed  \n",
       "57       0.0        0  \n",
       "58       0.0        0  \n",
       "59       0.0        0  \n",
       "60       0.0        0  \n",
       "61       0.0        0  "
      ]
     },
     "execution_count": 418,
     "metadata": {},
     "output_type": "execute_result"
    }
   ],
   "source": [
    "Df.head()"
   ]
  },
  {
   "cell_type": "code",
   "execution_count": 419,
   "id": "377373e8",
   "metadata": {},
   "outputs": [
    {
     "name": "stdout",
     "output_type": "stream",
     "text": [
      "Number of flights delayed: 723757, not delayed: 1127676\n"
     ]
    }
   ],
   "source": [
    "print(f\"Number of flights delayed: {Df['Delayed'].value_counts()[1]}, not delayed: {Df['Delayed'].value_counts()[0]}\")"
   ]
  },
  {
   "cell_type": "markdown",
   "id": "6e4541da",
   "metadata": {},
   "source": [
    "## Weather data"
   ]
  },
  {
   "cell_type": "code",
   "execution_count": 420,
   "id": "97079e78",
   "metadata": {},
   "outputs": [],
   "source": [
    "import json\n",
    "from pandas import json_normalize\n",
    "import re"
   ]
  },
  {
   "cell_type": "code",
   "execution_count": 421,
   "id": "49e219e3",
   "metadata": {},
   "outputs": [],
   "source": [
    "def weather_files(directory):\n",
    "    reqd_files = []\n",
    "    Folders = os.listdir(directory)\n",
    "    if '.DS_Store' in Folders:\n",
    "        Folders.remove('.DS_Store')\n",
    "    s = r'201(6|7)-\\d{1,2}.json'\n",
    "    for folder in Folders:\n",
    "        all_files = os.listdir(os.path.join(directory, folder))\n",
    "        for file in all_files:\n",
    "            if re.search(s, file):\n",
    "                reqd_files.append(os.path.join(directory, folder,file))\n",
    "    reqd_files.sort()\n",
    "    return reqd_files"
   ]
  },
  {
   "cell_type": "code",
   "execution_count": 422,
   "id": "9d8d5fb0",
   "metadata": {},
   "outputs": [],
   "source": [
    "all_weather_files = weather_files('Weather')\n",
    "# all_weather_files"
   ]
  },
  {
   "cell_type": "code",
   "execution_count": 423,
   "id": "a3f9939f",
   "metadata": {},
   "outputs": [
    {
     "data": {
      "text/plain": [
       "(360, 360)"
      ]
     },
     "execution_count": 423,
     "metadata": {},
     "output_type": "execute_result"
    }
   ],
   "source": [
    "len(all_weather_files), 15 * 24"
   ]
  },
  {
   "cell_type": "code",
   "execution_count": 424,
   "id": "94445c52",
   "metadata": {},
   "outputs": [],
   "source": [
    "def  merge_all_airports(all_weather_files):\n",
    "    global Df2\n",
    "    keys = ['windspeedKmph','winddirDegree', 'weatherCode', 'precipMM',\n",
    "            'visibility', 'pressure', 'cloudcover', 'DewPointF', 'WindGustKmph',\n",
    "            'tempF', 'WindChillF', 'humidity', 'time']\n",
    "    for file in all_weather_files:\n",
    "        airport = file.split('/')[1]\n",
    "        #print(airport)\n",
    "        f = open(file)\n",
    "        D = json.load(f)\n",
    "        data = json_normalize(D['data']['weather'])[['hourly', 'date']]\n",
    "        data['date'] = pd.to_datetime(data['date'])\n",
    "        data['airport'] = airport\n",
    "        data = data.explode('hourly').reset_index(drop=True)\n",
    "        data[keys] = pd.json_normalize(data['hourly'])[keys]\n",
    "        data.drop(columns=['hourly'], inplace=True)\n",
    "        Df2 = pd.concat([Df2, data])"
   ]
  },
  {
   "cell_type": "code",
   "execution_count": 425,
   "id": "92a683c0",
   "metadata": {},
   "outputs": [],
   "source": [
    "Df2 = pd.DataFrame()\n",
    "merge_all_airports(all_weather_files)"
   ]
  },
  {
   "cell_type": "code",
   "execution_count": 426,
   "id": "ca3cbd1b",
   "metadata": {},
   "outputs": [
    {
     "name": "stdout",
     "output_type": "stream",
     "text": [
      "<class 'pandas.core.frame.DataFrame'>\n",
      "Int64Index: 263160 entries, 0 to 719\n",
      "Data columns (total 15 columns):\n",
      " #   Column         Non-Null Count   Dtype         \n",
      "---  ------         --------------   -----         \n",
      " 0   date           263160 non-null  datetime64[ns]\n",
      " 1   airport        263160 non-null  object        \n",
      " 2   windspeedKmph  263160 non-null  object        \n",
      " 3   winddirDegree  263160 non-null  object        \n",
      " 4   weatherCode    263160 non-null  object        \n",
      " 5   precipMM       263160 non-null  object        \n",
      " 6   visibility     263160 non-null  object        \n",
      " 7   pressure       263160 non-null  object        \n",
      " 8   cloudcover     263160 non-null  object        \n",
      " 9   DewPointF      263160 non-null  object        \n",
      " 10  WindGustKmph   263160 non-null  object        \n",
      " 11  tempF          263160 non-null  object        \n",
      " 12  WindChillF     263160 non-null  object        \n",
      " 13  humidity       263160 non-null  object        \n",
      " 14  time           263160 non-null  object        \n",
      "dtypes: datetime64[ns](1), object(14)\n",
      "memory usage: 32.1+ MB\n"
     ]
    }
   ],
   "source": [
    "Df2.info()"
   ]
  },
  {
   "cell_type": "markdown",
   "id": "f291fe82",
   "metadata": {},
   "source": [
    "#### To do\n",
    "- Merge with flight data based on flight departure time and weather time on a particular date\n"
   ]
  },
  {
   "cell_type": "markdown",
   "id": "625420ff",
   "metadata": {},
   "source": [
    "## Merging Flight data with weather"
   ]
  },
  {
   "cell_type": "markdown",
   "id": "07a7b046",
   "metadata": {},
   "source": [
    "* (np.unique(Df['FlightDate']) == my_range).all() --> Seems like all date is present."
   ]
  },
  {
   "cell_type": "code",
   "execution_count": 427,
   "id": "9f7a73af",
   "metadata": {},
   "outputs": [],
   "source": [
    "Df.drop_duplicates(inplace=True)"
   ]
  },
  {
   "cell_type": "code",
   "execution_count": 428,
   "id": "8083626e",
   "metadata": {},
   "outputs": [],
   "source": [
    "Df_sort = Df.sort_values(['FlightDate', 'DepatHr'])\n",
    "# Df_sort = Df_sort.set_index('FlightDate')"
   ]
  },
  {
   "cell_type": "code",
   "execution_count": 429,
   "id": "c6d33a26",
   "metadata": {},
   "outputs": [
    {
     "data": {
      "text/html": [
       "<div>\n",
       "<style scoped>\n",
       "    .dataframe tbody tr th:only-of-type {\n",
       "        vertical-align: middle;\n",
       "    }\n",
       "\n",
       "    .dataframe tbody tr th {\n",
       "        vertical-align: top;\n",
       "    }\n",
       "\n",
       "    .dataframe thead th {\n",
       "        text-align: right;\n",
       "    }\n",
       "</style>\n",
       "<table border=\"1\" class=\"dataframe\">\n",
       "  <thead>\n",
       "    <tr style=\"text-align: right;\">\n",
       "      <th></th>\n",
       "      <th>FlightDate</th>\n",
       "      <th>Quarter</th>\n",
       "      <th>Year</th>\n",
       "      <th>Month</th>\n",
       "      <th>DayofMonth</th>\n",
       "      <th>DepTime</th>\n",
       "      <th>DepDel15</th>\n",
       "      <th>CRSDepTime</th>\n",
       "      <th>DepDelayMinutes</th>\n",
       "      <th>OriginAirportID</th>\n",
       "      <th>DestAirportID</th>\n",
       "      <th>ArrTime</th>\n",
       "      <th>CRSArrTime</th>\n",
       "      <th>ArrDelayMinutes</th>\n",
       "      <th>Origin</th>\n",
       "      <th>Dest</th>\n",
       "      <th>RoundedFlightDate</th>\n",
       "      <th>DepatHr</th>\n",
       "      <th>ArrDel15</th>\n",
       "      <th>Delayed</th>\n",
       "    </tr>\n",
       "  </thead>\n",
       "  <tbody>\n",
       "    <tr>\n",
       "      <th>1435</th>\n",
       "      <td>2016-01-01</td>\n",
       "      <td>1</td>\n",
       "      <td>2016</td>\n",
       "      <td>1</td>\n",
       "      <td>1</td>\n",
       "      <td>6.0</td>\n",
       "      <td>1.0</td>\n",
       "      <td>2347</td>\n",
       "      <td>19.0</td>\n",
       "      <td>12889</td>\n",
       "      <td>13303</td>\n",
       "      <td>721.0</td>\n",
       "      <td>714</td>\n",
       "      <td>7.0</td>\n",
       "      <td>LAS</td>\n",
       "      <td>MIA</td>\n",
       "      <td>2016-01-01</td>\n",
       "      <td>00</td>\n",
       "      <td>0.0</td>\n",
       "      <td>1</td>\n",
       "    </tr>\n",
       "    <tr>\n",
       "      <th>1497</th>\n",
       "      <td>2016-01-01</td>\n",
       "      <td>1</td>\n",
       "      <td>2016</td>\n",
       "      <td>1</td>\n",
       "      <td>1</td>\n",
       "      <td>6.0</td>\n",
       "      <td>0.0</td>\n",
       "      <td>2359</td>\n",
       "      <td>7.0</td>\n",
       "      <td>12892</td>\n",
       "      <td>13930</td>\n",
       "      <td>559.0</td>\n",
       "      <td>603</td>\n",
       "      <td>0.0</td>\n",
       "      <td>LAX</td>\n",
       "      <td>ORD</td>\n",
       "      <td>2016-01-01</td>\n",
       "      <td>00</td>\n",
       "      <td>0.0</td>\n",
       "      <td>1</td>\n",
       "    </tr>\n",
       "    <tr>\n",
       "      <th>4839</th>\n",
       "      <td>2016-01-01</td>\n",
       "      <td>1</td>\n",
       "      <td>2016</td>\n",
       "      <td>1</td>\n",
       "      <td>1</td>\n",
       "      <td>25.0</td>\n",
       "      <td>0.0</td>\n",
       "      <td>30</td>\n",
       "      <td>0.0</td>\n",
       "      <td>12892</td>\n",
       "      <td>13303</td>\n",
       "      <td>810.0</td>\n",
       "      <td>823</td>\n",
       "      <td>0.0</td>\n",
       "      <td>LAX</td>\n",
       "      <td>MIA</td>\n",
       "      <td>2016-01-01</td>\n",
       "      <td>00</td>\n",
       "      <td>0.0</td>\n",
       "      <td>0</td>\n",
       "    </tr>\n",
       "    <tr>\n",
       "      <th>8434</th>\n",
       "      <td>2016-01-01</td>\n",
       "      <td>1</td>\n",
       "      <td>2016</td>\n",
       "      <td>1</td>\n",
       "      <td>1</td>\n",
       "      <td>2335.0</td>\n",
       "      <td>0.0</td>\n",
       "      <td>2335</td>\n",
       "      <td>0.0</td>\n",
       "      <td>12889</td>\n",
       "      <td>12478</td>\n",
       "      <td>710.0</td>\n",
       "      <td>730</td>\n",
       "      <td>0.0</td>\n",
       "      <td>LAS</td>\n",
       "      <td>JFK</td>\n",
       "      <td>2016-01-02</td>\n",
       "      <td>00</td>\n",
       "      <td>0.0</td>\n",
       "      <td>0</td>\n",
       "    </tr>\n",
       "    <tr>\n",
       "      <th>9989</th>\n",
       "      <td>2016-01-01</td>\n",
       "      <td>1</td>\n",
       "      <td>2016</td>\n",
       "      <td>1</td>\n",
       "      <td>1</td>\n",
       "      <td>29.0</td>\n",
       "      <td>0.0</td>\n",
       "      <td>30</td>\n",
       "      <td>0.0</td>\n",
       "      <td>14771</td>\n",
       "      <td>13303</td>\n",
       "      <td>832.0</td>\n",
       "      <td>850</td>\n",
       "      <td>0.0</td>\n",
       "      <td>SFO</td>\n",
       "      <td>MIA</td>\n",
       "      <td>2016-01-01</td>\n",
       "      <td>00</td>\n",
       "      <td>0.0</td>\n",
       "      <td>0</td>\n",
       "    </tr>\n",
       "  </tbody>\n",
       "</table>\n",
       "</div>"
      ],
      "text/plain": [
       "     FlightDate  Quarter  Year  Month  DayofMonth  DepTime  DepDel15  \\\n",
       "1435 2016-01-01        1  2016      1           1      6.0       1.0   \n",
       "1497 2016-01-01        1  2016      1           1      6.0       0.0   \n",
       "4839 2016-01-01        1  2016      1           1     25.0       0.0   \n",
       "8434 2016-01-01        1  2016      1           1   2335.0       0.0   \n",
       "9989 2016-01-01        1  2016      1           1     29.0       0.0   \n",
       "\n",
       "      CRSDepTime  DepDelayMinutes  OriginAirportID  DestAirportID  ArrTime  \\\n",
       "1435        2347             19.0            12889          13303    721.0   \n",
       "1497        2359              7.0            12892          13930    559.0   \n",
       "4839          30              0.0            12892          13303    810.0   \n",
       "8434        2335              0.0            12889          12478    710.0   \n",
       "9989          30              0.0            14771          13303    832.0   \n",
       "\n",
       "      CRSArrTime  ArrDelayMinutes Origin Dest RoundedFlightDate DepatHr  \\\n",
       "1435         714              7.0    LAS  MIA        2016-01-01      00   \n",
       "1497         603              0.0    LAX  ORD        2016-01-01      00   \n",
       "4839         823              0.0    LAX  MIA        2016-01-01      00   \n",
       "8434         730              0.0    LAS  JFK        2016-01-02      00   \n",
       "9989         850              0.0    SFO  MIA        2016-01-01      00   \n",
       "\n",
       "      ArrDel15  Delayed  \n",
       "1435       0.0        1  \n",
       "1497       0.0        1  \n",
       "4839       0.0        0  \n",
       "8434       0.0        0  \n",
       "9989       0.0        0  "
      ]
     },
     "execution_count": 429,
     "metadata": {},
     "output_type": "execute_result"
    }
   ],
   "source": [
    "## Flight Data\n",
    "Df_sort.head()"
   ]
  },
  {
   "cell_type": "code",
   "execution_count": 430,
   "id": "f7fea5b4",
   "metadata": {},
   "outputs": [],
   "source": [
    "def process_for_weather(x):\n",
    "    x = str(int(x))\n",
    "    #print(x)\n",
    "    x = x.zfill(4)\n",
    "    hr = x[:2]\n",
    "    return  hr"
   ]
  },
  {
   "cell_type": "code",
   "execution_count": 431,
   "id": "d897bbc1",
   "metadata": {},
   "outputs": [],
   "source": [
    "Df2['timeInHr'] = Df2['time'].apply(process_for_weather) "
   ]
  },
  {
   "cell_type": "code",
   "execution_count": 432,
   "id": "ffa4c12d",
   "metadata": {},
   "outputs": [
    {
     "data": {
      "text/html": [
       "<div>\n",
       "<style scoped>\n",
       "    .dataframe tbody tr th:only-of-type {\n",
       "        vertical-align: middle;\n",
       "    }\n",
       "\n",
       "    .dataframe tbody tr th {\n",
       "        vertical-align: top;\n",
       "    }\n",
       "\n",
       "    .dataframe thead th {\n",
       "        text-align: right;\n",
       "    }\n",
       "</style>\n",
       "<table border=\"1\" class=\"dataframe\">\n",
       "  <thead>\n",
       "    <tr style=\"text-align: right;\">\n",
       "      <th></th>\n",
       "      <th>date</th>\n",
       "      <th>airport</th>\n",
       "      <th>windspeedKmph</th>\n",
       "      <th>winddirDegree</th>\n",
       "      <th>weatherCode</th>\n",
       "      <th>precipMM</th>\n",
       "      <th>visibility</th>\n",
       "      <th>pressure</th>\n",
       "      <th>cloudcover</th>\n",
       "      <th>DewPointF</th>\n",
       "      <th>WindGustKmph</th>\n",
       "      <th>tempF</th>\n",
       "      <th>WindChillF</th>\n",
       "      <th>humidity</th>\n",
       "      <th>time</th>\n",
       "      <th>timeInHr</th>\n",
       "    </tr>\n",
       "  </thead>\n",
       "  <tbody>\n",
       "    <tr>\n",
       "      <th>0</th>\n",
       "      <td>2016-01-01</td>\n",
       "      <td>ATL</td>\n",
       "      <td>11</td>\n",
       "      <td>318</td>\n",
       "      <td>176</td>\n",
       "      <td>0.1</td>\n",
       "      <td>10</td>\n",
       "      <td>1023</td>\n",
       "      <td>100</td>\n",
       "      <td>47</td>\n",
       "      <td>17</td>\n",
       "      <td>49</td>\n",
       "      <td>46</td>\n",
       "      <td>91</td>\n",
       "      <td>0</td>\n",
       "      <td>00</td>\n",
       "    </tr>\n",
       "    <tr>\n",
       "      <th>1</th>\n",
       "      <td>2016-01-01</td>\n",
       "      <td>ATL</td>\n",
       "      <td>13</td>\n",
       "      <td>317</td>\n",
       "      <td>176</td>\n",
       "      <td>0.0</td>\n",
       "      <td>10</td>\n",
       "      <td>1023</td>\n",
       "      <td>100</td>\n",
       "      <td>44</td>\n",
       "      <td>22</td>\n",
       "      <td>46</td>\n",
       "      <td>42</td>\n",
       "      <td>92</td>\n",
       "      <td>100</td>\n",
       "      <td>01</td>\n",
       "    </tr>\n",
       "    <tr>\n",
       "      <th>2</th>\n",
       "      <td>2016-01-01</td>\n",
       "      <td>ATL</td>\n",
       "      <td>14</td>\n",
       "      <td>315</td>\n",
       "      <td>122</td>\n",
       "      <td>0.0</td>\n",
       "      <td>10</td>\n",
       "      <td>1023</td>\n",
       "      <td>100</td>\n",
       "      <td>41</td>\n",
       "      <td>26</td>\n",
       "      <td>43</td>\n",
       "      <td>38</td>\n",
       "      <td>92</td>\n",
       "      <td>200</td>\n",
       "      <td>02</td>\n",
       "    </tr>\n",
       "    <tr>\n",
       "      <th>3</th>\n",
       "      <td>2016-01-01</td>\n",
       "      <td>ATL</td>\n",
       "      <td>16</td>\n",
       "      <td>314</td>\n",
       "      <td>122</td>\n",
       "      <td>0.0</td>\n",
       "      <td>10</td>\n",
       "      <td>1023</td>\n",
       "      <td>100</td>\n",
       "      <td>38</td>\n",
       "      <td>30</td>\n",
       "      <td>40</td>\n",
       "      <td>33</td>\n",
       "      <td>93</td>\n",
       "      <td>300</td>\n",
       "      <td>03</td>\n",
       "    </tr>\n",
       "    <tr>\n",
       "      <th>4</th>\n",
       "      <td>2016-01-01</td>\n",
       "      <td>ATL</td>\n",
       "      <td>17</td>\n",
       "      <td>314</td>\n",
       "      <td>122</td>\n",
       "      <td>0.0</td>\n",
       "      <td>10</td>\n",
       "      <td>1023</td>\n",
       "      <td>100</td>\n",
       "      <td>38</td>\n",
       "      <td>30</td>\n",
       "      <td>40</td>\n",
       "      <td>33</td>\n",
       "      <td>93</td>\n",
       "      <td>400</td>\n",
       "      <td>04</td>\n",
       "    </tr>\n",
       "  </tbody>\n",
       "</table>\n",
       "</div>"
      ],
      "text/plain": [
       "        date airport windspeedKmph winddirDegree weatherCode precipMM  \\\n",
       "0 2016-01-01     ATL            11           318         176      0.1   \n",
       "1 2016-01-01     ATL            13           317         176      0.0   \n",
       "2 2016-01-01     ATL            14           315         122      0.0   \n",
       "3 2016-01-01     ATL            16           314         122      0.0   \n",
       "4 2016-01-01     ATL            17           314         122      0.0   \n",
       "\n",
       "  visibility pressure cloudcover DewPointF WindGustKmph tempF WindChillF  \\\n",
       "0         10     1023        100        47           17    49         46   \n",
       "1         10     1023        100        44           22    46         42   \n",
       "2         10     1023        100        41           26    43         38   \n",
       "3         10     1023        100        38           30    40         33   \n",
       "4         10     1023        100        38           30    40         33   \n",
       "\n",
       "  humidity time timeInHr  \n",
       "0       91    0       00  \n",
       "1       92  100       01  \n",
       "2       92  200       02  \n",
       "3       93  300       03  \n",
       "4       93  400       04  "
      ]
     },
     "execution_count": 432,
     "metadata": {},
     "output_type": "execute_result"
    }
   ],
   "source": [
    "## Weather Data\n",
    "Df2.head()"
   ]
  },
  {
   "cell_type": "markdown",
   "id": "ad9a5ab9",
   "metadata": {},
   "source": [
    "#### Merging based on \n",
    "- Flight date and Departure hour from Df\n",
    "- data and timeInHr from Df2"
   ]
  },
  {
   "cell_type": "code",
   "execution_count": null,
   "id": "4e311b96",
   "metadata": {},
   "outputs": [],
   "source": []
  },
  {
   "cell_type": "code",
   "execution_count": 433,
   "id": "cf91c3cc",
   "metadata": {},
   "outputs": [
    {
     "data": {
      "text/plain": [
       "((1851433, 20), (263160, 16))"
      ]
     },
     "execution_count": 433,
     "metadata": {},
     "output_type": "execute_result"
    }
   ],
   "source": [
    "Df_sort.shape, Df2.shape"
   ]
  },
  {
   "cell_type": "markdown",
   "id": "0481314f",
   "metadata": {},
   "source": [
    "#### Note:\n",
    "* When using left join, there will be NaN values(Because of non-availability of Weather data) - Rows: 1556649\n",
    "    - Two issues:\n",
    "        1. Certain entries have departure time as  **(24 + 1)%24 = 1**, which is wrong. We should have 00:00 next day date\n",
    "            - Solution: Should manually deal with if,else condition\n",
    "            - Around **291 rows**\n",
    "        2. Entries that have 31/12/2017 and time more than 11:30  is **rounded to 01/01/2018** for which no weather data is present.\n",
    "            - Solution: Either I have to retrieve weather data of January month or should Discard it.\n",
    "            - **Only 8 rows** are present\n",
    "* When using inner join, there will be no NaN values(Because only intersection is taken) - Rows: 1556350"
   ]
  },
  {
   "cell_type": "code",
   "execution_count": 434,
   "id": "8ca37c39",
   "metadata": {},
   "outputs": [
    {
     "data": {
      "text/plain": [
       "(1851433, 36)"
      ]
     },
     "execution_count": 434,
     "metadata": {},
     "output_type": "execute_result"
    }
   ],
   "source": [
    "Df3_left = pd.merge(Df_sort, Df2, left_on=['RoundedFlightDate', 'DepatHr', 'Origin'], right_on=['date', 'timeInHr', 'airport'], how='left' )\n",
    "Df3_left.shape"
   ]
  },
  {
   "cell_type": "code",
   "execution_count": 435,
   "id": "d79388ad",
   "metadata": {},
   "outputs": [
    {
     "data": {
      "text/plain": [
       "(1851422, 36)"
      ]
     },
     "execution_count": 435,
     "metadata": {},
     "output_type": "execute_result"
    }
   ],
   "source": [
    "Df3 = pd.merge(Df_sort, Df2, left_on=['RoundedFlightDate', 'DepatHr', 'Origin'], right_on=['date', 'timeInHr', 'airport'], how='inner' )\n",
    "Df3.shape"
   ]
  },
  {
   "cell_type": "code",
   "execution_count": 436,
   "id": "1cc2ff65",
   "metadata": {},
   "outputs": [
    {
     "name": "stdout",
     "output_type": "stream",
     "text": [
      "<class 'pandas.core.frame.DataFrame'>\n",
      "Int64Index: 1851422 entries, 0 to 1851421\n",
      "Data columns (total 36 columns):\n",
      " #   Column             Dtype         \n",
      "---  ------             -----         \n",
      " 0   FlightDate         datetime64[ns]\n",
      " 1   Quarter            int64         \n",
      " 2   Year               int64         \n",
      " 3   Month              int64         \n",
      " 4   DayofMonth         int64         \n",
      " 5   DepTime            float64       \n",
      " 6   DepDel15           float64       \n",
      " 7   CRSDepTime         int64         \n",
      " 8   DepDelayMinutes    float64       \n",
      " 9   OriginAirportID    int64         \n",
      " 10  DestAirportID      int64         \n",
      " 11  ArrTime            float64       \n",
      " 12  CRSArrTime         int64         \n",
      " 13  ArrDelayMinutes    float64       \n",
      " 14  Origin             object        \n",
      " 15  Dest               object        \n",
      " 16  RoundedFlightDate  datetime64[ns]\n",
      " 17  DepatHr            object        \n",
      " 18  ArrDel15           float64       \n",
      " 19  Delayed            int64         \n",
      " 20  date               datetime64[ns]\n",
      " 21  airport            object        \n",
      " 22  windspeedKmph      object        \n",
      " 23  winddirDegree      object        \n",
      " 24  weatherCode        object        \n",
      " 25  precipMM           object        \n",
      " 26  visibility         object        \n",
      " 27  pressure           object        \n",
      " 28  cloudcover         object        \n",
      " 29  DewPointF          object        \n",
      " 30  WindGustKmph       object        \n",
      " 31  tempF              object        \n",
      " 32  WindChillF         object        \n",
      " 33  humidity           object        \n",
      " 34  time               object        \n",
      " 35  timeInHr           object        \n",
      "dtypes: datetime64[ns](3), float64(6), int64(9), object(18)\n",
      "memory usage: 522.6+ MB\n"
     ]
    }
   ],
   "source": [
    "Df3.info()"
   ]
  },
  {
   "cell_type": "code",
   "execution_count": 437,
   "id": "e76fd03a",
   "metadata": {},
   "outputs": [
    {
     "data": {
      "text/html": [
       "<div>\n",
       "<style scoped>\n",
       "    .dataframe tbody tr th:only-of-type {\n",
       "        vertical-align: middle;\n",
       "    }\n",
       "\n",
       "    .dataframe tbody tr th {\n",
       "        vertical-align: top;\n",
       "    }\n",
       "\n",
       "    .dataframe thead th {\n",
       "        text-align: right;\n",
       "    }\n",
       "</style>\n",
       "<table border=\"1\" class=\"dataframe\">\n",
       "  <thead>\n",
       "    <tr style=\"text-align: right;\">\n",
       "      <th></th>\n",
       "      <th>FlightDate</th>\n",
       "      <th>Quarter</th>\n",
       "      <th>Year</th>\n",
       "      <th>Month</th>\n",
       "      <th>DayofMonth</th>\n",
       "      <th>DepTime</th>\n",
       "      <th>DepDel15</th>\n",
       "      <th>CRSDepTime</th>\n",
       "      <th>DepDelayMinutes</th>\n",
       "      <th>OriginAirportID</th>\n",
       "      <th>...</th>\n",
       "      <th>visibility</th>\n",
       "      <th>pressure</th>\n",
       "      <th>cloudcover</th>\n",
       "      <th>DewPointF</th>\n",
       "      <th>WindGustKmph</th>\n",
       "      <th>tempF</th>\n",
       "      <th>WindChillF</th>\n",
       "      <th>humidity</th>\n",
       "      <th>time</th>\n",
       "      <th>timeInHr</th>\n",
       "    </tr>\n",
       "  </thead>\n",
       "  <tbody>\n",
       "    <tr>\n",
       "      <th>1851417</th>\n",
       "      <td>2017-12-31</td>\n",
       "      <td>4</td>\n",
       "      <td>2017</td>\n",
       "      <td>12</td>\n",
       "      <td>31</td>\n",
       "      <td>2317.0</td>\n",
       "      <td>1.0</td>\n",
       "      <td>2155</td>\n",
       "      <td>82.0</td>\n",
       "      <td>12478</td>\n",
       "      <td>...</td>\n",
       "      <td>10</td>\n",
       "      <td>1027</td>\n",
       "      <td>0</td>\n",
       "      <td>0</td>\n",
       "      <td>32</td>\n",
       "      <td>10</td>\n",
       "      <td>-7</td>\n",
       "      <td>64</td>\n",
       "      <td>2300</td>\n",
       "      <td>23</td>\n",
       "    </tr>\n",
       "    <tr>\n",
       "      <th>1851418</th>\n",
       "      <td>2017-12-31</td>\n",
       "      <td>4</td>\n",
       "      <td>2017</td>\n",
       "      <td>12</td>\n",
       "      <td>31</td>\n",
       "      <td>2247.0</td>\n",
       "      <td>0.0</td>\n",
       "      <td>2255</td>\n",
       "      <td>0.0</td>\n",
       "      <td>12478</td>\n",
       "      <td>...</td>\n",
       "      <td>10</td>\n",
       "      <td>1027</td>\n",
       "      <td>0</td>\n",
       "      <td>0</td>\n",
       "      <td>32</td>\n",
       "      <td>10</td>\n",
       "      <td>-7</td>\n",
       "      <td>64</td>\n",
       "      <td>2300</td>\n",
       "      <td>23</td>\n",
       "    </tr>\n",
       "    <tr>\n",
       "      <th>1851419</th>\n",
       "      <td>2017-12-31</td>\n",
       "      <td>4</td>\n",
       "      <td>2017</td>\n",
       "      <td>12</td>\n",
       "      <td>31</td>\n",
       "      <td>2327.0</td>\n",
       "      <td>1.0</td>\n",
       "      <td>2212</td>\n",
       "      <td>75.0</td>\n",
       "      <td>11292</td>\n",
       "      <td>...</td>\n",
       "      <td>10</td>\n",
       "      <td>1038</td>\n",
       "      <td>7</td>\n",
       "      <td>2</td>\n",
       "      <td>13</td>\n",
       "      <td>5</td>\n",
       "      <td>-5</td>\n",
       "      <td>83</td>\n",
       "      <td>2300</td>\n",
       "      <td>23</td>\n",
       "    </tr>\n",
       "    <tr>\n",
       "      <th>1851420</th>\n",
       "      <td>2017-12-31</td>\n",
       "      <td>4</td>\n",
       "      <td>2017</td>\n",
       "      <td>12</td>\n",
       "      <td>31</td>\n",
       "      <td>2232.0</td>\n",
       "      <td>1.0</td>\n",
       "      <td>2215</td>\n",
       "      <td>17.0</td>\n",
       "      <td>11292</td>\n",
       "      <td>...</td>\n",
       "      <td>10</td>\n",
       "      <td>1038</td>\n",
       "      <td>7</td>\n",
       "      <td>2</td>\n",
       "      <td>13</td>\n",
       "      <td>5</td>\n",
       "      <td>-5</td>\n",
       "      <td>83</td>\n",
       "      <td>2300</td>\n",
       "      <td>23</td>\n",
       "    </tr>\n",
       "    <tr>\n",
       "      <th>1851421</th>\n",
       "      <td>2017-12-31</td>\n",
       "      <td>4</td>\n",
       "      <td>2017</td>\n",
       "      <td>12</td>\n",
       "      <td>31</td>\n",
       "      <td>2250.0</td>\n",
       "      <td>0.0</td>\n",
       "      <td>2251</td>\n",
       "      <td>0.0</td>\n",
       "      <td>11292</td>\n",
       "      <td>...</td>\n",
       "      <td>10</td>\n",
       "      <td>1038</td>\n",
       "      <td>7</td>\n",
       "      <td>2</td>\n",
       "      <td>13</td>\n",
       "      <td>5</td>\n",
       "      <td>-5</td>\n",
       "      <td>83</td>\n",
       "      <td>2300</td>\n",
       "      <td>23</td>\n",
       "    </tr>\n",
       "  </tbody>\n",
       "</table>\n",
       "<p>5 rows × 36 columns</p>\n",
       "</div>"
      ],
      "text/plain": [
       "        FlightDate  Quarter  Year  Month  DayofMonth  DepTime  DepDel15  \\\n",
       "1851417 2017-12-31        4  2017     12          31   2317.0       1.0   \n",
       "1851418 2017-12-31        4  2017     12          31   2247.0       0.0   \n",
       "1851419 2017-12-31        4  2017     12          31   2327.0       1.0   \n",
       "1851420 2017-12-31        4  2017     12          31   2232.0       1.0   \n",
       "1851421 2017-12-31        4  2017     12          31   2250.0       0.0   \n",
       "\n",
       "         CRSDepTime  DepDelayMinutes  OriginAirportID  ...  visibility  \\\n",
       "1851417        2155             82.0            12478  ...          10   \n",
       "1851418        2255              0.0            12478  ...          10   \n",
       "1851419        2212             75.0            11292  ...          10   \n",
       "1851420        2215             17.0            11292  ...          10   \n",
       "1851421        2251              0.0            11292  ...          10   \n",
       "\n",
       "         pressure  cloudcover  DewPointF WindGustKmph tempF WindChillF  \\\n",
       "1851417      1027           0          0           32    10         -7   \n",
       "1851418      1027           0          0           32    10         -7   \n",
       "1851419      1038           7          2           13     5         -5   \n",
       "1851420      1038           7          2           13     5         -5   \n",
       "1851421      1038           7          2           13     5         -5   \n",
       "\n",
       "        humidity  time  timeInHr  \n",
       "1851417       64  2300        23  \n",
       "1851418       64  2300        23  \n",
       "1851419       83  2300        23  \n",
       "1851420       83  2300        23  \n",
       "1851421       83  2300        23  \n",
       "\n",
       "[5 rows x 36 columns]"
      ]
     },
     "execution_count": 437,
     "metadata": {},
     "output_type": "execute_result"
    }
   ],
   "source": [
    "Df3.tail()"
   ]
  },
  {
   "cell_type": "code",
   "execution_count": 438,
   "id": "4f430827",
   "metadata": {},
   "outputs": [
    {
     "data": {
      "text/plain": [
       "11"
      ]
     },
     "execution_count": 438,
     "metadata": {},
     "output_type": "execute_result"
    }
   ],
   "source": [
    "len(Df3_left[Df3_left.isna().any(axis=1)])"
   ]
  },
  {
   "cell_type": "markdown",
   "id": "7f0a1a2c",
   "metadata": {},
   "source": [
    "# 2. Classification of whether flight is delayed or not"
   ]
  },
  {
   "cell_type": "markdown",
   "id": "4aee1d0f",
   "metadata": {},
   "source": [
    "## Pick only necessary columns"
   ]
  },
  {
   "cell_type": "code",
   "execution_count": 445,
   "id": "2790e26c",
   "metadata": {},
   "outputs": [],
   "source": [
    "# necessary_col = ['Quarter', 'Month',\n",
    "#         'Origin',\n",
    "#        'Dest', 'windspeedKmph', 'winddirDegree', 'weatherCode', 'precipMM',\n",
    "#        'visibility', 'pressure', 'cloudcover', 'DewPointF', 'WindGustKmph',\n",
    "#        'tempF', 'WindChillF', 'humidity', 'Delayed']\n",
    "\n",
    "# Considering >= 0 as delayed\n",
    "necessary_col = ['windspeedKmph', 'winddirDegree','precipMM',\n",
    "       'visibility', 'pressure', 'cloudcover', 'DewPointF', 'WindGustKmph',\n",
    "       'tempF', 'WindChillF', 'humidity', 'Delayed']\n",
    "\n",
    "# Considering >= 15 as delayed\n",
    "necessary_col = ['windspeedKmph', 'winddirDegree','precipMM',\n",
    "       'visibility', 'pressure', 'cloudcover', 'DewPointF', 'WindGustKmph',\n",
    "       'tempF', 'WindChillF', 'humidity', 'ArrDel15']"
   ]
  },
  {
   "cell_type": "markdown",
   "id": "bf172b46",
   "metadata": {},
   "source": [
    "* Df3 - Complete merged dataframe\n",
    "* Df4 - Datafame with just required columns for model creation"
   ]
  },
  {
   "cell_type": "code",
   "execution_count": 446,
   "id": "a7426d39",
   "metadata": {},
   "outputs": [],
   "source": [
    "Df4 = Df3[necessary_col]"
   ]
  },
  {
   "cell_type": "markdown",
   "id": "8f8163a9",
   "metadata": {},
   "source": [
    "#### Either use\n",
    "1. Ensemble model or\n",
    "2. Neural Network(Pytorch)\n",
    "    * But XGBoost is much better with tabular data"
   ]
  },
  {
   "cell_type": "code",
   "execution_count": 447,
   "id": "1d896e30",
   "metadata": {},
   "outputs": [
    {
     "name": "stdout",
     "output_type": "stream",
     "text": [
      "<class 'pandas.core.frame.DataFrame'>\n",
      "Int64Index: 1851422 entries, 0 to 1851421\n",
      "Data columns (total 12 columns):\n",
      " #   Column         Dtype  \n",
      "---  ------         -----  \n",
      " 0   windspeedKmph  object \n",
      " 1   winddirDegree  object \n",
      " 2   precipMM       object \n",
      " 3   visibility     object \n",
      " 4   pressure       object \n",
      " 5   cloudcover     object \n",
      " 6   DewPointF      object \n",
      " 7   WindGustKmph   object \n",
      " 8   tempF          object \n",
      " 9   WindChillF     object \n",
      " 10  humidity       object \n",
      " 11  ArrDel15       float64\n",
      "dtypes: float64(1), object(11)\n",
      "memory usage: 183.6+ MB\n"
     ]
    }
   ],
   "source": [
    "Df4.info()"
   ]
  },
  {
   "cell_type": "markdown",
   "id": "f8d99442",
   "metadata": {},
   "source": [
    "#### To Do:\n",
    "1. Convert all data to numerical\n",
    "1. **Import** appropriate model\n",
    "1. Perform **cross validation** to find appropriate hyper parameteres, either with\n",
    "    1. GridSearchCV or KFoldStratified\n",
    "1. Determine model **performance**"
   ]
  },
  {
   "cell_type": "code",
   "execution_count": 448,
   "id": "25570386",
   "metadata": {},
   "outputs": [
    {
     "data": {
      "text/plain": [
       "Index(['windspeedKmph', 'winddirDegree', 'precipMM', 'visibility', 'pressure',\n",
       "       'cloudcover', 'DewPointF', 'WindGustKmph', 'tempF', 'WindChillF',\n",
       "       'humidity', 'ArrDel15'],\n",
       "      dtype='object')"
      ]
     },
     "execution_count": 448,
     "metadata": {},
     "output_type": "execute_result"
    }
   ],
   "source": [
    "Df4.columns"
   ]
  },
  {
   "cell_type": "code",
   "execution_count": 449,
   "id": "23338e83",
   "metadata": {},
   "outputs": [],
   "source": [
    "Df4.iloc[:, 5:17] = Df4.iloc[:, 5:17].astype('float32')\n",
    "# Df4['weatherCode'] = Df4['weatherCode'].astype('object')\n",
    "# categorical = ['Quarter', 'Month', 'Origin', 'Dest']\n",
    "numerical = [ 'windspeedKmph', 'winddirDegree', 'precipMM',\n",
    "       'visibility', 'pressure', 'cloudcover', 'DewPointF', 'WindGustKmph',\n",
    "       'tempF', 'WindChillF', 'humidity'] # Weather code actually can be categorical, but since we have 43 such categories it will be quite huge column set."
   ]
  },
  {
   "cell_type": "code",
   "execution_count": 450,
   "id": "16f96fbf",
   "metadata": {},
   "outputs": [
    {
     "data": {
      "text/html": [
       "<div>\n",
       "<style scoped>\n",
       "    .dataframe tbody tr th:only-of-type {\n",
       "        vertical-align: middle;\n",
       "    }\n",
       "\n",
       "    .dataframe tbody tr th {\n",
       "        vertical-align: top;\n",
       "    }\n",
       "\n",
       "    .dataframe thead th {\n",
       "        text-align: right;\n",
       "    }\n",
       "</style>\n",
       "<table border=\"1\" class=\"dataframe\">\n",
       "  <thead>\n",
       "    <tr style=\"text-align: right;\">\n",
       "      <th></th>\n",
       "      <th>windspeedKmph</th>\n",
       "      <th>winddirDegree</th>\n",
       "      <th>precipMM</th>\n",
       "      <th>visibility</th>\n",
       "      <th>pressure</th>\n",
       "      <th>cloudcover</th>\n",
       "      <th>DewPointF</th>\n",
       "      <th>WindGustKmph</th>\n",
       "      <th>tempF</th>\n",
       "      <th>WindChillF</th>\n",
       "      <th>humidity</th>\n",
       "      <th>ArrDel15</th>\n",
       "    </tr>\n",
       "  </thead>\n",
       "  <tbody>\n",
       "    <tr>\n",
       "      <th>0</th>\n",
       "      <td>15</td>\n",
       "      <td>123</td>\n",
       "      <td>0.0</td>\n",
       "      <td>10</td>\n",
       "      <td>1028</td>\n",
       "      <td>0.0</td>\n",
       "      <td>17.0</td>\n",
       "      <td>26.0</td>\n",
       "      <td>29.0</td>\n",
       "      <td>21.0</td>\n",
       "      <td>59.0</td>\n",
       "      <td>0.0</td>\n",
       "    </tr>\n",
       "    <tr>\n",
       "      <th>1</th>\n",
       "      <td>15</td>\n",
       "      <td>123</td>\n",
       "      <td>0.0</td>\n",
       "      <td>10</td>\n",
       "      <td>1028</td>\n",
       "      <td>0.0</td>\n",
       "      <td>17.0</td>\n",
       "      <td>26.0</td>\n",
       "      <td>29.0</td>\n",
       "      <td>21.0</td>\n",
       "      <td>59.0</td>\n",
       "      <td>0.0</td>\n",
       "    </tr>\n",
       "    <tr>\n",
       "      <th>2</th>\n",
       "      <td>15</td>\n",
       "      <td>38</td>\n",
       "      <td>0.0</td>\n",
       "      <td>10</td>\n",
       "      <td>1020</td>\n",
       "      <td>0.0</td>\n",
       "      <td>29.0</td>\n",
       "      <td>17.0</td>\n",
       "      <td>59.0</td>\n",
       "      <td>58.0</td>\n",
       "      <td>39.0</td>\n",
       "      <td>0.0</td>\n",
       "    </tr>\n",
       "    <tr>\n",
       "      <th>3</th>\n",
       "      <td>15</td>\n",
       "      <td>38</td>\n",
       "      <td>0.0</td>\n",
       "      <td>10</td>\n",
       "      <td>1020</td>\n",
       "      <td>0.0</td>\n",
       "      <td>29.0</td>\n",
       "      <td>17.0</td>\n",
       "      <td>59.0</td>\n",
       "      <td>58.0</td>\n",
       "      <td>39.0</td>\n",
       "      <td>0.0</td>\n",
       "    </tr>\n",
       "    <tr>\n",
       "      <th>4</th>\n",
       "      <td>15</td>\n",
       "      <td>38</td>\n",
       "      <td>0.0</td>\n",
       "      <td>10</td>\n",
       "      <td>1020</td>\n",
       "      <td>0.0</td>\n",
       "      <td>29.0</td>\n",
       "      <td>17.0</td>\n",
       "      <td>59.0</td>\n",
       "      <td>58.0</td>\n",
       "      <td>39.0</td>\n",
       "      <td>0.0</td>\n",
       "    </tr>\n",
       "  </tbody>\n",
       "</table>\n",
       "</div>"
      ],
      "text/plain": [
       "  windspeedKmph winddirDegree precipMM visibility pressure  cloudcover  \\\n",
       "0            15           123      0.0         10     1028         0.0   \n",
       "1            15           123      0.0         10     1028         0.0   \n",
       "2            15            38      0.0         10     1020         0.0   \n",
       "3            15            38      0.0         10     1020         0.0   \n",
       "4            15            38      0.0         10     1020         0.0   \n",
       "\n",
       "   DewPointF  WindGustKmph  tempF  WindChillF  humidity  ArrDel15  \n",
       "0       17.0          26.0   29.0        21.0      59.0       0.0  \n",
       "1       17.0          26.0   29.0        21.0      59.0       0.0  \n",
       "2       29.0          17.0   59.0        58.0      39.0       0.0  \n",
       "3       29.0          17.0   59.0        58.0      39.0       0.0  \n",
       "4       29.0          17.0   59.0        58.0      39.0       0.0  "
      ]
     },
     "execution_count": 450,
     "metadata": {},
     "output_type": "execute_result"
    }
   ],
   "source": [
    "Df4.head()"
   ]
  },
  {
   "cell_type": "code",
   "execution_count": 196,
   "id": "5f3cf716",
   "metadata": {},
   "outputs": [],
   "source": [
    "from xgboost import XGBClassifier, XGBRegressor\n",
    "from sklearn.experimental import enable_halving_search_cv\n",
    "from sklearn.model_selection import GridSearchCV, HalvingGridSearchCV\n",
    "from sklearn.model_selection import RandomizedSearchCV, HalvingRandomSearchCV"
   ]
  },
  {
   "cell_type": "markdown",
   "id": "14ef56db",
   "metadata": {},
   "source": [
    "Pipeline imports"
   ]
  },
  {
   "cell_type": "code",
   "execution_count": 197,
   "id": "19edb4f0",
   "metadata": {},
   "outputs": [],
   "source": [
    "from sklearn.pipeline import Pipeline\n",
    "from sklearn.preprocessing import OneHotEncoder, StandardScaler\n",
    "from sklearn.compose import ColumnTransformer\n",
    "from sklearn.decomposition import PCA"
   ]
  },
  {
   "cell_type": "code",
   "execution_count": 522,
   "id": "6446dd2d",
   "metadata": {},
   "outputs": [],
   "source": [
    "# categorical_pipeline = Pipeline(\n",
    "#     steps=[\n",
    "#         (\"oh-encode\", OneHotEncoder(handle_unknown=\"ignore\", sparse=False)),\n",
    "#     ]\n",
    "# )\n",
    "numerical_pipeline = Pipeline(\n",
    "    steps=[\n",
    "        (\"scale\", StandardScaler())\n",
    "    ]\n",
    ")\n",
    "\n",
    "full_pipeline = ColumnTransformer(\n",
    "    transformers=[\n",
    "        (\"numeric\", numerical_pipeline, numerical),\n",
    "#         (\"categorical\", categorical_pipeline, categorical),\n",
    "    ],\n",
    "    remainder='passthrough'\n",
    ")\n",
    "\n",
    "model_pipeline = Pipeline(\n",
    "    steps=[\n",
    "        ('preprocess',  full_pipeline),\n",
    "        ('pca', PCA(n_components=5)),\n",
    "        ('xgb', XGBClassifier() )\n",
    "    ]\n",
    ")"
   ]
  },
  {
   "cell_type": "code",
   "execution_count": 523,
   "id": "67d035c5",
   "metadata": {},
   "outputs": [
    {
     "data": {
      "text/html": [
       "<style>#sk-container-id-9 {color: black;background-color: white;}#sk-container-id-9 pre{padding: 0;}#sk-container-id-9 div.sk-toggleable {background-color: white;}#sk-container-id-9 label.sk-toggleable__label {cursor: pointer;display: block;width: 100%;margin-bottom: 0;padding: 0.3em;box-sizing: border-box;text-align: center;}#sk-container-id-9 label.sk-toggleable__label-arrow:before {content: \"▸\";float: left;margin-right: 0.25em;color: #696969;}#sk-container-id-9 label.sk-toggleable__label-arrow:hover:before {color: black;}#sk-container-id-9 div.sk-estimator:hover label.sk-toggleable__label-arrow:before {color: black;}#sk-container-id-9 div.sk-toggleable__content {max-height: 0;max-width: 0;overflow: hidden;text-align: left;background-color: #f0f8ff;}#sk-container-id-9 div.sk-toggleable__content pre {margin: 0.2em;color: black;border-radius: 0.25em;background-color: #f0f8ff;}#sk-container-id-9 input.sk-toggleable__control:checked~div.sk-toggleable__content {max-height: 200px;max-width: 100%;overflow: auto;}#sk-container-id-9 input.sk-toggleable__control:checked~label.sk-toggleable__label-arrow:before {content: \"▾\";}#sk-container-id-9 div.sk-estimator input.sk-toggleable__control:checked~label.sk-toggleable__label {background-color: #d4ebff;}#sk-container-id-9 div.sk-label input.sk-toggleable__control:checked~label.sk-toggleable__label {background-color: #d4ebff;}#sk-container-id-9 input.sk-hidden--visually {border: 0;clip: rect(1px 1px 1px 1px);clip: rect(1px, 1px, 1px, 1px);height: 1px;margin: -1px;overflow: hidden;padding: 0;position: absolute;width: 1px;}#sk-container-id-9 div.sk-estimator {font-family: monospace;background-color: #f0f8ff;border: 1px dotted black;border-radius: 0.25em;box-sizing: border-box;margin-bottom: 0.5em;}#sk-container-id-9 div.sk-estimator:hover {background-color: #d4ebff;}#sk-container-id-9 div.sk-parallel-item::after {content: \"\";width: 100%;border-bottom: 1px solid gray;flex-grow: 1;}#sk-container-id-9 div.sk-label:hover label.sk-toggleable__label {background-color: #d4ebff;}#sk-container-id-9 div.sk-serial::before {content: \"\";position: absolute;border-left: 1px solid gray;box-sizing: border-box;top: 0;bottom: 0;left: 50%;z-index: 0;}#sk-container-id-9 div.sk-serial {display: flex;flex-direction: column;align-items: center;background-color: white;padding-right: 0.2em;padding-left: 0.2em;position: relative;}#sk-container-id-9 div.sk-item {position: relative;z-index: 1;}#sk-container-id-9 div.sk-parallel {display: flex;align-items: stretch;justify-content: center;background-color: white;position: relative;}#sk-container-id-9 div.sk-item::before, #sk-container-id-9 div.sk-parallel-item::before {content: \"\";position: absolute;border-left: 1px solid gray;box-sizing: border-box;top: 0;bottom: 0;left: 50%;z-index: -1;}#sk-container-id-9 div.sk-parallel-item {display: flex;flex-direction: column;z-index: 1;position: relative;background-color: white;}#sk-container-id-9 div.sk-parallel-item:first-child::after {align-self: flex-end;width: 50%;}#sk-container-id-9 div.sk-parallel-item:last-child::after {align-self: flex-start;width: 50%;}#sk-container-id-9 div.sk-parallel-item:only-child::after {width: 0;}#sk-container-id-9 div.sk-dashed-wrapped {border: 1px dashed gray;margin: 0 0.4em 0.5em 0.4em;box-sizing: border-box;padding-bottom: 0.4em;background-color: white;}#sk-container-id-9 div.sk-label label {font-family: monospace;font-weight: bold;display: inline-block;line-height: 1.2em;}#sk-container-id-9 div.sk-label-container {text-align: center;}#sk-container-id-9 div.sk-container {/* jupyter's `normalize.less` sets `[hidden] { display: none; }` but bootstrap.min.css set `[hidden] { display: none !important; }` so we also need the `!important` here to be able to override the default hidden behavior on the sphinx rendered scikit-learn.org. See: https://github.com/scikit-learn/scikit-learn/issues/21755 */display: inline-block !important;position: relative;}#sk-container-id-9 div.sk-text-repr-fallback {display: none;}</style><div id=\"sk-container-id-9\" class=\"sk-top-container\"><div class=\"sk-text-repr-fallback\"><pre>Pipeline(steps=[(&#x27;preprocess&#x27;,\n",
       "                 ColumnTransformer(remainder=&#x27;passthrough&#x27;,\n",
       "                                   transformers=[(&#x27;numeric&#x27;,\n",
       "                                                  Pipeline(steps=[(&#x27;scale&#x27;,\n",
       "                                                                   StandardScaler())]),\n",
       "                                                  [&#x27;windspeedKmph&#x27;,\n",
       "                                                   &#x27;winddirDegree&#x27;, &#x27;precipMM&#x27;,\n",
       "                                                   &#x27;visibility&#x27;, &#x27;pressure&#x27;,\n",
       "                                                   &#x27;cloudcover&#x27;, &#x27;DewPointF&#x27;,\n",
       "                                                   &#x27;WindGustKmph&#x27;, &#x27;tempF&#x27;,\n",
       "                                                   &#x27;WindChillF&#x27;,\n",
       "                                                   &#x27;humidity&#x27;])])),\n",
       "                (&#x27;pca&#x27;, PCA(n_components=5)),\n",
       "                (&#x27;xgb&#x27;,\n",
       "                 XGBClassifier(base_score=Non...\n",
       "                               feature_types=None, gamma=None, gpu_id=None,\n",
       "                               grow_policy=None, importance_type=None,\n",
       "                               interaction_constraints=None, learning_rate=None,\n",
       "                               max_bin=None, max_cat_threshold=None,\n",
       "                               max_cat_to_onehot=None, max_delta_step=None,\n",
       "                               max_depth=None, max_leaves=None,\n",
       "                               min_child_weight=None, missing=nan,\n",
       "                               monotone_constraints=None, n_estimators=100,\n",
       "                               n_jobs=None, num_parallel_tree=None,\n",
       "                               predictor=None, random_state=None, ...))])</pre><b>In a Jupyter environment, please rerun this cell to show the HTML representation or trust the notebook. <br />On GitHub, the HTML representation is unable to render, please try loading this page with nbviewer.org.</b></div><div class=\"sk-container\" hidden><div class=\"sk-item sk-dashed-wrapped\"><div class=\"sk-label-container\"><div class=\"sk-label sk-toggleable\"><input class=\"sk-toggleable__control sk-hidden--visually\" id=\"sk-estimator-id-69\" type=\"checkbox\" ><label for=\"sk-estimator-id-69\" class=\"sk-toggleable__label sk-toggleable__label-arrow\">Pipeline</label><div class=\"sk-toggleable__content\"><pre>Pipeline(steps=[(&#x27;preprocess&#x27;,\n",
       "                 ColumnTransformer(remainder=&#x27;passthrough&#x27;,\n",
       "                                   transformers=[(&#x27;numeric&#x27;,\n",
       "                                                  Pipeline(steps=[(&#x27;scale&#x27;,\n",
       "                                                                   StandardScaler())]),\n",
       "                                                  [&#x27;windspeedKmph&#x27;,\n",
       "                                                   &#x27;winddirDegree&#x27;, &#x27;precipMM&#x27;,\n",
       "                                                   &#x27;visibility&#x27;, &#x27;pressure&#x27;,\n",
       "                                                   &#x27;cloudcover&#x27;, &#x27;DewPointF&#x27;,\n",
       "                                                   &#x27;WindGustKmph&#x27;, &#x27;tempF&#x27;,\n",
       "                                                   &#x27;WindChillF&#x27;,\n",
       "                                                   &#x27;humidity&#x27;])])),\n",
       "                (&#x27;pca&#x27;, PCA(n_components=5)),\n",
       "                (&#x27;xgb&#x27;,\n",
       "                 XGBClassifier(base_score=Non...\n",
       "                               feature_types=None, gamma=None, gpu_id=None,\n",
       "                               grow_policy=None, importance_type=None,\n",
       "                               interaction_constraints=None, learning_rate=None,\n",
       "                               max_bin=None, max_cat_threshold=None,\n",
       "                               max_cat_to_onehot=None, max_delta_step=None,\n",
       "                               max_depth=None, max_leaves=None,\n",
       "                               min_child_weight=None, missing=nan,\n",
       "                               monotone_constraints=None, n_estimators=100,\n",
       "                               n_jobs=None, num_parallel_tree=None,\n",
       "                               predictor=None, random_state=None, ...))])</pre></div></div></div><div class=\"sk-serial\"><div class=\"sk-item sk-dashed-wrapped\"><div class=\"sk-label-container\"><div class=\"sk-label sk-toggleable\"><input class=\"sk-toggleable__control sk-hidden--visually\" id=\"sk-estimator-id-70\" type=\"checkbox\" ><label for=\"sk-estimator-id-70\" class=\"sk-toggleable__label sk-toggleable__label-arrow\">preprocess: ColumnTransformer</label><div class=\"sk-toggleable__content\"><pre>ColumnTransformer(remainder=&#x27;passthrough&#x27;,\n",
       "                  transformers=[(&#x27;numeric&#x27;,\n",
       "                                 Pipeline(steps=[(&#x27;scale&#x27;, StandardScaler())]),\n",
       "                                 [&#x27;windspeedKmph&#x27;, &#x27;winddirDegree&#x27;, &#x27;precipMM&#x27;,\n",
       "                                  &#x27;visibility&#x27;, &#x27;pressure&#x27;, &#x27;cloudcover&#x27;,\n",
       "                                  &#x27;DewPointF&#x27;, &#x27;WindGustKmph&#x27;, &#x27;tempF&#x27;,\n",
       "                                  &#x27;WindChillF&#x27;, &#x27;humidity&#x27;])])</pre></div></div></div><div class=\"sk-parallel\"><div class=\"sk-parallel-item\"><div class=\"sk-item\"><div class=\"sk-label-container\"><div class=\"sk-label sk-toggleable\"><input class=\"sk-toggleable__control sk-hidden--visually\" id=\"sk-estimator-id-71\" type=\"checkbox\" ><label for=\"sk-estimator-id-71\" class=\"sk-toggleable__label sk-toggleable__label-arrow\">numeric</label><div class=\"sk-toggleable__content\"><pre>[&#x27;windspeedKmph&#x27;, &#x27;winddirDegree&#x27;, &#x27;precipMM&#x27;, &#x27;visibility&#x27;, &#x27;pressure&#x27;, &#x27;cloudcover&#x27;, &#x27;DewPointF&#x27;, &#x27;WindGustKmph&#x27;, &#x27;tempF&#x27;, &#x27;WindChillF&#x27;, &#x27;humidity&#x27;]</pre></div></div></div><div class=\"sk-serial\"><div class=\"sk-item\"><div class=\"sk-serial\"><div class=\"sk-item\"><div class=\"sk-estimator sk-toggleable\"><input class=\"sk-toggleable__control sk-hidden--visually\" id=\"sk-estimator-id-72\" type=\"checkbox\" ><label for=\"sk-estimator-id-72\" class=\"sk-toggleable__label sk-toggleable__label-arrow\">StandardScaler</label><div class=\"sk-toggleable__content\"><pre>StandardScaler()</pre></div></div></div></div></div></div></div></div><div class=\"sk-parallel-item\"><div class=\"sk-item\"><div class=\"sk-label-container\"><div class=\"sk-label sk-toggleable\"><input class=\"sk-toggleable__control sk-hidden--visually\" id=\"sk-estimator-id-73\" type=\"checkbox\" ><label for=\"sk-estimator-id-73\" class=\"sk-toggleable__label sk-toggleable__label-arrow\">remainder</label><div class=\"sk-toggleable__content\"><pre></pre></div></div></div><div class=\"sk-serial\"><div class=\"sk-item\"><div class=\"sk-estimator sk-toggleable\"><input class=\"sk-toggleable__control sk-hidden--visually\" id=\"sk-estimator-id-74\" type=\"checkbox\" ><label for=\"sk-estimator-id-74\" class=\"sk-toggleable__label sk-toggleable__label-arrow\">passthrough</label><div class=\"sk-toggleable__content\"><pre>passthrough</pre></div></div></div></div></div></div></div></div><div class=\"sk-item\"><div class=\"sk-estimator sk-toggleable\"><input class=\"sk-toggleable__control sk-hidden--visually\" id=\"sk-estimator-id-75\" type=\"checkbox\" ><label for=\"sk-estimator-id-75\" class=\"sk-toggleable__label sk-toggleable__label-arrow\">PCA</label><div class=\"sk-toggleable__content\"><pre>PCA(n_components=5)</pre></div></div></div><div class=\"sk-item\"><div class=\"sk-estimator sk-toggleable\"><input class=\"sk-toggleable__control sk-hidden--visually\" id=\"sk-estimator-id-76\" type=\"checkbox\" ><label for=\"sk-estimator-id-76\" class=\"sk-toggleable__label sk-toggleable__label-arrow\">XGBClassifier</label><div class=\"sk-toggleable__content\"><pre>XGBClassifier(base_score=None, booster=None, callbacks=None,\n",
       "              colsample_bylevel=None, colsample_bynode=None,\n",
       "              colsample_bytree=None, early_stopping_rounds=None,\n",
       "              enable_categorical=False, eval_metric=None, feature_types=None,\n",
       "              gamma=None, gpu_id=None, grow_policy=None, importance_type=None,\n",
       "              interaction_constraints=None, learning_rate=None, max_bin=None,\n",
       "              max_cat_threshold=None, max_cat_to_onehot=None,\n",
       "              max_delta_step=None, max_depth=None, max_leaves=None,\n",
       "              min_child_weight=None, missing=nan, monotone_constraints=None,\n",
       "              n_estimators=100, n_jobs=None, num_parallel_tree=None,\n",
       "              predictor=None, random_state=None, ...)</pre></div></div></div></div></div></div></div>"
      ],
      "text/plain": [
       "Pipeline(steps=[('preprocess',\n",
       "                 ColumnTransformer(remainder='passthrough',\n",
       "                                   transformers=[('numeric',\n",
       "                                                  Pipeline(steps=[('scale',\n",
       "                                                                   StandardScaler())]),\n",
       "                                                  ['windspeedKmph',\n",
       "                                                   'winddirDegree', 'precipMM',\n",
       "                                                   'visibility', 'pressure',\n",
       "                                                   'cloudcover', 'DewPointF',\n",
       "                                                   'WindGustKmph', 'tempF',\n",
       "                                                   'WindChillF',\n",
       "                                                   'humidity'])])),\n",
       "                ('pca', PCA(n_components=5)),\n",
       "                ('xgb',\n",
       "                 XGBClassifier(base_score=Non...\n",
       "                               feature_types=None, gamma=None, gpu_id=None,\n",
       "                               grow_policy=None, importance_type=None,\n",
       "                               interaction_constraints=None, learning_rate=None,\n",
       "                               max_bin=None, max_cat_threshold=None,\n",
       "                               max_cat_to_onehot=None, max_delta_step=None,\n",
       "                               max_depth=None, max_leaves=None,\n",
       "                               min_child_weight=None, missing=nan,\n",
       "                               monotone_constraints=None, n_estimators=100,\n",
       "                               n_jobs=None, num_parallel_tree=None,\n",
       "                               predictor=None, random_state=None, ...))])"
      ]
     },
     "execution_count": 523,
     "metadata": {},
     "output_type": "execute_result"
    }
   ],
   "source": [
    "model_pipeline"
   ]
  },
  {
   "cell_type": "markdown",
   "id": "d8d5ed4d",
   "metadata": {},
   "source": [
    "##### Splitting\n",
    "- But should not split after standardising because test data is standardised using the parameters of entire population, which is incorrect"
   ]
  },
  {
   "cell_type": "code",
   "execution_count": 551,
   "id": "dd28c050",
   "metadata": {},
   "outputs": [],
   "source": [
    "from sklearn.model_selection import train_test_split\n",
    "X_train, X_test, y_train, y_test = train_test_split(Df4.iloc[:, :-1], Df4.iloc[:, -1], train_size=0.8, stratify=Df4.iloc[:, -1].values, random_state=42)"
   ]
  },
  {
   "cell_type": "code",
   "execution_count": 552,
   "id": "c436ca0b",
   "metadata": {},
   "outputs": [
    {
     "data": {
      "text/plain": [
       "0.0    1170693\n",
       "1.0     310444\n",
       "Name: ArrDel15, dtype: int64"
      ]
     },
     "execution_count": 552,
     "metadata": {},
     "output_type": "execute_result"
    }
   ],
   "source": [
    "y_train.value_counts()"
   ]
  },
  {
   "cell_type": "code",
   "execution_count": 526,
   "id": "7d2e5571",
   "metadata": {},
   "outputs": [
    {
     "data": {
      "text/plain": [
       "0.26520354466136636"
      ]
     },
     "execution_count": 526,
     "metadata": {},
     "output_type": "execute_result"
    }
   ],
   "source": [
    "# Negative to positive ratio\n",
    "ratio = 291041/1097425\n",
    "ratio"
   ]
  },
  {
   "cell_type": "code",
   "execution_count": 553,
   "id": "d39a82fc",
   "metadata": {},
   "outputs": [
    {
     "data": {
      "text/plain": [
       "((1481137, 11), (1481137,))"
      ]
     },
     "execution_count": 553,
     "metadata": {},
     "output_type": "execute_result"
    }
   ],
   "source": [
    "X_train.shape, y_train.shape"
   ]
  },
  {
   "cell_type": "markdown",
   "id": "fc752aee",
   "metadata": {},
   "source": [
    "##### GridSearchCV"
   ]
  },
  {
   "cell_type": "code",
   "execution_count": 324,
   "id": "97a75ba0",
   "metadata": {},
   "outputs": [],
   "source": [
    "# X_train_ = full_pipeline.fit_transform(X_train) # Wrong, shouldn't standardise in prior"
   ]
  },
  {
   "cell_type": "code",
   "execution_count": 528,
   "id": "8151e33c",
   "metadata": {},
   "outputs": [],
   "source": [
    "params = {\n",
    "    \"xgb__max_depth\": [7, 8, 12],\n",
    "    \"xgb__learning_rate\": [0.6,0.3, 0.1],\n",
    "    \"xgb__gamma\": [0, 0.25, 1],\n",
    "    \"xgb__reg_lambda\": [10, 50, 100],\n",
    "    \"xgb__scale_pos_weight\": [0, 1, 3, 5],\n",
    "    \"xgb__subsample\": [0.8],\n",
    "    \"xgb__colsample_bytree\": [0.5],\n",
    "}"
   ]
  },
  {
   "cell_type": "code",
   "execution_count": 205,
   "id": "585b62c7",
   "metadata": {},
   "outputs": [],
   "source": [
    "xgb_grid = HalvingGridSearchCV(model_pipeline, param_grid=params, n_jobs=-1, cv=3, scoring=\"roc_auc\")\n",
    "# xgb_grid = GridSearchCV(model_pipeline, param_grid=params, n_jobs=-1, cv=5, scoring=\"roc_auc\")"
   ]
  },
  {
   "cell_type": "code",
   "execution_count": 206,
   "id": "d637cc84",
   "metadata": {},
   "outputs": [
    {
     "data": {
      "text/html": [
       "<style>#sk-container-id-4 {color: black;background-color: white;}#sk-container-id-4 pre{padding: 0;}#sk-container-id-4 div.sk-toggleable {background-color: white;}#sk-container-id-4 label.sk-toggleable__label {cursor: pointer;display: block;width: 100%;margin-bottom: 0;padding: 0.3em;box-sizing: border-box;text-align: center;}#sk-container-id-4 label.sk-toggleable__label-arrow:before {content: \"▸\";float: left;margin-right: 0.25em;color: #696969;}#sk-container-id-4 label.sk-toggleable__label-arrow:hover:before {color: black;}#sk-container-id-4 div.sk-estimator:hover label.sk-toggleable__label-arrow:before {color: black;}#sk-container-id-4 div.sk-toggleable__content {max-height: 0;max-width: 0;overflow: hidden;text-align: left;background-color: #f0f8ff;}#sk-container-id-4 div.sk-toggleable__content pre {margin: 0.2em;color: black;border-radius: 0.25em;background-color: #f0f8ff;}#sk-container-id-4 input.sk-toggleable__control:checked~div.sk-toggleable__content {max-height: 200px;max-width: 100%;overflow: auto;}#sk-container-id-4 input.sk-toggleable__control:checked~label.sk-toggleable__label-arrow:before {content: \"▾\";}#sk-container-id-4 div.sk-estimator input.sk-toggleable__control:checked~label.sk-toggleable__label {background-color: #d4ebff;}#sk-container-id-4 div.sk-label input.sk-toggleable__control:checked~label.sk-toggleable__label {background-color: #d4ebff;}#sk-container-id-4 input.sk-hidden--visually {border: 0;clip: rect(1px 1px 1px 1px);clip: rect(1px, 1px, 1px, 1px);height: 1px;margin: -1px;overflow: hidden;padding: 0;position: absolute;width: 1px;}#sk-container-id-4 div.sk-estimator {font-family: monospace;background-color: #f0f8ff;border: 1px dotted black;border-radius: 0.25em;box-sizing: border-box;margin-bottom: 0.5em;}#sk-container-id-4 div.sk-estimator:hover {background-color: #d4ebff;}#sk-container-id-4 div.sk-parallel-item::after {content: \"\";width: 100%;border-bottom: 1px solid gray;flex-grow: 1;}#sk-container-id-4 div.sk-label:hover label.sk-toggleable__label {background-color: #d4ebff;}#sk-container-id-4 div.sk-serial::before {content: \"\";position: absolute;border-left: 1px solid gray;box-sizing: border-box;top: 0;bottom: 0;left: 50%;z-index: 0;}#sk-container-id-4 div.sk-serial {display: flex;flex-direction: column;align-items: center;background-color: white;padding-right: 0.2em;padding-left: 0.2em;position: relative;}#sk-container-id-4 div.sk-item {position: relative;z-index: 1;}#sk-container-id-4 div.sk-parallel {display: flex;align-items: stretch;justify-content: center;background-color: white;position: relative;}#sk-container-id-4 div.sk-item::before, #sk-container-id-4 div.sk-parallel-item::before {content: \"\";position: absolute;border-left: 1px solid gray;box-sizing: border-box;top: 0;bottom: 0;left: 50%;z-index: -1;}#sk-container-id-4 div.sk-parallel-item {display: flex;flex-direction: column;z-index: 1;position: relative;background-color: white;}#sk-container-id-4 div.sk-parallel-item:first-child::after {align-self: flex-end;width: 50%;}#sk-container-id-4 div.sk-parallel-item:last-child::after {align-self: flex-start;width: 50%;}#sk-container-id-4 div.sk-parallel-item:only-child::after {width: 0;}#sk-container-id-4 div.sk-dashed-wrapped {border: 1px dashed gray;margin: 0 0.4em 0.5em 0.4em;box-sizing: border-box;padding-bottom: 0.4em;background-color: white;}#sk-container-id-4 div.sk-label label {font-family: monospace;font-weight: bold;display: inline-block;line-height: 1.2em;}#sk-container-id-4 div.sk-label-container {text-align: center;}#sk-container-id-4 div.sk-container {/* jupyter's `normalize.less` sets `[hidden] { display: none; }` but bootstrap.min.css set `[hidden] { display: none !important; }` so we also need the `!important` here to be able to override the default hidden behavior on the sphinx rendered scikit-learn.org. See: https://github.com/scikit-learn/scikit-learn/issues/21755 */display: inline-block !important;position: relative;}#sk-container-id-4 div.sk-text-repr-fallback {display: none;}</style><div id=\"sk-container-id-4\" class=\"sk-top-container\"><div class=\"sk-text-repr-fallback\"><pre>HalvingGridSearchCV(cv=3,\n",
       "                    estimator=Pipeline(steps=[(&#x27;preprocess&#x27;,\n",
       "                                               ColumnTransformer(remainder=&#x27;passthrough&#x27;,\n",
       "                                                                 transformers=[(&#x27;numeric&#x27;,\n",
       "                                                                                Pipeline(steps=[(&#x27;scale&#x27;,\n",
       "                                                                                                 StandardScaler())]),\n",
       "                                                                                [&#x27;windspeedKmph&#x27;,\n",
       "                                                                                 &#x27;winddirDegree&#x27;,\n",
       "                                                                                 &#x27;precipMM&#x27;,\n",
       "                                                                                 &#x27;visibility&#x27;,\n",
       "                                                                                 &#x27;pressure&#x27;,\n",
       "                                                                                 &#x27;cloudcover&#x27;,\n",
       "                                                                                 &#x27;DewPointF&#x27;,\n",
       "                                                                                 &#x27;WindGustKmph&#x27;,\n",
       "                                                                                 &#x27;tempF&#x27;,\n",
       "                                                                                 &#x27;WindChillF&#x27;,\n",
       "                                                                                 &#x27;humidity&#x27;])])),\n",
       "                                              (&#x27;pca&#x27;, PCA(n_components=5)),...\n",
       "                                                             monotone_constraints=None,\n",
       "                                                             n_estimators=100,\n",
       "                                                             n_jobs=None,\n",
       "                                                             num_parallel_tree=None,\n",
       "                                                             predictor=None,\n",
       "                                                             random_state=None, ...))]),\n",
       "                    n_jobs=-1,\n",
       "                    param_grid={&#x27;xgb__colsample_bytree&#x27;: [0.5],\n",
       "                                &#x27;xgb__gamma&#x27;: [0, 0.25, 1],\n",
       "                                &#x27;xgb__learning_rate&#x27;: [0.6, 0.3, 0.1],\n",
       "                                &#x27;xgb__max_depth&#x27;: [7, 8, 12],\n",
       "                                &#x27;xgb__reg_lambda&#x27;: [10, 50, 100],\n",
       "                                &#x27;xgb__scale_pos_weight&#x27;: [1, 3, 5],\n",
       "                                &#x27;xgb__subsample&#x27;: [0.8]},\n",
       "                    scoring=&#x27;roc_auc&#x27;)</pre><b>In a Jupyter environment, please rerun this cell to show the HTML representation or trust the notebook. <br />On GitHub, the HTML representation is unable to render, please try loading this page with nbviewer.org.</b></div><div class=\"sk-container\" hidden><div class=\"sk-item sk-dashed-wrapped\"><div class=\"sk-label-container\"><div class=\"sk-label sk-toggleable\"><input class=\"sk-toggleable__control sk-hidden--visually\" id=\"sk-estimator-id-26\" type=\"checkbox\" ><label for=\"sk-estimator-id-26\" class=\"sk-toggleable__label sk-toggleable__label-arrow\">HalvingGridSearchCV</label><div class=\"sk-toggleable__content\"><pre>HalvingGridSearchCV(cv=3,\n",
       "                    estimator=Pipeline(steps=[(&#x27;preprocess&#x27;,\n",
       "                                               ColumnTransformer(remainder=&#x27;passthrough&#x27;,\n",
       "                                                                 transformers=[(&#x27;numeric&#x27;,\n",
       "                                                                                Pipeline(steps=[(&#x27;scale&#x27;,\n",
       "                                                                                                 StandardScaler())]),\n",
       "                                                                                [&#x27;windspeedKmph&#x27;,\n",
       "                                                                                 &#x27;winddirDegree&#x27;,\n",
       "                                                                                 &#x27;precipMM&#x27;,\n",
       "                                                                                 &#x27;visibility&#x27;,\n",
       "                                                                                 &#x27;pressure&#x27;,\n",
       "                                                                                 &#x27;cloudcover&#x27;,\n",
       "                                                                                 &#x27;DewPointF&#x27;,\n",
       "                                                                                 &#x27;WindGustKmph&#x27;,\n",
       "                                                                                 &#x27;tempF&#x27;,\n",
       "                                                                                 &#x27;WindChillF&#x27;,\n",
       "                                                                                 &#x27;humidity&#x27;])])),\n",
       "                                              (&#x27;pca&#x27;, PCA(n_components=5)),...\n",
       "                                                             monotone_constraints=None,\n",
       "                                                             n_estimators=100,\n",
       "                                                             n_jobs=None,\n",
       "                                                             num_parallel_tree=None,\n",
       "                                                             predictor=None,\n",
       "                                                             random_state=None, ...))]),\n",
       "                    n_jobs=-1,\n",
       "                    param_grid={&#x27;xgb__colsample_bytree&#x27;: [0.5],\n",
       "                                &#x27;xgb__gamma&#x27;: [0, 0.25, 1],\n",
       "                                &#x27;xgb__learning_rate&#x27;: [0.6, 0.3, 0.1],\n",
       "                                &#x27;xgb__max_depth&#x27;: [7, 8, 12],\n",
       "                                &#x27;xgb__reg_lambda&#x27;: [10, 50, 100],\n",
       "                                &#x27;xgb__scale_pos_weight&#x27;: [1, 3, 5],\n",
       "                                &#x27;xgb__subsample&#x27;: [0.8]},\n",
       "                    scoring=&#x27;roc_auc&#x27;)</pre></div></div></div><div class=\"sk-parallel\"><div class=\"sk-parallel-item\"><div class=\"sk-item\"><div class=\"sk-label-container\"><div class=\"sk-label sk-toggleable\"><input class=\"sk-toggleable__control sk-hidden--visually\" id=\"sk-estimator-id-27\" type=\"checkbox\" ><label for=\"sk-estimator-id-27\" class=\"sk-toggleable__label sk-toggleable__label-arrow\">estimator: Pipeline</label><div class=\"sk-toggleable__content\"><pre>Pipeline(steps=[(&#x27;preprocess&#x27;,\n",
       "                 ColumnTransformer(remainder=&#x27;passthrough&#x27;,\n",
       "                                   transformers=[(&#x27;numeric&#x27;,\n",
       "                                                  Pipeline(steps=[(&#x27;scale&#x27;,\n",
       "                                                                   StandardScaler())]),\n",
       "                                                  [&#x27;windspeedKmph&#x27;,\n",
       "                                                   &#x27;winddirDegree&#x27;, &#x27;precipMM&#x27;,\n",
       "                                                   &#x27;visibility&#x27;, &#x27;pressure&#x27;,\n",
       "                                                   &#x27;cloudcover&#x27;, &#x27;DewPointF&#x27;,\n",
       "                                                   &#x27;WindGustKmph&#x27;, &#x27;tempF&#x27;,\n",
       "                                                   &#x27;WindChillF&#x27;,\n",
       "                                                   &#x27;humidity&#x27;])])),\n",
       "                (&#x27;pca&#x27;, PCA(n_components=5)),\n",
       "                (&#x27;xgb&#x27;,\n",
       "                 XGBClassifier(base_score=Non...\n",
       "                               feature_types=None, gamma=None, gpu_id=None,\n",
       "                               grow_policy=None, importance_type=None,\n",
       "                               interaction_constraints=None, learning_rate=None,\n",
       "                               max_bin=None, max_cat_threshold=None,\n",
       "                               max_cat_to_onehot=None, max_delta_step=None,\n",
       "                               max_depth=None, max_leaves=None,\n",
       "                               min_child_weight=None, missing=nan,\n",
       "                               monotone_constraints=None, n_estimators=100,\n",
       "                               n_jobs=None, num_parallel_tree=None,\n",
       "                               predictor=None, random_state=None, ...))])</pre></div></div></div><div class=\"sk-serial\"><div class=\"sk-item\"><div class=\"sk-serial\"><div class=\"sk-item sk-dashed-wrapped\"><div class=\"sk-label-container\"><div class=\"sk-label sk-toggleable\"><input class=\"sk-toggleable__control sk-hidden--visually\" id=\"sk-estimator-id-28\" type=\"checkbox\" ><label for=\"sk-estimator-id-28\" class=\"sk-toggleable__label sk-toggleable__label-arrow\">preprocess: ColumnTransformer</label><div class=\"sk-toggleable__content\"><pre>ColumnTransformer(remainder=&#x27;passthrough&#x27;,\n",
       "                  transformers=[(&#x27;numeric&#x27;,\n",
       "                                 Pipeline(steps=[(&#x27;scale&#x27;, StandardScaler())]),\n",
       "                                 [&#x27;windspeedKmph&#x27;, &#x27;winddirDegree&#x27;, &#x27;precipMM&#x27;,\n",
       "                                  &#x27;visibility&#x27;, &#x27;pressure&#x27;, &#x27;cloudcover&#x27;,\n",
       "                                  &#x27;DewPointF&#x27;, &#x27;WindGustKmph&#x27;, &#x27;tempF&#x27;,\n",
       "                                  &#x27;WindChillF&#x27;, &#x27;humidity&#x27;])])</pre></div></div></div><div class=\"sk-parallel\"><div class=\"sk-parallel-item\"><div class=\"sk-item\"><div class=\"sk-label-container\"><div class=\"sk-label sk-toggleable\"><input class=\"sk-toggleable__control sk-hidden--visually\" id=\"sk-estimator-id-29\" type=\"checkbox\" ><label for=\"sk-estimator-id-29\" class=\"sk-toggleable__label sk-toggleable__label-arrow\">numeric</label><div class=\"sk-toggleable__content\"><pre>[&#x27;windspeedKmph&#x27;, &#x27;winddirDegree&#x27;, &#x27;precipMM&#x27;, &#x27;visibility&#x27;, &#x27;pressure&#x27;, &#x27;cloudcover&#x27;, &#x27;DewPointF&#x27;, &#x27;WindGustKmph&#x27;, &#x27;tempF&#x27;, &#x27;WindChillF&#x27;, &#x27;humidity&#x27;]</pre></div></div></div><div class=\"sk-serial\"><div class=\"sk-item\"><div class=\"sk-serial\"><div class=\"sk-item\"><div class=\"sk-estimator sk-toggleable\"><input class=\"sk-toggleable__control sk-hidden--visually\" id=\"sk-estimator-id-30\" type=\"checkbox\" ><label for=\"sk-estimator-id-30\" class=\"sk-toggleable__label sk-toggleable__label-arrow\">StandardScaler</label><div class=\"sk-toggleable__content\"><pre>StandardScaler()</pre></div></div></div></div></div></div></div></div><div class=\"sk-parallel-item\"><div class=\"sk-item\"><div class=\"sk-label-container\"><div class=\"sk-label sk-toggleable\"><input class=\"sk-toggleable__control sk-hidden--visually\" id=\"sk-estimator-id-31\" type=\"checkbox\" ><label for=\"sk-estimator-id-31\" class=\"sk-toggleable__label sk-toggleable__label-arrow\">remainder</label><div class=\"sk-toggleable__content\"><pre></pre></div></div></div><div class=\"sk-serial\"><div class=\"sk-item\"><div class=\"sk-estimator sk-toggleable\"><input class=\"sk-toggleable__control sk-hidden--visually\" id=\"sk-estimator-id-32\" type=\"checkbox\" ><label for=\"sk-estimator-id-32\" class=\"sk-toggleable__label sk-toggleable__label-arrow\">passthrough</label><div class=\"sk-toggleable__content\"><pre>passthrough</pre></div></div></div></div></div></div></div></div><div class=\"sk-item\"><div class=\"sk-estimator sk-toggleable\"><input class=\"sk-toggleable__control sk-hidden--visually\" id=\"sk-estimator-id-33\" type=\"checkbox\" ><label for=\"sk-estimator-id-33\" class=\"sk-toggleable__label sk-toggleable__label-arrow\">PCA</label><div class=\"sk-toggleable__content\"><pre>PCA(n_components=5)</pre></div></div></div><div class=\"sk-item\"><div class=\"sk-estimator sk-toggleable\"><input class=\"sk-toggleable__control sk-hidden--visually\" id=\"sk-estimator-id-34\" type=\"checkbox\" ><label for=\"sk-estimator-id-34\" class=\"sk-toggleable__label sk-toggleable__label-arrow\">XGBClassifier</label><div class=\"sk-toggleable__content\"><pre>XGBClassifier(base_score=None, booster=None, callbacks=None,\n",
       "              colsample_bylevel=None, colsample_bynode=None,\n",
       "              colsample_bytree=None, early_stopping_rounds=None,\n",
       "              enable_categorical=False, eval_metric=None, feature_types=None,\n",
       "              gamma=None, gpu_id=None, grow_policy=None, importance_type=None,\n",
       "              interaction_constraints=None, learning_rate=None, max_bin=None,\n",
       "              max_cat_threshold=None, max_cat_to_onehot=None,\n",
       "              max_delta_step=None, max_depth=None, max_leaves=None,\n",
       "              min_child_weight=None, missing=nan, monotone_constraints=None,\n",
       "              n_estimators=100, n_jobs=None, num_parallel_tree=None,\n",
       "              predictor=None, random_state=None, ...)</pre></div></div></div></div></div></div></div></div></div></div></div></div>"
      ],
      "text/plain": [
       "HalvingGridSearchCV(cv=3,\n",
       "                    estimator=Pipeline(steps=[('preprocess',\n",
       "                                               ColumnTransformer(remainder='passthrough',\n",
       "                                                                 transformers=[('numeric',\n",
       "                                                                                Pipeline(steps=[('scale',\n",
       "                                                                                                 StandardScaler())]),\n",
       "                                                                                ['windspeedKmph',\n",
       "                                                                                 'winddirDegree',\n",
       "                                                                                 'precipMM',\n",
       "                                                                                 'visibility',\n",
       "                                                                                 'pressure',\n",
       "                                                                                 'cloudcover',\n",
       "                                                                                 'DewPointF',\n",
       "                                                                                 'WindGustKmph',\n",
       "                                                                                 'tempF',\n",
       "                                                                                 'WindChillF',\n",
       "                                                                                 'humidity'])])),\n",
       "                                              ('pca', PCA(n_components=5)),...\n",
       "                                                             monotone_constraints=None,\n",
       "                                                             n_estimators=100,\n",
       "                                                             n_jobs=None,\n",
       "                                                             num_parallel_tree=None,\n",
       "                                                             predictor=None,\n",
       "                                                             random_state=None, ...))]),\n",
       "                    n_jobs=-1,\n",
       "                    param_grid={'xgb__colsample_bytree': [0.5],\n",
       "                                'xgb__gamma': [0, 0.25, 1],\n",
       "                                'xgb__learning_rate': [0.6, 0.3, 0.1],\n",
       "                                'xgb__max_depth': [7, 8, 12],\n",
       "                                'xgb__reg_lambda': [10, 50, 100],\n",
       "                                'xgb__scale_pos_weight': [1, 3, 5],\n",
       "                                'xgb__subsample': [0.8]},\n",
       "                    scoring='roc_auc')"
      ]
     },
     "execution_count": 206,
     "metadata": {},
     "output_type": "execute_result"
    }
   ],
   "source": [
    "xgb_grid.fit(X_train, y_train)"
   ]
  },
  {
   "cell_type": "code",
   "execution_count": 207,
   "id": "233bea9e",
   "metadata": {},
   "outputs": [
    {
     "data": {
      "text/plain": [
       "{'xgb__colsample_bytree': 0.5,\n",
       " 'xgb__gamma': 0,\n",
       " 'xgb__learning_rate': 0.1,\n",
       " 'xgb__max_depth': 8,\n",
       " 'xgb__reg_lambda': 50,\n",
       " 'xgb__scale_pos_weight': 1,\n",
       " 'xgb__subsample': 0.8}"
      ]
     },
     "execution_count": 207,
     "metadata": {},
     "output_type": "execute_result"
    }
   ],
   "source": [
    "params_found = xgb_grid.best_params_\n",
    "params_found"
   ]
  },
  {
   "cell_type": "code",
   "execution_count": 208,
   "id": "cc4fbece",
   "metadata": {},
   "outputs": [
    {
     "data": {
      "text/plain": [
       "0.5958513363235903"
      ]
     },
     "execution_count": 208,
     "metadata": {},
     "output_type": "execute_result"
    }
   ],
   "source": [
    "xgb_grid.best_score_"
   ]
  },
  {
   "cell_type": "markdown",
   "id": "26999598",
   "metadata": {},
   "source": [
    "##### Manual Tweeking after GridSearchCV"
   ]
  },
  {
   "cell_type": "code",
   "execution_count": 529,
   "id": "3c7356d6",
   "metadata": {},
   "outputs": [],
   "source": [
    "#xgb1 = XGBClassifier(colsample_bytree= 0.5, gamma= 0,learning_rate= 0.1, max_depth= 7,reg_lambda= 10,scale_pos_weight= 1, subsample= 0.8)\n",
    "xgb = XGBClassifier(max_delta_step=10, n_estimators=400, colsample_bytree= 0.8, gamma= 0,learning_rate= 0.6, max_depth= 10,reg_lambda= 15,scale_pos_weight= 4, subsample= 0.8)\n",
    "X_train_2 = full_pipeline.fit_transform(X_train)"
   ]
  },
  {
   "cell_type": "code",
   "execution_count": 540,
   "id": "0832ad77",
   "metadata": {},
   "outputs": [
    {
     "data": {
      "text/plain": [
       "array([-0.81911536,  0.19626916, -0.260783  ,  0.30932076,  0.13522703,\n",
       "       -1.04836383,  0.1006834 , -1.07567045, -0.5427464 , -0.41657776,\n",
       "        0.78451225])"
      ]
     },
     "execution_count": 540,
     "metadata": {},
     "output_type": "execute_result"
    }
   ],
   "source": [
    "X_train_2[0]"
   ]
  },
  {
   "cell_type": "code",
   "execution_count": null,
   "id": "890f1f20",
   "metadata": {},
   "outputs": [],
   "source": []
  },
  {
   "cell_type": "code",
   "execution_count": 544,
   "id": "98f4c306",
   "metadata": {},
   "outputs": [
    {
     "name": "stdout",
     "output_type": "stream",
     "text": [
      "CPU times: user 22min 23s, sys: 1min 21s, total: 23min 45s\n",
      "Wall time: 3min 11s\n"
     ]
    }
   ],
   "source": [
    "%%time\n",
    "model = xgb.fit(X_train.values ,y_train)"
   ]
  },
  {
   "cell_type": "markdown",
   "id": "193e919a",
   "metadata": {},
   "source": [
    "### Evaluation\n",
    "- **Considering Delayed as target**\n",
    "    - Base model \n",
    "        - 39% accuracy\n",
    "        - 0.56 f1 score\n",
    "    - n_estimators=400, colsample_bytree= 0.8, gamma= 0,learning_rate= 0.3, max_depth= 10,reg_lambda= 30,scale_pos_weight= 1, subsample= 0.8\n",
    "        - accuracy: 0.65\n",
    "        - f1_score: 0.43\n",
    "    - n_estimators=400, colsample_bytree= 0.8, gamma= 0,learning_rate= 0.6, max_depth= 10,reg_lambda= 15,scale_pos_weight= 1, subsample= 0.8\n",
    "        - accuracy: 0.648\n",
    "        - f1 score: 0.466\n",
    "    \n",
    "- **Considering ArrDel15 as target** \n",
    "    - n_estimators=400, colsample_bytree= 0.8, gamma= 0,learning_rate= 0.6, max_depth= 10,reg_lambda= 15,scale_pos_weight= 1, subsample= 0.8\n",
    "        - accuracy: 0.79\n",
    "        - f1_score: 0.28 (because of class imbalance)"
   ]
  },
  {
   "cell_type": "code",
   "execution_count": 388,
   "id": "42d18b9f",
   "metadata": {},
   "outputs": [],
   "source": [
    "from sklearn.metrics import accuracy_score, f1_score"
   ]
  },
  {
   "cell_type": "code",
   "execution_count": 532,
   "id": "f238a409",
   "metadata": {},
   "outputs": [
    {
     "data": {
      "text/plain": [
       "array([ 0.26205005,  1.85480979, -0.260783  ,  0.30932076,  0.29365539,\n",
       "       -1.07359433, -1.44846751,  0.14948331, -0.6011856 , -0.46920477,\n",
       "       -1.08790892])"
      ]
     },
     "execution_count": 532,
     "metadata": {},
     "output_type": "execute_result"
    }
   ],
   "source": [
    "X_test_2 = full_pipeline.transform(X_test)\n",
    "X_test_2[0]"
   ]
  },
  {
   "cell_type": "code",
   "execution_count": 546,
   "id": "f9d1d1bd",
   "metadata": {},
   "outputs": [
    {
     "data": {
      "text/plain": [
       "0.6512954352973711"
      ]
     },
     "execution_count": 546,
     "metadata": {},
     "output_type": "execute_result"
    }
   ],
   "source": [
    "prediction = model.predict(X_test.values)\n",
    "accuracy_score(prediction, y_test )"
   ]
  },
  {
   "cell_type": "code",
   "execution_count": 534,
   "id": "15eba515",
   "metadata": {},
   "outputs": [
    {
     "data": {
      "text/plain": [
       "0.41834483406093037"
      ]
     },
     "execution_count": 534,
     "metadata": {},
     "output_type": "execute_result"
    }
   ],
   "source": [
    "f1_score(y_pred=prediction, y_true= y_test)"
   ]
  },
  {
   "cell_type": "code",
   "execution_count": null,
   "id": "fb3781c9",
   "metadata": {},
   "outputs": [],
   "source": []
  },
  {
   "cell_type": "code",
   "execution_count": 554,
   "id": "ba649dc9",
   "metadata": {},
   "outputs": [],
   "source": [
    "from sklearn.linear_model import LogisticRegression"
   ]
  },
  {
   "cell_type": "code",
   "execution_count": 555,
   "id": "3852e0c4",
   "metadata": {},
   "outputs": [],
   "source": [
    "reg = LogisticRegression()\n"
   ]
  },
  {
   "cell_type": "code",
   "execution_count": 556,
   "id": "2a34001a",
   "metadata": {},
   "outputs": [],
   "source": [
    "model2 = reg.fit(X_train.values, y_train)"
   ]
  },
  {
   "cell_type": "code",
   "execution_count": 557,
   "id": "c3f2e33c",
   "metadata": {},
   "outputs": [
    {
     "data": {
      "text/plain": [
       "0.7904397963730639"
      ]
     },
     "execution_count": 557,
     "metadata": {},
     "output_type": "execute_result"
    }
   ],
   "source": [
    "accuracy_score(y_true=y_test, y_pred=model2.predict(X_test.values))"
   ]
  },
  {
   "cell_type": "code",
   "execution_count": 559,
   "id": "9fa58d84",
   "metadata": {},
   "outputs": [
    {
     "data": {
      "text/plain": [
       "0.004004672117470383"
      ]
     },
     "execution_count": 559,
     "metadata": {},
     "output_type": "execute_result"
    }
   ],
   "source": [
    "f1_score(y_test, model2.predict(X_test.values))"
   ]
  },
  {
   "cell_type": "markdown",
   "id": "42bba22d",
   "metadata": {},
   "source": [
    "# 3. Regression for Arrival delay period for Delayed flights"
   ]
  },
  {
   "cell_type": "markdown",
   "id": "341dfc26",
   "metadata": {},
   "source": [
    "**Details of few columns:**\n",
    "\n",
    "Col Name | Description\n",
    "------------- | -------------\n",
    "DepTime  | Actual departure time\n",
    "DepDel15  | If departure delay is $\\geq$ 15 then 1 else 0\n",
    "CRSDepTime | Scheduled Departure Time\n",
    "DepDelayMinutes | Difference between scheduled and actual departure time in minutes\n",
    "ArrTime | Actual Arrival time\n",
    "CRSArrTime | Scheduled Arrival Time\n",
    "ArrDel15 (label) | If arrival delay is $\\geq$ 15 then 1 else 0\n",
    "ArrDelayMinutes (target) | Difference between scheduled and actual arrival time in minutes"
   ]
  },
  {
   "cell_type": "markdown",
   "id": "09c1f4cd",
   "metadata": {},
   "source": [
    "#### Thought Process:\n",
    "* Few features that directly affect delay is *DepDelayMinutes*, *DepDel15*,  *Source Airport* , *Destination Airport*\n",
    "* So I have to build a regression model on data that have ArrDel15 as 1, which means flights are delayed. So based on these delayed flights I have to build delay time regression model"
   ]
  },
  {
   "cell_type": "code",
   "execution_count": 279,
   "id": "aa98d5e7",
   "metadata": {},
   "outputs": [],
   "source": [
    "columns_for_regression = ['Origin', 'Dest' , 'DepDelayMinutes' , 'ArrDel15', 'ArrDelayMinutes']"
   ]
  },
  {
   "cell_type": "code",
   "execution_count": 280,
   "id": "8f95e119",
   "metadata": {},
   "outputs": [],
   "source": [
    "Df5 = Df3[columns_for_regression]"
   ]
  },
  {
   "cell_type": "code",
   "execution_count": 281,
   "id": "0b59f0b4",
   "metadata": {},
   "outputs": [],
   "source": [
    "Df5 = Df5[Df5.ArrDel15 == 1]"
   ]
  },
  {
   "cell_type": "code",
   "execution_count": 282,
   "id": "1729c41d",
   "metadata": {},
   "outputs": [
    {
     "name": "stdout",
     "output_type": "stream",
     "text": [
      "<class 'pandas.core.frame.DataFrame'>\n",
      "Int64Index: 388055 entries, 13 to 1851419\n",
      "Data columns (total 5 columns):\n",
      " #   Column           Non-Null Count   Dtype  \n",
      "---  ------           --------------   -----  \n",
      " 0   Origin           388055 non-null  object \n",
      " 1   Dest             388055 non-null  object \n",
      " 2   DepDelayMinutes  388055 non-null  float64\n",
      " 3   ArrDel15         388055 non-null  float64\n",
      " 4   ArrDelayMinutes  388055 non-null  float64\n",
      "dtypes: float64(3), object(2)\n",
      "memory usage: 17.8+ MB\n"
     ]
    }
   ],
   "source": [
    "Df5.info()"
   ]
  },
  {
   "cell_type": "code",
   "execution_count": 350,
   "id": "0b2e3b63",
   "metadata": {},
   "outputs": [],
   "source": [
    "numerical_r = ['DepDelayMinutes']\n",
    "categorical_r = ['Origin', 'Dest']"
   ]
  },
  {
   "cell_type": "code",
   "execution_count": 355,
   "id": "fd14d8ec",
   "metadata": {},
   "outputs": [],
   "source": [
    "categorical_pipeline_r = Pipeline(\n",
    "    steps=[\n",
    "        (\"oh-encode\", OneHotEncoder(handle_unknown=\"ignore\", sparse=False))\n",
    "    ]\n",
    ")\n",
    "numerical_pipeline_r = Pipeline(\n",
    "    steps=[\n",
    "        (\"scale\", StandardScaler())\n",
    "    ]\n",
    ")\n",
    "\n",
    "full_pipeline_r = ColumnTransformer(\n",
    "    transformers=[\n",
    "        (\"numeric\", numerical_pipeline_r, numerical_r),\n",
    "        (\"categorical\", categorical_pipeline_r, categorical_r),\n",
    "    ],\n",
    "    remainder='passthrough'\n",
    ")\n",
    "\n",
    "model_pipeline_r = Pipeline(\n",
    "    steps=[\n",
    "        ('preprocess',  full_pipeline_r),\n",
    "        ('xgb', XGBRegressor() )\n",
    "    ]\n",
    ")"
   ]
  },
  {
   "cell_type": "code",
   "execution_count": 356,
   "id": "28d68ca0",
   "metadata": {},
   "outputs": [],
   "source": [
    "X_train_r, X_test_r, y_train_r, y_test_r = train_test_split(Df5.iloc[:, :-1], Df5.iloc[:, -1], train_size=0.75,  random_state=0)"
   ]
  },
  {
   "cell_type": "code",
   "execution_count": 481,
   "id": "9fc8df61",
   "metadata": {},
   "outputs": [
    {
     "data": {
      "text/plain": [
       "<bound method DataFrame.value_counts of         Origin Dest  DepDelayMinutes  ArrDel15\n",
       "1091910    DFW  ORD              0.0       1.0\n",
       "1414442    SFO  LAS              0.0       1.0\n",
       "1308610    JFK  LAS             20.0       1.0\n",
       "1136256    SFO  LAX             37.0       1.0\n",
       "546540     IAH  ATL             45.0       1.0\n",
       "...        ...  ...              ...       ...\n",
       "1666162    SFO  IAH             28.0       1.0\n",
       "1656554    ORD  SEA              0.0       1.0\n",
       "739630     MIA  DFW             12.0       1.0\n",
       "568207     SFO  SEA             26.0       1.0\n",
       "1411442    SFO  DFW             14.0       1.0\n",
       "\n",
       "[291041 rows x 4 columns]>"
      ]
     },
     "execution_count": 481,
     "metadata": {},
     "output_type": "execute_result"
    }
   ],
   "source": [
    "X_train_r[''].value_counts"
   ]
  },
  {
   "cell_type": "code",
   "execution_count": 357,
   "id": "b9363bee",
   "metadata": {},
   "outputs": [
    {
     "data": {
      "text/html": [
       "<div>\n",
       "<style scoped>\n",
       "    .dataframe tbody tr th:only-of-type {\n",
       "        vertical-align: middle;\n",
       "    }\n",
       "\n",
       "    .dataframe tbody tr th {\n",
       "        vertical-align: top;\n",
       "    }\n",
       "\n",
       "    .dataframe thead th {\n",
       "        text-align: right;\n",
       "    }\n",
       "</style>\n",
       "<table border=\"1\" class=\"dataframe\">\n",
       "  <thead>\n",
       "    <tr style=\"text-align: right;\">\n",
       "      <th></th>\n",
       "      <th>Origin</th>\n",
       "      <th>Dest</th>\n",
       "      <th>DepDelayMinutes</th>\n",
       "      <th>ArrDel15</th>\n",
       "    </tr>\n",
       "  </thead>\n",
       "  <tbody>\n",
       "    <tr>\n",
       "      <th>1091910</th>\n",
       "      <td>DFW</td>\n",
       "      <td>ORD</td>\n",
       "      <td>0.0</td>\n",
       "      <td>1.0</td>\n",
       "    </tr>\n",
       "    <tr>\n",
       "      <th>1414442</th>\n",
       "      <td>SFO</td>\n",
       "      <td>LAS</td>\n",
       "      <td>0.0</td>\n",
       "      <td>1.0</td>\n",
       "    </tr>\n",
       "    <tr>\n",
       "      <th>1308610</th>\n",
       "      <td>JFK</td>\n",
       "      <td>LAS</td>\n",
       "      <td>20.0</td>\n",
       "      <td>1.0</td>\n",
       "    </tr>\n",
       "    <tr>\n",
       "      <th>1136256</th>\n",
       "      <td>SFO</td>\n",
       "      <td>LAX</td>\n",
       "      <td>37.0</td>\n",
       "      <td>1.0</td>\n",
       "    </tr>\n",
       "    <tr>\n",
       "      <th>546540</th>\n",
       "      <td>IAH</td>\n",
       "      <td>ATL</td>\n",
       "      <td>45.0</td>\n",
       "      <td>1.0</td>\n",
       "    </tr>\n",
       "    <tr>\n",
       "      <th>...</th>\n",
       "      <td>...</td>\n",
       "      <td>...</td>\n",
       "      <td>...</td>\n",
       "      <td>...</td>\n",
       "    </tr>\n",
       "    <tr>\n",
       "      <th>1666162</th>\n",
       "      <td>SFO</td>\n",
       "      <td>IAH</td>\n",
       "      <td>28.0</td>\n",
       "      <td>1.0</td>\n",
       "    </tr>\n",
       "    <tr>\n",
       "      <th>1656554</th>\n",
       "      <td>ORD</td>\n",
       "      <td>SEA</td>\n",
       "      <td>0.0</td>\n",
       "      <td>1.0</td>\n",
       "    </tr>\n",
       "    <tr>\n",
       "      <th>739630</th>\n",
       "      <td>MIA</td>\n",
       "      <td>DFW</td>\n",
       "      <td>12.0</td>\n",
       "      <td>1.0</td>\n",
       "    </tr>\n",
       "    <tr>\n",
       "      <th>568207</th>\n",
       "      <td>SFO</td>\n",
       "      <td>SEA</td>\n",
       "      <td>26.0</td>\n",
       "      <td>1.0</td>\n",
       "    </tr>\n",
       "    <tr>\n",
       "      <th>1411442</th>\n",
       "      <td>SFO</td>\n",
       "      <td>DFW</td>\n",
       "      <td>14.0</td>\n",
       "      <td>1.0</td>\n",
       "    </tr>\n",
       "  </tbody>\n",
       "</table>\n",
       "<p>291041 rows × 4 columns</p>\n",
       "</div>"
      ],
      "text/plain": [
       "        Origin Dest  DepDelayMinutes  ArrDel15\n",
       "1091910    DFW  ORD              0.0       1.0\n",
       "1414442    SFO  LAS              0.0       1.0\n",
       "1308610    JFK  LAS             20.0       1.0\n",
       "1136256    SFO  LAX             37.0       1.0\n",
       "546540     IAH  ATL             45.0       1.0\n",
       "...        ...  ...              ...       ...\n",
       "1666162    SFO  IAH             28.0       1.0\n",
       "1656554    ORD  SEA              0.0       1.0\n",
       "739630     MIA  DFW             12.0       1.0\n",
       "568207     SFO  SEA             26.0       1.0\n",
       "1411442    SFO  DFW             14.0       1.0\n",
       "\n",
       "[291041 rows x 4 columns]"
      ]
     },
     "execution_count": 357,
     "metadata": {},
     "output_type": "execute_result"
    }
   ],
   "source": [
    "X_train_r"
   ]
  },
  {
   "cell_type": "markdown",
   "id": "f1f0d235",
   "metadata": {},
   "source": [
    "##### GridSearchCV"
   ]
  },
  {
   "cell_type": "code",
   "execution_count": 381,
   "id": "c6cf3ad2",
   "metadata": {},
   "outputs": [],
   "source": [
    "params_r = {\n",
    "    \"xgb__max_depth\": [7, 8, 12],\n",
    "    \"xgb__learning_rate\": [0.6,0.3, 0.1],\n",
    "    \"xgb__gamma\": [0, 0.25, 1],\n",
    "    \"xgb__reg_lambda\": [10, 50, 100],\n",
    "    \"xgb__scale_pos_weight\": [0, 1, 3, 5],\n",
    "    \"xgb__subsample\": [0.8],\n",
    "    \"xgb__colsample_bytree\": [0.8],\n",
    "}"
   ]
  },
  {
   "cell_type": "code",
   "execution_count": 382,
   "id": "fc9640a5",
   "metadata": {},
   "outputs": [],
   "source": [
    "xgb_grid_r = HalvingGridSearchCV(model_pipeline_r, param_grid=params_r, n_jobs=-1, cv=3, scoring=\"neg_mean_squared_error\")"
   ]
  },
  {
   "cell_type": "code",
   "execution_count": 383,
   "id": "9df3eef2",
   "metadata": {},
   "outputs": [
    {
     "data": {
      "text/html": [
       "<style>#sk-container-id-7 {color: black;background-color: white;}#sk-container-id-7 pre{padding: 0;}#sk-container-id-7 div.sk-toggleable {background-color: white;}#sk-container-id-7 label.sk-toggleable__label {cursor: pointer;display: block;width: 100%;margin-bottom: 0;padding: 0.3em;box-sizing: border-box;text-align: center;}#sk-container-id-7 label.sk-toggleable__label-arrow:before {content: \"▸\";float: left;margin-right: 0.25em;color: #696969;}#sk-container-id-7 label.sk-toggleable__label-arrow:hover:before {color: black;}#sk-container-id-7 div.sk-estimator:hover label.sk-toggleable__label-arrow:before {color: black;}#sk-container-id-7 div.sk-toggleable__content {max-height: 0;max-width: 0;overflow: hidden;text-align: left;background-color: #f0f8ff;}#sk-container-id-7 div.sk-toggleable__content pre {margin: 0.2em;color: black;border-radius: 0.25em;background-color: #f0f8ff;}#sk-container-id-7 input.sk-toggleable__control:checked~div.sk-toggleable__content {max-height: 200px;max-width: 100%;overflow: auto;}#sk-container-id-7 input.sk-toggleable__control:checked~label.sk-toggleable__label-arrow:before {content: \"▾\";}#sk-container-id-7 div.sk-estimator input.sk-toggleable__control:checked~label.sk-toggleable__label {background-color: #d4ebff;}#sk-container-id-7 div.sk-label input.sk-toggleable__control:checked~label.sk-toggleable__label {background-color: #d4ebff;}#sk-container-id-7 input.sk-hidden--visually {border: 0;clip: rect(1px 1px 1px 1px);clip: rect(1px, 1px, 1px, 1px);height: 1px;margin: -1px;overflow: hidden;padding: 0;position: absolute;width: 1px;}#sk-container-id-7 div.sk-estimator {font-family: monospace;background-color: #f0f8ff;border: 1px dotted black;border-radius: 0.25em;box-sizing: border-box;margin-bottom: 0.5em;}#sk-container-id-7 div.sk-estimator:hover {background-color: #d4ebff;}#sk-container-id-7 div.sk-parallel-item::after {content: \"\";width: 100%;border-bottom: 1px solid gray;flex-grow: 1;}#sk-container-id-7 div.sk-label:hover label.sk-toggleable__label {background-color: #d4ebff;}#sk-container-id-7 div.sk-serial::before {content: \"\";position: absolute;border-left: 1px solid gray;box-sizing: border-box;top: 0;bottom: 0;left: 50%;z-index: 0;}#sk-container-id-7 div.sk-serial {display: flex;flex-direction: column;align-items: center;background-color: white;padding-right: 0.2em;padding-left: 0.2em;position: relative;}#sk-container-id-7 div.sk-item {position: relative;z-index: 1;}#sk-container-id-7 div.sk-parallel {display: flex;align-items: stretch;justify-content: center;background-color: white;position: relative;}#sk-container-id-7 div.sk-item::before, #sk-container-id-7 div.sk-parallel-item::before {content: \"\";position: absolute;border-left: 1px solid gray;box-sizing: border-box;top: 0;bottom: 0;left: 50%;z-index: -1;}#sk-container-id-7 div.sk-parallel-item {display: flex;flex-direction: column;z-index: 1;position: relative;background-color: white;}#sk-container-id-7 div.sk-parallel-item:first-child::after {align-self: flex-end;width: 50%;}#sk-container-id-7 div.sk-parallel-item:last-child::after {align-self: flex-start;width: 50%;}#sk-container-id-7 div.sk-parallel-item:only-child::after {width: 0;}#sk-container-id-7 div.sk-dashed-wrapped {border: 1px dashed gray;margin: 0 0.4em 0.5em 0.4em;box-sizing: border-box;padding-bottom: 0.4em;background-color: white;}#sk-container-id-7 div.sk-label label {font-family: monospace;font-weight: bold;display: inline-block;line-height: 1.2em;}#sk-container-id-7 div.sk-label-container {text-align: center;}#sk-container-id-7 div.sk-container {/* jupyter's `normalize.less` sets `[hidden] { display: none; }` but bootstrap.min.css set `[hidden] { display: none !important; }` so we also need the `!important` here to be able to override the default hidden behavior on the sphinx rendered scikit-learn.org. See: https://github.com/scikit-learn/scikit-learn/issues/21755 */display: inline-block !important;position: relative;}#sk-container-id-7 div.sk-text-repr-fallback {display: none;}</style><div id=\"sk-container-id-7\" class=\"sk-top-container\"><div class=\"sk-text-repr-fallback\"><pre>HalvingGridSearchCV(cv=3,\n",
       "                    estimator=Pipeline(steps=[(&#x27;preprocess&#x27;,\n",
       "                                               ColumnTransformer(remainder=&#x27;passthrough&#x27;,\n",
       "                                                                 transformers=[(&#x27;numeric&#x27;,\n",
       "                                                                                Pipeline(steps=[(&#x27;scale&#x27;,\n",
       "                                                                                                 StandardScaler())]),\n",
       "                                                                                [&#x27;DepDelayMinutes&#x27;]),\n",
       "                                                                               (&#x27;categorical&#x27;,\n",
       "                                                                                Pipeline(steps=[(&#x27;oh-encode&#x27;,\n",
       "                                                                                                 OneHotEncoder(handle_unknown=&#x27;ignore&#x27;,\n",
       "                                                                                                               sparse=False))]),\n",
       "                                                                                [&#x27;Origin&#x27;,\n",
       "                                                                                 &#x27;Dest&#x27;])])),\n",
       "                                              (&#x27;xgb&#x27;,\n",
       "                                               XGBRegressor(base_score=...\n",
       "                                                            n_estimators=100,\n",
       "                                                            n_jobs=None,\n",
       "                                                            num_parallel_tree=None,\n",
       "                                                            predictor=None,\n",
       "                                                            random_state=None, ...))]),\n",
       "                    n_jobs=-1,\n",
       "                    param_grid={&#x27;xgb__colsample_bytree&#x27;: [0.8],\n",
       "                                &#x27;xgb__gamma&#x27;: [0, 0.25, 1],\n",
       "                                &#x27;xgb__learning_rate&#x27;: [0.6, 0.3, 0.1],\n",
       "                                &#x27;xgb__max_depth&#x27;: [7, 8, 12],\n",
       "                                &#x27;xgb__reg_lambda&#x27;: [10, 50, 100],\n",
       "                                &#x27;xgb__scale_pos_weight&#x27;: [0, 1, 3, 5],\n",
       "                                &#x27;xgb__subsample&#x27;: [0.8]},\n",
       "                    scoring=&#x27;neg_mean_squared_error&#x27;)</pre><b>In a Jupyter environment, please rerun this cell to show the HTML representation or trust the notebook. <br />On GitHub, the HTML representation is unable to render, please try loading this page with nbviewer.org.</b></div><div class=\"sk-container\" hidden><div class=\"sk-item sk-dashed-wrapped\"><div class=\"sk-label-container\"><div class=\"sk-label sk-toggleable\"><input class=\"sk-toggleable__control sk-hidden--visually\" id=\"sk-estimator-id-51\" type=\"checkbox\" ><label for=\"sk-estimator-id-51\" class=\"sk-toggleable__label sk-toggleable__label-arrow\">HalvingGridSearchCV</label><div class=\"sk-toggleable__content\"><pre>HalvingGridSearchCV(cv=3,\n",
       "                    estimator=Pipeline(steps=[(&#x27;preprocess&#x27;,\n",
       "                                               ColumnTransformer(remainder=&#x27;passthrough&#x27;,\n",
       "                                                                 transformers=[(&#x27;numeric&#x27;,\n",
       "                                                                                Pipeline(steps=[(&#x27;scale&#x27;,\n",
       "                                                                                                 StandardScaler())]),\n",
       "                                                                                [&#x27;DepDelayMinutes&#x27;]),\n",
       "                                                                               (&#x27;categorical&#x27;,\n",
       "                                                                                Pipeline(steps=[(&#x27;oh-encode&#x27;,\n",
       "                                                                                                 OneHotEncoder(handle_unknown=&#x27;ignore&#x27;,\n",
       "                                                                                                               sparse=False))]),\n",
       "                                                                                [&#x27;Origin&#x27;,\n",
       "                                                                                 &#x27;Dest&#x27;])])),\n",
       "                                              (&#x27;xgb&#x27;,\n",
       "                                               XGBRegressor(base_score=...\n",
       "                                                            n_estimators=100,\n",
       "                                                            n_jobs=None,\n",
       "                                                            num_parallel_tree=None,\n",
       "                                                            predictor=None,\n",
       "                                                            random_state=None, ...))]),\n",
       "                    n_jobs=-1,\n",
       "                    param_grid={&#x27;xgb__colsample_bytree&#x27;: [0.8],\n",
       "                                &#x27;xgb__gamma&#x27;: [0, 0.25, 1],\n",
       "                                &#x27;xgb__learning_rate&#x27;: [0.6, 0.3, 0.1],\n",
       "                                &#x27;xgb__max_depth&#x27;: [7, 8, 12],\n",
       "                                &#x27;xgb__reg_lambda&#x27;: [10, 50, 100],\n",
       "                                &#x27;xgb__scale_pos_weight&#x27;: [0, 1, 3, 5],\n",
       "                                &#x27;xgb__subsample&#x27;: [0.8]},\n",
       "                    scoring=&#x27;neg_mean_squared_error&#x27;)</pre></div></div></div><div class=\"sk-parallel\"><div class=\"sk-parallel-item\"><div class=\"sk-item\"><div class=\"sk-label-container\"><div class=\"sk-label sk-toggleable\"><input class=\"sk-toggleable__control sk-hidden--visually\" id=\"sk-estimator-id-52\" type=\"checkbox\" ><label for=\"sk-estimator-id-52\" class=\"sk-toggleable__label sk-toggleable__label-arrow\">estimator: Pipeline</label><div class=\"sk-toggleable__content\"><pre>Pipeline(steps=[(&#x27;preprocess&#x27;,\n",
       "                 ColumnTransformer(remainder=&#x27;passthrough&#x27;,\n",
       "                                   transformers=[(&#x27;numeric&#x27;,\n",
       "                                                  Pipeline(steps=[(&#x27;scale&#x27;,\n",
       "                                                                   StandardScaler())]),\n",
       "                                                  [&#x27;DepDelayMinutes&#x27;]),\n",
       "                                                 (&#x27;categorical&#x27;,\n",
       "                                                  Pipeline(steps=[(&#x27;oh-encode&#x27;,\n",
       "                                                                   OneHotEncoder(handle_unknown=&#x27;ignore&#x27;,\n",
       "                                                                                 sparse=False))]),\n",
       "                                                  [&#x27;Origin&#x27;, &#x27;Dest&#x27;])])),\n",
       "                (&#x27;xgb&#x27;,\n",
       "                 XGBRegressor(base_score=None, booster=None, callbacks=None,\n",
       "                              co...\n",
       "                              feature_types=None, gamma=None, gpu_id=None,\n",
       "                              grow_policy=None, importance_type=None,\n",
       "                              interaction_constraints=None, learning_rate=None,\n",
       "                              max_bin=None, max_cat_threshold=None,\n",
       "                              max_cat_to_onehot=None, max_delta_step=None,\n",
       "                              max_depth=None, max_leaves=None,\n",
       "                              min_child_weight=None, missing=nan,\n",
       "                              monotone_constraints=None, n_estimators=100,\n",
       "                              n_jobs=None, num_parallel_tree=None,\n",
       "                              predictor=None, random_state=None, ...))])</pre></div></div></div><div class=\"sk-serial\"><div class=\"sk-item\"><div class=\"sk-serial\"><div class=\"sk-item sk-dashed-wrapped\"><div class=\"sk-label-container\"><div class=\"sk-label sk-toggleable\"><input class=\"sk-toggleable__control sk-hidden--visually\" id=\"sk-estimator-id-53\" type=\"checkbox\" ><label for=\"sk-estimator-id-53\" class=\"sk-toggleable__label sk-toggleable__label-arrow\">preprocess: ColumnTransformer</label><div class=\"sk-toggleable__content\"><pre>ColumnTransformer(remainder=&#x27;passthrough&#x27;,\n",
       "                  transformers=[(&#x27;numeric&#x27;,\n",
       "                                 Pipeline(steps=[(&#x27;scale&#x27;, StandardScaler())]),\n",
       "                                 [&#x27;DepDelayMinutes&#x27;]),\n",
       "                                (&#x27;categorical&#x27;,\n",
       "                                 Pipeline(steps=[(&#x27;oh-encode&#x27;,\n",
       "                                                  OneHotEncoder(handle_unknown=&#x27;ignore&#x27;,\n",
       "                                                                sparse=False))]),\n",
       "                                 [&#x27;Origin&#x27;, &#x27;Dest&#x27;])])</pre></div></div></div><div class=\"sk-parallel\"><div class=\"sk-parallel-item\"><div class=\"sk-item\"><div class=\"sk-label-container\"><div class=\"sk-label sk-toggleable\"><input class=\"sk-toggleable__control sk-hidden--visually\" id=\"sk-estimator-id-54\" type=\"checkbox\" ><label for=\"sk-estimator-id-54\" class=\"sk-toggleable__label sk-toggleable__label-arrow\">numeric</label><div class=\"sk-toggleable__content\"><pre>[&#x27;DepDelayMinutes&#x27;]</pre></div></div></div><div class=\"sk-serial\"><div class=\"sk-item\"><div class=\"sk-serial\"><div class=\"sk-item\"><div class=\"sk-estimator sk-toggleable\"><input class=\"sk-toggleable__control sk-hidden--visually\" id=\"sk-estimator-id-55\" type=\"checkbox\" ><label for=\"sk-estimator-id-55\" class=\"sk-toggleable__label sk-toggleable__label-arrow\">StandardScaler</label><div class=\"sk-toggleable__content\"><pre>StandardScaler()</pre></div></div></div></div></div></div></div></div><div class=\"sk-parallel-item\"><div class=\"sk-item\"><div class=\"sk-label-container\"><div class=\"sk-label sk-toggleable\"><input class=\"sk-toggleable__control sk-hidden--visually\" id=\"sk-estimator-id-56\" type=\"checkbox\" ><label for=\"sk-estimator-id-56\" class=\"sk-toggleable__label sk-toggleable__label-arrow\">categorical</label><div class=\"sk-toggleable__content\"><pre>[&#x27;Origin&#x27;, &#x27;Dest&#x27;]</pre></div></div></div><div class=\"sk-serial\"><div class=\"sk-item\"><div class=\"sk-serial\"><div class=\"sk-item\"><div class=\"sk-estimator sk-toggleable\"><input class=\"sk-toggleable__control sk-hidden--visually\" id=\"sk-estimator-id-57\" type=\"checkbox\" ><label for=\"sk-estimator-id-57\" class=\"sk-toggleable__label sk-toggleable__label-arrow\">OneHotEncoder</label><div class=\"sk-toggleable__content\"><pre>OneHotEncoder(handle_unknown=&#x27;ignore&#x27;, sparse=False)</pre></div></div></div></div></div></div></div></div><div class=\"sk-parallel-item\"><div class=\"sk-item\"><div class=\"sk-label-container\"><div class=\"sk-label sk-toggleable\"><input class=\"sk-toggleable__control sk-hidden--visually\" id=\"sk-estimator-id-58\" type=\"checkbox\" ><label for=\"sk-estimator-id-58\" class=\"sk-toggleable__label sk-toggleable__label-arrow\">remainder</label><div class=\"sk-toggleable__content\"><pre>[&#x27;ArrDel15&#x27;]</pre></div></div></div><div class=\"sk-serial\"><div class=\"sk-item\"><div class=\"sk-estimator sk-toggleable\"><input class=\"sk-toggleable__control sk-hidden--visually\" id=\"sk-estimator-id-59\" type=\"checkbox\" ><label for=\"sk-estimator-id-59\" class=\"sk-toggleable__label sk-toggleable__label-arrow\">passthrough</label><div class=\"sk-toggleable__content\"><pre>passthrough</pre></div></div></div></div></div></div></div></div><div class=\"sk-item\"><div class=\"sk-estimator sk-toggleable\"><input class=\"sk-toggleable__control sk-hidden--visually\" id=\"sk-estimator-id-60\" type=\"checkbox\" ><label for=\"sk-estimator-id-60\" class=\"sk-toggleable__label sk-toggleable__label-arrow\">XGBRegressor</label><div class=\"sk-toggleable__content\"><pre>XGBRegressor(base_score=None, booster=None, callbacks=None,\n",
       "             colsample_bylevel=None, colsample_bynode=None,\n",
       "             colsample_bytree=None, early_stopping_rounds=None,\n",
       "             enable_categorical=False, eval_metric=None, feature_types=None,\n",
       "             gamma=None, gpu_id=None, grow_policy=None, importance_type=None,\n",
       "             interaction_constraints=None, learning_rate=None, max_bin=None,\n",
       "             max_cat_threshold=None, max_cat_to_onehot=None,\n",
       "             max_delta_step=None, max_depth=None, max_leaves=None,\n",
       "             min_child_weight=None, missing=nan, monotone_constraints=None,\n",
       "             n_estimators=100, n_jobs=None, num_parallel_tree=None,\n",
       "             predictor=None, random_state=None, ...)</pre></div></div></div></div></div></div></div></div></div></div></div></div>"
      ],
      "text/plain": [
       "HalvingGridSearchCV(cv=3,\n",
       "                    estimator=Pipeline(steps=[('preprocess',\n",
       "                                               ColumnTransformer(remainder='passthrough',\n",
       "                                                                 transformers=[('numeric',\n",
       "                                                                                Pipeline(steps=[('scale',\n",
       "                                                                                                 StandardScaler())]),\n",
       "                                                                                ['DepDelayMinutes']),\n",
       "                                                                               ('categorical',\n",
       "                                                                                Pipeline(steps=[('oh-encode',\n",
       "                                                                                                 OneHotEncoder(handle_unknown='ignore',\n",
       "                                                                                                               sparse=False))]),\n",
       "                                                                                ['Origin',\n",
       "                                                                                 'Dest'])])),\n",
       "                                              ('xgb',\n",
       "                                               XGBRegressor(base_score=...\n",
       "                                                            n_estimators=100,\n",
       "                                                            n_jobs=None,\n",
       "                                                            num_parallel_tree=None,\n",
       "                                                            predictor=None,\n",
       "                                                            random_state=None, ...))]),\n",
       "                    n_jobs=-1,\n",
       "                    param_grid={'xgb__colsample_bytree': [0.8],\n",
       "                                'xgb__gamma': [0, 0.25, 1],\n",
       "                                'xgb__learning_rate': [0.6, 0.3, 0.1],\n",
       "                                'xgb__max_depth': [7, 8, 12],\n",
       "                                'xgb__reg_lambda': [10, 50, 100],\n",
       "                                'xgb__scale_pos_weight': [0, 1, 3, 5],\n",
       "                                'xgb__subsample': [0.8]},\n",
       "                    scoring='neg_mean_squared_error')"
      ]
     },
     "execution_count": 383,
     "metadata": {},
     "output_type": "execute_result"
    }
   ],
   "source": [
    "xgb_grid_r.fit(X_train_r, y_train_r)"
   ]
  },
  {
   "cell_type": "code",
   "execution_count": 384,
   "id": "fc7d95a0",
   "metadata": {},
   "outputs": [
    {
     "data": {
      "text/plain": [
       "-300.276387512516"
      ]
     },
     "execution_count": 384,
     "metadata": {},
     "output_type": "execute_result"
    }
   ],
   "source": [
    "xgb_grid_r.best_score_"
   ]
  },
  {
   "cell_type": "code",
   "execution_count": 385,
   "id": "d381a8fe",
   "metadata": {},
   "outputs": [
    {
     "data": {
      "text/plain": [
       "{'xgb__colsample_bytree': 0.8,\n",
       " 'xgb__gamma': 0,\n",
       " 'xgb__learning_rate': 0.3,\n",
       " 'xgb__max_depth': 7,\n",
       " 'xgb__reg_lambda': 10,\n",
       " 'xgb__scale_pos_weight': 1,\n",
       " 'xgb__subsample': 0.8}"
      ]
     },
     "execution_count": 385,
     "metadata": {},
     "output_type": "execute_result"
    }
   ],
   "source": [
    "best_params = xgb_grid_r.best_params_\n",
    "best_params"
   ]
  },
  {
   "cell_type": "markdown",
   "id": "1fdc0df9",
   "metadata": {},
   "source": [
    "##### Manually Tweeking parameters after GridSearchCV"
   ]
  },
  {
   "cell_type": "code",
   "execution_count": 401,
   "id": "64d1dead",
   "metadata": {},
   "outputs": [
    {
     "data": {
      "text/plain": [
       "array([-0.77310031,  0.        ,  0.        ,  0.        ,  1.        ,\n",
       "        0.        ,  0.        ,  0.        ,  0.        ,  0.        ,\n",
       "        0.        ,  0.        ,  0.        ,  0.        ,  0.        ,\n",
       "        0.        ,  0.        ,  0.        ,  0.        ,  0.        ,\n",
       "        0.        ,  0.        ,  0.        ,  0.        ,  0.        ,\n",
       "        0.        ,  0.        ,  1.        ,  0.        ,  0.        ,\n",
       "        0.        ,  1.        ])"
      ]
     },
     "execution_count": 401,
     "metadata": {},
     "output_type": "execute_result"
    }
   ],
   "source": [
    "xgb_r = XGBRegressor(n_estimators=300, colsample_bytree= 0.8, gamma= 0, learning_rate= 0.3, max_depth= 9, reg_lambda= 10, scale_pos_weight= 1, subsample= 0.8)\n",
    "# xgb_r = XGBRegressor(n_estimators=300)\n",
    "X_train_2_r = full_pipeline_r.fit_transform(X_train_r)\n",
    "X_train_2_r[0]"
   ]
  },
  {
   "cell_type": "code",
   "execution_count": 402,
   "id": "0fd56fda",
   "metadata": {},
   "outputs": [],
   "source": [
    "model = xgb_r.fit(X_train_2_r ,y_train_r)"
   ]
  },
  {
   "cell_type": "markdown",
   "id": "fdd768c6",
   "metadata": {},
   "source": [
    "### Evaluation\n",
    "- Base Model\n",
    "    * MSE:  294\n",
    "    * R2_score: 0.94\n",
    "- n_estimators=300, colsample_bytree= 0.8, gamma= 0, learning_rate= 0.3, max_depth= 7, reg_lambda= 10, scale_pos_weight= 1, subsample= 0.8\n",
    "    * MSE: 293.56\n",
    "    * R2_score: 0.943"
   ]
  },
  {
   "cell_type": "code",
   "execution_count": 308,
   "id": "a56ab69a",
   "metadata": {},
   "outputs": [],
   "source": [
    "from sklearn.metrics import r2_score, mean_squared_error"
   ]
  },
  {
   "cell_type": "code",
   "execution_count": 403,
   "id": "1f1116bd",
   "metadata": {},
   "outputs": [],
   "source": [
    "X_test_2_r = full_pipeline_r.fit_transform(X_test_r)\n",
    "prediction = model.predict(X_test_2_r)"
   ]
  },
  {
   "cell_type": "code",
   "execution_count": 404,
   "id": "faa6308e",
   "metadata": {},
   "outputs": [
    {
     "data": {
      "text/plain": [
       "((97014,), (97014,))"
      ]
     },
     "execution_count": 404,
     "metadata": {},
     "output_type": "execute_result"
    }
   ],
   "source": [
    "prediction.shape, y_test_r.shape"
   ]
  },
  {
   "cell_type": "code",
   "execution_count": 405,
   "id": "7670ed04",
   "metadata": {},
   "outputs": [
    {
     "data": {
      "text/plain": [
       "(array([ 50.718464, 162.13957 ,  25.91102 ,  33.83696 ,  59.435776],\n",
       "       dtype=float32),\n",
       " array([ 61., 157.,  24.,  30.,  51.]))"
      ]
     },
     "execution_count": 405,
     "metadata": {},
     "output_type": "execute_result"
    }
   ],
   "source": [
    "prediction[:5], y_test_r[:5].values"
   ]
  },
  {
   "cell_type": "code",
   "execution_count": 406,
   "id": "f7e10963",
   "metadata": {},
   "outputs": [
    {
     "data": {
      "text/plain": [
       "0.9423205101636241"
      ]
     },
     "execution_count": 406,
     "metadata": {},
     "output_type": "execute_result"
    }
   ],
   "source": [
    "r2_score(y_pred=prediction, y_true=y_test_r)"
   ]
  },
  {
   "cell_type": "code",
   "execution_count": 407,
   "id": "68649b7d",
   "metadata": {},
   "outputs": [
    {
     "data": {
      "text/plain": [
       "299.15327863603744"
      ]
     },
     "execution_count": 407,
     "metadata": {},
     "output_type": "execute_result"
    }
   ],
   "source": [
    "mean_squared_error(y_pred=prediction, y_true=y_test_r)"
   ]
  },
  {
   "cell_type": "code",
   "execution_count": null,
   "id": "cb542b54",
   "metadata": {},
   "outputs": [],
   "source": []
  }
 ],
 "metadata": {
  "kernelspec": {
   "display_name": "Python 3 (ipykernel)",
   "language": "python",
   "name": "python3"
  },
  "language_info": {
   "codemirror_mode": {
    "name": "ipython",
    "version": 3
   },
   "file_extension": ".py",
   "mimetype": "text/x-python",
   "name": "python",
   "nbconvert_exporter": "python",
   "pygments_lexer": "ipython3",
   "version": "3.10.6"
  }
 },
 "nbformat": 4,
 "nbformat_minor": 5
}
