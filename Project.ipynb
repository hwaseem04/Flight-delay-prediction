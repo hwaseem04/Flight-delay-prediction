{
 "cells": [
  {
   "cell_type": "code",
   "execution_count": 1,
   "id": "1cdbea8f",
   "metadata": {},
   "outputs": [],
   "source": [
    "import pandas as pd\n",
    "import numpy as np\n",
    "import os\n",
    "import warnings"
   ]
  },
  {
   "cell_type": "markdown",
   "id": "4ba9fc96",
   "metadata": {},
   "source": [
    "# 1. Preprocessing"
   ]
  },
  {
   "cell_type": "code",
   "execution_count": 2,
   "id": "a8eef23b",
   "metadata": {},
   "outputs": [],
   "source": [
    "warnings.filterwarnings(\"ignore\")"
   ]
  },
  {
   "cell_type": "code",
   "execution_count": 3,
   "id": "d4e81ae4",
   "metadata": {},
   "outputs": [],
   "source": [
    "flight_dir_2016 = r'2016'\n",
    "flight_dir_2017 = r'2017'"
   ]
  },
  {
   "cell_type": "code",
   "execution_count": 4,
   "id": "8d3f146a",
   "metadata": {},
   "outputs": [],
   "source": [
    "weather_dir = r\"/Weather\""
   ]
  },
  {
   "cell_type": "code",
   "execution_count": 5,
   "id": "db19963a",
   "metadata": {},
   "outputs": [],
   "source": [
    "airport_code = [\"ALT\", \"CLT\", \"DEN\", \"DFW\", \"EWR\", \"IAH\", \"JFK\", \"LAS\" ,\"LAX\", \"MCO\",\n",
    "               \"MIA\", \"ORD\", \"PHX\", \"SEA\", \"SFO\"]"
   ]
  },
  {
   "cell_type": "code",
   "execution_count": 6,
   "id": "e4adee63",
   "metadata": {},
   "outputs": [],
   "source": [
    "# weather_cols = ['windspeedKmph', 'windirDegree', 'weatherCode', 'percipMM', 'visibilty', 'pressure', 'cloudcover', 'DewPointF', 'WindGustKmph',\n",
    "#                 'tempF', 'WindChillF', 'humidity', 'date',  'time', 'airport']\n"
   ]
  },
  {
   "cell_type": "code",
   "execution_count": 7,
   "id": "882ad059",
   "metadata": {},
   "outputs": [],
   "source": [
    "flight_cols = [\"FlightDate\", \"Quarter\", \"Year\", \"Month\", \"DayofMonth\", \"DepTime\",\n",
    "              \"DepDel15\", \"CRSDepTime\", \"DepDelayMinutes\", \"OriginAirportID\", \"DestAirportID\",\n",
    "              \"ArrTime\", \"CRSArrTime\", \"ArrDel15\", \"ArrDelayMinutes\"]"
   ]
  },
  {
   "cell_type": "markdown",
   "id": "da2bbb9c",
   "metadata": {},
   "source": [
    "## Flight data"
   ]
  },
  {
   "cell_type": "code",
   "execution_count": 8,
   "id": "e651da4a",
   "metadata": {},
   "outputs": [],
   "source": [
    "Folders_2016 = os.listdir(flight_dir_2016)\n",
    "Folders_2016.sort()\n",
    "if '.DS_Store' in Folders_2016:\n",
    "    Folders_2016.remove('.DS_Store')\n",
    "Folders_2017 = os.listdir(flight_dir_2017)\n",
    "Folders_2017.sort()\n",
    "if '.DS_Store' in Folders_2017:\n",
    "    Folders_2017.remove('.DS_Store')"
   ]
  },
  {
   "cell_type": "code",
   "execution_count": 9,
   "id": "107e067b",
   "metadata": {},
   "outputs": [
    {
     "name": "stdout",
     "output_type": "stream",
     "text": [
      "['On_Time_On_Time_Performance_2016_1', 'On_Time_On_Time_Performance_2016_10', 'On_Time_On_Time_Performance_2016_11', 'On_Time_On_Time_Performance_2016_12', 'On_Time_On_Time_Performance_2016_2', 'On_Time_On_Time_Performance_2016_3', 'On_Time_On_Time_Performance_2016_4', 'On_Time_On_Time_Performance_2016_5', 'On_Time_On_Time_Performance_2016_6', 'On_Time_On_Time_Performance_2016_7', 'On_Time_On_Time_Performance_2016_8', 'On_Time_On_Time_Performance_2016_9']\n",
      "\n",
      "['On_Time_On_Time_Performance_2017_1', 'On_Time_On_Time_Performance_2017_10', 'On_Time_On_Time_Performance_2017_11', 'On_Time_On_Time_Performance_2017_12', 'On_Time_On_Time_Performance_2017_2', 'On_Time_On_Time_Performance_2017_3', 'On_Time_On_Time_Performance_2017_4', 'On_Time_On_Time_Performance_2017_5', 'On_Time_On_Time_Performance_2017_6', 'On_Time_On_Time_Performance_2017_7', 'On_Time_On_Time_Performance_2017_8', 'On_Time_On_Time_Performance_2017_9']\n"
     ]
    }
   ],
   "source": [
    "print(Folders_2016)\n",
    "print()\n",
    "print(Folders_2017)"
   ]
  },
  {
   "cell_type": "code",
   "execution_count": 10,
   "id": "379389f0",
   "metadata": {},
   "outputs": [],
   "source": [
    "def extract_files(mainDir, Folder):\n",
    "    files = []\n",
    "    for i in Folder:\n",
    "        k = os.listdir(os.path.join(mainDir, i))\n",
    "        k.sort()\n",
    "        files.append(k[0])\n",
    "    files.sort()\n",
    "    return files"
   ]
  },
  {
   "cell_type": "code",
   "execution_count": 45,
   "id": "071a8ebe",
   "metadata": {},
   "outputs": [],
   "source": [
    "files_2016 = extract_files(flight_dir_2016, Folders_2016)\n",
    "# files_2016"
   ]
  },
  {
   "cell_type": "code",
   "execution_count": 44,
   "id": "aaa415c6",
   "metadata": {},
   "outputs": [],
   "source": [
    "files_2017 = extract_files(flight_dir_2017, Folders_2017)\n",
    "# files_2017"
   ]
  },
  {
   "cell_type": "markdown",
   "id": "53d35c0b",
   "metadata": {},
   "source": [
    "Target Rows: 1877296, 15"
   ]
  },
  {
   "cell_type": "code",
   "execution_count": 13,
   "id": "64284006",
   "metadata": {},
   "outputs": [
    {
     "data": {
      "text/plain": [
       "['2016/On_Time_On_Time_Performance_2016_1/On_Time_On_Time_Performance_2016_1.csv',\n",
       " '2016/On_Time_On_Time_Performance_2016_10/On_Time_On_Time_Performance_2016_10.csv',\n",
       " '2016/On_Time_On_Time_Performance_2016_11/On_Time_On_Time_Performance_2016_11.csv',\n",
       " '2016/On_Time_On_Time_Performance_2016_12/On_Time_On_Time_Performance_2016_12.csv',\n",
       " '2016/On_Time_On_Time_Performance_2016_2/On_Time_On_Time_Performance_2016_2.csv',\n",
       " '2016/On_Time_On_Time_Performance_2016_3/On_Time_On_Time_Performance_2016_3.csv',\n",
       " '2016/On_Time_On_Time_Performance_2016_4/On_Time_On_Time_Performance_2016_4.csv',\n",
       " '2016/On_Time_On_Time_Performance_2016_5/On_Time_On_Time_Performance_2016_5.csv',\n",
       " '2016/On_Time_On_Time_Performance_2016_6/On_Time_On_Time_Performance_2016_6.csv',\n",
       " '2016/On_Time_On_Time_Performance_2016_7/On_Time_On_Time_Performance_2016_7.csv',\n",
       " '2016/On_Time_On_Time_Performance_2016_8/On_Time_On_Time_Performance_2016_8.csv',\n",
       " '2016/On_Time_On_Time_Performance_2016_9/On_Time_On_Time_Performance_2016_9.csv',\n",
       " '2017/On_Time_On_Time_Performance_2017_1/On_Time_On_Time_Performance_2017_1.csv',\n",
       " '2017/On_Time_On_Time_Performance_2017_10/On_Time_On_Time_Performance_2017_10.csv',\n",
       " '2017/On_Time_On_Time_Performance_2017_11/On_Time_On_Time_Performance_2017_11.csv',\n",
       " '2017/On_Time_On_Time_Performance_2017_12/On_Time_On_Time_Performance_2017_12.csv',\n",
       " '2017/On_Time_On_Time_Performance_2017_2/On_Time_On_Time_Performance_2017_2.csv',\n",
       " '2017/On_Time_On_Time_Performance_2017_3/On_Time_On_Time_Performance_2017_3.csv',\n",
       " '2017/On_Time_On_Time_Performance_2017_4/On_Time_On_Time_Performance_2017_4.csv',\n",
       " '2017/On_Time_On_Time_Performance_2017_5/On_Time_On_Time_Performance_2017_5.csv',\n",
       " '2017/On_Time_On_Time_Performance_2017_6/On_Time_On_Time_Performance_2017_6.csv',\n",
       " '2017/On_Time_On_Time_Performance_2017_7/On_Time_On_Time_Performance_2017_7.csv',\n",
       " '2017/On_Time_On_Time_Performance_2017_8/On_Time_On_Time_Performance_2017_8.csv',\n",
       " '2017/On_Time_On_Time_Performance_2017_9/On_Time_On_Time_Performance_2017_9.csv']"
      ]
     },
     "execution_count": 13,
     "metadata": {},
     "output_type": "execute_result"
    }
   ],
   "source": [
    "all_files = []\n",
    "for i, folder in enumerate(Folders_2016):\n",
    "    all_files.append(os.path.join(flight_dir_2016, folder, files_2016[i]))\n",
    "for i, folder in enumerate(Folders_2017):\n",
    "    all_files.append(os.path.join(flight_dir_2017, folder, files_2017[i])) \n",
    "all_files"
   ]
  },
  {
   "cell_type": "code",
   "execution_count": 14,
   "id": "0078ef09",
   "metadata": {},
   "outputs": [],
   "source": [
    "def retrieve_data(files):\n",
    "    global Main_df\n",
    "    for file in files:\n",
    "        data = pd.read_csv(file)\n",
    "        \n",
    "        data = data[flight_cols+['Origin', 'Dest']]\n",
    "        \n",
    "        data = data[(data['Origin'].isin(airport_code)) & (data['Dest'].isin(airport_code))]\n",
    "\n",
    "        Main_df = pd.concat([Main_df, data])"
   ]
  },
  {
   "cell_type": "code",
   "execution_count": 15,
   "id": "4d1dc058",
   "metadata": {},
   "outputs": [],
   "source": [
    "Main_df = pd.DataFrame()\n",
    "retrieve_data(all_files)"
   ]
  },
  {
   "cell_type": "code",
   "execution_count": 16,
   "id": "73d39ce1",
   "metadata": {},
   "outputs": [
    {
     "data": {
      "text/plain": [
       "(1578832, 17)"
      ]
     },
     "execution_count": 16,
     "metadata": {},
     "output_type": "execute_result"
    }
   ],
   "source": [
    "Main_df.shape"
   ]
  },
  {
   "cell_type": "code",
   "execution_count": 17,
   "id": "d63f289b",
   "metadata": {},
   "outputs": [
    {
     "name": "stdout",
     "output_type": "stream",
     "text": [
      "<class 'pandas.core.frame.DataFrame'>\n",
      "Int64Index: 1578832 entries, 57 to 458711\n",
      "Data columns (total 17 columns):\n",
      " #   Column           Non-Null Count    Dtype  \n",
      "---  ------           --------------    -----  \n",
      " 0   FlightDate       1578832 non-null  object \n",
      " 1   Quarter          1578832 non-null  int64  \n",
      " 2   Year             1578832 non-null  int64  \n",
      " 3   Month            1578832 non-null  int64  \n",
      " 4   DayofMonth       1578832 non-null  int64  \n",
      " 5   DepTime          1560778 non-null  float64\n",
      " 6   DepDel15         1560771 non-null  float64\n",
      " 7   CRSDepTime       1578832 non-null  int64  \n",
      " 8   DepDelayMinutes  1560771 non-null  float64\n",
      " 9   OriginAirportID  1578832 non-null  int64  \n",
      " 10  DestAirportID    1578832 non-null  int64  \n",
      " 11  ArrTime          1559814 non-null  float64\n",
      " 12  CRSArrTime       1578832 non-null  int64  \n",
      " 13  ArrDel15         1556652 non-null  float64\n",
      " 14  ArrDelayMinutes  1556652 non-null  float64\n",
      " 15  Origin           1578832 non-null  object \n",
      " 16  Dest             1578832 non-null  object \n",
      "dtypes: float64(6), int64(8), object(3)\n",
      "memory usage: 216.8+ MB\n"
     ]
    }
   ],
   "source": [
    "Main_df.info()"
   ]
  },
  {
   "cell_type": "code",
   "execution_count": 18,
   "id": "67ff514a",
   "metadata": {},
   "outputs": [
    {
     "data": {
      "text/plain": [
       "(1556652, 17)"
      ]
     },
     "execution_count": 18,
     "metadata": {},
     "output_type": "execute_result"
    }
   ],
   "source": [
    "Df = Main_df.dropna() ## Drop all null values\n",
    "Df['FlightDate'] = pd.to_datetime(Df['FlightDate']) # Convert object to pandas date type\n",
    "Df.shape"
   ]
  },
  {
   "cell_type": "code",
   "execution_count": 92,
   "id": "d39e11f8",
   "metadata": {},
   "outputs": [
    {
     "data": {
      "text/plain": [
       "0"
      ]
     },
     "execution_count": 92,
     "metadata": {},
     "output_type": "execute_result"
    }
   ],
   "source": [
    "(23+1) % 24"
   ]
  },
  {
   "cell_type": "code",
   "execution_count": 137,
   "id": "8f18b101",
   "metadata": {},
   "outputs": [],
   "source": [
    "def process_for_flight(x):\n",
    "    date = x['FlightDate']\n",
    "    time = x['DepTime']\n",
    "#     print(type(date))\n",
    "    time = str(int(time))\n",
    "    time = time.zfill(4)\n",
    "    hr, mns = time[:2], time[2:]\n",
    "    flag = 0\n",
    "    \n",
    "    if int(mns) > 30 or hr=='24':  # I could see certain departure time is given as 24:00\n",
    "        flag = 1\n",
    "        hr = (int(hr) + 1) % 24\n",
    "\n",
    "    if flag == 1 and hr == 0:\n",
    "        one_day = pd.Timedelta(days=1)\n",
    "        date += one_day\n",
    "    \n",
    "    return date, str(hr).zfill(2)"
   ]
  },
  {
   "cell_type": "code",
   "execution_count": 138,
   "id": "93a16fd5",
   "metadata": {},
   "outputs": [],
   "source": [
    "k = Df[['FlightDate','DepTime']].apply(process_for_flight, axis=1)\n",
    "date = k.apply(lambda x: x[0])\n",
    "hour = k.apply(lambda x: x[1])"
   ]
  },
  {
   "cell_type": "code",
   "execution_count": 139,
   "id": "a696fbea",
   "metadata": {},
   "outputs": [],
   "source": [
    "Df['RoundedFlightDate'] = date\n",
    "Df['DepatHr'] = hour"
   ]
  },
  {
   "cell_type": "code",
   "execution_count": 140,
   "id": "c0fc0469",
   "metadata": {},
   "outputs": [],
   "source": [
    "Df['Delayed'] = np.where(Df['DepDelayMinutes'] > 0, 1, 0)"
   ]
  },
  {
   "cell_type": "code",
   "execution_count": 141,
   "id": "5ec89ccf",
   "metadata": {},
   "outputs": [
    {
     "data": {
      "text/html": [
       "<div>\n",
       "<style scoped>\n",
       "    .dataframe tbody tr th:only-of-type {\n",
       "        vertical-align: middle;\n",
       "    }\n",
       "\n",
       "    .dataframe tbody tr th {\n",
       "        vertical-align: top;\n",
       "    }\n",
       "\n",
       "    .dataframe thead th {\n",
       "        text-align: right;\n",
       "    }\n",
       "</style>\n",
       "<table border=\"1\" class=\"dataframe\">\n",
       "  <thead>\n",
       "    <tr style=\"text-align: right;\">\n",
       "      <th></th>\n",
       "      <th>FlightDate</th>\n",
       "      <th>Quarter</th>\n",
       "      <th>Year</th>\n",
       "      <th>Month</th>\n",
       "      <th>DayofMonth</th>\n",
       "      <th>DepTime</th>\n",
       "      <th>DepDel15</th>\n",
       "      <th>CRSDepTime</th>\n",
       "      <th>DepDelayMinutes</th>\n",
       "      <th>OriginAirportID</th>\n",
       "      <th>DestAirportID</th>\n",
       "      <th>ArrTime</th>\n",
       "      <th>CRSArrTime</th>\n",
       "      <th>ArrDel15</th>\n",
       "      <th>ArrDelayMinutes</th>\n",
       "      <th>Origin</th>\n",
       "      <th>Dest</th>\n",
       "      <th>RoundedFlightDate</th>\n",
       "      <th>DepatHr</th>\n",
       "      <th>Delayed</th>\n",
       "    </tr>\n",
       "  </thead>\n",
       "  <tbody>\n",
       "    <tr>\n",
       "      <th>57</th>\n",
       "      <td>2016-01-01</td>\n",
       "      <td>1</td>\n",
       "      <td>2016</td>\n",
       "      <td>1</td>\n",
       "      <td>1</td>\n",
       "      <td>741.0</td>\n",
       "      <td>0.0</td>\n",
       "      <td>745</td>\n",
       "      <td>0.0</td>\n",
       "      <td>14747</td>\n",
       "      <td>12478</td>\n",
       "      <td>1610.0</td>\n",
       "      <td>1602</td>\n",
       "      <td>0.0</td>\n",
       "      <td>8.0</td>\n",
       "      <td>SEA</td>\n",
       "      <td>JFK</td>\n",
       "      <td>2016-01-01</td>\n",
       "      <td>08</td>\n",
       "      <td>0</td>\n",
       "    </tr>\n",
       "    <tr>\n",
       "      <th>58</th>\n",
       "      <td>2016-01-02</td>\n",
       "      <td>1</td>\n",
       "      <td>2016</td>\n",
       "      <td>1</td>\n",
       "      <td>2</td>\n",
       "      <td>737.0</td>\n",
       "      <td>0.0</td>\n",
       "      <td>745</td>\n",
       "      <td>0.0</td>\n",
       "      <td>14747</td>\n",
       "      <td>12478</td>\n",
       "      <td>1613.0</td>\n",
       "      <td>1602</td>\n",
       "      <td>0.0</td>\n",
       "      <td>11.0</td>\n",
       "      <td>SEA</td>\n",
       "      <td>JFK</td>\n",
       "      <td>2016-01-02</td>\n",
       "      <td>08</td>\n",
       "      <td>0</td>\n",
       "    </tr>\n",
       "    <tr>\n",
       "      <th>59</th>\n",
       "      <td>2016-01-03</td>\n",
       "      <td>1</td>\n",
       "      <td>2016</td>\n",
       "      <td>1</td>\n",
       "      <td>3</td>\n",
       "      <td>743.0</td>\n",
       "      <td>0.0</td>\n",
       "      <td>745</td>\n",
       "      <td>0.0</td>\n",
       "      <td>14747</td>\n",
       "      <td>12478</td>\n",
       "      <td>1547.0</td>\n",
       "      <td>1602</td>\n",
       "      <td>0.0</td>\n",
       "      <td>0.0</td>\n",
       "      <td>SEA</td>\n",
       "      <td>JFK</td>\n",
       "      <td>2016-01-03</td>\n",
       "      <td>08</td>\n",
       "      <td>0</td>\n",
       "    </tr>\n",
       "    <tr>\n",
       "      <th>60</th>\n",
       "      <td>2016-01-04</td>\n",
       "      <td>1</td>\n",
       "      <td>2016</td>\n",
       "      <td>1</td>\n",
       "      <td>4</td>\n",
       "      <td>737.0</td>\n",
       "      <td>0.0</td>\n",
       "      <td>745</td>\n",
       "      <td>0.0</td>\n",
       "      <td>14747</td>\n",
       "      <td>12478</td>\n",
       "      <td>1551.0</td>\n",
       "      <td>1602</td>\n",
       "      <td>0.0</td>\n",
       "      <td>0.0</td>\n",
       "      <td>SEA</td>\n",
       "      <td>JFK</td>\n",
       "      <td>2016-01-04</td>\n",
       "      <td>08</td>\n",
       "      <td>0</td>\n",
       "    </tr>\n",
       "    <tr>\n",
       "      <th>61</th>\n",
       "      <td>2016-01-05</td>\n",
       "      <td>1</td>\n",
       "      <td>2016</td>\n",
       "      <td>1</td>\n",
       "      <td>5</td>\n",
       "      <td>708.0</td>\n",
       "      <td>0.0</td>\n",
       "      <td>710</td>\n",
       "      <td>0.0</td>\n",
       "      <td>14747</td>\n",
       "      <td>12478</td>\n",
       "      <td>1524.0</td>\n",
       "      <td>1527</td>\n",
       "      <td>0.0</td>\n",
       "      <td>0.0</td>\n",
       "      <td>SEA</td>\n",
       "      <td>JFK</td>\n",
       "      <td>2016-01-05</td>\n",
       "      <td>07</td>\n",
       "      <td>0</td>\n",
       "    </tr>\n",
       "  </tbody>\n",
       "</table>\n",
       "</div>"
      ],
      "text/plain": [
       "   FlightDate  Quarter  Year  Month  DayofMonth  DepTime  DepDel15  \\\n",
       "57 2016-01-01        1  2016      1           1    741.0       0.0   \n",
       "58 2016-01-02        1  2016      1           2    737.0       0.0   \n",
       "59 2016-01-03        1  2016      1           3    743.0       0.0   \n",
       "60 2016-01-04        1  2016      1           4    737.0       0.0   \n",
       "61 2016-01-05        1  2016      1           5    708.0       0.0   \n",
       "\n",
       "    CRSDepTime  DepDelayMinutes  OriginAirportID  DestAirportID  ArrTime  \\\n",
       "57         745              0.0            14747          12478   1610.0   \n",
       "58         745              0.0            14747          12478   1613.0   \n",
       "59         745              0.0            14747          12478   1547.0   \n",
       "60         745              0.0            14747          12478   1551.0   \n",
       "61         710              0.0            14747          12478   1524.0   \n",
       "\n",
       "    CRSArrTime  ArrDel15  ArrDelayMinutes Origin Dest RoundedFlightDate  \\\n",
       "57        1602       0.0              8.0    SEA  JFK        2016-01-01   \n",
       "58        1602       0.0             11.0    SEA  JFK        2016-01-02   \n",
       "59        1602       0.0              0.0    SEA  JFK        2016-01-03   \n",
       "60        1602       0.0              0.0    SEA  JFK        2016-01-04   \n",
       "61        1527       0.0              0.0    SEA  JFK        2016-01-05   \n",
       "\n",
       "   DepatHr  Delayed  \n",
       "57      08        0  \n",
       "58      08        0  \n",
       "59      08        0  \n",
       "60      08        0  \n",
       "61      07        0  "
      ]
     },
     "execution_count": 141,
     "metadata": {},
     "output_type": "execute_result"
    }
   ],
   "source": [
    "Df.head()"
   ]
  },
  {
   "cell_type": "code",
   "execution_count": 142,
   "id": "377373e8",
   "metadata": {},
   "outputs": [
    {
     "name": "stdout",
     "output_type": "stream",
     "text": [
      "Number of flights delayed: 613684, not delayed: 942965\n"
     ]
    }
   ],
   "source": [
    "print(f\"Number of flights delayed: {Df['Delayed'].value_counts()[1]}, not delayed: {Df['Delayed'].value_counts()[0]}\")"
   ]
  },
  {
   "cell_type": "markdown",
   "id": "6e4541da",
   "metadata": {},
   "source": [
    "## Weather data"
   ]
  },
  {
   "cell_type": "code",
   "execution_count": 143,
   "id": "97079e78",
   "metadata": {},
   "outputs": [],
   "source": [
    "import json\n",
    "from pandas import json_normalize\n",
    "import re"
   ]
  },
  {
   "cell_type": "code",
   "execution_count": 144,
   "id": "49e219e3",
   "metadata": {},
   "outputs": [],
   "source": [
    "def weather_files(directory):\n",
    "    reqd_files = []\n",
    "    Folders = os.listdir(directory)\n",
    "    if '.DS_Store' in Folders:\n",
    "        Folders.remove('.DS_Store')\n",
    "    s = r'201(6|7)-\\d{1,2}.json'\n",
    "    for folder in Folders:\n",
    "        all_files = os.listdir(os.path.join(directory, folder))\n",
    "        for file in all_files:\n",
    "            if re.search(s, file):\n",
    "                reqd_files.append(os.path.join(directory, folder,file))\n",
    "    reqd_files.sort()\n",
    "    return reqd_files"
   ]
  },
  {
   "cell_type": "code",
   "execution_count": 145,
   "id": "9d8d5fb0",
   "metadata": {},
   "outputs": [],
   "source": [
    "all_weather_files = weather_files('Weather')\n",
    "# all_weather_files"
   ]
  },
  {
   "cell_type": "code",
   "execution_count": 146,
   "id": "a3f9939f",
   "metadata": {},
   "outputs": [
    {
     "data": {
      "text/plain": [
       "(360, 360)"
      ]
     },
     "execution_count": 146,
     "metadata": {},
     "output_type": "execute_result"
    }
   ],
   "source": [
    "len(all_weather_files), 15 * 24"
   ]
  },
  {
   "cell_type": "code",
   "execution_count": 147,
   "id": "94445c52",
   "metadata": {},
   "outputs": [],
   "source": [
    "def  merge_all_airports(all_weather_files):\n",
    "    global Df2\n",
    "    keys = ['windspeedKmph','winddirDegree', 'weatherCode', 'precipMM',\n",
    "            'visibility', 'pressure', 'cloudcover', 'DewPointF', 'WindGustKmph',\n",
    "            'tempF', 'WindChillF', 'humidity', 'time']\n",
    "    for file in all_weather_files:\n",
    "        airport = file.split('/')[1]\n",
    "        #print(airport)\n",
    "        f = open(file)\n",
    "        D = json.load(f)\n",
    "        data = json_normalize(D['data']['weather'])[['hourly', 'date']]\n",
    "        data['date'] = pd.to_datetime(data['date'])\n",
    "        data['airport'] = airport\n",
    "        data = data.explode('hourly').reset_index(drop=True)\n",
    "        data[keys] = pd.json_normalize(data['hourly'])[keys]\n",
    "        data.drop(columns=['hourly'], inplace=True)\n",
    "        Df2 = pd.concat([Df2, data])"
   ]
  },
  {
   "cell_type": "code",
   "execution_count": 148,
   "id": "92a683c0",
   "metadata": {},
   "outputs": [],
   "source": [
    "Df2 = pd.DataFrame()\n",
    "merge_all_airports(all_weather_files)"
   ]
  },
  {
   "cell_type": "code",
   "execution_count": 149,
   "id": "ca3cbd1b",
   "metadata": {},
   "outputs": [
    {
     "name": "stdout",
     "output_type": "stream",
     "text": [
      "<class 'pandas.core.frame.DataFrame'>\n",
      "Int64Index: 263160 entries, 0 to 719\n",
      "Data columns (total 15 columns):\n",
      " #   Column         Non-Null Count   Dtype         \n",
      "---  ------         --------------   -----         \n",
      " 0   date           263160 non-null  datetime64[ns]\n",
      " 1   airport        263160 non-null  object        \n",
      " 2   windspeedKmph  263160 non-null  object        \n",
      " 3   winddirDegree  263160 non-null  object        \n",
      " 4   weatherCode    263160 non-null  object        \n",
      " 5   precipMM       263160 non-null  object        \n",
      " 6   visibility     263160 non-null  object        \n",
      " 7   pressure       263160 non-null  object        \n",
      " 8   cloudcover     263160 non-null  object        \n",
      " 9   DewPointF      263160 non-null  object        \n",
      " 10  WindGustKmph   263160 non-null  object        \n",
      " 11  tempF          263160 non-null  object        \n",
      " 12  WindChillF     263160 non-null  object        \n",
      " 13  humidity       263160 non-null  object        \n",
      " 14  time           263160 non-null  object        \n",
      "dtypes: datetime64[ns](1), object(14)\n",
      "memory usage: 32.1+ MB\n"
     ]
    }
   ],
   "source": [
    "Df2.info()"
   ]
  },
  {
   "cell_type": "markdown",
   "id": "f291fe82",
   "metadata": {},
   "source": [
    "#### To do\n",
    "- Merge with flight data based on flight departure time and weather time on a particular date\n"
   ]
  },
  {
   "cell_type": "markdown",
   "id": "625420ff",
   "metadata": {},
   "source": [
    "## Merging Flight data with weather"
   ]
  },
  {
   "cell_type": "markdown",
   "id": "07a7b046",
   "metadata": {},
   "source": [
    "* (np.unique(Df['FlightDate']) == my_range).all() --> Seems like all date is present."
   ]
  },
  {
   "cell_type": "code",
   "execution_count": 150,
   "id": "9f7a73af",
   "metadata": {},
   "outputs": [],
   "source": [
    "Df.drop_duplicates(inplace=True)"
   ]
  },
  {
   "cell_type": "code",
   "execution_count": 151,
   "id": "8083626e",
   "metadata": {},
   "outputs": [],
   "source": [
    "Df_sort = Df.sort_values(['FlightDate', 'DepatHr'])\n",
    "# Df_sort = Df_sort.set_index('FlightDate')"
   ]
  },
  {
   "cell_type": "code",
   "execution_count": 152,
   "id": "c6d33a26",
   "metadata": {},
   "outputs": [
    {
     "data": {
      "text/html": [
       "<div>\n",
       "<style scoped>\n",
       "    .dataframe tbody tr th:only-of-type {\n",
       "        vertical-align: middle;\n",
       "    }\n",
       "\n",
       "    .dataframe tbody tr th {\n",
       "        vertical-align: top;\n",
       "    }\n",
       "\n",
       "    .dataframe thead th {\n",
       "        text-align: right;\n",
       "    }\n",
       "</style>\n",
       "<table border=\"1\" class=\"dataframe\">\n",
       "  <thead>\n",
       "    <tr style=\"text-align: right;\">\n",
       "      <th></th>\n",
       "      <th>FlightDate</th>\n",
       "      <th>Quarter</th>\n",
       "      <th>Year</th>\n",
       "      <th>Month</th>\n",
       "      <th>DayofMonth</th>\n",
       "      <th>DepTime</th>\n",
       "      <th>DepDel15</th>\n",
       "      <th>CRSDepTime</th>\n",
       "      <th>DepDelayMinutes</th>\n",
       "      <th>OriginAirportID</th>\n",
       "      <th>DestAirportID</th>\n",
       "      <th>ArrTime</th>\n",
       "      <th>CRSArrTime</th>\n",
       "      <th>ArrDel15</th>\n",
       "      <th>ArrDelayMinutes</th>\n",
       "      <th>Origin</th>\n",
       "      <th>Dest</th>\n",
       "      <th>RoundedFlightDate</th>\n",
       "      <th>DepatHr</th>\n",
       "      <th>Delayed</th>\n",
       "    </tr>\n",
       "  </thead>\n",
       "  <tbody>\n",
       "    <tr>\n",
       "      <th>1435</th>\n",
       "      <td>2016-01-01</td>\n",
       "      <td>1</td>\n",
       "      <td>2016</td>\n",
       "      <td>1</td>\n",
       "      <td>1</td>\n",
       "      <td>6.0</td>\n",
       "      <td>1.0</td>\n",
       "      <td>2347</td>\n",
       "      <td>19.0</td>\n",
       "      <td>12889</td>\n",
       "      <td>13303</td>\n",
       "      <td>721.0</td>\n",
       "      <td>714</td>\n",
       "      <td>0.0</td>\n",
       "      <td>7.0</td>\n",
       "      <td>LAS</td>\n",
       "      <td>MIA</td>\n",
       "      <td>2016-01-01</td>\n",
       "      <td>00</td>\n",
       "      <td>1</td>\n",
       "    </tr>\n",
       "    <tr>\n",
       "      <th>1497</th>\n",
       "      <td>2016-01-01</td>\n",
       "      <td>1</td>\n",
       "      <td>2016</td>\n",
       "      <td>1</td>\n",
       "      <td>1</td>\n",
       "      <td>6.0</td>\n",
       "      <td>0.0</td>\n",
       "      <td>2359</td>\n",
       "      <td>7.0</td>\n",
       "      <td>12892</td>\n",
       "      <td>13930</td>\n",
       "      <td>559.0</td>\n",
       "      <td>603</td>\n",
       "      <td>0.0</td>\n",
       "      <td>0.0</td>\n",
       "      <td>LAX</td>\n",
       "      <td>ORD</td>\n",
       "      <td>2016-01-01</td>\n",
       "      <td>00</td>\n",
       "      <td>1</td>\n",
       "    </tr>\n",
       "    <tr>\n",
       "      <th>4839</th>\n",
       "      <td>2016-01-01</td>\n",
       "      <td>1</td>\n",
       "      <td>2016</td>\n",
       "      <td>1</td>\n",
       "      <td>1</td>\n",
       "      <td>25.0</td>\n",
       "      <td>0.0</td>\n",
       "      <td>30</td>\n",
       "      <td>0.0</td>\n",
       "      <td>12892</td>\n",
       "      <td>13303</td>\n",
       "      <td>810.0</td>\n",
       "      <td>823</td>\n",
       "      <td>0.0</td>\n",
       "      <td>0.0</td>\n",
       "      <td>LAX</td>\n",
       "      <td>MIA</td>\n",
       "      <td>2016-01-01</td>\n",
       "      <td>00</td>\n",
       "      <td>0</td>\n",
       "    </tr>\n",
       "    <tr>\n",
       "      <th>8434</th>\n",
       "      <td>2016-01-01</td>\n",
       "      <td>1</td>\n",
       "      <td>2016</td>\n",
       "      <td>1</td>\n",
       "      <td>1</td>\n",
       "      <td>2335.0</td>\n",
       "      <td>0.0</td>\n",
       "      <td>2335</td>\n",
       "      <td>0.0</td>\n",
       "      <td>12889</td>\n",
       "      <td>12478</td>\n",
       "      <td>710.0</td>\n",
       "      <td>730</td>\n",
       "      <td>0.0</td>\n",
       "      <td>0.0</td>\n",
       "      <td>LAS</td>\n",
       "      <td>JFK</td>\n",
       "      <td>2016-01-02</td>\n",
       "      <td>00</td>\n",
       "      <td>0</td>\n",
       "    </tr>\n",
       "    <tr>\n",
       "      <th>9989</th>\n",
       "      <td>2016-01-01</td>\n",
       "      <td>1</td>\n",
       "      <td>2016</td>\n",
       "      <td>1</td>\n",
       "      <td>1</td>\n",
       "      <td>29.0</td>\n",
       "      <td>0.0</td>\n",
       "      <td>30</td>\n",
       "      <td>0.0</td>\n",
       "      <td>14771</td>\n",
       "      <td>13303</td>\n",
       "      <td>832.0</td>\n",
       "      <td>850</td>\n",
       "      <td>0.0</td>\n",
       "      <td>0.0</td>\n",
       "      <td>SFO</td>\n",
       "      <td>MIA</td>\n",
       "      <td>2016-01-01</td>\n",
       "      <td>00</td>\n",
       "      <td>0</td>\n",
       "    </tr>\n",
       "  </tbody>\n",
       "</table>\n",
       "</div>"
      ],
      "text/plain": [
       "     FlightDate  Quarter  Year  Month  DayofMonth  DepTime  DepDel15  \\\n",
       "1435 2016-01-01        1  2016      1           1      6.0       1.0   \n",
       "1497 2016-01-01        1  2016      1           1      6.0       0.0   \n",
       "4839 2016-01-01        1  2016      1           1     25.0       0.0   \n",
       "8434 2016-01-01        1  2016      1           1   2335.0       0.0   \n",
       "9989 2016-01-01        1  2016      1           1     29.0       0.0   \n",
       "\n",
       "      CRSDepTime  DepDelayMinutes  OriginAirportID  DestAirportID  ArrTime  \\\n",
       "1435        2347             19.0            12889          13303    721.0   \n",
       "1497        2359              7.0            12892          13930    559.0   \n",
       "4839          30              0.0            12892          13303    810.0   \n",
       "8434        2335              0.0            12889          12478    710.0   \n",
       "9989          30              0.0            14771          13303    832.0   \n",
       "\n",
       "      CRSArrTime  ArrDel15  ArrDelayMinutes Origin Dest RoundedFlightDate  \\\n",
       "1435         714       0.0              7.0    LAS  MIA        2016-01-01   \n",
       "1497         603       0.0              0.0    LAX  ORD        2016-01-01   \n",
       "4839         823       0.0              0.0    LAX  MIA        2016-01-01   \n",
       "8434         730       0.0              0.0    LAS  JFK        2016-01-02   \n",
       "9989         850       0.0              0.0    SFO  MIA        2016-01-01   \n",
       "\n",
       "     DepatHr  Delayed  \n",
       "1435      00        1  \n",
       "1497      00        1  \n",
       "4839      00        0  \n",
       "8434      00        0  \n",
       "9989      00        0  "
      ]
     },
     "execution_count": 152,
     "metadata": {},
     "output_type": "execute_result"
    }
   ],
   "source": [
    "## Flight Data\n",
    "Df_sort.head()"
   ]
  },
  {
   "cell_type": "code",
   "execution_count": 153,
   "id": "f7fea5b4",
   "metadata": {},
   "outputs": [],
   "source": [
    "def process_for_weather(x):\n",
    "    x = str(int(x))\n",
    "    #print(x)\n",
    "    x = x.zfill(4)\n",
    "    hr = x[:2]\n",
    "    return  hr"
   ]
  },
  {
   "cell_type": "code",
   "execution_count": 154,
   "id": "d897bbc1",
   "metadata": {},
   "outputs": [],
   "source": [
    "Df2['timeInHr'] = Df2['time'].apply(process_for_weather) "
   ]
  },
  {
   "cell_type": "code",
   "execution_count": 155,
   "id": "ffa4c12d",
   "metadata": {},
   "outputs": [
    {
     "data": {
      "text/html": [
       "<div>\n",
       "<style scoped>\n",
       "    .dataframe tbody tr th:only-of-type {\n",
       "        vertical-align: middle;\n",
       "    }\n",
       "\n",
       "    .dataframe tbody tr th {\n",
       "        vertical-align: top;\n",
       "    }\n",
       "\n",
       "    .dataframe thead th {\n",
       "        text-align: right;\n",
       "    }\n",
       "</style>\n",
       "<table border=\"1\" class=\"dataframe\">\n",
       "  <thead>\n",
       "    <tr style=\"text-align: right;\">\n",
       "      <th></th>\n",
       "      <th>date</th>\n",
       "      <th>airport</th>\n",
       "      <th>windspeedKmph</th>\n",
       "      <th>winddirDegree</th>\n",
       "      <th>weatherCode</th>\n",
       "      <th>precipMM</th>\n",
       "      <th>visibility</th>\n",
       "      <th>pressure</th>\n",
       "      <th>cloudcover</th>\n",
       "      <th>DewPointF</th>\n",
       "      <th>WindGustKmph</th>\n",
       "      <th>tempF</th>\n",
       "      <th>WindChillF</th>\n",
       "      <th>humidity</th>\n",
       "      <th>time</th>\n",
       "      <th>timeInHr</th>\n",
       "    </tr>\n",
       "  </thead>\n",
       "  <tbody>\n",
       "    <tr>\n",
       "      <th>0</th>\n",
       "      <td>2016-01-01</td>\n",
       "      <td>ATL</td>\n",
       "      <td>11</td>\n",
       "      <td>318</td>\n",
       "      <td>176</td>\n",
       "      <td>0.1</td>\n",
       "      <td>10</td>\n",
       "      <td>1023</td>\n",
       "      <td>100</td>\n",
       "      <td>47</td>\n",
       "      <td>17</td>\n",
       "      <td>49</td>\n",
       "      <td>46</td>\n",
       "      <td>91</td>\n",
       "      <td>0</td>\n",
       "      <td>00</td>\n",
       "    </tr>\n",
       "    <tr>\n",
       "      <th>1</th>\n",
       "      <td>2016-01-01</td>\n",
       "      <td>ATL</td>\n",
       "      <td>13</td>\n",
       "      <td>317</td>\n",
       "      <td>176</td>\n",
       "      <td>0.0</td>\n",
       "      <td>10</td>\n",
       "      <td>1023</td>\n",
       "      <td>100</td>\n",
       "      <td>44</td>\n",
       "      <td>22</td>\n",
       "      <td>46</td>\n",
       "      <td>42</td>\n",
       "      <td>92</td>\n",
       "      <td>100</td>\n",
       "      <td>01</td>\n",
       "    </tr>\n",
       "    <tr>\n",
       "      <th>2</th>\n",
       "      <td>2016-01-01</td>\n",
       "      <td>ATL</td>\n",
       "      <td>14</td>\n",
       "      <td>315</td>\n",
       "      <td>122</td>\n",
       "      <td>0.0</td>\n",
       "      <td>10</td>\n",
       "      <td>1023</td>\n",
       "      <td>100</td>\n",
       "      <td>41</td>\n",
       "      <td>26</td>\n",
       "      <td>43</td>\n",
       "      <td>38</td>\n",
       "      <td>92</td>\n",
       "      <td>200</td>\n",
       "      <td>02</td>\n",
       "    </tr>\n",
       "    <tr>\n",
       "      <th>3</th>\n",
       "      <td>2016-01-01</td>\n",
       "      <td>ATL</td>\n",
       "      <td>16</td>\n",
       "      <td>314</td>\n",
       "      <td>122</td>\n",
       "      <td>0.0</td>\n",
       "      <td>10</td>\n",
       "      <td>1023</td>\n",
       "      <td>100</td>\n",
       "      <td>38</td>\n",
       "      <td>30</td>\n",
       "      <td>40</td>\n",
       "      <td>33</td>\n",
       "      <td>93</td>\n",
       "      <td>300</td>\n",
       "      <td>03</td>\n",
       "    </tr>\n",
       "    <tr>\n",
       "      <th>4</th>\n",
       "      <td>2016-01-01</td>\n",
       "      <td>ATL</td>\n",
       "      <td>17</td>\n",
       "      <td>314</td>\n",
       "      <td>122</td>\n",
       "      <td>0.0</td>\n",
       "      <td>10</td>\n",
       "      <td>1023</td>\n",
       "      <td>100</td>\n",
       "      <td>38</td>\n",
       "      <td>30</td>\n",
       "      <td>40</td>\n",
       "      <td>33</td>\n",
       "      <td>93</td>\n",
       "      <td>400</td>\n",
       "      <td>04</td>\n",
       "    </tr>\n",
       "  </tbody>\n",
       "</table>\n",
       "</div>"
      ],
      "text/plain": [
       "        date airport windspeedKmph winddirDegree weatherCode precipMM  \\\n",
       "0 2016-01-01     ATL            11           318         176      0.1   \n",
       "1 2016-01-01     ATL            13           317         176      0.0   \n",
       "2 2016-01-01     ATL            14           315         122      0.0   \n",
       "3 2016-01-01     ATL            16           314         122      0.0   \n",
       "4 2016-01-01     ATL            17           314         122      0.0   \n",
       "\n",
       "  visibility pressure cloudcover DewPointF WindGustKmph tempF WindChillF  \\\n",
       "0         10     1023        100        47           17    49         46   \n",
       "1         10     1023        100        44           22    46         42   \n",
       "2         10     1023        100        41           26    43         38   \n",
       "3         10     1023        100        38           30    40         33   \n",
       "4         10     1023        100        38           30    40         33   \n",
       "\n",
       "  humidity time timeInHr  \n",
       "0       91    0       00  \n",
       "1       92  100       01  \n",
       "2       92  200       02  \n",
       "3       93  300       03  \n",
       "4       93  400       04  "
      ]
     },
     "execution_count": 155,
     "metadata": {},
     "output_type": "execute_result"
    }
   ],
   "source": [
    "## Weather Data\n",
    "Df2.head()"
   ]
  },
  {
   "cell_type": "markdown",
   "id": "ad9a5ab9",
   "metadata": {},
   "source": [
    "#### Merging based on \n",
    "- Flight date and Departure hour from Df\n",
    "- data and timeInHr from Df2"
   ]
  },
  {
   "cell_type": "code",
   "execution_count": null,
   "id": "4e311b96",
   "metadata": {},
   "outputs": [],
   "source": []
  },
  {
   "cell_type": "code",
   "execution_count": 156,
   "id": "cf91c3cc",
   "metadata": {},
   "outputs": [
    {
     "data": {
      "text/plain": [
       "((1556649, 20), (263160, 16))"
      ]
     },
     "execution_count": 156,
     "metadata": {},
     "output_type": "execute_result"
    }
   ],
   "source": [
    "Df_sort.shape, Df2.shape"
   ]
  },
  {
   "cell_type": "markdown",
   "id": "0481314f",
   "metadata": {},
   "source": [
    "#### Note:\n",
    "* When using left join, there will be NaN values(Because of non-availability of Weather data) - Rows: 1556649\n",
    "    - Two issues:\n",
    "        1. Certain entries have departure time as  **(24 + 1)%24 = 1**, which is wrong. We should have 00:00 next day date\n",
    "            - Solution: Should manually deal with if,else condition\n",
    "            - Around **291 rows**\n",
    "        2. Entries that have 31/12/2017 and time more than 11:30  is **rounded to 01/01/2018** for which no weather data is present.\n",
    "            - Solution: Either I have to retrieve weather data of January month or should Discard it.\n",
    "            - **Only 8 rows** are present\n",
    "* When using inner join, there will be no NaN values(Because only intersection is taken) - Rows: 1556350"
   ]
  },
  {
   "cell_type": "code",
   "execution_count": 166,
   "id": "8ca37c39",
   "metadata": {},
   "outputs": [
    {
     "data": {
      "text/plain": [
       "(1556649, 36)"
      ]
     },
     "execution_count": 166,
     "metadata": {},
     "output_type": "execute_result"
    }
   ],
   "source": [
    "Df3_left = pd.merge(Df_sort, Df2, left_on=['RoundedFlightDate', 'DepatHr', 'Origin'], right_on=['date', 'timeInHr', 'airport'], how='left' )\n",
    "Df3_left.shape"
   ]
  },
  {
   "cell_type": "code",
   "execution_count": 167,
   "id": "d79388ad",
   "metadata": {},
   "outputs": [
    {
     "data": {
      "text/plain": [
       "(1556641, 36)"
      ]
     },
     "execution_count": 167,
     "metadata": {},
     "output_type": "execute_result"
    }
   ],
   "source": [
    "Df3 = pd.merge(Df_sort, Df2, left_on=['RoundedFlightDate', 'DepatHr', 'Origin'], right_on=['date', 'timeInHr', 'airport'], how='inner' )\n",
    "Df3.shape"
   ]
  },
  {
   "cell_type": "code",
   "execution_count": 168,
   "id": "1cc2ff65",
   "metadata": {},
   "outputs": [
    {
     "name": "stdout",
     "output_type": "stream",
     "text": [
      "<class 'pandas.core.frame.DataFrame'>\n",
      "Int64Index: 1556641 entries, 0 to 1556640\n",
      "Data columns (total 36 columns):\n",
      " #   Column             Non-Null Count    Dtype         \n",
      "---  ------             --------------    -----         \n",
      " 0   FlightDate         1556641 non-null  datetime64[ns]\n",
      " 1   Quarter            1556641 non-null  int64         \n",
      " 2   Year               1556641 non-null  int64         \n",
      " 3   Month              1556641 non-null  int64         \n",
      " 4   DayofMonth         1556641 non-null  int64         \n",
      " 5   DepTime            1556641 non-null  float64       \n",
      " 6   DepDel15           1556641 non-null  float64       \n",
      " 7   CRSDepTime         1556641 non-null  int64         \n",
      " 8   DepDelayMinutes    1556641 non-null  float64       \n",
      " 9   OriginAirportID    1556641 non-null  int64         \n",
      " 10  DestAirportID      1556641 non-null  int64         \n",
      " 11  ArrTime            1556641 non-null  float64       \n",
      " 12  CRSArrTime         1556641 non-null  int64         \n",
      " 13  ArrDel15           1556641 non-null  float64       \n",
      " 14  ArrDelayMinutes    1556641 non-null  float64       \n",
      " 15  Origin             1556641 non-null  object        \n",
      " 16  Dest               1556641 non-null  object        \n",
      " 17  RoundedFlightDate  1556641 non-null  datetime64[ns]\n",
      " 18  DepatHr            1556641 non-null  object        \n",
      " 19  Delayed            1556641 non-null  int64         \n",
      " 20  date               1556641 non-null  datetime64[ns]\n",
      " 21  airport            1556641 non-null  object        \n",
      " 22  windspeedKmph      1556641 non-null  object        \n",
      " 23  winddirDegree      1556641 non-null  object        \n",
      " 24  weatherCode        1556641 non-null  object        \n",
      " 25  precipMM           1556641 non-null  object        \n",
      " 26  visibility         1556641 non-null  object        \n",
      " 27  pressure           1556641 non-null  object        \n",
      " 28  cloudcover         1556641 non-null  object        \n",
      " 29  DewPointF          1556641 non-null  object        \n",
      " 30  WindGustKmph       1556641 non-null  object        \n",
      " 31  tempF              1556641 non-null  object        \n",
      " 32  WindChillF         1556641 non-null  object        \n",
      " 33  humidity           1556641 non-null  object        \n",
      " 34  time               1556641 non-null  object        \n",
      " 35  timeInHr           1556641 non-null  object        \n",
      "dtypes: datetime64[ns](3), float64(6), int64(9), object(18)\n",
      "memory usage: 439.4+ MB\n"
     ]
    }
   ],
   "source": [
    "Df3.info()"
   ]
  },
  {
   "cell_type": "code",
   "execution_count": 169,
   "id": "e76fd03a",
   "metadata": {},
   "outputs": [
    {
     "data": {
      "text/html": [
       "<div>\n",
       "<style scoped>\n",
       "    .dataframe tbody tr th:only-of-type {\n",
       "        vertical-align: middle;\n",
       "    }\n",
       "\n",
       "    .dataframe tbody tr th {\n",
       "        vertical-align: top;\n",
       "    }\n",
       "\n",
       "    .dataframe thead th {\n",
       "        text-align: right;\n",
       "    }\n",
       "</style>\n",
       "<table border=\"1\" class=\"dataframe\">\n",
       "  <thead>\n",
       "    <tr style=\"text-align: right;\">\n",
       "      <th></th>\n",
       "      <th>FlightDate</th>\n",
       "      <th>Quarter</th>\n",
       "      <th>Year</th>\n",
       "      <th>Month</th>\n",
       "      <th>DayofMonth</th>\n",
       "      <th>DepTime</th>\n",
       "      <th>DepDel15</th>\n",
       "      <th>CRSDepTime</th>\n",
       "      <th>DepDelayMinutes</th>\n",
       "      <th>OriginAirportID</th>\n",
       "      <th>...</th>\n",
       "      <th>visibility</th>\n",
       "      <th>pressure</th>\n",
       "      <th>cloudcover</th>\n",
       "      <th>DewPointF</th>\n",
       "      <th>WindGustKmph</th>\n",
       "      <th>tempF</th>\n",
       "      <th>WindChillF</th>\n",
       "      <th>humidity</th>\n",
       "      <th>time</th>\n",
       "      <th>timeInHr</th>\n",
       "    </tr>\n",
       "  </thead>\n",
       "  <tbody>\n",
       "    <tr>\n",
       "      <th>1556636</th>\n",
       "      <td>2017-12-31</td>\n",
       "      <td>4</td>\n",
       "      <td>2017</td>\n",
       "      <td>12</td>\n",
       "      <td>31</td>\n",
       "      <td>2250.0</td>\n",
       "      <td>0.0</td>\n",
       "      <td>2251</td>\n",
       "      <td>0.0</td>\n",
       "      <td>11292</td>\n",
       "      <td>...</td>\n",
       "      <td>10</td>\n",
       "      <td>1038</td>\n",
       "      <td>7</td>\n",
       "      <td>2</td>\n",
       "      <td>13</td>\n",
       "      <td>5</td>\n",
       "      <td>-5</td>\n",
       "      <td>83</td>\n",
       "      <td>2300</td>\n",
       "      <td>23</td>\n",
       "    </tr>\n",
       "    <tr>\n",
       "      <th>1556637</th>\n",
       "      <td>2017-12-31</td>\n",
       "      <td>4</td>\n",
       "      <td>2017</td>\n",
       "      <td>12</td>\n",
       "      <td>31</td>\n",
       "      <td>2241.0</td>\n",
       "      <td>0.0</td>\n",
       "      <td>2250</td>\n",
       "      <td>0.0</td>\n",
       "      <td>14771</td>\n",
       "      <td>...</td>\n",
       "      <td>10</td>\n",
       "      <td>1020</td>\n",
       "      <td>79</td>\n",
       "      <td>51</td>\n",
       "      <td>4</td>\n",
       "      <td>52</td>\n",
       "      <td>52</td>\n",
       "      <td>97</td>\n",
       "      <td>2300</td>\n",
       "      <td>23</td>\n",
       "    </tr>\n",
       "    <tr>\n",
       "      <th>1556638</th>\n",
       "      <td>2017-12-31</td>\n",
       "      <td>4</td>\n",
       "      <td>2017</td>\n",
       "      <td>12</td>\n",
       "      <td>31</td>\n",
       "      <td>2233.0</td>\n",
       "      <td>0.0</td>\n",
       "      <td>2235</td>\n",
       "      <td>0.0</td>\n",
       "      <td>14771</td>\n",
       "      <td>...</td>\n",
       "      <td>10</td>\n",
       "      <td>1020</td>\n",
       "      <td>79</td>\n",
       "      <td>51</td>\n",
       "      <td>4</td>\n",
       "      <td>52</td>\n",
       "      <td>52</td>\n",
       "      <td>97</td>\n",
       "      <td>2300</td>\n",
       "      <td>23</td>\n",
       "    </tr>\n",
       "    <tr>\n",
       "      <th>1556639</th>\n",
       "      <td>2017-12-31</td>\n",
       "      <td>4</td>\n",
       "      <td>2017</td>\n",
       "      <td>12</td>\n",
       "      <td>31</td>\n",
       "      <td>2245.0</td>\n",
       "      <td>0.0</td>\n",
       "      <td>2245</td>\n",
       "      <td>0.0</td>\n",
       "      <td>14771</td>\n",
       "      <td>...</td>\n",
       "      <td>10</td>\n",
       "      <td>1020</td>\n",
       "      <td>79</td>\n",
       "      <td>51</td>\n",
       "      <td>4</td>\n",
       "      <td>52</td>\n",
       "      <td>52</td>\n",
       "      <td>97</td>\n",
       "      <td>2300</td>\n",
       "      <td>23</td>\n",
       "    </tr>\n",
       "    <tr>\n",
       "      <th>1556640</th>\n",
       "      <td>2017-12-31</td>\n",
       "      <td>4</td>\n",
       "      <td>2017</td>\n",
       "      <td>12</td>\n",
       "      <td>31</td>\n",
       "      <td>2320.0</td>\n",
       "      <td>0.0</td>\n",
       "      <td>2320</td>\n",
       "      <td>0.0</td>\n",
       "      <td>14771</td>\n",
       "      <td>...</td>\n",
       "      <td>10</td>\n",
       "      <td>1020</td>\n",
       "      <td>79</td>\n",
       "      <td>51</td>\n",
       "      <td>4</td>\n",
       "      <td>52</td>\n",
       "      <td>52</td>\n",
       "      <td>97</td>\n",
       "      <td>2300</td>\n",
       "      <td>23</td>\n",
       "    </tr>\n",
       "  </tbody>\n",
       "</table>\n",
       "<p>5 rows × 36 columns</p>\n",
       "</div>"
      ],
      "text/plain": [
       "        FlightDate  Quarter  Year  Month  DayofMonth  DepTime  DepDel15  \\\n",
       "1556636 2017-12-31        4  2017     12          31   2250.0       0.0   \n",
       "1556637 2017-12-31        4  2017     12          31   2241.0       0.0   \n",
       "1556638 2017-12-31        4  2017     12          31   2233.0       0.0   \n",
       "1556639 2017-12-31        4  2017     12          31   2245.0       0.0   \n",
       "1556640 2017-12-31        4  2017     12          31   2320.0       0.0   \n",
       "\n",
       "         CRSDepTime  DepDelayMinutes  OriginAirportID  ...  visibility  \\\n",
       "1556636        2251              0.0            11292  ...          10   \n",
       "1556637        2250              0.0            14771  ...          10   \n",
       "1556638        2235              0.0            14771  ...          10   \n",
       "1556639        2245              0.0            14771  ...          10   \n",
       "1556640        2320              0.0            14771  ...          10   \n",
       "\n",
       "         pressure  cloudcover  DewPointF  WindGustKmph tempF WindChillF  \\\n",
       "1556636      1038           7          2            13     5         -5   \n",
       "1556637      1020          79         51             4    52         52   \n",
       "1556638      1020          79         51             4    52         52   \n",
       "1556639      1020          79         51             4    52         52   \n",
       "1556640      1020          79         51             4    52         52   \n",
       "\n",
       "        humidity  time  timeInHr  \n",
       "1556636       83  2300        23  \n",
       "1556637       97  2300        23  \n",
       "1556638       97  2300        23  \n",
       "1556639       97  2300        23  \n",
       "1556640       97  2300        23  \n",
       "\n",
       "[5 rows x 36 columns]"
      ]
     },
     "execution_count": 169,
     "metadata": {},
     "output_type": "execute_result"
    }
   ],
   "source": [
    "Df3.tail()"
   ]
  },
  {
   "cell_type": "code",
   "execution_count": 170,
   "id": "4f430827",
   "metadata": {},
   "outputs": [
    {
     "data": {
      "text/plain": [
       "8"
      ]
     },
     "execution_count": 170,
     "metadata": {},
     "output_type": "execute_result"
    }
   ],
   "source": [
    "len(Df3_left[Df3_left.isna().any(axis=1)])"
   ]
  },
  {
   "cell_type": "markdown",
   "id": "7f0a1a2c",
   "metadata": {},
   "source": [
    "# 2. Classification of whether flight is delayed or not"
   ]
  },
  {
   "cell_type": "markdown",
   "id": "4aee1d0f",
   "metadata": {},
   "source": [
    "## Pick only necessary columns"
   ]
  },
  {
   "cell_type": "code",
   "execution_count": 219,
   "id": "2790e26c",
   "metadata": {},
   "outputs": [],
   "source": [
    "necessary_col = ['Quarter', 'Month',\n",
    "        'Origin',\n",
    "       'Dest', 'windspeedKmph', 'winddirDegree', 'weatherCode', 'precipMM',\n",
    "       'visibility', 'pressure', 'cloudcover', 'DewPointF', 'WindGustKmph',\n",
    "       'tempF', 'WindChillF', 'humidity', 'Delayed']"
   ]
  },
  {
   "cell_type": "markdown",
   "id": "bf172b46",
   "metadata": {},
   "source": [
    "* Df3 - Complete merged dataframe\n",
    "* Df4 - Datafame with just required columns for model creation"
   ]
  },
  {
   "cell_type": "code",
   "execution_count": 220,
   "id": "a7426d39",
   "metadata": {},
   "outputs": [],
   "source": [
    "Df4 = Df3[necessary_col]"
   ]
  },
  {
   "cell_type": "markdown",
   "id": "8f8163a9",
   "metadata": {},
   "source": [
    "#### Either use\n",
    "1. Ensemble model or\n",
    "2. Neural Network(Pytorch)\n",
    "    * But XGBoost is much better with tabular data"
   ]
  },
  {
   "cell_type": "code",
   "execution_count": 221,
   "id": "1d896e30",
   "metadata": {},
   "outputs": [
    {
     "name": "stdout",
     "output_type": "stream",
     "text": [
      "<class 'pandas.core.frame.DataFrame'>\n",
      "Int64Index: 1556641 entries, 0 to 1556640\n",
      "Data columns (total 17 columns):\n",
      " #   Column         Non-Null Count    Dtype \n",
      "---  ------         --------------    ----- \n",
      " 0   Quarter        1556641 non-null  int64 \n",
      " 1   Month          1556641 non-null  int64 \n",
      " 2   Origin         1556641 non-null  object\n",
      " 3   Dest           1556641 non-null  object\n",
      " 4   windspeedKmph  1556641 non-null  object\n",
      " 5   winddirDegree  1556641 non-null  object\n",
      " 6   weatherCode    1556641 non-null  object\n",
      " 7   precipMM       1556641 non-null  object\n",
      " 8   visibility     1556641 non-null  object\n",
      " 9   pressure       1556641 non-null  object\n",
      " 10  cloudcover     1556641 non-null  object\n",
      " 11  DewPointF      1556641 non-null  object\n",
      " 12  WindGustKmph   1556641 non-null  object\n",
      " 13  tempF          1556641 non-null  object\n",
      " 14  WindChillF     1556641 non-null  object\n",
      " 15  humidity       1556641 non-null  object\n",
      " 16  Delayed        1556641 non-null  int64 \n",
      "dtypes: int64(3), object(14)\n",
      "memory usage: 213.8+ MB\n"
     ]
    }
   ],
   "source": [
    "Df4.info()"
   ]
  },
  {
   "cell_type": "markdown",
   "id": "f8d99442",
   "metadata": {},
   "source": [
    "#### To Do:\n",
    "1. Convert all data to numerical\n",
    "1. **Import** appropriate model\n",
    "1. Perform **cross validation** to find appropriate hyper parameteres, either with\n",
    "    1. GridSearchCV or KFoldStratified\n",
    "1. Determine model **performance**"
   ]
  },
  {
   "cell_type": "code",
   "execution_count": 222,
   "id": "25570386",
   "metadata": {},
   "outputs": [
    {
     "data": {
      "text/plain": [
       "Index(['Quarter', 'Month', 'Origin', 'Dest', 'windspeedKmph', 'winddirDegree',\n",
       "       'weatherCode', 'precipMM', 'visibility', 'pressure', 'cloudcover',\n",
       "       'DewPointF', 'WindGustKmph', 'tempF', 'WindChillF', 'humidity',\n",
       "       'Delayed'],\n",
       "      dtype='object')"
      ]
     },
     "execution_count": 222,
     "metadata": {},
     "output_type": "execute_result"
    }
   ],
   "source": [
    "Df4.columns"
   ]
  },
  {
   "cell_type": "code",
   "execution_count": 223,
   "id": "9d96f2ce",
   "metadata": {},
   "outputs": [
    {
     "data": {
      "text/plain": [
       "43"
      ]
     },
     "execution_count": 223,
     "metadata": {},
     "output_type": "execute_result"
    }
   ],
   "source": [
    "len(Df4['weatherCode'].value_counts())"
   ]
  },
  {
   "cell_type": "code",
   "execution_count": 253,
   "id": "23338e83",
   "metadata": {},
   "outputs": [],
   "source": [
    "Df4.iloc[:, 5:17] = Df4.iloc[:, 5:17].astype('float32')\n",
    "Df4['weatherCode'] = Df4['weatherCode'].astype('object')\n",
    "categorical = ['Quarter', 'Month', 'Origin', 'Dest', 'weatherCode']\n",
    "numerical = [ 'windspeedKmph', 'winddirDegree', 'precipMM',\n",
    "       'visibility', 'pressure', 'cloudcover', 'DewPointF', 'WindGustKmph',\n",
    "       'tempF', 'WindChillF', 'humidity'] # Weather code actually can be categorical, but since we have 43 such categories it will be quite huge column set."
   ]
  },
  {
   "cell_type": "code",
   "execution_count": 254,
   "id": "16f96fbf",
   "metadata": {},
   "outputs": [
    {
     "data": {
      "text/html": [
       "<div>\n",
       "<style scoped>\n",
       "    .dataframe tbody tr th:only-of-type {\n",
       "        vertical-align: middle;\n",
       "    }\n",
       "\n",
       "    .dataframe tbody tr th {\n",
       "        vertical-align: top;\n",
       "    }\n",
       "\n",
       "    .dataframe thead th {\n",
       "        text-align: right;\n",
       "    }\n",
       "</style>\n",
       "<table border=\"1\" class=\"dataframe\">\n",
       "  <thead>\n",
       "    <tr style=\"text-align: right;\">\n",
       "      <th></th>\n",
       "      <th>Quarter</th>\n",
       "      <th>Month</th>\n",
       "      <th>Origin</th>\n",
       "      <th>Dest</th>\n",
       "      <th>windspeedKmph</th>\n",
       "      <th>winddirDegree</th>\n",
       "      <th>weatherCode</th>\n",
       "      <th>precipMM</th>\n",
       "      <th>visibility</th>\n",
       "      <th>pressure</th>\n",
       "      <th>cloudcover</th>\n",
       "      <th>DewPointF</th>\n",
       "      <th>WindGustKmph</th>\n",
       "      <th>tempF</th>\n",
       "      <th>WindChillF</th>\n",
       "      <th>humidity</th>\n",
       "      <th>Delayed</th>\n",
       "    </tr>\n",
       "  </thead>\n",
       "  <tbody>\n",
       "    <tr>\n",
       "      <th>0</th>\n",
       "      <td>1</td>\n",
       "      <td>1</td>\n",
       "      <td>LAS</td>\n",
       "      <td>MIA</td>\n",
       "      <td>15</td>\n",
       "      <td>123.0</td>\n",
       "      <td>113.0</td>\n",
       "      <td>0.0</td>\n",
       "      <td>10.0</td>\n",
       "      <td>1028.0</td>\n",
       "      <td>0.0</td>\n",
       "      <td>17.0</td>\n",
       "      <td>26.0</td>\n",
       "      <td>29.0</td>\n",
       "      <td>21.0</td>\n",
       "      <td>59.0</td>\n",
       "      <td>1.0</td>\n",
       "    </tr>\n",
       "    <tr>\n",
       "      <th>1</th>\n",
       "      <td>1</td>\n",
       "      <td>1</td>\n",
       "      <td>LAX</td>\n",
       "      <td>ORD</td>\n",
       "      <td>15</td>\n",
       "      <td>38.0</td>\n",
       "      <td>113.0</td>\n",
       "      <td>0.0</td>\n",
       "      <td>10.0</td>\n",
       "      <td>1020.0</td>\n",
       "      <td>0.0</td>\n",
       "      <td>29.0</td>\n",
       "      <td>17.0</td>\n",
       "      <td>59.0</td>\n",
       "      <td>58.0</td>\n",
       "      <td>39.0</td>\n",
       "      <td>1.0</td>\n",
       "    </tr>\n",
       "    <tr>\n",
       "      <th>2</th>\n",
       "      <td>1</td>\n",
       "      <td>1</td>\n",
       "      <td>LAX</td>\n",
       "      <td>MIA</td>\n",
       "      <td>15</td>\n",
       "      <td>38.0</td>\n",
       "      <td>113.0</td>\n",
       "      <td>0.0</td>\n",
       "      <td>10.0</td>\n",
       "      <td>1020.0</td>\n",
       "      <td>0.0</td>\n",
       "      <td>29.0</td>\n",
       "      <td>17.0</td>\n",
       "      <td>59.0</td>\n",
       "      <td>58.0</td>\n",
       "      <td>39.0</td>\n",
       "      <td>0.0</td>\n",
       "    </tr>\n",
       "    <tr>\n",
       "      <th>3</th>\n",
       "      <td>1</td>\n",
       "      <td>1</td>\n",
       "      <td>LAX</td>\n",
       "      <td>DFW</td>\n",
       "      <td>15</td>\n",
       "      <td>38.0</td>\n",
       "      <td>113.0</td>\n",
       "      <td>0.0</td>\n",
       "      <td>10.0</td>\n",
       "      <td>1020.0</td>\n",
       "      <td>0.0</td>\n",
       "      <td>29.0</td>\n",
       "      <td>17.0</td>\n",
       "      <td>59.0</td>\n",
       "      <td>58.0</td>\n",
       "      <td>39.0</td>\n",
       "      <td>1.0</td>\n",
       "    </tr>\n",
       "    <tr>\n",
       "      <th>4</th>\n",
       "      <td>1</td>\n",
       "      <td>1</td>\n",
       "      <td>LAX</td>\n",
       "      <td>ORD</td>\n",
       "      <td>15</td>\n",
       "      <td>38.0</td>\n",
       "      <td>113.0</td>\n",
       "      <td>0.0</td>\n",
       "      <td>10.0</td>\n",
       "      <td>1020.0</td>\n",
       "      <td>0.0</td>\n",
       "      <td>29.0</td>\n",
       "      <td>17.0</td>\n",
       "      <td>59.0</td>\n",
       "      <td>58.0</td>\n",
       "      <td>39.0</td>\n",
       "      <td>1.0</td>\n",
       "    </tr>\n",
       "  </tbody>\n",
       "</table>\n",
       "</div>"
      ],
      "text/plain": [
       "   Quarter  Month Origin Dest windspeedKmph  winddirDegree weatherCode  \\\n",
       "0        1      1    LAS  MIA            15          123.0       113.0   \n",
       "1        1      1    LAX  ORD            15           38.0       113.0   \n",
       "2        1      1    LAX  MIA            15           38.0       113.0   \n",
       "3        1      1    LAX  DFW            15           38.0       113.0   \n",
       "4        1      1    LAX  ORD            15           38.0       113.0   \n",
       "\n",
       "   precipMM  visibility  pressure  cloudcover  DewPointF  WindGustKmph  tempF  \\\n",
       "0       0.0        10.0    1028.0         0.0       17.0          26.0   29.0   \n",
       "1       0.0        10.0    1020.0         0.0       29.0          17.0   59.0   \n",
       "2       0.0        10.0    1020.0         0.0       29.0          17.0   59.0   \n",
       "3       0.0        10.0    1020.0         0.0       29.0          17.0   59.0   \n",
       "4       0.0        10.0    1020.0         0.0       29.0          17.0   59.0   \n",
       "\n",
       "   WindChillF  humidity  Delayed  \n",
       "0        21.0      59.0      1.0  \n",
       "1        58.0      39.0      1.0  \n",
       "2        58.0      39.0      0.0  \n",
       "3        58.0      39.0      1.0  \n",
       "4        58.0      39.0      1.0  "
      ]
     },
     "execution_count": 254,
     "metadata": {},
     "output_type": "execute_result"
    }
   ],
   "source": [
    "Df4.head()"
   ]
  },
  {
   "cell_type": "code",
   "execution_count": 255,
   "id": "5f3cf716",
   "metadata": {},
   "outputs": [],
   "source": [
    "from xgboost import XGBClassifier\n",
    "from sklearn.model_selection import GridSearchCV\n",
    "from sklearn.model_selection import RandomizedSearchCV"
   ]
  },
  {
   "cell_type": "markdown",
   "id": "14ef56db",
   "metadata": {},
   "source": [
    "Pipeline imports"
   ]
  },
  {
   "cell_type": "code",
   "execution_count": 256,
   "id": "19edb4f0",
   "metadata": {},
   "outputs": [],
   "source": [
    "from sklearn.pipeline import Pipeline\n",
    "from sklearn.preprocessing import OneHotEncoder, StandardScaler\n",
    "from sklearn.compose import ColumnTransformer"
   ]
  },
  {
   "cell_type": "code",
   "execution_count": 257,
   "id": "6446dd2d",
   "metadata": {},
   "outputs": [],
   "source": [
    "categorical_pipeline = Pipeline(\n",
    "    steps=[\n",
    "        (\"oh-encode\", OneHotEncoder(handle_unknown=\"ignore\", sparse=False)),\n",
    "    ]\n",
    ")\n",
    "numerical_pipeline = Pipeline(\n",
    "    steps=[\n",
    "        (\"scale\", StandardScaler())\n",
    "    ]\n",
    ")\n",
    "\n",
    "full_pipeline = ColumnTransformer(\n",
    "    transformers=[\n",
    "        (\"numeric\", numerical_pipeline, numerical),\n",
    "        (\"categorical\", categorical_pipeline, categorical),\n",
    "    ]\n",
    ")"
   ]
  },
  {
   "cell_type": "code",
   "execution_count": 258,
   "id": "f6b9054e",
   "metadata": {},
   "outputs": [
    {
     "data": {
      "text/plain": [
       "array([[1, 1, 'LAS', ..., 29.0, 21.0, 59.0],\n",
       "       [1, 1, 'LAX', ..., 59.0, 58.0, 39.0],\n",
       "       [1, 1, 'LAX', ..., 59.0, 58.0, 39.0],\n",
       "       ...,\n",
       "       [4, 12, 'SFO', ..., 52.0, 52.0, 97.0],\n",
       "       [4, 12, 'SFO', ..., 52.0, 52.0, 97.0],\n",
       "       [4, 12, 'SFO', ..., 52.0, 52.0, 97.0]], dtype=object)"
      ]
     },
     "execution_count": 258,
     "metadata": {},
     "output_type": "execute_result"
    }
   ],
   "source": [
    "Df4.iloc[:,:-1].values"
   ]
  },
  {
   "cell_type": "code",
   "execution_count": 260,
   "id": "fa773d15",
   "metadata": {},
   "outputs": [
    {
     "data": {
      "text/plain": [
       "(1556641, 98)"
      ]
     },
     "execution_count": 260,
     "metadata": {},
     "output_type": "execute_result"
    }
   ],
   "source": [
    "X = full_pipeline.fit_transform(Df4.iloc[:,:-1])\n",
    "X.shape"
   ]
  },
  {
   "cell_type": "code",
   "execution_count": 262,
   "id": "9efef415",
   "metadata": {},
   "outputs": [
    {
     "data": {
      "text/plain": [
       "(1556641,)"
      ]
     },
     "execution_count": 262,
     "metadata": {},
     "output_type": "execute_result"
    }
   ],
   "source": [
    "y = Df4.iloc[:,-1]\n",
    "y.shape"
   ]
  },
  {
   "cell_type": "markdown",
   "id": "b769883e",
   "metadata": {},
   "source": [
    "##### Splitting\n",
    "- But should not split after standardising because test data is standardised using the parameters of entire population, which is incorrect"
   ]
  },
  {
   "cell_type": "code",
   "execution_count": 265,
   "id": "31fc3b42",
   "metadata": {},
   "outputs": [],
   "source": [
    "from sklearn.model_selection import train_test_split\n",
    "X_train, X_test, y_train, y_test = train_test_split(X, y, train_size=0.8, stratify=y, random_state=2017)"
   ]
  },
  {
   "cell_type": "code",
   "execution_count": 266,
   "id": "3ad3b9db",
   "metadata": {},
   "outputs": [
    {
     "data": {
      "text/plain": [
       "((1245312, 98), (311329, 98))"
      ]
     },
     "execution_count": 266,
     "metadata": {},
     "output_type": "execute_result"
    }
   ],
   "source": [
    "X_train.shape, X_test.shape"
   ]
  },
  {
   "cell_type": "code",
   "execution_count": 268,
   "id": "2351674b",
   "metadata": {},
   "outputs": [],
   "source": [
    "xgb = XGBClassifier()"
   ]
  },
  {
   "cell_type": "code",
   "execution_count": 269,
   "id": "e8e72314",
   "metadata": {},
   "outputs": [],
   "source": [
    "model = xgb.fit(X_train, y_train)"
   ]
  },
  {
   "cell_type": "code",
   "execution_count": 271,
   "id": "3c7356d6",
   "metadata": {},
   "outputs": [],
   "source": [
    "prediction = model.predict(X_test)"
   ]
  },
  {
   "cell_type": "markdown",
   "id": "193e919a",
   "metadata": {},
   "source": [
    "##### Evaluation\n",
    "- Base model"
   ]
  },
  {
   "cell_type": "code",
   "execution_count": 272,
   "id": "42d18b9f",
   "metadata": {},
   "outputs": [],
   "source": [
    "from sklearn.metrics import accuracy_score, f1_score"
   ]
  },
  {
   "cell_type": "code",
   "execution_count": 273,
   "id": "f9d1d1bd",
   "metadata": {},
   "outputs": [
    {
     "data": {
      "text/plain": [
       "0.6428312171368552"
      ]
     },
     "execution_count": 273,
     "metadata": {},
     "output_type": "execute_result"
    }
   ],
   "source": [
    "accuracy_score(prediction, y_test )"
   ]
  },
  {
   "cell_type": "code",
   "execution_count": 274,
   "id": "15eba515",
   "metadata": {},
   "outputs": [
    {
     "data": {
      "text/plain": [
       "0.3838374882942588"
      ]
     },
     "execution_count": 274,
     "metadata": {},
     "output_type": "execute_result"
    }
   ],
   "source": [
    "f1_score(prediction, y_test)"
   ]
  },
  {
   "cell_type": "markdown",
   "id": "42bba22d",
   "metadata": {},
   "source": [
    "# 3. Regression for Arrival delay period for Delayed flights"
   ]
  },
  {
   "cell_type": "code",
   "execution_count": null,
   "id": "aa98d5e7",
   "metadata": {},
   "outputs": [],
   "source": []
  }
 ],
 "metadata": {
  "kernelspec": {
   "display_name": "Python 3 (ipykernel)",
   "language": "python",
   "name": "python3"
  },
  "language_info": {
   "codemirror_mode": {
    "name": "ipython",
    "version": 3
   },
   "file_extension": ".py",
   "mimetype": "text/x-python",
   "name": "python",
   "nbconvert_exporter": "python",
   "pygments_lexer": "ipython3",
   "version": "3.10.6"
  }
 },
 "nbformat": 4,
 "nbformat_minor": 5
}
